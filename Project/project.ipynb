{
 "cells": [
  {
   "cell_type": "markdown",
   "metadata": {},
   "source": [
    "# Data Analytics - final project\n",
    "### Norbert Sak and Adam Sygut"
   ]
  },
  {
   "cell_type": "code",
   "execution_count": 1,
   "metadata": {},
   "outputs": [],
   "source": [
    "import cmdstanpy\n",
    "import pandas as pd\n",
    "import arviz as az \n",
    "import numpy as np\n",
    "import matplotlib.pyplot as plt\n",
    "import scipy.stats as stats"
   ]
  },
  {
   "cell_type": "code",
   "execution_count": 2,
   "metadata": {},
   "outputs": [],
   "source": [
    "from DA_tools.DA_tools import ribbon_plot\n",
    "from DA_tools.DA_colors import *"
   ]
  },
  {
   "cell_type": "markdown",
   "metadata": {},
   "source": [
    "# Problem statement "
   ]
  },
  {
   "cell_type": "markdown",
   "metadata": {},
   "source": [
    "In the project we modeled the relationship between the amount of sugar and calories in cereals."
   ]
  },
  {
   "cell_type": "markdown",
   "metadata": {},
   "source": [
    "The main point to create this model is to investigate the relationship between sugars and calories in cereals. Potenial use case is for example estimate the amount of sugars knowing the number of calories."
   ]
  },
  {
   "cell_type": "markdown",
   "metadata": {},
   "source": [
    "Dataset was collected from https://www.kaggle.com/datasets/crawford/80-cereals?select=cereal.csv.\n",
    "<br>It contains nutrition values (like protein, fat, sugars and much more) of 77 different types of cereals."
   ]
  },
  {
   "cell_type": "markdown",
   "metadata": {},
   "source": [
    "# Data preprocessing"
   ]
  },
  {
   "cell_type": "code",
   "execution_count": 3,
   "metadata": {},
   "outputs": [],
   "source": [
    "df = pd.read_csv('cereal.csv', index_col=0)"
   ]
  },
  {
   "cell_type": "code",
   "execution_count": 4,
   "metadata": {},
   "outputs": [
    {
     "data": {
      "text/html": [
       "<div>\n",
       "<style scoped>\n",
       "    .dataframe tbody tr th:only-of-type {\n",
       "        vertical-align: middle;\n",
       "    }\n",
       "\n",
       "    .dataframe tbody tr th {\n",
       "        vertical-align: top;\n",
       "    }\n",
       "\n",
       "    .dataframe thead th {\n",
       "        text-align: right;\n",
       "    }\n",
       "</style>\n",
       "<table border=\"1\" class=\"dataframe\">\n",
       "  <thead>\n",
       "    <tr style=\"text-align: right;\">\n",
       "      <th></th>\n",
       "      <th>mfr</th>\n",
       "      <th>type</th>\n",
       "      <th>calories</th>\n",
       "      <th>protein</th>\n",
       "      <th>fat</th>\n",
       "      <th>sodium</th>\n",
       "      <th>fiber</th>\n",
       "      <th>carbo</th>\n",
       "      <th>sugars</th>\n",
       "      <th>potass</th>\n",
       "      <th>vitamins</th>\n",
       "      <th>shelf</th>\n",
       "      <th>weight</th>\n",
       "      <th>cups</th>\n",
       "      <th>rating;;</th>\n",
       "    </tr>\n",
       "  </thead>\n",
       "  <tbody>\n",
       "    <tr>\n",
       "      <th>100% Bran</th>\n",
       "      <td>N</td>\n",
       "      <td>C</td>\n",
       "      <td>70</td>\n",
       "      <td>4</td>\n",
       "      <td>1</td>\n",
       "      <td>130</td>\n",
       "      <td>10.0</td>\n",
       "      <td>5.0</td>\n",
       "      <td>6</td>\n",
       "      <td>280</td>\n",
       "      <td>25</td>\n",
       "      <td>3</td>\n",
       "      <td>1.0</td>\n",
       "      <td>0.33</td>\n",
       "      <td>68.402973;;</td>\n",
       "    </tr>\n",
       "    <tr>\n",
       "      <th>100% Natural Bran</th>\n",
       "      <td>Q</td>\n",
       "      <td>C</td>\n",
       "      <td>120</td>\n",
       "      <td>3</td>\n",
       "      <td>5</td>\n",
       "      <td>15</td>\n",
       "      <td>2.0</td>\n",
       "      <td>8.0</td>\n",
       "      <td>8</td>\n",
       "      <td>135</td>\n",
       "      <td>0</td>\n",
       "      <td>3</td>\n",
       "      <td>1.0</td>\n",
       "      <td>1.00</td>\n",
       "      <td>33.983679;;</td>\n",
       "    </tr>\n",
       "    <tr>\n",
       "      <th>All-Bran</th>\n",
       "      <td>K</td>\n",
       "      <td>C</td>\n",
       "      <td>70</td>\n",
       "      <td>4</td>\n",
       "      <td>1</td>\n",
       "      <td>260</td>\n",
       "      <td>9.0</td>\n",
       "      <td>7.0</td>\n",
       "      <td>5</td>\n",
       "      <td>320</td>\n",
       "      <td>25</td>\n",
       "      <td>3</td>\n",
       "      <td>1.0</td>\n",
       "      <td>0.33</td>\n",
       "      <td>59.425505;;</td>\n",
       "    </tr>\n",
       "    <tr>\n",
       "      <th>All-Bran with Extra Fiber</th>\n",
       "      <td>K</td>\n",
       "      <td>C</td>\n",
       "      <td>50</td>\n",
       "      <td>4</td>\n",
       "      <td>0</td>\n",
       "      <td>140</td>\n",
       "      <td>14.0</td>\n",
       "      <td>8.0</td>\n",
       "      <td>0</td>\n",
       "      <td>330</td>\n",
       "      <td>25</td>\n",
       "      <td>3</td>\n",
       "      <td>1.0</td>\n",
       "      <td>0.50</td>\n",
       "      <td>93.704912;;</td>\n",
       "    </tr>\n",
       "    <tr>\n",
       "      <th>Almond Delight</th>\n",
       "      <td>R</td>\n",
       "      <td>C</td>\n",
       "      <td>110</td>\n",
       "      <td>2</td>\n",
       "      <td>2</td>\n",
       "      <td>200</td>\n",
       "      <td>1.0</td>\n",
       "      <td>14.0</td>\n",
       "      <td>8</td>\n",
       "      <td>-1</td>\n",
       "      <td>25</td>\n",
       "      <td>3</td>\n",
       "      <td>1.0</td>\n",
       "      <td>0.75</td>\n",
       "      <td>34.384843;;</td>\n",
       "    </tr>\n",
       "  </tbody>\n",
       "</table>\n",
       "</div>"
      ],
      "text/plain": [
       "                          mfr type  calories  protein  fat  sodium  fiber  \\\n",
       "100% Bran                   N    C        70        4    1     130   10.0   \n",
       "100% Natural Bran           Q    C       120        3    5      15    2.0   \n",
       "All-Bran                    K    C        70        4    1     260    9.0   \n",
       "All-Bran with Extra Fiber   K    C        50        4    0     140   14.0   \n",
       "Almond Delight              R    C       110        2    2     200    1.0   \n",
       "\n",
       "                           carbo  sugars  potass  vitamins  shelf  weight  \\\n",
       "100% Bran                    5.0       6     280        25      3     1.0   \n",
       "100% Natural Bran            8.0       8     135         0      3     1.0   \n",
       "All-Bran                     7.0       5     320        25      3     1.0   \n",
       "All-Bran with Extra Fiber    8.0       0     330        25      3     1.0   \n",
       "Almond Delight              14.0       8      -1        25      3     1.0   \n",
       "\n",
       "                           cups     rating;;  \n",
       "100% Bran                  0.33  68.402973;;  \n",
       "100% Natural Bran          1.00  33.983679;;  \n",
       "All-Bran                   0.33  59.425505;;  \n",
       "All-Bran with Extra Fiber  0.50  93.704912;;  \n",
       "Almond Delight             0.75  34.384843;;  "
      ]
     },
     "execution_count": 4,
     "metadata": {},
     "output_type": "execute_result"
    }
   ],
   "source": [
    "df.head()"
   ]
  },
  {
   "cell_type": "markdown",
   "metadata": {},
   "source": [
    "Those nutrition values are defined as per serving where serving size is gien in 'weight' table in ounces. So we decided to scale it to have values for 1 ounce in every row."
   ]
  },
  {
   "cell_type": "code",
   "execution_count": 5,
   "metadata": {},
   "outputs": [],
   "source": [
    "df['sugars'] = df['sugars']/df['weight']\n",
    "df['calories'] = df['calories']/df['weight']"
   ]
  },
  {
   "cell_type": "code",
   "execution_count": 6,
   "metadata": {},
   "outputs": [
    {
     "data": {
      "text/html": [
       "<div>\n",
       "<style scoped>\n",
       "    .dataframe tbody tr th:only-of-type {\n",
       "        vertical-align: middle;\n",
       "    }\n",
       "\n",
       "    .dataframe tbody tr th {\n",
       "        vertical-align: top;\n",
       "    }\n",
       "\n",
       "    .dataframe thead th {\n",
       "        text-align: right;\n",
       "    }\n",
       "</style>\n",
       "<table border=\"1\" class=\"dataframe\">\n",
       "  <thead>\n",
       "    <tr style=\"text-align: right;\">\n",
       "      <th></th>\n",
       "      <th>mfr</th>\n",
       "      <th>type</th>\n",
       "      <th>calories</th>\n",
       "      <th>protein</th>\n",
       "      <th>fat</th>\n",
       "      <th>sodium</th>\n",
       "      <th>fiber</th>\n",
       "      <th>carbo</th>\n",
       "      <th>sugars</th>\n",
       "      <th>potass</th>\n",
       "      <th>vitamins</th>\n",
       "      <th>shelf</th>\n",
       "      <th>weight</th>\n",
       "      <th>cups</th>\n",
       "      <th>rating;;</th>\n",
       "    </tr>\n",
       "  </thead>\n",
       "  <tbody>\n",
       "    <tr>\n",
       "      <th>100% Bran</th>\n",
       "      <td>N</td>\n",
       "      <td>C</td>\n",
       "      <td>70.0</td>\n",
       "      <td>4</td>\n",
       "      <td>1</td>\n",
       "      <td>130</td>\n",
       "      <td>10.0</td>\n",
       "      <td>5.0</td>\n",
       "      <td>6.0</td>\n",
       "      <td>280</td>\n",
       "      <td>25</td>\n",
       "      <td>3</td>\n",
       "      <td>1.0</td>\n",
       "      <td>0.33</td>\n",
       "      <td>68.402973;;</td>\n",
       "    </tr>\n",
       "    <tr>\n",
       "      <th>100% Natural Bran</th>\n",
       "      <td>Q</td>\n",
       "      <td>C</td>\n",
       "      <td>120.0</td>\n",
       "      <td>3</td>\n",
       "      <td>5</td>\n",
       "      <td>15</td>\n",
       "      <td>2.0</td>\n",
       "      <td>8.0</td>\n",
       "      <td>8.0</td>\n",
       "      <td>135</td>\n",
       "      <td>0</td>\n",
       "      <td>3</td>\n",
       "      <td>1.0</td>\n",
       "      <td>1.00</td>\n",
       "      <td>33.983679;;</td>\n",
       "    </tr>\n",
       "    <tr>\n",
       "      <th>All-Bran</th>\n",
       "      <td>K</td>\n",
       "      <td>C</td>\n",
       "      <td>70.0</td>\n",
       "      <td>4</td>\n",
       "      <td>1</td>\n",
       "      <td>260</td>\n",
       "      <td>9.0</td>\n",
       "      <td>7.0</td>\n",
       "      <td>5.0</td>\n",
       "      <td>320</td>\n",
       "      <td>25</td>\n",
       "      <td>3</td>\n",
       "      <td>1.0</td>\n",
       "      <td>0.33</td>\n",
       "      <td>59.425505;;</td>\n",
       "    </tr>\n",
       "    <tr>\n",
       "      <th>All-Bran with Extra Fiber</th>\n",
       "      <td>K</td>\n",
       "      <td>C</td>\n",
       "      <td>50.0</td>\n",
       "      <td>4</td>\n",
       "      <td>0</td>\n",
       "      <td>140</td>\n",
       "      <td>14.0</td>\n",
       "      <td>8.0</td>\n",
       "      <td>0.0</td>\n",
       "      <td>330</td>\n",
       "      <td>25</td>\n",
       "      <td>3</td>\n",
       "      <td>1.0</td>\n",
       "      <td>0.50</td>\n",
       "      <td>93.704912;;</td>\n",
       "    </tr>\n",
       "    <tr>\n",
       "      <th>Almond Delight</th>\n",
       "      <td>R</td>\n",
       "      <td>C</td>\n",
       "      <td>110.0</td>\n",
       "      <td>2</td>\n",
       "      <td>2</td>\n",
       "      <td>200</td>\n",
       "      <td>1.0</td>\n",
       "      <td>14.0</td>\n",
       "      <td>8.0</td>\n",
       "      <td>-1</td>\n",
       "      <td>25</td>\n",
       "      <td>3</td>\n",
       "      <td>1.0</td>\n",
       "      <td>0.75</td>\n",
       "      <td>34.384843;;</td>\n",
       "    </tr>\n",
       "  </tbody>\n",
       "</table>\n",
       "</div>"
      ],
      "text/plain": [
       "                          mfr type  calories  protein  fat  sodium  fiber  \\\n",
       "100% Bran                   N    C      70.0        4    1     130   10.0   \n",
       "100% Natural Bran           Q    C     120.0        3    5      15    2.0   \n",
       "All-Bran                    K    C      70.0        4    1     260    9.0   \n",
       "All-Bran with Extra Fiber   K    C      50.0        4    0     140   14.0   \n",
       "Almond Delight              R    C     110.0        2    2     200    1.0   \n",
       "\n",
       "                           carbo  sugars  potass  vitamins  shelf  weight  \\\n",
       "100% Bran                    5.0     6.0     280        25      3     1.0   \n",
       "100% Natural Bran            8.0     8.0     135         0      3     1.0   \n",
       "All-Bran                     7.0     5.0     320        25      3     1.0   \n",
       "All-Bran with Extra Fiber    8.0     0.0     330        25      3     1.0   \n",
       "Almond Delight              14.0     8.0      -1        25      3     1.0   \n",
       "\n",
       "                           cups     rating;;  \n",
       "100% Bran                  0.33  68.402973;;  \n",
       "100% Natural Bran          1.00  33.983679;;  \n",
       "All-Bran                   0.33  59.425505;;  \n",
       "All-Bran with Extra Fiber  0.50  93.704912;;  \n",
       "Almond Delight             0.75  34.384843;;  "
      ]
     },
     "execution_count": 6,
     "metadata": {},
     "output_type": "execute_result"
    }
   ],
   "source": [
    "df.head()"
   ]
  },
  {
   "cell_type": "markdown",
   "metadata": {},
   "source": [
    "Histogram of calories"
   ]
  },
  {
   "cell_type": "code",
   "execution_count": 7,
   "metadata": {},
   "outputs": [
    {
     "data": {
      "image/png": "[encoded data removed]",
      "text/plain": [
       "<Figure size 432x288 with 1 Axes>"
      ]
     },
     "metadata": {
      "needs_background": "light"
     },
     "output_type": "display_data"
    }
   ],
   "source": [
    "df['calories'].hist(alpha=0.5, ec='black')\n",
    "plt.title('Calories histogram')\n",
    "plt.xlabel('Calories')\n",
    "plt.show()"
   ]
  },
  {
   "cell_type": "markdown",
   "metadata": {},
   "source": [
    "Histogram of sugars"
   ]
  },
  {
   "cell_type": "code",
   "execution_count": 8,
   "metadata": {},
   "outputs": [
    {
     "data": {
      "image/png": "[encoded data removed]",
      "text/plain": [
       "<Figure size 432x288 with 1 Axes>"
      ]
     },
     "metadata": {
      "needs_background": "light"
     },
     "output_type": "display_data"
    }
   ],
   "source": [
    "df['sugars'].hist(alpha=0.5, ec='black')\n",
    "plt.title('Sugars histogram')\n",
    "plt.xlabel('Sugars')\n",
    "plt.show()"
   ]
  },
  {
   "cell_type": "markdown",
   "metadata": {},
   "source": [
    "Creation of dataframe with values that we need (calories and sugars)."
   ]
  },
  {
   "cell_type": "code",
   "execution_count": 9,
   "metadata": {},
   "outputs": [],
   "source": [
    "data = df[['calories' ,'sugars']]"
   ]
  },
  {
   "cell_type": "code",
   "execution_count": 10,
   "metadata": {},
   "outputs": [
    {
     "data": {
      "text/html": [
       "<div>\n",
       "<style scoped>\n",
       "    .dataframe tbody tr th:only-of-type {\n",
       "        vertical-align: middle;\n",
       "    }\n",
       "\n",
       "    .dataframe tbody tr th {\n",
       "        vertical-align: top;\n",
       "    }\n",
       "\n",
       "    .dataframe thead th {\n",
       "        text-align: right;\n",
       "    }\n",
       "</style>\n",
       "<table border=\"1\" class=\"dataframe\">\n",
       "  <thead>\n",
       "    <tr style=\"text-align: right;\">\n",
       "      <th></th>\n",
       "      <th>calories</th>\n",
       "      <th>sugars</th>\n",
       "    </tr>\n",
       "  </thead>\n",
       "  <tbody>\n",
       "    <tr>\n",
       "      <th>100% Bran</th>\n",
       "      <td>70.0</td>\n",
       "      <td>6.0</td>\n",
       "    </tr>\n",
       "    <tr>\n",
       "      <th>100% Natural Bran</th>\n",
       "      <td>120.0</td>\n",
       "      <td>8.0</td>\n",
       "    </tr>\n",
       "    <tr>\n",
       "      <th>All-Bran</th>\n",
       "      <td>70.0</td>\n",
       "      <td>5.0</td>\n",
       "    </tr>\n",
       "    <tr>\n",
       "      <th>All-Bran with Extra Fiber</th>\n",
       "      <td>50.0</td>\n",
       "      <td>0.0</td>\n",
       "    </tr>\n",
       "    <tr>\n",
       "      <th>Almond Delight</th>\n",
       "      <td>110.0</td>\n",
       "      <td>8.0</td>\n",
       "    </tr>\n",
       "    <tr>\n",
       "      <th>...</th>\n",
       "      <td>...</td>\n",
       "      <td>...</td>\n",
       "    </tr>\n",
       "    <tr>\n",
       "      <th>Triples</th>\n",
       "      <td>110.0</td>\n",
       "      <td>3.0</td>\n",
       "    </tr>\n",
       "    <tr>\n",
       "      <th>Trix</th>\n",
       "      <td>110.0</td>\n",
       "      <td>12.0</td>\n",
       "    </tr>\n",
       "    <tr>\n",
       "      <th>Wheat Chex</th>\n",
       "      <td>100.0</td>\n",
       "      <td>3.0</td>\n",
       "    </tr>\n",
       "    <tr>\n",
       "      <th>Wheaties</th>\n",
       "      <td>100.0</td>\n",
       "      <td>3.0</td>\n",
       "    </tr>\n",
       "    <tr>\n",
       "      <th>Wheaties Honey Gold</th>\n",
       "      <td>110.0</td>\n",
       "      <td>8.0</td>\n",
       "    </tr>\n",
       "  </tbody>\n",
       "</table>\n",
       "<p>77 rows × 2 columns</p>\n",
       "</div>"
      ],
      "text/plain": [
       "                           calories  sugars\n",
       "100% Bran                      70.0     6.0\n",
       "100% Natural Bran             120.0     8.0\n",
       "All-Bran                       70.0     5.0\n",
       "All-Bran with Extra Fiber      50.0     0.0\n",
       "Almond Delight                110.0     8.0\n",
       "...                             ...     ...\n",
       "Triples                       110.0     3.0\n",
       "Trix                          110.0    12.0\n",
       "Wheat Chex                    100.0     3.0\n",
       "Wheaties                      100.0     3.0\n",
       "Wheaties Honey Gold           110.0     8.0\n",
       "\n",
       "[77 rows x 2 columns]"
      ]
     },
     "execution_count": 10,
     "metadata": {},
     "output_type": "execute_result"
    }
   ],
   "source": [
    "data"
   ]
  },
  {
   "cell_type": "markdown",
   "metadata": {},
   "source": [
    "Next we've checked if all values are reasonable."
   ]
  },
  {
   "cell_type": "code",
   "execution_count": 11,
   "metadata": {},
   "outputs": [
    {
     "data": {
      "text/plain": [
       "110.000000    29\n",
       "100.000000    19\n",
       "90.000000      7\n",
       "120.000000     6\n",
       "90.225564      3\n",
       "70.000000      2\n",
       "150.000000     2\n",
       "50.000000      1\n",
       "97.744361      1\n",
       "96.000000      1\n",
       "107.692308     1\n",
       "106.666667     1\n",
       "105.263158     1\n",
       "104.000000     1\n",
       "96.385542      1\n",
       "93.333333      1\n",
       "Name: calories, dtype: int64"
      ]
     },
     "execution_count": 11,
     "metadata": {},
     "output_type": "execute_result"
    }
   ],
   "source": [
    "data['calories'].value_counts()"
   ]
  },
  {
   "cell_type": "code",
   "execution_count": 12,
   "metadata": {},
   "outputs": [
    {
     "data": {
      "text/plain": [
       " 3.000000     13\n",
       " 0.000000      7\n",
       " 6.000000      7\n",
       " 8.000000      6\n",
       " 5.000000      5\n",
       " 11.000000     5\n",
       " 12.000000     5\n",
       " 7.000000      3\n",
       " 10.000000     3\n",
       " 13.000000     3\n",
       " 2.000000      3\n",
       " 9.000000      3\n",
       " 9.022556      2\n",
       " 15.000000     2\n",
       " 1.000000      1\n",
       " 6.015038      1\n",
       " 14.000000     1\n",
       " 4.000000      1\n",
       " 6.923077      1\n",
       " 8.666667      1\n",
       " 5.263158      1\n",
       " 10.526316     1\n",
       "-1.000000      1\n",
       " 9.333333      1\n",
       "Name: sugars, dtype: int64"
      ]
     },
     "execution_count": 12,
     "metadata": {},
     "output_type": "execute_result"
    }
   ],
   "source": [
    "data['sugars'].value_counts()"
   ]
  },
  {
   "cell_type": "markdown",
   "metadata": {},
   "source": [
    "We've found that in sugars we have value of -1 which is an absurd. So we've decided to remove it."
   ]
  },
  {
   "cell_type": "code",
   "execution_count": 13,
   "metadata": {},
   "outputs": [],
   "source": [
    "data = data.drop(data[data['sugars'] == -1].index)"
   ]
  },
  {
   "cell_type": "markdown",
   "metadata": {},
   "source": [
    "Dataframe statistics."
   ]
  },
  {
   "cell_type": "code",
   "execution_count": 14,
   "metadata": {},
   "outputs": [
    {
     "data": {
      "text/html": [
       "<div>\n",
       "<style scoped>\n",
       "    .dataframe tbody tr th:only-of-type {\n",
       "        vertical-align: middle;\n",
       "    }\n",
       "\n",
       "    .dataframe tbody tr th {\n",
       "        vertical-align: top;\n",
       "    }\n",
       "\n",
       "    .dataframe thead th {\n",
       "        text-align: right;\n",
       "    }\n",
       "</style>\n",
       "<table border=\"1\" class=\"dataframe\">\n",
       "  <thead>\n",
       "    <tr style=\"text-align: right;\">\n",
       "      <th></th>\n",
       "      <th>calories</th>\n",
       "      <th>sugars</th>\n",
       "    </tr>\n",
       "  </thead>\n",
       "  <tbody>\n",
       "    <tr>\n",
       "      <th>count</th>\n",
       "      <td>76.000000</td>\n",
       "      <td>76.000000</td>\n",
       "    </tr>\n",
       "    <tr>\n",
       "      <th>mean</th>\n",
       "      <td>104.049501</td>\n",
       "      <td>6.654904</td>\n",
       "    </tr>\n",
       "    <tr>\n",
       "      <th>std</th>\n",
       "      <td>13.936164</td>\n",
       "      <td>4.093540</td>\n",
       "    </tr>\n",
       "    <tr>\n",
       "      <th>min</th>\n",
       "      <td>50.000000</td>\n",
       "      <td>0.000000</td>\n",
       "    </tr>\n",
       "    <tr>\n",
       "      <th>25%</th>\n",
       "      <td>100.000000</td>\n",
       "      <td>3.000000</td>\n",
       "    </tr>\n",
       "    <tr>\n",
       "      <th>50%</th>\n",
       "      <td>107.179487</td>\n",
       "      <td>6.007519</td>\n",
       "    </tr>\n",
       "    <tr>\n",
       "      <th>75%</th>\n",
       "      <td>110.000000</td>\n",
       "      <td>10.000000</td>\n",
       "    </tr>\n",
       "    <tr>\n",
       "      <th>max</th>\n",
       "      <td>150.000000</td>\n",
       "      <td>15.000000</td>\n",
       "    </tr>\n",
       "  </tbody>\n",
       "</table>\n",
       "</div>"
      ],
      "text/plain": [
       "         calories     sugars\n",
       "count   76.000000  76.000000\n",
       "mean   104.049501   6.654904\n",
       "std     13.936164   4.093540\n",
       "min     50.000000   0.000000\n",
       "25%    100.000000   3.000000\n",
       "50%    107.179487   6.007519\n",
       "75%    110.000000  10.000000\n",
       "max    150.000000  15.000000"
      ]
     },
     "execution_count": 14,
     "metadata": {},
     "output_type": "execute_result"
    }
   ],
   "source": [
    "data.describe()"
   ]
  },
  {
   "cell_type": "markdown",
   "metadata": {},
   "source": [
    "# Models in project\n",
    "\n",
    "### 1. Model using normal distribution\n",
    "\n",
    "#### 1.1 Model based only on calories\n",
    "In our project we decided to start with simple model based only on calories.\n",
    "\n",
    "#### 1.2 Model with sugars as predictor \n",
    "Next, we decided to add sugars as predictor. Calories will be now defined in the model as:\n",
    "<br><br>\n",
    "$calories_{i}\\sim Normal(\\mu _{i}, \\sigma )$\n",
    "<br><br>\n",
    "$\\mu _{i}=\\alpha + \\beta *sugars_{i}$\n",
    "<br><br>\n",
    "Where $\\alpha$ and $\\beta$ have normal distribution and $\\sigma$ has exponential distribution.\n",
    "\n",
    "### 2. Model using double exponential distribution\n",
    "In the second model we decided to use double exponential distribution instead of normal distribution beacuse as we can see on calories histogram values of calories in our dataset are stacked in the middle of the histogram and we thought that it will fit our data better than normal distribution.\n",
    "<br><br>\n",
    "$calories_{i}\\sim DoubleExponential(\\mu _{i}, \\sigma )$\n",
    "<br><br>\n",
    "$\\mu _{i}=\\alpha + \\beta *sugars_{i}$\n",
    "<br><br>\n",
    "Where $\\alpha$ and $\\beta$ have normal distribution and $\\sigma$ has exponential distribution."
   ]
  },
  {
   "cell_type": "markdown",
   "metadata": {},
   "source": [
    "<h1>1. Model using normal distribution</h1>"
   ]
  },
  {
   "cell_type": "markdown",
   "metadata": {},
   "source": [
    "## 1.1\n",
    "In the first model we've considered only calories and used normal distribution."
   ]
  },
  {
   "cell_type": "markdown",
   "metadata": {},
   "source": [
    "## Normal distribution\n",
    "\n",
    "$$\n",
    "Normal(y|\\mu ,\\sigma )=\\frac{1}{\\sqrt{2\\pi}\\sigma}exp\\left ( -\\frac{1}{2} \\left ( \\frac{y-\\mu}{\\sigma} \\right )^{2} \\right )\n",
    "$$"
   ]
  },
  {
   "cell_type": "markdown",
   "metadata": {},
   "source": [
    "## Prior predictive check"
   ]
  },
  {
   "cell_type": "markdown",
   "metadata": {},
   "source": [
    "Prior values were chosen based on https://kalkulatorkalorii.net/ webpage. We've checked few types of cereals that we know.\n",
    "Based on those values we picked values for priors, we set the value of mu to be normally distributed with mean of 105 and standard deviation of 15.\n",
    "\n",
    "The value of sigma was set to be exponentially distributed with inverse scale beta of 0.067 (because $\\frac{1}{15}\\approx 0.067$)."
   ]
  },
  {
   "cell_type": "code",
   "execution_count": 15,
   "metadata": {},
   "outputs": [
    {
     "name": "stdout",
     "output_type": "stream",
     "text": [
      "generated quantities {\n",
      "   real mu = normal_rng(105, 15);\n",
      "   real sigma = exponential_rng(0.067);\n",
      "   real calories = normal_rng(mu, sigma);\n",
      "}\n"
     ]
    }
   ],
   "source": [
    "with open('cereal_1_ppc.stan') as file:\n",
    "    print(file.read())"
   ]
  },
  {
   "cell_type": "code",
   "execution_count": 16,
   "metadata": {},
   "outputs": [
    {
     "name": "stderr",
     "output_type": "stream",
     "text": [
      "INFO:cmdstanpy:found newer exe file, not recompiling\n"
     ]
    }
   ],
   "source": [
    "model_ppc=cmdstanpy.CmdStanModel(stan_file='cereal_1_ppc.stan')"
   ]
  },
  {
   "cell_type": "code",
   "execution_count": 17,
   "metadata": {},
   "outputs": [
    {
     "name": "stderr",
     "output_type": "stream",
     "text": [
      "INFO:cmdstanpy:CmdStan start processing\n"
     ]
    },
    {
     "data": {
      "application/vnd.jupyter.widget-view+json": {
       "model_id": "2d0bda5c4a954e1aa8f1cca50e3bdf45",
       "version_major": 2,
       "version_minor": 0
      },
      "text/plain": [
       "chain 1 |          | 00:00 Status"
      ]
     },
     "metadata": {},
     "output_type": "display_data"
    },
    {
     "name": "stdout",
     "output_type": "stream",
     "text": [
      "                                                                                "
     ]
    },
    {
     "name": "stderr",
     "output_type": "stream",
     "text": [
      "INFO:cmdstanpy:CmdStan done processing.\n"
     ]
    },
    {
     "name": "stdout",
     "output_type": "stream",
     "text": [
      "\n"
     ]
    }
   ],
   "source": [
    "R = 1000\n",
    "sim = model_ppc.sample(iter_sampling=R, iter_warmup=0, chains=1, fixed_param=True, seed=12062022, refresh=R, output_dir='samples')"
   ]
  },
  {
   "cell_type": "code",
   "execution_count": 18,
   "metadata": {},
   "outputs": [],
   "source": [
    "mu_sim=sim.stan_variable('mu')\n",
    "sigma_sim=sim.stan_variable('sigma')\n",
    "calories_sim=sim.stan_variable('calories')"
   ]
  },
  {
   "cell_type": "code",
   "execution_count": 19,
   "metadata": {},
   "outputs": [
    {
     "data": {
      "image/png": "[encoded data removed]",
      "text/plain": [
       "<Figure size 720x360 with 3 Axes>"
      ]
     },
     "metadata": {
      "needs_background": "light"
     },
     "output_type": "display_data"
    }
   ],
   "source": [
    "fig = plt.figure(figsize=(10,5))\n",
    "gs = fig.add_gridspec(2,2)\n",
    "ax1 = fig.add_subplot(gs[1,:])\n",
    "ax1.vlines([0], ymin=0, ymax=1e-2, linestyle='--',color='black', zorder=1)\n",
    "ax1.hist(calories_sim, bins=40, color=DARK, edgecolor=DARK_HIGHLIGHT,density=True)\n",
    "\n",
    "ax1.set_yticks([])\n",
    "ax1.set_title('Simulated calories')\n",
    "\n",
    "ax2 = fig.add_subplot(gs[0, 0])\n",
    "ax3 = fig.add_subplot(gs[0, 1])\n",
    "\n",
    "ax2.hist(mu_sim, bins=20, color=DARK, edgecolor=DARK_HIGHLIGHT,density=True)\n",
    "x=np.linspace(40,180)\n",
    "y=stats.norm.pdf(x,loc=105,scale=15)\n",
    "ax2.plot(x,y,'black')\n",
    "ax3.set_title('$\\sigma$')\n",
    "ax2.set_title('$\\mu$')\n",
    "ax2.set_yticks([])\n",
    "ax3.set_yticks([])\n",
    "ax3.hist(sigma_sim, bins=20, color=DARK, edgecolor=DARK_HIGHLIGHT,density=True)\n",
    "x=np.linspace(0,150)\n",
    "y=stats.expon.pdf(x,scale=14)\n",
    "ax3.plot(x,y,'black')\n",
    "\n",
    "fig.tight_layout()\n",
    "plt.show()"
   ]
  },
  {
   "cell_type": "markdown",
   "metadata": {},
   "source": [
    "As we can see simulated values of parameters $\\mu$ and $\\sigma$ were distributed well, as we expected.\n",
    "<br>Values of simulated calories are mostly distributed well (the mean is distributed were we expected) but we have some outliers which, when we add some data, will probably dissapear."
   ]
  },
  {
   "cell_type": "markdown",
   "metadata": {},
   "source": [
    "## Posterior analysis"
   ]
  },
  {
   "cell_type": "code",
   "execution_count": 20,
   "metadata": {},
   "outputs": [
    {
     "name": "stdout",
     "output_type": "stream",
     "text": [
      "data {\n",
      "   int N;\n",
      "   real calories[N];\n",
      "}\n",
      "\n",
      "parameters {\n",
      "   real mu;\n",
      "   real<lower=0> sigma;\n",
      "}\n",
      "\n",
      "model {\n",
      "   mu ~ normal(105, 15);\n",
      "   sigma ~ exponential(0.067);\n",
      "   calories ~ normal(mu, sigma);\n",
      "}\n",
      "\n",
      "generated quantities {\n",
      "   real log_lik = normal_lpdf(calories | mu, sigma);\n",
      "   real calorie = normal_rng(mu, sigma);\n",
      "}\n"
     ]
    }
   ],
   "source": [
    "with open('cereal_1_fit.stan') as file:\n",
    "    print(file.read())"
   ]
  },
  {
   "cell_type": "markdown",
   "metadata": {},
   "source": [
    "Data required for this model:\n",
    " - N -> calories vector size\n",
    " - calories -> calories vector "
   ]
  },
  {
   "cell_type": "code",
   "execution_count": 21,
   "metadata": {},
   "outputs": [
    {
     "name": "stderr",
     "output_type": "stream",
     "text": [
      "INFO:cmdstanpy:found newer exe file, not recompiling\n"
     ]
    }
   ],
   "source": [
    "model_1_fit=cmdstanpy.CmdStanModel(stan_file='cereal_1_fit.stan')"
   ]
  },
  {
   "cell_type": "code",
   "execution_count": 22,
   "metadata": {},
   "outputs": [
    {
     "name": "stderr",
     "output_type": "stream",
     "text": [
      "INFO:cmdstanpy:CmdStan start processing\n"
     ]
    },
    {
     "data": {
      "application/vnd.jupyter.widget-view+json": {
       "model_id": "333f0e506faa4e88baac6c792597e8e1",
       "version_major": 2,
       "version_minor": 0
      },
      "text/plain": [
       "chain 1 |          | 00:00 Status"
      ]
     },
     "metadata": {},
     "output_type": "display_data"
    },
    {
     "data": {
      "application/vnd.jupyter.widget-view+json": {
       "model_id": "1cc6bb0d4d934251ba1433abe23cce8c",
       "version_major": 2,
       "version_minor": 0
      },
      "text/plain": [
       "chain 2 |          | 00:00 Status"
      ]
     },
     "metadata": {},
     "output_type": "display_data"
    },
    {
     "data": {
      "application/vnd.jupyter.widget-view+json": {
       "model_id": "73df71b9d229450eb25cb02626e8439d",
       "version_major": 2,
       "version_minor": 0
      },
      "text/plain": [
       "chain 3 |          | 00:00 Status"
      ]
     },
     "metadata": {},
     "output_type": "display_data"
    },
    {
     "data": {
      "application/vnd.jupyter.widget-view+json": {
       "model_id": "f749faecdba14288a7b29455b6c3decf",
       "version_major": 2,
       "version_minor": 0
      },
      "text/plain": [
       "chain 4 |          | 00:00 Status"
      ]
     },
     "metadata": {},
     "output_type": "display_data"
    },
    {
     "name": "stdout",
     "output_type": "stream",
     "text": [
      "                                                                                                                                                                                                                                                                                                                                "
     ]
    },
    {
     "name": "stderr",
     "output_type": "stream",
     "text": [
      "INFO:cmdstanpy:CmdStan done processing.\n"
     ]
    },
    {
     "name": "stdout",
     "output_type": "stream",
     "text": [
      "\n"
     ]
    }
   ],
   "source": [
    "fit_1=model_1_fit.sample(data=dict(N=len(data['calories']), calories=data['calories'].values), seed=12062022, output_dir='samples')"
   ]
  },
  {
   "cell_type": "code",
   "execution_count": 23,
   "metadata": {},
   "outputs": [
    {
     "name": "stdout",
     "output_type": "stream",
     "text": [
      "Processing csv files: C:\\GitHub\\DataAnalyticsProject\\Project\\samples\\cereal_1_fit-20220621230846_1.csv, C:\\GitHub\\DataAnalyticsProject\\Project\\samples\\cereal_1_fit-20220621230846_2.csv, C:\\GitHub\\DataAnalyticsProject\\Project\\samples\\cereal_1_fit-20220621230846_3.csv, C:\\GitHub\\DataAnalyticsProject\\Project\\samples\\cereal_1_fit-20220621230846_4.csv\n",
      "\n",
      "Checking sampler transitions treedepth.\n",
      "Treedepth satisfactory for all transitions.\n",
      "\n",
      "Checking sampler transitions for divergences.\n",
      "No divergent transitions found.\n",
      "\n",
      "Checking E-BFMI - sampler transitions HMC potential energy.\n",
      "E-BFMI satisfactory.\n",
      "\n",
      "Effective sample size satisfactory.\n",
      "\n",
      "Split R-hat values satisfactory all parameters.\n",
      "\n",
      "Processing complete, no problems detected.\n",
      "\n"
     ]
    }
   ],
   "source": [
    "print(fit_1.diagnose())"
   ]
  },
  {
   "cell_type": "markdown",
   "metadata": {},
   "source": [
    "No errors/issues occured during sampling."
   ]
  },
  {
   "cell_type": "code",
   "execution_count": 24,
   "metadata": {},
   "outputs": [
    {
     "data": {
      "text/html": [
       "<div>\n",
       "<style scoped>\n",
       "    .dataframe tbody tr th:only-of-type {\n",
       "        vertical-align: middle;\n",
       "    }\n",
       "\n",
       "    .dataframe tbody tr th {\n",
       "        vertical-align: top;\n",
       "    }\n",
       "\n",
       "    .dataframe thead th {\n",
       "        text-align: right;\n",
       "    }\n",
       "</style>\n",
       "<table border=\"1\" class=\"dataframe\">\n",
       "  <thead>\n",
       "    <tr style=\"text-align: right;\">\n",
       "      <th></th>\n",
       "      <th>mean</th>\n",
       "      <th>sd</th>\n",
       "      <th>hdi_3%</th>\n",
       "      <th>hdi_97%</th>\n",
       "    </tr>\n",
       "  </thead>\n",
       "  <tbody>\n",
       "    <tr>\n",
       "      <th>mu</th>\n",
       "      <td>104.11</td>\n",
       "      <td>1.59</td>\n",
       "      <td>101.02</td>\n",
       "      <td>107.00</td>\n",
       "    </tr>\n",
       "    <tr>\n",
       "      <th>sigma</th>\n",
       "      <td>14.09</td>\n",
       "      <td>1.18</td>\n",
       "      <td>11.90</td>\n",
       "      <td>16.33</td>\n",
       "    </tr>\n",
       "  </tbody>\n",
       "</table>\n",
       "</div>"
      ],
      "text/plain": [
       "         mean    sd  hdi_3%  hdi_97%\n",
       "mu     104.11  1.59  101.02   107.00\n",
       "sigma   14.09  1.18   11.90    16.33"
      ]
     },
     "execution_count": 24,
     "metadata": {},
     "output_type": "execute_result"
    }
   ],
   "source": [
    "az.summary(fit_1, var_names=['mu', 'sigma'], round_to=2, kind='stats')"
   ]
  },
  {
   "cell_type": "markdown",
   "metadata": {},
   "source": [
    "Values of mu and sigma are very close to those proposed by us in ppc."
   ]
  },
  {
   "cell_type": "code",
   "execution_count": 25,
   "metadata": {},
   "outputs": [],
   "source": [
    "mu_fit = fit_1.stan_variable('mu')\n",
    "sigma_fit = fit_1.stan_variable('sigma')\n",
    "calorie_pred = fit_1.stan_variable('calorie')"
   ]
  },
  {
   "cell_type": "code",
   "execution_count": 26,
   "metadata": {},
   "outputs": [
    {
     "data": {
      "image/png": "[encoded data removed]",
      "text/plain": [
       "<Figure size 720x360 with 2 Axes>"
      ]
     },
     "metadata": {
      "needs_background": "light"
     },
     "output_type": "display_data"
    }
   ],
   "source": [
    "fig, axes = plt.subplots(2,1,figsize=(10,5), sharex=True)\n",
    "ax1=axes[0]\n",
    "ax1.scatter(mu_fit, sigma_fit, 20, color=DARK)\n",
    "ax1.set_title(\"Samples from joint posterior\")\n",
    "ax1.set_ylabel(r'$\\sigma$')\n",
    "ax2=axes[1]\n",
    "az.plot_kde(mu_fit, sigma_fit, ax=ax2, contourf_kwargs={'cmap':'YlOrRd'})\n",
    "\n",
    "ax2.set_xlabel(r'$\\mu$')\n",
    "ax2.set_ylabel(r'$\\sigma$')\n",
    "fig.tight_layout()\n",
    "plt.show()"
   ]
  },
  {
   "cell_type": "markdown",
   "metadata": {},
   "source": [
    "As we can see our sigma and mu samples from joint posterior are concenrated."
   ]
  },
  {
   "cell_type": "code",
   "execution_count": 27,
   "metadata": {},
   "outputs": [
    {
     "data": {
      "image/png": "[encoded data removed]",
      "text/plain": [
       "<Figure size 504x288 with 2 Axes>"
      ]
     },
     "metadata": {
      "needs_background": "light"
     },
     "output_type": "display_data"
    }
   ],
   "source": [
    "fig, axes = plt.subplots(1,2,figsize=(7,4),sharex=True,sharey=True)\n",
    "ax=axes[0]\n",
    "ax.hist(data['calories'], bins=10, color=DARK,edgecolor=DARK_HIGHLIGHT,density=True)\n",
    "ax.set_title('Observed calories')\n",
    "ax.set_yticks(())\n",
    "ax2=axes[1]\n",
    "ax2.hist(calorie_pred, bins=10, color=DARK,edgecolor=DARK_HIGHLIGHT,density=True)\n",
    "ax2.hist(data['calories'], bins=10, histtype='step', color='black', density=True)\n",
    "\n",
    "ax2.set_title('Predicted calories')\n",
    "ax2.set_yticks(())\n",
    "fig.tight_layout()\n",
    "\n",
    "plt.show()"
   ]
  },
  {
   "cell_type": "markdown",
   "metadata": {},
   "source": [
    "Outliers observed during ppc dissapeared as we expected.<br>\n",
    "As we can see samples for posterior predictive did not match exactly the observed values. Observed values are more clustered close to the mean value.\n",
    "<br>Data is not exactly similar with posterior predicitve sample but it's quite close."
   ]
  },
  {
   "cell_type": "markdown",
   "metadata": {},
   "source": [
    "<h1>1.2</h1>"
   ]
  },
  {
   "cell_type": "markdown",
   "metadata": {},
   "source": [
    "We've decided to add predictor - value of sugars.\n",
    "\n",
    "<br>Those values were centered to represent sugars not as grams but the difference from the mean. It was added to dataframe as 'c_sugars'.\n",
    "<br>\n",
    "\n",
    "$calories_{i}\\sim Normal(\\mu _{i}, \\sigma )$\n",
    "<br><br>\n",
    "\n",
    "$\\mu _{i}=\\alpha + \\beta *c\\_sugars_{i}$\n",
    "<br><br>\n",
    "\n",
    "Where $\\alpha$ and $\\beta$ have normal distribution and $\\sigma$ has exponential distribution."
   ]
  },
  {
   "cell_type": "code",
   "execution_count": 28,
   "metadata": {},
   "outputs": [
    {
     "data": {
      "image/png": "[encoded data removed]",
      "text/plain": [
       "<Figure size 432x288 with 1 Axes>"
      ]
     },
     "metadata": {
      "needs_background": "light"
     },
     "output_type": "display_data"
    }
   ],
   "source": [
    "data['c_sugars'] = data['sugars']-data['sugars'].mean()\n",
    "data['c_sugars'].hist()\n",
    "plt.ylabel('c_sugars')\n",
    "plt.title('c_sugars histogram')\n",
    "plt.show()"
   ]
  },
  {
   "cell_type": "markdown",
   "metadata": {},
   "source": [
    "## Prior predictive check"
   ]
  },
  {
   "cell_type": "markdown",
   "metadata": {},
   "source": [
    "We used the same values for alpha and sigma as for mu and sigma in previous prior. The value of beta was set to be normally distriuted with mean of 0 and std of 10."
   ]
  },
  {
   "cell_type": "code",
   "execution_count": 29,
   "metadata": {},
   "outputs": [
    {
     "name": "stdout",
     "output_type": "stream",
     "text": [
      "data {\n",
      "   int N;\n",
      "   real sugars[N];\n",
      "}\n",
      "\n",
      "generated quantities {\n",
      "   real alpha = normal_rng(105, 15);\n",
      "   real beta = normal_rng(0, 10);\n",
      "   real sigma = exponential_rng(0.067);\n",
      "   real calorie[N];\n",
      "   for (i in 1:N) {\n",
      "      calorie[i] = normal_rng(sugars[i]*beta+alpha, sigma);\n",
      "   }\n",
      "\n",
      "}\n"
     ]
    }
   ],
   "source": [
    "with open('cereal_2a_ppc.stan') as file:\n",
    "    print(file.read())"
   ]
  },
  {
   "cell_type": "code",
   "execution_count": 30,
   "metadata": {},
   "outputs": [
    {
     "name": "stderr",
     "output_type": "stream",
     "text": [
      "INFO:cmdstanpy:found newer exe file, not recompiling\n"
     ]
    }
   ],
   "source": [
    "model_ppc = cmdstanpy.CmdStanModel(stan_file='cereal_2a_ppc.stan')"
   ]
  },
  {
   "cell_type": "code",
   "execution_count": 31,
   "metadata": {},
   "outputs": [
    {
     "name": "stderr",
     "output_type": "stream",
     "text": [
      "INFO:cmdstanpy:CmdStan start processing\n"
     ]
    },
    {
     "data": {
      "application/vnd.jupyter.widget-view+json": {
       "model_id": "3b58015110254081bc87bb8510a5d5e5",
       "version_major": 2,
       "version_minor": 0
      },
      "text/plain": [
       "chain 1 |          | 00:00 Status"
      ]
     },
     "metadata": {},
     "output_type": "display_data"
    },
    {
     "name": "stdout",
     "output_type": "stream",
     "text": [
      "                                                                                "
     ]
    },
    {
     "name": "stderr",
     "output_type": "stream",
     "text": [
      "INFO:cmdstanpy:CmdStan done processing.\n"
     ]
    },
    {
     "name": "stdout",
     "output_type": "stream",
     "text": [
      "\n"
     ]
    }
   ],
   "source": [
    "R = 1000\n",
    "data_sim = {'N': len(data), 'sugars':np.linspace(data['c_sugars'].min(),data['c_sugars'].max(), num=len(data))}\n",
    "\n",
    "sim = model_ppc.sample(data=data_sim,iter_sampling=R, iter_warmup=0, chains=1, refresh=R, fixed_param=True, seed=12062022, output_dir='samples')"
   ]
  },
  {
   "cell_type": "code",
   "execution_count": 32,
   "metadata": {},
   "outputs": [],
   "source": [
    "alpha_sim = sim.stan_variable('alpha')\n",
    "beta_sim = sim.stan_variable('beta')"
   ]
  },
  {
   "cell_type": "code",
   "execution_count": 33,
   "metadata": {},
   "outputs": [
    {
     "data": {
      "image/png": "[encoded data removed]",
      "text/plain": [
       "<Figure size 504x288 with 1 Axes>"
      ]
     },
     "metadata": {
      "needs_background": "light"
     },
     "output_type": "display_data"
    }
   ],
   "source": [
    "fig, axes = plt.subplots(1,1,figsize = (7,4))\n",
    "\n",
    "for i in range(100):\n",
    "    axes.plot(data['sugars'], alpha_sim[i]+beta_sim[i]*data['c_sugars'], color=MID, alpha=0.5, linewidth = 0.5)\n",
    "axes.set_xlabel('sugars[g]')\n",
    "axes.set_ylabel('calories[kcal]')\n",
    "axes.set_title(r\"$\\beta$ prior leads to unrealistic values\")\n",
    "axes.hlines([0],xmin=data['sugars'].min(), xmax=data['sugars'].max(), linestyle='--', color='black')\n",
    "plt.show()"
   ]
  },
  {
   "cell_type": "markdown",
   "metadata": {},
   "source": [
    "As we can see simulated data using normal distribution for beta leads to some unrealistic values so we decided to change its distribution to lognormal with mu 0 and sigma 1. Lognormal was used beacuse in generall in can ensure that the values will be positive. "
   ]
  },
  {
   "cell_type": "code",
   "execution_count": 34,
   "metadata": {},
   "outputs": [
    {
     "name": "stdout",
     "output_type": "stream",
     "text": [
      "data {\n",
      "   int N;\n",
      "   real sugars[N];\n",
      "}\n",
      "\n",
      "generated quantities {\n",
      "   real alpha = normal_rng(105, 15);\n",
      "   real beta = lognormal_rng(0, 1);\n",
      "   real sigma = exponential_rng(0.067);\n",
      "   real calorie[N];\n",
      "   for (i in 1:N) {\n",
      "      calorie[i] = normal_rng(sugars[i]*beta+alpha, sigma);\n",
      "   }\n",
      "\n",
      "}\n"
     ]
    }
   ],
   "source": [
    "with open('cereal_2b_ppc.stan') as file:\n",
    "    print(file.read())"
   ]
  },
  {
   "cell_type": "code",
   "execution_count": 35,
   "metadata": {},
   "outputs": [
    {
     "name": "stderr",
     "output_type": "stream",
     "text": [
      "INFO:cmdstanpy:found newer exe file, not recompiling\n"
     ]
    }
   ],
   "source": [
    "model_ppc = cmdstanpy.CmdStanModel(stan_file='cereal_2b_ppc.stan')"
   ]
  },
  {
   "cell_type": "code",
   "execution_count": 36,
   "metadata": {},
   "outputs": [
    {
     "name": "stderr",
     "output_type": "stream",
     "text": [
      "INFO:cmdstanpy:CmdStan start processing\n"
     ]
    },
    {
     "data": {
      "application/vnd.jupyter.widget-view+json": {
       "model_id": "9fb2c8b0012b4e6dac6f6b5d746b4801",
       "version_major": 2,
       "version_minor": 0
      },
      "text/plain": [
       "chain 1 |          | 00:00 Status"
      ]
     },
     "metadata": {},
     "output_type": "display_data"
    },
    {
     "name": "stdout",
     "output_type": "stream",
     "text": [
      "                                                                                "
     ]
    },
    {
     "name": "stderr",
     "output_type": "stream",
     "text": [
      "INFO:cmdstanpy:CmdStan done processing.\n"
     ]
    },
    {
     "name": "stdout",
     "output_type": "stream",
     "text": [
      "\n"
     ]
    }
   ],
   "source": [
    "sim = model_ppc.sample(data=data_sim,iter_sampling=R, iter_warmup=0, chains=1, refresh=R, fixed_param=True, seed=12062022, output_dir='samples')"
   ]
  },
  {
   "cell_type": "code",
   "execution_count": 37,
   "metadata": {},
   "outputs": [],
   "source": [
    "alpha_sim = sim.stan_variable('alpha')\n",
    "beta_sim = sim.stan_variable('beta')"
   ]
  },
  {
   "cell_type": "code",
   "execution_count": 38,
   "metadata": {},
   "outputs": [
    {
     "data": {
      "image/png": "[encoded data removed]",
      "text/plain": [
       "<Figure size 504x288 with 1 Axes>"
      ]
     },
     "metadata": {
      "needs_background": "light"
     },
     "output_type": "display_data"
    }
   ],
   "source": [
    "fig, axes = plt.subplots(1,1,figsize = (7,4))\n",
    "\n",
    "for i in range(100):\n",
    "    axes.plot(data['sugars'], alpha_sim[i]+beta_sim[i]*data['c_sugars'], color=MID, alpha=0.5, linewidth = 0.5)\n",
    "\n",
    "axes.set_xlabel('sugars[g]')\n",
    "axes.set_ylabel('calories[kcal]')\n",
    "axes.set_title(\"Simulated data\")\n",
    "plt.show()"
   ]
  },
  {
   "cell_type": "markdown",
   "metadata": {},
   "source": [
    "Our simulated data is mostly from 60 to 140. There is one line that leads to some unrealistic values but generally it is quite well."
   ]
  },
  {
   "cell_type": "code",
   "execution_count": 39,
   "metadata": {},
   "outputs": [],
   "source": [
    "calorie_sim = sim.stan_variable('calorie')"
   ]
  },
  {
   "cell_type": "code",
   "execution_count": 40,
   "metadata": {},
   "outputs": [
    {
     "data": {
      "image/png": "[encoded data removed]",
      "text/plain": [
       "<Figure size 504x288 with 1 Axes>"
      ]
     },
     "metadata": {
      "needs_background": "light"
     },
     "output_type": "display_data"
    }
   ],
   "source": [
    "fig, axes = plt.subplots(1,1,figsize = (7,4))\n",
    "axes=ribbon_plot(data_sim['sugars']+data['sugars'].mean(),calorie_sim,axes)\n",
    "axes.scatter(data['sugars'], data['calories'], color = 'black', alpha = 1, s=10)\n",
    "axes.set_xlabel('sugars[g]')\n",
    "axes.set_ylabel('calories[kcal]')\n",
    "axes.set_title(\"Simulated measurements with observed data (black dots)\")\n",
    "plt.show()"
   ]
  },
  {
   "cell_type": "markdown",
   "metadata": {},
   "source": [
    "As we can see observed data is well fitted inside data simulated from our model. There are 2 points that are outside of this area but they are still quite close."
   ]
  },
  {
   "cell_type": "code",
   "execution_count": 41,
   "metadata": {},
   "outputs": [
    {
     "data": {
      "image/png": "[encoded data removed]",
      "text/plain": [
       "<Figure size 720x360 with 4 Axes>"
      ]
     },
     "metadata": {
      "needs_background": "light"
     },
     "output_type": "display_data"
    }
   ],
   "source": [
    "fig = plt.figure(figsize=(10,5))\n",
    "gs = fig.add_gridspec(2,3)\n",
    "ax1 = fig.add_subplot(gs[1,:])\n",
    "ax1.hist(calories_sim, bins=40, color=DARK, edgecolor=DARK_HIGHLIGHT,density=True)\n",
    "\n",
    "ax1.set_yticks([])\n",
    "ax1.set_title('Simulated calories')\n",
    "\n",
    "ax2 = fig.add_subplot(gs[0, 0])\n",
    "ax3 = fig.add_subplot(gs[0, 1])\n",
    "ax4 = fig.add_subplot(gs[0, 2])\n",
    "\n",
    "ax2.hist(alpha_sim, bins=20, color=DARK, edgecolor=DARK_HIGHLIGHT,density=True)\n",
    "x=np.linspace(40,180)\n",
    "y=stats.norm.pdf(x,loc=105,scale=15)\n",
    "ax2.plot(x,y,'black')\n",
    "ax4.set_title('$\\sigma$')\n",
    "ax2.set_title(r'$\\alpha$')\n",
    "ax2.set_yticks([])\n",
    "ax4.set_yticks([])\n",
    "ax4.hist(sigma_sim, bins=20, color=DARK, edgecolor=DARK_HIGHLIGHT,density=True)\n",
    "x=np.linspace(0,150)\n",
    "y=stats.expon.pdf(x,scale=14)\n",
    "ax4.plot(x,y,'black')\n",
    "\n",
    "\n",
    "ax3.hist(beta_sim, bins=20, color=DARK, edgecolor=DARK_HIGHLIGHT,density=True)\n",
    "x=np.linspace(0,15)\n",
    "y=stats.lognorm.pdf(x, s=1)\n",
    "ax3.plot(x,y,'black')\n",
    "ax3.set_title(r'$\\beta$')\n",
    "ax3.set_yticks([])\n",
    "\n",
    "fig.tight_layout()\n",
    "plt.show()"
   ]
  },
  {
   "cell_type": "markdown",
   "metadata": {},
   "source": [
    "As we can see simulated values of parameters $\\alpha$, $\\beta$ ans $\\sigma$ were distributed well, as we expected.\n",
    "<br>Values of simulated calories are mostly distributed well (the mean is distributed were we expected) but we have some outliers which, when we add some data, will probably dissapear."
   ]
  },
  {
   "cell_type": "markdown",
   "metadata": {},
   "source": [
    "# Posterior"
   ]
  },
  {
   "cell_type": "code",
   "execution_count": 42,
   "metadata": {},
   "outputs": [
    {
     "name": "stdout",
     "output_type": "stream",
     "text": [
      "data {\n",
      "   int N;\n",
      "   vector[N] sugars;\n",
      "   real calories[N];\n",
      "}\n",
      "\n",
      "parameters {\n",
      "   real alpha;\n",
      "   real beta;\n",
      "   real<lower=0> sigma;\n",
      "}\n",
      "\n",
      "transformed parameters {\n",
      "   vector[N] mu = sugars*beta+alpha;\n",
      "}\n",
      "\n",
      "model {\n",
      "   alpha ~ normal(105, 15);\n",
      "   beta ~ lognormal(0, 1);\n",
      "   sigma ~ exponential(0.067);\n",
      "   calories ~ normal(mu, sigma);\n",
      "}\n",
      "\n",
      "generated quantities {\n",
      "   vector[N] log_lik;\n",
      "   real calorie[N];\n",
      "   for (i in 1:N) {\n",
      "      log_lik[i] = normal_lpdf(calories[i] | mu[i], sigma);\n",
      "      calorie[i] = normal_rng(mu[i], sigma);\n",
      "   }\n",
      "}\n"
     ]
    }
   ],
   "source": [
    "with open('cereal_2_fit.stan') as file:\n",
    "    print(file.read())"
   ]
  },
  {
   "cell_type": "markdown",
   "metadata": {},
   "source": [
    "Data required for this model:\n",
    " - N -> calories vector size\n",
    " - sugars -> sugars vector\n",
    " - calories -> calories vector"
   ]
  },
  {
   "cell_type": "code",
   "execution_count": 43,
   "metadata": {},
   "outputs": [
    {
     "name": "stderr",
     "output_type": "stream",
     "text": [
      "INFO:cmdstanpy:found newer exe file, not recompiling\n"
     ]
    }
   ],
   "source": [
    "model_2_fit = cmdstanpy.CmdStanModel(stan_file='cereal_2_fit.stan')"
   ]
  },
  {
   "cell_type": "code",
   "execution_count": 44,
   "metadata": {},
   "outputs": [
    {
     "name": "stderr",
     "output_type": "stream",
     "text": [
      "INFO:cmdstanpy:CmdStan start processing\n"
     ]
    },
    {
     "data": {
      "application/vnd.jupyter.widget-view+json": {
       "model_id": "108a8729f5c14d8ab20c7f22d0a89699",
       "version_major": 2,
       "version_minor": 0
      },
      "text/plain": [
       "chain 1 |          | 00:00 Status"
      ]
     },
     "metadata": {},
     "output_type": "display_data"
    },
    {
     "data": {
      "application/vnd.jupyter.widget-view+json": {
       "model_id": "67d12d7eccc442ea99d211f297a99cd4",
       "version_major": 2,
       "version_minor": 0
      },
      "text/plain": [
       "chain 2 |          | 00:00 Status"
      ]
     },
     "metadata": {},
     "output_type": "display_data"
    },
    {
     "data": {
      "application/vnd.jupyter.widget-view+json": {
       "model_id": "bf73c20b1d424ad594a46b5b079c3401",
       "version_major": 2,
       "version_minor": 0
      },
      "text/plain": [
       "chain 3 |          | 00:00 Status"
      ]
     },
     "metadata": {},
     "output_type": "display_data"
    },
    {
     "data": {
      "application/vnd.jupyter.widget-view+json": {
       "model_id": "c41495cd2f6e459caad83c63cc93c87e",
       "version_major": 2,
       "version_minor": 0
      },
      "text/plain": [
       "chain 4 |          | 00:00 Status"
      ]
     },
     "metadata": {},
     "output_type": "display_data"
    },
    {
     "name": "stdout",
     "output_type": "stream",
     "text": [
      "                                                                                                                                                                                                                                                                                                                                "
     ]
    },
    {
     "name": "stderr",
     "output_type": "stream",
     "text": [
      "INFO:cmdstanpy:CmdStan done processing.\n"
     ]
    },
    {
     "name": "stdout",
     "output_type": "stream",
     "text": [
      "\n"
     ]
    }
   ],
   "source": [
    "data_fit = dict(N=len(data),\n",
    "                sugars=data['c_sugars'].values,\n",
    "                calories=data['calories'].values)\n",
    "\n",
    "fit_2=model_2_fit.sample(data=data_fit, seed=12062022, output_dir='samples', adapt_delta=0.999)"
   ]
  },
  {
   "cell_type": "markdown",
   "metadata": {},
   "source": [
    "When first running diagnose() we discovered the following issue.\n",
    "\n",
    "\"\"\"Checking sampler transitions for divergences.\n",
    "10 of 4000 (0.25%) transitions ended with a divergence.\n",
    "These divergent transitions indicate that HMC is not fully able to explore the posterior distribution.\n",
    "Try increasing adapt delta closer to 1.\n",
    "If this doesn't remove all divergences, try to reparameterize the model.\"\"\"\n",
    "\n",
    "We decide to changed \"adapt_delta\" parameter from 0.8 to 0.999. After this change issue was resolved."
   ]
  },
  {
   "cell_type": "code",
   "execution_count": 45,
   "metadata": {},
   "outputs": [
    {
     "name": "stdout",
     "output_type": "stream",
     "text": [
      "Processing csv files: C:\\GitHub\\DataAnalyticsProject\\Project\\samples\\cereal_2_fit-20220621230907_1.csv, C:\\GitHub\\DataAnalyticsProject\\Project\\samples\\cereal_2_fit-20220621230907_2.csv, C:\\GitHub\\DataAnalyticsProject\\Project\\samples\\cereal_2_fit-20220621230907_3.csv, C:\\GitHub\\DataAnalyticsProject\\Project\\samples\\cereal_2_fit-20220621230907_4.csv\n",
      "\n",
      "Checking sampler transitions treedepth.\n",
      "Treedepth satisfactory for all transitions.\n",
      "\n",
      "Checking sampler transitions for divergences.\n",
      "No divergent transitions found.\n",
      "\n",
      "Checking E-BFMI - sampler transitions HMC potential energy.\n",
      "E-BFMI satisfactory.\n",
      "\n",
      "Effective sample size satisfactory.\n",
      "\n",
      "Split R-hat values satisfactory all parameters.\n",
      "\n",
      "Processing complete, no problems detected.\n",
      "\n"
     ]
    }
   ],
   "source": [
    "print(fit_2.diagnose())"
   ]
  },
  {
   "cell_type": "code",
   "execution_count": 46,
   "metadata": {},
   "outputs": [],
   "source": [
    "alpha_fit = fit_2.stan_variable('alpha')\n",
    "beta_fit = fit_2.stan_variable('beta')\n",
    "mu_fit = fit_2.stan_variable('mu')\n",
    "sigma_fit = fit_2.stan_variable('sigma')\n",
    "calorie_pred = fit_2.stan_variable('calorie')"
   ]
  },
  {
   "cell_type": "code",
   "execution_count": 47,
   "metadata": {},
   "outputs": [
    {
     "data": {
      "text/html": [
       "<div>\n",
       "<style scoped>\n",
       "    .dataframe tbody tr th:only-of-type {\n",
       "        vertical-align: middle;\n",
       "    }\n",
       "\n",
       "    .dataframe tbody tr th {\n",
       "        vertical-align: top;\n",
       "    }\n",
       "\n",
       "    .dataframe thead th {\n",
       "        text-align: right;\n",
       "    }\n",
       "</style>\n",
       "<table border=\"1\" class=\"dataframe\">\n",
       "  <thead>\n",
       "    <tr style=\"text-align: right;\">\n",
       "      <th></th>\n",
       "      <th>mean</th>\n",
       "      <th>sd</th>\n",
       "      <th>hdi_3%</th>\n",
       "      <th>hdi_97%</th>\n",
       "    </tr>\n",
       "  </thead>\n",
       "  <tbody>\n",
       "    <tr>\n",
       "      <th>alpha</th>\n",
       "      <td>104.01</td>\n",
       "      <td>1.52</td>\n",
       "      <td>101.08</td>\n",
       "      <td>106.68</td>\n",
       "    </tr>\n",
       "    <tr>\n",
       "      <th>beta</th>\n",
       "      <td>1.16</td>\n",
       "      <td>0.36</td>\n",
       "      <td>0.51</td>\n",
       "      <td>1.85</td>\n",
       "    </tr>\n",
       "    <tr>\n",
       "      <th>sigma</th>\n",
       "      <td>13.12</td>\n",
       "      <td>1.08</td>\n",
       "      <td>11.11</td>\n",
       "      <td>15.12</td>\n",
       "    </tr>\n",
       "  </tbody>\n",
       "</table>\n",
       "</div>"
      ],
      "text/plain": [
       "         mean    sd  hdi_3%  hdi_97%\n",
       "alpha  104.01  1.52  101.08   106.68\n",
       "beta     1.16  0.36    0.51     1.85\n",
       "sigma   13.12  1.08   11.11    15.12"
      ]
     },
     "execution_count": 47,
     "metadata": {},
     "output_type": "execute_result"
    }
   ],
   "source": [
    "az.summary(fit_2, var_names=['alpha', 'beta', 'sigma'], round_to=2, kind='stats')"
   ]
  },
  {
   "cell_type": "code",
   "execution_count": 48,
   "metadata": {},
   "outputs": [
    {
     "data": {
      "image/png": "[encoded data removed]",
      "text/plain": [
       "<Figure size 1728x432 with 4 Axes>"
      ]
     },
     "metadata": {
      "needs_background": "light"
     },
     "output_type": "display_data"
    }
   ],
   "source": [
    "f, (ax1, ax2, ax3, ax4) = plt.subplots(1, 4, figsize = (24,6))\n",
    "\n",
    "ax1.hist(alpha_fit, alpha=0.5, ec='black')\n",
    "ax1.set_title(r\"$\\alpha$ fit\")\n",
    "ax2.hist(beta_fit, alpha=0.5, ec='black')\n",
    "ax2.set_title(r\"$\\beta$ fit\")\n",
    "ax3.hist(mu_fit[0], alpha=0.5, ec='black')\n",
    "ax3.set_title(r\"$\\mu$ fit\")\n",
    "ax4.hist(sigma_fit, alpha=0.5, ec='black')\n",
    "ax4.set_title(r\"$\\sigma$ fit\")\n",
    "plt.show()"
   ]
  },
  {
   "cell_type": "markdown",
   "metadata": {},
   "source": [
    "$\\alpha$ values are normally distributed with values from 98 to 110 with mean somewhere around 105. <br>\n",
    "$\\beta$ values are normally distributed with values from 0 to 2.5 with mean somewhere around 1. <br>\n",
    "$\\mu$ values are from 90 to 115. <br>\n",
    "$\\sigma$ values are exponentialy distributed with values from 10 to 18 with mean somewhere around 13. <br>"
   ]
  },
  {
   "cell_type": "code",
   "execution_count": 49,
   "metadata": {},
   "outputs": [
    {
     "data": {
      "image/png": "[encoded data removed]",
      "text/plain": [
       "<Figure size 504x576 with 2 Axes>"
      ]
     },
     "metadata": {
      "needs_background": "light"
     },
     "output_type": "display_data"
    }
   ],
   "source": [
    "fig, axes = plt.subplots(2,1,figsize = (7,8), sharey=True, sharex=True)\n",
    "ax0=axes[0]\n",
    "\n",
    "for i in range(100):\n",
    "    ax0.plot(data['sugars'],\n",
    "            alpha_fit[i]+beta_fit[i]*data['c_sugars'],\n",
    "            color=MID,\n",
    "            alpha=0.5, linewidth=0.5)\n",
    "\n",
    "ax0.scatter(data['sugars'], data['calories'], color='black', alpha=0.5, s=10)\n",
    "\n",
    "ax1=axes[1]\n",
    "ax1=ribbon_plot(data['sugars'].values, mu_fit, ax1, supress_warning=True)\n",
    "ax1.scatter(data['sugars'], data['calories'], color='black', alpha=0.5, s=10)\n",
    "ax1.set_xlabel('sugars[g]')\n",
    "ax1.set_ylabel('calories[kcal]')\n",
    "ax0.set_ylabel('calories[kcal]')\n",
    "ax0.set_title(\"All simulated samples\")\n",
    "fig.tight_layout()\n",
    "plt.show()"
   ]
  },
  {
   "cell_type": "code",
   "execution_count": 50,
   "metadata": {},
   "outputs": [
    {
     "data": {
      "image/png": "[encoded data removed]",
      "text/plain": [
       "<Figure size 504x288 with 1 Axes>"
      ]
     },
     "metadata": {
      "needs_background": "light"
     },
     "output_type": "display_data"
    }
   ],
   "source": [
    "fig, axes = plt.subplots(1,1,figsize = (7,4))\n",
    "\n",
    "axes=ribbon_plot(data['sugars'].values, calorie_pred, axes, supress_warning=True)\n",
    "axes.scatter(data['sugars'], data['calories'], color='black', alpha=0.5, s=10)\n",
    "fig.tight_layout()\n",
    "axes.set_xlabel('sugars[g]')\n",
    "axes.set_ylabel('calories[kcal]')\n",
    "axes.set_title(\"Simulated measurements with observed data (black dots)\")\n",
    "plt.show()"
   ]
  },
  {
   "cell_type": "markdown",
   "metadata": {},
   "source": [
    "As we can see observed data is generally well fitted inside data simulated from our model. There are some points that are outside of this area."
   ]
  },
  {
   "cell_type": "code",
   "execution_count": 51,
   "metadata": {},
   "outputs": [
    {
     "data": {
      "image/png": "[encoded data removed]",
      "text/plain": [
       "<Figure size 720x360 with 2 Axes>"
      ]
     },
     "metadata": {
      "needs_background": "light"
     },
     "output_type": "display_data"
    }
   ],
   "source": [
    "fig, axes = plt.subplots(2,1,figsize=(10,5), sharex=True)\n",
    "ax1=axes[0]\n",
    "ax1.scatter(mu_fit[:,0], sigma_fit, 20, color=DARK)\n",
    "ax1.set_title(\"Samples from joint posterior\")\n",
    "ax1.set_ylabel(r'$\\sigma$')\n",
    "ax2=axes[1]\n",
    "az.plot_kde(mu_fit[:,0], sigma_fit, ax=ax2, contourf_kwargs={'cmap':'YlOrRd'})\n",
    "\n",
    "ax2.set_xlabel(r'$\\mu$')\n",
    "ax2.set_ylabel(r'$\\sigma$')\n",
    "fig.tight_layout()\n",
    "plt.show()"
   ]
  },
  {
   "cell_type": "code",
   "execution_count": 52,
   "metadata": {},
   "outputs": [
    {
     "data": {
      "image/png": "[encoded data removed]",
      "text/plain": [
       "<Figure size 504x288 with 2 Axes>"
      ]
     },
     "metadata": {
      "needs_background": "light"
     },
     "output_type": "display_data"
    }
   ],
   "source": [
    "fig, axes = plt.subplots(1,2,figsize=(7,4),sharex=True,sharey=True)\n",
    "ax=axes[0]\n",
    "ax.hist(data['calories'], bins=10, color=DARK,edgecolor=DARK_HIGHLIGHT,density=True)\n",
    "ax.set_title('Observed calories')\n",
    "ax.set_yticks(())\n",
    "ax2=axes[1]\n",
    "ax2.hist(calorie_pred[3000], bins=10, color=DARK,edgecolor=DARK_HIGHLIGHT,density=True)\n",
    "ax2.hist(data['calories'], bins=10, histtype='step', color='black', density=True)\n",
    "\n",
    "ax2.set_title('Predicted calories')\n",
    "ax2.set_yticks(())\n",
    "fig.tight_layout()\n",
    "\n",
    "plt.show()"
   ]
  },
  {
   "cell_type": "markdown",
   "metadata": {},
   "source": [
    "In comparison with 1.1 model values are more squeezed (previously from 60 to 160, now somewhere from 80 to 130). <br>\n",
    "As we can see our model has problem with catching values stacked in the middle so we decided to use double exponential distribution because we thought it will solve this issue."
   ]
  },
  {
   "cell_type": "code",
   "execution_count": 53,
   "metadata": {},
   "outputs": [],
   "source": [
    "fit_id_1 = az.from_cmdstanpy(posterior=fit_2,log_likelihood='log_lik')"
   ]
  },
  {
   "cell_type": "code",
   "execution_count": 54,
   "metadata": {},
   "outputs": [
    {
     "data": {
      "text/html": [
       "\n",
       "            <div>\n",
       "              <div class='xr-header'>\n",
       "                <div class=\"xr-obj-type\">arviz.InferenceData</div>\n",
       "              </div>\n",
       "              <ul class=\"xr-sections group-sections\">\n",
       "              \n",
       "            <li class = \"xr-section-item\">\n",
       "                  <input id=\"idata_posteriorc58457e8-3345-401b-b759-f841e7f5df5c\" class=\"xr-section-summary-in\" type=\"checkbox\">\n",
       "                  <label for=\"idata_posteriorc58457e8-3345-401b-b759-f841e7f5df5c\" class = \"xr-section-summary\">posterior</label>\n",
       "                  <div class=\"xr-section-inline-details\"></div>\n",
       "                  <div class=\"xr-section-details\">\n",
       "                      <ul id=\"xr-dataset-coord-list\" class=\"xr-var-list\">\n",
       "                          <div style=\"padding-left:2rem;\"><div><svg style=\"position: absolute; width: 0; height: 0; overflow: hidden\">\n",
       "<defs>\n",
       "<symbol id=\"icon-database\" viewBox=\"0 0 32 32\">\n",
       "<path d=\"M16 0c-8.837 0-16 2.239-16 5v4c0 2.761 7.163 5 16 5s16-2.239 16-5v-4c0-2.761-7.163-5-16-5z\"></path>\n",
       "<path d=\"M16 17c-8.837 0-16-2.239-16-5v6c0 2.761 7.163 5 16 5s16-2.239 16-5v-6c0 2.761-7.163 5-16 5z\"></path>\n",
       "<path d=\"M16 26c-8.837 0-16-2.239-16-5v6c0 2.761 7.163 5 16 5s16-2.239 16-5v-6c0 2.761-7.163 5-16 5z\"></path>\n",
       "</symbol>\n",
       "<symbol id=\"icon-file-text2\" viewBox=\"0 0 32 32\">\n",
       "<path d=\"M28.681 7.159c-0.694-0.947-1.662-2.053-2.724-3.116s-2.169-2.030-3.116-2.724c-1.612-1.182-2.393-1.319-2.841-1.319h-15.5c-1.378 0-2.5 1.121-2.5 2.5v27c0 1.378 1.122 2.5 2.5 2.5h23c1.378 0 2.5-1.122 2.5-2.5v-19.5c0-0.448-0.137-1.23-1.319-2.841zM24.543 5.457c0.959 0.959 1.712 1.825 2.268 2.543h-4.811v-4.811c0.718 0.556 1.584 1.309 2.543 2.268zM28 29.5c0 0.271-0.229 0.5-0.5 0.5h-23c-0.271 0-0.5-0.229-0.5-0.5v-27c0-0.271 0.229-0.5 0.5-0.5 0 0 15.499-0 15.5 0v7c0 0.552 0.448 1 1 1h7v19.5z\"></path>\n",
       "<path d=\"M23 26h-14c-0.552 0-1-0.448-1-1s0.448-1 1-1h14c0.552 0 1 0.448 1 1s-0.448 1-1 1z\"></path>\n",
       "<path d=\"M23 22h-14c-0.552 0-1-0.448-1-1s0.448-1 1-1h14c0.552 0 1 0.448 1 1s-0.448 1-1 1z\"></path>\n",
       "<path d=\"M23 18h-14c-0.552 0-1-0.448-1-1s0.448-1 1-1h14c0.552 0 1 0.448 1 1s-0.448 1-1 1z\"></path>\n",
       "</symbol>\n",
       "</defs>\n",
       "</svg>\n",
       "<style>/* CSS stylesheet for displaying xarray objects in jupyterlab.\n",
       " *\n",
       " */\n",
       "\n",
       ":root {\n",
       "  --xr-font-color0: var(--jp-content-font-color0, rgba(0, 0, 0, 1));\n",
       "  --xr-font-color2: var(--jp-content-font-color2, rgba(0, 0, 0, 0.54));\n",
       "  --xr-font-color3: var(--jp-content-font-color3, rgba(0, 0, 0, 0.38));\n",
       "  --xr-border-color: var(--jp-border-color2, #e0e0e0);\n",
       "  --xr-disabled-color: var(--jp-layout-color3, #bdbdbd);\n",
       "  --xr-background-color: var(--jp-layout-color0, white);\n",
       "  --xr-background-color-row-even: var(--jp-layout-color1, white);\n",
       "  --xr-background-color-row-odd: var(--jp-layout-color2, #eeeeee);\n",
       "}\n",
       "\n",
       "html[theme=dark],\n",
       "body.vscode-dark {\n",
       "  --xr-font-color0: rgba(255, 255, 255, 1);\n",
       "  --xr-font-color2: rgba(255, 255, 255, 0.54);\n",
       "  --xr-font-color3: rgba(255, 255, 255, 0.38);\n",
       "  --xr-border-color: #1F1F1F;\n",
       "  --xr-disabled-color: #515151;\n",
       "  --xr-background-color: #111111;\n",
       "  --xr-background-color-row-even: #111111;\n",
       "  --xr-background-color-row-odd: #313131;\n",
       "}\n",
       "\n",
       ".xr-wrap {\n",
       "  display: block;\n",
       "  min-width: 300px;\n",
       "  max-width: 700px;\n",
       "}\n",
       "\n",
       ".xr-text-repr-fallback {\n",
       "  /* fallback to plain text repr when CSS is not injected (untrusted notebook) */\n",
       "  display: none;\n",
       "}\n",
       "\n",
       ".xr-header {\n",
       "  padding-top: 6px;\n",
       "  padding-bottom: 6px;\n",
       "  margin-bottom: 4px;\n",
       "  border-bottom: solid 1px var(--xr-border-color);\n",
       "}\n",
       "\n",
       ".xr-header > div,\n",
       ".xr-header > ul {\n",
       "  display: inline;\n",
       "  margin-top: 0;\n",
       "  margin-bottom: 0;\n",
       "}\n",
       "\n",
       ".xr-obj-type,\n",
       ".xr-array-name {\n",
       "  margin-left: 2px;\n",
       "  margin-right: 10px;\n",
       "}\n",
       "\n",
       ".xr-obj-type {\n",
       "  color: var(--xr-font-color2);\n",
       "}\n",
       "\n",
       ".xr-sections {\n",
       "  padding-left: 0 !important;\n",
       "  display: grid;\n",
       "  grid-template-columns: 150px auto auto 1fr 20px 20px;\n",
       "}\n",
       "\n",
       ".xr-section-item {\n",
       "  display: contents;\n",
       "}\n",
       "\n",
       ".xr-section-item input {\n",
       "  display: none;\n",
       "}\n",
       "\n",
       ".xr-section-item input + label {\n",
       "  color: var(--xr-disabled-color);\n",
       "}\n",
       "\n",
       ".xr-section-item input:enabled + label {\n",
       "  cursor: pointer;\n",
       "  color: var(--xr-font-color2);\n",
       "}\n",
       "\n",
       ".xr-section-item input:enabled + label:hover {\n",
       "  color: var(--xr-font-color0);\n",
       "}\n",
       "\n",
       ".xr-section-summary {\n",
       "  grid-column: 1;\n",
       "  color: var(--xr-font-color2);\n",
       "  font-weight: 500;\n",
       "}\n",
       "\n",
       ".xr-section-summary > span {\n",
       "  display: inline-block;\n",
       "  padding-left: 0.5em;\n",
       "}\n",
       "\n",
       ".xr-section-summary-in:disabled + label {\n",
       "  color: var(--xr-font-color2);\n",
       "}\n",
       "\n",
       ".xr-section-summary-in + label:before {\n",
       "  display: inline-block;\n",
       "  content: '►';\n",
       "  font-size: 11px;\n",
       "  width: 15px;\n",
       "  text-align: center;\n",
       "}\n",
       "\n",
       ".xr-section-summary-in:disabled + label:before {\n",
       "  color: var(--xr-disabled-color);\n",
       "}\n",
       "\n",
       ".xr-section-summary-in:checked + label:before {\n",
       "  content: '▼';\n",
       "}\n",
       "\n",
       ".xr-section-summary-in:checked + label > span {\n",
       "  display: none;\n",
       "}\n",
       "\n",
       ".xr-section-summary,\n",
       ".xr-section-inline-details {\n",
       "  padding-top: 4px;\n",
       "  padding-bottom: 4px;\n",
       "}\n",
       "\n",
       ".xr-section-inline-details {\n",
       "  grid-column: 2 / -1;\n",
       "}\n",
       "\n",
       ".xr-section-details {\n",
       "  display: none;\n",
       "  grid-column: 1 / -1;\n",
       "  margin-bottom: 5px;\n",
       "}\n",
       "\n",
       ".xr-section-summary-in:checked ~ .xr-section-details {\n",
       "  display: contents;\n",
       "}\n",
       "\n",
       ".xr-array-wrap {\n",
       "  grid-column: 1 / -1;\n",
       "  display: grid;\n",
       "  grid-template-columns: 20px auto;\n",
       "}\n",
       "\n",
       ".xr-array-wrap > label {\n",
       "  grid-column: 1;\n",
       "  vertical-align: top;\n",
       "}\n",
       "\n",
       ".xr-preview {\n",
       "  color: var(--xr-font-color3);\n",
       "}\n",
       "\n",
       ".xr-array-preview,\n",
       ".xr-array-data {\n",
       "  padding: 0 5px !important;\n",
       "  grid-column: 2;\n",
       "}\n",
       "\n",
       ".xr-array-data,\n",
       ".xr-array-in:checked ~ .xr-array-preview {\n",
       "  display: none;\n",
       "}\n",
       "\n",
       ".xr-array-in:checked ~ .xr-array-data,\n",
       ".xr-array-preview {\n",
       "  display: inline-block;\n",
       "}\n",
       "\n",
       ".xr-dim-list {\n",
       "  display: inline-block !important;\n",
       "  list-style: none;\n",
       "  padding: 0 !important;\n",
       "  margin: 0;\n",
       "}\n",
       "\n",
       ".xr-dim-list li {\n",
       "  display: inline-block;\n",
       "  padding: 0;\n",
       "  margin: 0;\n",
       "}\n",
       "\n",
       ".xr-dim-list:before {\n",
       "  content: '(';\n",
       "}\n",
       "\n",
       ".xr-dim-list:after {\n",
       "  content: ')';\n",
       "}\n",
       "\n",
       ".xr-dim-list li:not(:last-child):after {\n",
       "  content: ',';\n",
       "  padding-right: 5px;\n",
       "}\n",
       "\n",
       ".xr-has-index {\n",
       "  font-weight: bold;\n",
       "}\n",
       "\n",
       ".xr-var-list,\n",
       ".xr-var-item {\n",
       "  display: contents;\n",
       "}\n",
       "\n",
       ".xr-var-item > div,\n",
       ".xr-var-item label,\n",
       ".xr-var-item > .xr-var-name span {\n",
       "  background-color: var(--xr-background-color-row-even);\n",
       "  margin-bottom: 0;\n",
       "}\n",
       "\n",
       ".xr-var-item > .xr-var-name:hover span {\n",
       "  padding-right: 5px;\n",
       "}\n",
       "\n",
       ".xr-var-list > li:nth-child(odd) > div,\n",
       ".xr-var-list > li:nth-child(odd) > label,\n",
       ".xr-var-list > li:nth-child(odd) > .xr-var-name span {\n",
       "  background-color: var(--xr-background-color-row-odd);\n",
       "}\n",
       "\n",
       ".xr-var-name {\n",
       "  grid-column: 1;\n",
       "}\n",
       "\n",
       ".xr-var-dims {\n",
       "  grid-column: 2;\n",
       "}\n",
       "\n",
       ".xr-var-dtype {\n",
       "  grid-column: 3;\n",
       "  text-align: right;\n",
       "  color: var(--xr-font-color2);\n",
       "}\n",
       "\n",
       ".xr-var-preview {\n",
       "  grid-column: 4;\n",
       "}\n",
       "\n",
       ".xr-var-name,\n",
       ".xr-var-dims,\n",
       ".xr-var-dtype,\n",
       ".xr-preview,\n",
       ".xr-attrs dt {\n",
       "  white-space: nowrap;\n",
       "  overflow: hidden;\n",
       "  text-overflow: ellipsis;\n",
       "  padding-right: 10px;\n",
       "}\n",
       "\n",
       ".xr-var-name:hover,\n",
       ".xr-var-dims:hover,\n",
       ".xr-var-dtype:hover,\n",
       ".xr-attrs dt:hover {\n",
       "  overflow: visible;\n",
       "  width: auto;\n",
       "  z-index: 1;\n",
       "}\n",
       "\n",
       ".xr-var-attrs,\n",
       ".xr-var-data {\n",
       "  display: none;\n",
       "  background-color: var(--xr-background-color) !important;\n",
       "  padding-bottom: 5px !important;\n",
       "}\n",
       "\n",
       ".xr-var-attrs-in:checked ~ .xr-var-attrs,\n",
       ".xr-var-data-in:checked ~ .xr-var-data {\n",
       "  display: block;\n",
       "}\n",
       "\n",
       ".xr-var-data > table {\n",
       "  float: right;\n",
       "}\n",
       "\n",
       ".xr-var-name span,\n",
       ".xr-var-data,\n",
       ".xr-attrs {\n",
       "  padding-left: 25px !important;\n",
       "}\n",
       "\n",
       ".xr-attrs,\n",
       ".xr-var-attrs,\n",
       ".xr-var-data {\n",
       "  grid-column: 1 / -1;\n",
       "}\n",
       "\n",
       "dl.xr-attrs {\n",
       "  padding: 0;\n",
       "  margin: 0;\n",
       "  display: grid;\n",
       "  grid-template-columns: 125px auto;\n",
       "}\n",
       "\n",
       ".xr-attrs dt,\n",
       ".xr-attrs dd {\n",
       "  padding: 0;\n",
       "  margin: 0;\n",
       "  float: left;\n",
       "  padding-right: 10px;\n",
       "  width: auto;\n",
       "}\n",
       "\n",
       ".xr-attrs dt {\n",
       "  font-weight: normal;\n",
       "  grid-column: 1;\n",
       "}\n",
       "\n",
       ".xr-attrs dt:hover span {\n",
       "  display: inline-block;\n",
       "  background: var(--xr-background-color);\n",
       "  padding-right: 10px;\n",
       "}\n",
       "\n",
       ".xr-attrs dd {\n",
       "  grid-column: 2;\n",
       "  white-space: pre-wrap;\n",
       "  word-break: break-all;\n",
       "}\n",
       "\n",
       ".xr-icon-database,\n",
       ".xr-icon-file-text2 {\n",
       "  display: inline-block;\n",
       "  vertical-align: middle;\n",
       "  width: 1em;\n",
       "  height: 1.5em !important;\n",
       "  stroke-width: 0;\n",
       "  stroke: currentColor;\n",
       "  fill: currentColor;\n",
       "}\n",
       "</style><pre class='xr-text-repr-fallback'>&lt;xarray.Dataset&gt;\n",
       "Dimensions:        (chain: 4, draw: 1000, mu_dim_0: 76, calorie_dim_0: 76)\n",
       "Coordinates:\n",
       "  * chain          (chain) int32 0 1 2 3\n",
       "  * draw           (draw) int32 0 1 2 3 4 5 6 7 ... 993 994 995 996 997 998 999\n",
       "  * mu_dim_0       (mu_dim_0) int32 0 1 2 3 4 5 6 7 ... 68 69 70 71 72 73 74 75\n",
       "  * calorie_dim_0  (calorie_dim_0) int32 0 1 2 3 4 5 6 ... 69 70 71 72 73 74 75\n",
       "Data variables:\n",
       "    alpha          (chain, draw) float64 102.6 105.4 104.1 ... 106.7 107.3 101.9\n",
       "    beta           (chain, draw) float64 1.534 0.9954 1.528 ... 1.216 0.9722\n",
       "    sigma          (chain, draw) float64 13.26 13.21 13.59 ... 14.78 12.46 12.96\n",
       "    mu             (chain, draw, mu_dim_0) float64 101.6 104.6 ... 98.33 103.2\n",
       "    calorie        (chain, draw, calorie_dim_0) float64 104.7 105.4 ... 120.3\n",
       "Attributes:\n",
       "    created_at:                 2022-06-21T21:09:25.242653\n",
       "    arviz_version:              0.11.2\n",
       "    inference_library:          cmdstanpy\n",
       "    inference_library_version:  1.0.1</pre><div class='xr-wrap' hidden><div class='xr-header'><div class='xr-obj-type'>xarray.Dataset</div></div><ul class='xr-sections'><li class='xr-section-item'><input id='section-24bf12b2-98a6-4013-979d-bc85e7735fd6' class='xr-section-summary-in' type='checkbox' disabled ><label for='section-24bf12b2-98a6-4013-979d-bc85e7735fd6' class='xr-section-summary'  title='Expand/collapse section'>Dimensions:</label><div class='xr-section-inline-details'><ul class='xr-dim-list'><li><span class='xr-has-index'>chain</span>: 4</li><li><span class='xr-has-index'>draw</span>: 1000</li><li><span class='xr-has-index'>mu_dim_0</span>: 76</li><li><span class='xr-has-index'>calorie_dim_0</span>: 76</li></ul></div><div class='xr-section-details'></div></li><li class='xr-section-item'><input id='section-747dc044-a5e0-4307-8221-5dbe274c6083' class='xr-section-summary-in' type='checkbox'  checked><label for='section-747dc044-a5e0-4307-8221-5dbe274c6083' class='xr-section-summary' >Coordinates: <span>(4)</span></label><div class='xr-section-inline-details'></div><div class='xr-section-details'><ul class='xr-var-list'><li class='xr-var-item'><div class='xr-var-name'><span class='xr-has-index'>chain</span></div><div class='xr-var-dims'>(chain)</div><div class='xr-var-dtype'>int32</div><div class='xr-var-preview xr-preview'>0 1 2 3</div><input id='attrs-61b3e5f7-ec15-405c-943a-25214ac88217' class='xr-var-attrs-in' type='checkbox' disabled><label for='attrs-61b3e5f7-ec15-405c-943a-25214ac88217' title='Show/Hide attributes'><svg class='icon xr-icon-file-text2'><use xlink:href='#icon-file-text2'></use></svg></label><input id='data-5c75898c-5ef7-4fb3-81c9-908a274178c0' class='xr-var-data-in' type='checkbox'><label for='data-5c75898c-5ef7-4fb3-81c9-908a274178c0' title='Show/Hide data repr'><svg class='icon xr-icon-database'><use xlink:href='#icon-database'></use></svg></label><div class='xr-var-attrs'><dl class='xr-attrs'></dl></div><div class='xr-var-data'><pre>array([0, 1, 2, 3])</pre></div></li><li class='xr-var-item'><div class='xr-var-name'><span class='xr-has-index'>draw</span></div><div class='xr-var-dims'>(draw)</div><div class='xr-var-dtype'>int32</div><div class='xr-var-preview xr-preview'>0 1 2 3 4 5 ... 995 996 997 998 999</div><input id='attrs-4c6a5fb9-9786-4aab-85e4-4cf826622b53' class='xr-var-attrs-in' type='checkbox' disabled><label for='attrs-4c6a5fb9-9786-4aab-85e4-4cf826622b53' title='Show/Hide attributes'><svg class='icon xr-icon-file-text2'><use xlink:href='#icon-file-text2'></use></svg></label><input id='data-cd038256-85df-4679-8c1b-dbb6741da0cf' class='xr-var-data-in' type='checkbox'><label for='data-cd038256-85df-4679-8c1b-dbb6741da0cf' title='Show/Hide data repr'><svg class='icon xr-icon-database'><use xlink:href='#icon-database'></use></svg></label><div class='xr-var-attrs'><dl class='xr-attrs'></dl></div><div class='xr-var-data'><pre>array([  0,   1,   2, ..., 997, 998, 999])</pre></div></li><li class='xr-var-item'><div class='xr-var-name'><span class='xr-has-index'>mu_dim_0</span></div><div class='xr-var-dims'>(mu_dim_0)</div><div class='xr-var-dtype'>int32</div><div class='xr-var-preview xr-preview'>0 1 2 3 4 5 6 ... 70 71 72 73 74 75</div><input id='attrs-dd1dca10-dc19-4519-a10a-37a9ba0970c8' class='xr-var-attrs-in' type='checkbox' disabled><label for='attrs-dd1dca10-dc19-4519-a10a-37a9ba0970c8' title='Show/Hide attributes'><svg class='icon xr-icon-file-text2'><use xlink:href='#icon-file-text2'></use></svg></label><input id='data-30fc665f-aa31-416e-86b4-de02c3fdd7ab' class='xr-var-data-in' type='checkbox'><label for='data-30fc665f-aa31-416e-86b4-de02c3fdd7ab' title='Show/Hide data repr'><svg class='icon xr-icon-database'><use xlink:href='#icon-database'></use></svg></label><div class='xr-var-attrs'><dl class='xr-attrs'></dl></div><div class='xr-var-data'><pre>array([ 0,  1,  2,  3,  4,  5,  6,  7,  8,  9, 10, 11, 12, 13, 14, 15, 16, 17,\n",
       "       18, 19, 20, 21, 22, 23, 24, 25, 26, 27, 28, 29, 30, 31, 32, 33, 34, 35,\n",
       "       36, 37, 38, 39, 40, 41, 42, 43, 44, 45, 46, 47, 48, 49, 50, 51, 52, 53,\n",
       "       54, 55, 56, 57, 58, 59, 60, 61, 62, 63, 64, 65, 66, 67, 68, 69, 70, 71,\n",
       "       72, 73, 74, 75])</pre></div></li><li class='xr-var-item'><div class='xr-var-name'><span class='xr-has-index'>calorie_dim_0</span></div><div class='xr-var-dims'>(calorie_dim_0)</div><div class='xr-var-dtype'>int32</div><div class='xr-var-preview xr-preview'>0 1 2 3 4 5 6 ... 70 71 72 73 74 75</div><input id='attrs-92ca1768-6773-4cc9-858b-76a08bc327c4' class='xr-var-attrs-in' type='checkbox' disabled><label for='attrs-92ca1768-6773-4cc9-858b-76a08bc327c4' title='Show/Hide attributes'><svg class='icon xr-icon-file-text2'><use xlink:href='#icon-file-text2'></use></svg></label><input id='data-b807c3aa-2ccf-47d0-847a-3036a2abc428' class='xr-var-data-in' type='checkbox'><label for='data-b807c3aa-2ccf-47d0-847a-3036a2abc428' title='Show/Hide data repr'><svg class='icon xr-icon-database'><use xlink:href='#icon-database'></use></svg></label><div class='xr-var-attrs'><dl class='xr-attrs'></dl></div><div class='xr-var-data'><pre>array([ 0,  1,  2,  3,  4,  5,  6,  7,  8,  9, 10, 11, 12, 13, 14, 15, 16, 17,\n",
       "       18, 19, 20, 21, 22, 23, 24, 25, 26, 27, 28, 29, 30, 31, 32, 33, 34, 35,\n",
       "       36, 37, 38, 39, 40, 41, 42, 43, 44, 45, 46, 47, 48, 49, 50, 51, 52, 53,\n",
       "       54, 55, 56, 57, 58, 59, 60, 61, 62, 63, 64, 65, 66, 67, 68, 69, 70, 71,\n",
       "       72, 73, 74, 75])</pre></div></li></ul></div></li><li class='xr-section-item'><input id='section-03f4fb0a-0455-48bc-8ce1-2cfa33dc37af' class='xr-section-summary-in' type='checkbox'  checked><label for='section-03f4fb0a-0455-48bc-8ce1-2cfa33dc37af' class='xr-section-summary' >Data variables: <span>(5)</span></label><div class='xr-section-inline-details'></div><div class='xr-section-details'><ul class='xr-var-list'><li class='xr-var-item'><div class='xr-var-name'><span>alpha</span></div><div class='xr-var-dims'>(chain, draw)</div><div class='xr-var-dtype'>float64</div><div class='xr-var-preview xr-preview'>102.6 105.4 104.1 ... 107.3 101.9</div><input id='attrs-c4e5118f-5c63-4339-9935-fb276be870fe' class='xr-var-attrs-in' type='checkbox' disabled><label for='attrs-c4e5118f-5c63-4339-9935-fb276be870fe' title='Show/Hide attributes'><svg class='icon xr-icon-file-text2'><use xlink:href='#icon-file-text2'></use></svg></label><input id='data-b5af1952-7feb-49be-8152-2b87e27d31ec' class='xr-var-data-in' type='checkbox'><label for='data-b5af1952-7feb-49be-8152-2b87e27d31ec' title='Show/Hide data repr'><svg class='icon xr-icon-database'><use xlink:href='#icon-database'></use></svg></label><div class='xr-var-attrs'><dl class='xr-attrs'></dl></div><div class='xr-var-data'><pre>array([[102.578 , 105.36  , 104.122 , ..., 103.805 , 105.126 , 105.318 ],\n",
       "       [101.409 , 101.99  , 105.424 , ..., 103.458 , 101.252 , 101.378 ],\n",
       "       [ 99.05  ,  99.0005, 100.708 , ..., 103.293 , 104.478 , 103.501 ],\n",
       "       [102.586 , 102.662 , 104.719 , ..., 106.674 , 107.314 , 101.88  ]])</pre></div></li><li class='xr-var-item'><div class='xr-var-name'><span>beta</span></div><div class='xr-var-dims'>(chain, draw)</div><div class='xr-var-dtype'>float64</div><div class='xr-var-preview xr-preview'>1.534 0.9954 1.528 ... 1.216 0.9722</div><input id='attrs-2679ba74-7f33-4ae6-a89d-18c64dbc8db5' class='xr-var-attrs-in' type='checkbox' disabled><label for='attrs-2679ba74-7f33-4ae6-a89d-18c64dbc8db5' title='Show/Hide attributes'><svg class='icon xr-icon-file-text2'><use xlink:href='#icon-file-text2'></use></svg></label><input id='data-189d7ac3-a02f-49d0-b637-8144f8b0939a' class='xr-var-data-in' type='checkbox'><label for='data-189d7ac3-a02f-49d0-b637-8144f8b0939a' title='Show/Hide data repr'><svg class='icon xr-icon-database'><use xlink:href='#icon-database'></use></svg></label><div class='xr-var-attrs'><dl class='xr-attrs'></dl></div><div class='xr-var-data'><pre>array([[1.5337  , 0.995419, 1.52795 , ..., 1.37095 , 0.871427, 1.08967 ],\n",
       "       [1.05155 , 1.02548 , 1.3643  , ..., 2.06701 , 0.610364, 0.61792 ],\n",
       "       [1.28129 , 1.38483 , 1.11436 , ..., 1.53263 , 1.24855 , 0.895125],\n",
       "       [1.11494 , 1.1847  , 1.1845  , ..., 1.25124 , 1.21573 , 0.97217 ]])</pre></div></li><li class='xr-var-item'><div class='xr-var-name'><span>sigma</span></div><div class='xr-var-dims'>(chain, draw)</div><div class='xr-var-dtype'>float64</div><div class='xr-var-preview xr-preview'>13.26 13.21 13.59 ... 12.46 12.96</div><input id='attrs-b98634e9-c5a7-4591-81e9-85dc978c28f1' class='xr-var-attrs-in' type='checkbox' disabled><label for='attrs-b98634e9-c5a7-4591-81e9-85dc978c28f1' title='Show/Hide attributes'><svg class='icon xr-icon-file-text2'><use xlink:href='#icon-file-text2'></use></svg></label><input id='data-f2e14105-19c7-4843-8510-ce08a4fe9075' class='xr-var-data-in' type='checkbox'><label for='data-f2e14105-19c7-4843-8510-ce08a4fe9075' title='Show/Hide data repr'><svg class='icon xr-icon-database'><use xlink:href='#icon-database'></use></svg></label><div class='xr-var-attrs'><dl class='xr-attrs'></dl></div><div class='xr-var-data'><pre>array([[13.256 , 13.2084, 13.5909, ..., 11.8719, 13.41  , 14.2415],\n",
       "       [16.5024, 14.7838, 11.9647, ..., 12.1647, 13.4962, 13.4972],\n",
       "       [15.8168, 13.1497, 14.5137, ..., 13.7152, 14.1863, 11.3693],\n",
       "       [12.8561, 12.8162, 12.7808, ..., 14.7833, 12.4625, 12.9593]])</pre></div></li><li class='xr-var-item'><div class='xr-var-name'><span>mu</span></div><div class='xr-var-dims'>(chain, draw, mu_dim_0)</div><div class='xr-var-dtype'>float64</div><div class='xr-var-preview xr-preview'>101.6 104.6 100.0 ... 98.33 103.2</div><input id='attrs-e8ecae97-0faf-48b3-877a-03ba9ea4a60e' class='xr-var-attrs-in' type='checkbox' disabled><label for='attrs-e8ecae97-0faf-48b3-877a-03ba9ea4a60e' title='Show/Hide attributes'><svg class='icon xr-icon-file-text2'><use xlink:href='#icon-file-text2'></use></svg></label><input id='data-19130bda-d4f9-4045-9bf0-d07bd2f25585' class='xr-var-data-in' type='checkbox'><label for='data-19130bda-d4f9-4045-9bf0-d07bd2f25585' title='Show/Hide data repr'><svg class='icon xr-icon-database'><use xlink:href='#icon-database'></use></svg></label><div class='xr-var-attrs'><dl class='xr-attrs'></dl></div><div class='xr-var-data'><pre>array([[[101.573 , 104.641 , 100.039 , ...,  96.9721,  96.9721,\n",
       "         104.641 ],\n",
       "        [104.708 , 106.699 , 103.713 , ..., 101.722 , 101.722 ,\n",
       "         106.699 ],\n",
       "        [103.121 , 106.177 , 101.593 , ...,  98.5372,  98.5372,\n",
       "         106.177 ],\n",
       "        ...,\n",
       "        [102.907 , 105.649 , 101.536 , ...,  98.7942,  98.7942,\n",
       "         105.649 ],\n",
       "        [104.556 , 106.298 , 103.684 , ..., 101.941 , 101.941 ,\n",
       "         106.298 ],\n",
       "        [104.605 , 106.784 , 103.515 , ..., 101.336 , 101.336 ,\n",
       "         106.784 ]],\n",
       "\n",
       "       [[100.72  , 102.823 ,  99.6684, ...,  97.5653,  97.5653,\n",
       "         102.823 ],\n",
       "        [101.318 , 103.369 , 100.293 , ...,  98.2419,  98.2419,\n",
       "         103.369 ],\n",
       "        [104.531 , 107.26  , 103.167 , ..., 100.438 , 100.438 ,\n",
       "         107.26  ],\n",
       "...\n",
       "        [102.289 , 105.355 , 100.757 , ...,  97.6916,  97.6916,\n",
       "         105.355 ],\n",
       "        [103.661 , 106.158 , 102.412 , ...,  99.9151,  99.9151,\n",
       "         106.158 ],\n",
       "        [102.915 , 104.705 , 102.02  , ..., 100.23  , 100.23  ,\n",
       "         104.705 ]],\n",
       "\n",
       "       [[101.856 , 104.086 , 100.741 , ...,  98.5109,  98.5109,\n",
       "         104.086 ],\n",
       "        [101.886 , 104.256 , 100.701 , ...,  98.3321,  98.3321,\n",
       "         104.256 ],\n",
       "        [103.943 , 106.312 , 102.759 , ..., 100.39  , 100.39  ,\n",
       "         106.312 ],\n",
       "        ...,\n",
       "        [105.855 , 108.357 , 104.604 , ..., 102.101 , 102.101 ,\n",
       "         108.357 ],\n",
       "        [106.517 , 108.949 , 105.302 , ..., 102.87  , 102.87  ,\n",
       "         108.949 ],\n",
       "        [101.243 , 103.187 , 100.271 , ...,  98.3266,  98.3266,\n",
       "         103.187 ]]])</pre></div></li><li class='xr-var-item'><div class='xr-var-name'><span>calorie</span></div><div class='xr-var-dims'>(chain, draw, calorie_dim_0)</div><div class='xr-var-dtype'>float64</div><div class='xr-var-preview xr-preview'>104.7 105.4 75.54 ... 108.2 120.3</div><input id='attrs-4ef71153-4955-44d6-bf2c-543f55bf21c1' class='xr-var-attrs-in' type='checkbox' disabled><label for='attrs-4ef71153-4955-44d6-bf2c-543f55bf21c1' title='Show/Hide attributes'><svg class='icon xr-icon-file-text2'><use xlink:href='#icon-file-text2'></use></svg></label><input id='data-603c4c0b-689b-4b67-a97b-550257853db3' class='xr-var-data-in' type='checkbox'><label for='data-603c4c0b-689b-4b67-a97b-550257853db3' title='Show/Hide data repr'><svg class='icon xr-icon-database'><use xlink:href='#icon-database'></use></svg></label><div class='xr-var-attrs'><dl class='xr-attrs'></dl></div><div class='xr-var-data'><pre>array([[[104.701 , 105.353 ,  75.5393, ...,  92.1213,  88.0697,\n",
       "          99.3569],\n",
       "        [104.114 , 114.923 , 101.128 , ...,  98.597 ,  84.8667,\n",
       "         103.079 ],\n",
       "        [103.008 ,  85.8648, 113.68  , ...,  75.4994, 104.677 ,\n",
       "         101.16  ],\n",
       "        ...,\n",
       "        [107.6   , 113.163 , 107.294 , ..., 101.215 ,  94.7436,\n",
       "         115.082 ],\n",
       "        [107.577 , 103.379 ,  83.9926, ..., 115.846 ,  90.9953,\n",
       "         117.548 ],\n",
       "        [126.211 , 130.751 ,  88.3602, ...,  91.565 , 158.315 ,\n",
       "         113.811 ]],\n",
       "\n",
       "       [[110.305 ,  69.5482, 114.32  , ...,  95.1278, 152.852 ,\n",
       "          99.4564],\n",
       "        [109.499 ,  92.6517,  85.8431, ...,  88.9236,  97.4677,\n",
       "         113.24  ],\n",
       "        [112.781 ,  97.742 ,  95.6344, ..., 114.901 ,  91.098 ,\n",
       "          97.2675],\n",
       "...\n",
       "        [103.161 ,  99.9624,  93.7237, ...,  89.875 , 123.266 ,\n",
       "         126.388 ],\n",
       "        [124.864 ,  86.0328, 104.747 , ..., 100.354 , 107.893 ,\n",
       "          89.893 ],\n",
       "        [114.405 ,  96.7542, 111.501 , ..., 107.933 , 112.483 ,\n",
       "          92.926 ]],\n",
       "\n",
       "       [[116.037 , 121.982 ,  94.5344, ...,  90.5021, 114.157 ,\n",
       "         108.254 ],\n",
       "        [106.549 ,  93.6213, 129.54  , ...,  96.8894, 107.654 ,\n",
       "         118.433 ],\n",
       "        [103.04  , 105.23  ,  98.7363, ...,  86.8293, 105.329 ,\n",
       "         116.406 ],\n",
       "        ...,\n",
       "        [101.702 , 103.249 , 117.152 , ..., 126.929 ,  78.5486,\n",
       "          91.6054],\n",
       "        [123.257 ,  94.1615, 132.646 , ...,  98.1967, 118.3   ,\n",
       "         119.765 ],\n",
       "        [ 94.247 , 111.577 , 113.533 , ...,  75.0719, 108.213 ,\n",
       "         120.251 ]]])</pre></div></li></ul></div></li><li class='xr-section-item'><input id='section-f08e8046-9371-4593-a937-0c4f2db33a74' class='xr-section-summary-in' type='checkbox'  checked><label for='section-f08e8046-9371-4593-a937-0c4f2db33a74' class='xr-section-summary' >Attributes: <span>(4)</span></label><div class='xr-section-inline-details'></div><div class='xr-section-details'><dl class='xr-attrs'><dt><span>created_at :</span></dt><dd>2022-06-21T21:09:25.242653</dd><dt><span>arviz_version :</span></dt><dd>0.11.2</dd><dt><span>inference_library :</span></dt><dd>cmdstanpy</dd><dt><span>inference_library_version :</span></dt><dd>1.0.1</dd></dl></div></li></ul></div></div><br></div>\n",
       "                      </ul>\n",
       "                  </div>\n",
       "            </li>\n",
       "            \n",
       "            <li class = \"xr-section-item\">\n",
       "                  <input id=\"idata_log_likelihood18ec2974-4def-4134-ab99-6f02b5eebd99\" class=\"xr-section-summary-in\" type=\"checkbox\">\n",
       "                  <label for=\"idata_log_likelihood18ec2974-4def-4134-ab99-6f02b5eebd99\" class = \"xr-section-summary\">log_likelihood</label>\n",
       "                  <div class=\"xr-section-inline-details\"></div>\n",
       "                  <div class=\"xr-section-details\">\n",
       "                      <ul id=\"xr-dataset-coord-list\" class=\"xr-var-list\">\n",
       "                          <div style=\"padding-left:2rem;\"><div><svg style=\"position: absolute; width: 0; height: 0; overflow: hidden\">\n",
       "<defs>\n",
       "<symbol id=\"icon-database\" viewBox=\"0 0 32 32\">\n",
       "<path d=\"M16 0c-8.837 0-16 2.239-16 5v4c0 2.761 7.163 5 16 5s16-2.239 16-5v-4c0-2.761-7.163-5-16-5z\"></path>\n",
       "<path d=\"M16 17c-8.837 0-16-2.239-16-5v6c0 2.761 7.163 5 16 5s16-2.239 16-5v-6c0 2.761-7.163 5-16 5z\"></path>\n",
       "<path d=\"M16 26c-8.837 0-16-2.239-16-5v6c0 2.761 7.163 5 16 5s16-2.239 16-5v-6c0 2.761-7.163 5-16 5z\"></path>\n",
       "</symbol>\n",
       "<symbol id=\"icon-file-text2\" viewBox=\"0 0 32 32\">\n",
       "<path d=\"M28.681 7.159c-0.694-0.947-1.662-2.053-2.724-3.116s-2.169-2.030-3.116-2.724c-1.612-1.182-2.393-1.319-2.841-1.319h-15.5c-1.378 0-2.5 1.121-2.5 2.5v27c0 1.378 1.122 2.5 2.5 2.5h23c1.378 0 2.5-1.122 2.5-2.5v-19.5c0-0.448-0.137-1.23-1.319-2.841zM24.543 5.457c0.959 0.959 1.712 1.825 2.268 2.543h-4.811v-4.811c0.718 0.556 1.584 1.309 2.543 2.268zM28 29.5c0 0.271-0.229 0.5-0.5 0.5h-23c-0.271 0-0.5-0.229-0.5-0.5v-27c0-0.271 0.229-0.5 0.5-0.5 0 0 15.499-0 15.5 0v7c0 0.552 0.448 1 1 1h7v19.5z\"></path>\n",
       "<path d=\"M23 26h-14c-0.552 0-1-0.448-1-1s0.448-1 1-1h14c0.552 0 1 0.448 1 1s-0.448 1-1 1z\"></path>\n",
       "<path d=\"M23 22h-14c-0.552 0-1-0.448-1-1s0.448-1 1-1h14c0.552 0 1 0.448 1 1s-0.448 1-1 1z\"></path>\n",
       "<path d=\"M23 18h-14c-0.552 0-1-0.448-1-1s0.448-1 1-1h14c0.552 0 1 0.448 1 1s-0.448 1-1 1z\"></path>\n",
       "</symbol>\n",
       "</defs>\n",
       "</svg>\n",
       "<style>/* CSS stylesheet for displaying xarray objects in jupyterlab.\n",
       " *\n",
       " */\n",
       "\n",
       ":root {\n",
       "  --xr-font-color0: var(--jp-content-font-color0, rgba(0, 0, 0, 1));\n",
       "  --xr-font-color2: var(--jp-content-font-color2, rgba(0, 0, 0, 0.54));\n",
       "  --xr-font-color3: var(--jp-content-font-color3, rgba(0, 0, 0, 0.38));\n",
       "  --xr-border-color: var(--jp-border-color2, #e0e0e0);\n",
       "  --xr-disabled-color: var(--jp-layout-color3, #bdbdbd);\n",
       "  --xr-background-color: var(--jp-layout-color0, white);\n",
       "  --xr-background-color-row-even: var(--jp-layout-color1, white);\n",
       "  --xr-background-color-row-odd: var(--jp-layout-color2, #eeeeee);\n",
       "}\n",
       "\n",
       "html[theme=dark],\n",
       "body.vscode-dark {\n",
       "  --xr-font-color0: rgba(255, 255, 255, 1);\n",
       "  --xr-font-color2: rgba(255, 255, 255, 0.54);\n",
       "  --xr-font-color3: rgba(255, 255, 255, 0.38);\n",
       "  --xr-border-color: #1F1F1F;\n",
       "  --xr-disabled-color: #515151;\n",
       "  --xr-background-color: #111111;\n",
       "  --xr-background-color-row-even: #111111;\n",
       "  --xr-background-color-row-odd: #313131;\n",
       "}\n",
       "\n",
       ".xr-wrap {\n",
       "  display: block;\n",
       "  min-width: 300px;\n",
       "  max-width: 700px;\n",
       "}\n",
       "\n",
       ".xr-text-repr-fallback {\n",
       "  /* fallback to plain text repr when CSS is not injected (untrusted notebook) */\n",
       "  display: none;\n",
       "}\n",
       "\n",
       ".xr-header {\n",
       "  padding-top: 6px;\n",
       "  padding-bottom: 6px;\n",
       "  margin-bottom: 4px;\n",
       "  border-bottom: solid 1px var(--xr-border-color);\n",
       "}\n",
       "\n",
       ".xr-header > div,\n",
       ".xr-header > ul {\n",
       "  display: inline;\n",
       "  margin-top: 0;\n",
       "  margin-bottom: 0;\n",
       "}\n",
       "\n",
       ".xr-obj-type,\n",
       ".xr-array-name {\n",
       "  margin-left: 2px;\n",
       "  margin-right: 10px;\n",
       "}\n",
       "\n",
       ".xr-obj-type {\n",
       "  color: var(--xr-font-color2);\n",
       "}\n",
       "\n",
       ".xr-sections {\n",
       "  padding-left: 0 !important;\n",
       "  display: grid;\n",
       "  grid-template-columns: 150px auto auto 1fr 20px 20px;\n",
       "}\n",
       "\n",
       ".xr-section-item {\n",
       "  display: contents;\n",
       "}\n",
       "\n",
       ".xr-section-item input {\n",
       "  display: none;\n",
       "}\n",
       "\n",
       ".xr-section-item input + label {\n",
       "  color: var(--xr-disabled-color);\n",
       "}\n",
       "\n",
       ".xr-section-item input:enabled + label {\n",
       "  cursor: pointer;\n",
       "  color: var(--xr-font-color2);\n",
       "}\n",
       "\n",
       ".xr-section-item input:enabled + label:hover {\n",
       "  color: var(--xr-font-color0);\n",
       "}\n",
       "\n",
       ".xr-section-summary {\n",
       "  grid-column: 1;\n",
       "  color: var(--xr-font-color2);\n",
       "  font-weight: 500;\n",
       "}\n",
       "\n",
       ".xr-section-summary > span {\n",
       "  display: inline-block;\n",
       "  padding-left: 0.5em;\n",
       "}\n",
       "\n",
       ".xr-section-summary-in:disabled + label {\n",
       "  color: var(--xr-font-color2);\n",
       "}\n",
       "\n",
       ".xr-section-summary-in + label:before {\n",
       "  display: inline-block;\n",
       "  content: '►';\n",
       "  font-size: 11px;\n",
       "  width: 15px;\n",
       "  text-align: center;\n",
       "}\n",
       "\n",
       ".xr-section-summary-in:disabled + label:before {\n",
       "  color: var(--xr-disabled-color);\n",
       "}\n",
       "\n",
       ".xr-section-summary-in:checked + label:before {\n",
       "  content: '▼';\n",
       "}\n",
       "\n",
       ".xr-section-summary-in:checked + label > span {\n",
       "  display: none;\n",
       "}\n",
       "\n",
       ".xr-section-summary,\n",
       ".xr-section-inline-details {\n",
       "  padding-top: 4px;\n",
       "  padding-bottom: 4px;\n",
       "}\n",
       "\n",
       ".xr-section-inline-details {\n",
       "  grid-column: 2 / -1;\n",
       "}\n",
       "\n",
       ".xr-section-details {\n",
       "  display: none;\n",
       "  grid-column: 1 / -1;\n",
       "  margin-bottom: 5px;\n",
       "}\n",
       "\n",
       ".xr-section-summary-in:checked ~ .xr-section-details {\n",
       "  display: contents;\n",
       "}\n",
       "\n",
       ".xr-array-wrap {\n",
       "  grid-column: 1 / -1;\n",
       "  display: grid;\n",
       "  grid-template-columns: 20px auto;\n",
       "}\n",
       "\n",
       ".xr-array-wrap > label {\n",
       "  grid-column: 1;\n",
       "  vertical-align: top;\n",
       "}\n",
       "\n",
       ".xr-preview {\n",
       "  color: var(--xr-font-color3);\n",
       "}\n",
       "\n",
       ".xr-array-preview,\n",
       ".xr-array-data {\n",
       "  padding: 0 5px !important;\n",
       "  grid-column: 2;\n",
       "}\n",
       "\n",
       ".xr-array-data,\n",
       ".xr-array-in:checked ~ .xr-array-preview {\n",
       "  display: none;\n",
       "}\n",
       "\n",
       ".xr-array-in:checked ~ .xr-array-data,\n",
       ".xr-array-preview {\n",
       "  display: inline-block;\n",
       "}\n",
       "\n",
       ".xr-dim-list {\n",
       "  display: inline-block !important;\n",
       "  list-style: none;\n",
       "  padding: 0 !important;\n",
       "  margin: 0;\n",
       "}\n",
       "\n",
       ".xr-dim-list li {\n",
       "  display: inline-block;\n",
       "  padding: 0;\n",
       "  margin: 0;\n",
       "}\n",
       "\n",
       ".xr-dim-list:before {\n",
       "  content: '(';\n",
       "}\n",
       "\n",
       ".xr-dim-list:after {\n",
       "  content: ')';\n",
       "}\n",
       "\n",
       ".xr-dim-list li:not(:last-child):after {\n",
       "  content: ',';\n",
       "  padding-right: 5px;\n",
       "}\n",
       "\n",
       ".xr-has-index {\n",
       "  font-weight: bold;\n",
       "}\n",
       "\n",
       ".xr-var-list,\n",
       ".xr-var-item {\n",
       "  display: contents;\n",
       "}\n",
       "\n",
       ".xr-var-item > div,\n",
       ".xr-var-item label,\n",
       ".xr-var-item > .xr-var-name span {\n",
       "  background-color: var(--xr-background-color-row-even);\n",
       "  margin-bottom: 0;\n",
       "}\n",
       "\n",
       ".xr-var-item > .xr-var-name:hover span {\n",
       "  padding-right: 5px;\n",
       "}\n",
       "\n",
       ".xr-var-list > li:nth-child(odd) > div,\n",
       ".xr-var-list > li:nth-child(odd) > label,\n",
       ".xr-var-list > li:nth-child(odd) > .xr-var-name span {\n",
       "  background-color: var(--xr-background-color-row-odd);\n",
       "}\n",
       "\n",
       ".xr-var-name {\n",
       "  grid-column: 1;\n",
       "}\n",
       "\n",
       ".xr-var-dims {\n",
       "  grid-column: 2;\n",
       "}\n",
       "\n",
       ".xr-var-dtype {\n",
       "  grid-column: 3;\n",
       "  text-align: right;\n",
       "  color: var(--xr-font-color2);\n",
       "}\n",
       "\n",
       ".xr-var-preview {\n",
       "  grid-column: 4;\n",
       "}\n",
       "\n",
       ".xr-var-name,\n",
       ".xr-var-dims,\n",
       ".xr-var-dtype,\n",
       ".xr-preview,\n",
       ".xr-attrs dt {\n",
       "  white-space: nowrap;\n",
       "  overflow: hidden;\n",
       "  text-overflow: ellipsis;\n",
       "  padding-right: 10px;\n",
       "}\n",
       "\n",
       ".xr-var-name:hover,\n",
       ".xr-var-dims:hover,\n",
       ".xr-var-dtype:hover,\n",
       ".xr-attrs dt:hover {\n",
       "  overflow: visible;\n",
       "  width: auto;\n",
       "  z-index: 1;\n",
       "}\n",
       "\n",
       ".xr-var-attrs,\n",
       ".xr-var-data {\n",
       "  display: none;\n",
       "  background-color: var(--xr-background-color) !important;\n",
       "  padding-bottom: 5px !important;\n",
       "}\n",
       "\n",
       ".xr-var-attrs-in:checked ~ .xr-var-attrs,\n",
       ".xr-var-data-in:checked ~ .xr-var-data {\n",
       "  display: block;\n",
       "}\n",
       "\n",
       ".xr-var-data > table {\n",
       "  float: right;\n",
       "}\n",
       "\n",
       ".xr-var-name span,\n",
       ".xr-var-data,\n",
       ".xr-attrs {\n",
       "  padding-left: 25px !important;\n",
       "}\n",
       "\n",
       ".xr-attrs,\n",
       ".xr-var-attrs,\n",
       ".xr-var-data {\n",
       "  grid-column: 1 / -1;\n",
       "}\n",
       "\n",
       "dl.xr-attrs {\n",
       "  padding: 0;\n",
       "  margin: 0;\n",
       "  display: grid;\n",
       "  grid-template-columns: 125px auto;\n",
       "}\n",
       "\n",
       ".xr-attrs dt,\n",
       ".xr-attrs dd {\n",
       "  padding: 0;\n",
       "  margin: 0;\n",
       "  float: left;\n",
       "  padding-right: 10px;\n",
       "  width: auto;\n",
       "}\n",
       "\n",
       ".xr-attrs dt {\n",
       "  font-weight: normal;\n",
       "  grid-column: 1;\n",
       "}\n",
       "\n",
       ".xr-attrs dt:hover span {\n",
       "  display: inline-block;\n",
       "  background: var(--xr-background-color);\n",
       "  padding-right: 10px;\n",
       "}\n",
       "\n",
       ".xr-attrs dd {\n",
       "  grid-column: 2;\n",
       "  white-space: pre-wrap;\n",
       "  word-break: break-all;\n",
       "}\n",
       "\n",
       ".xr-icon-database,\n",
       ".xr-icon-file-text2 {\n",
       "  display: inline-block;\n",
       "  vertical-align: middle;\n",
       "  width: 1em;\n",
       "  height: 1.5em !important;\n",
       "  stroke-width: 0;\n",
       "  stroke: currentColor;\n",
       "  fill: currentColor;\n",
       "}\n",
       "</style><pre class='xr-text-repr-fallback'>&lt;xarray.Dataset&gt;\n",
       "Dimensions:        (chain: 4, draw: 1000, log_lik_dim_0: 76)\n",
       "Coordinates:\n",
       "  * chain          (chain) int32 0 1 2 3\n",
       "  * draw           (draw) int32 0 1 2 3 4 5 6 7 ... 993 994 995 996 997 998 999\n",
       "  * log_lik_dim_0  (log_lik_dim_0) int32 0 1 2 3 4 5 6 ... 69 70 71 72 73 74 75\n",
       "Data variables:\n",
       "    log_lik        (chain, draw, log_lik_dim_0) float64 -6.34 -4.175 ... -3.619\n",
       "Attributes:\n",
       "    created_at:                 2022-06-21T21:09:25.255656\n",
       "    arviz_version:              0.11.2\n",
       "    inference_library:          cmdstanpy\n",
       "    inference_library_version:  1.0.1</pre><div class='xr-wrap' hidden><div class='xr-header'><div class='xr-obj-type'>xarray.Dataset</div></div><ul class='xr-sections'><li class='xr-section-item'><input id='section-8b55ca23-97b0-4634-af66-ef6ad79e51e8' class='xr-section-summary-in' type='checkbox' disabled ><label for='section-8b55ca23-97b0-4634-af66-ef6ad79e51e8' class='xr-section-summary'  title='Expand/collapse section'>Dimensions:</label><div class='xr-section-inline-details'><ul class='xr-dim-list'><li><span class='xr-has-index'>chain</span>: 4</li><li><span class='xr-has-index'>draw</span>: 1000</li><li><span class='xr-has-index'>log_lik_dim_0</span>: 76</li></ul></div><div class='xr-section-details'></div></li><li class='xr-section-item'><input id='section-d8e03665-84de-4a3e-aa8b-d306e3f1d070' class='xr-section-summary-in' type='checkbox'  checked><label for='section-d8e03665-84de-4a3e-aa8b-d306e3f1d070' class='xr-section-summary' >Coordinates: <span>(3)</span></label><div class='xr-section-inline-details'></div><div class='xr-section-details'><ul class='xr-var-list'><li class='xr-var-item'><div class='xr-var-name'><span class='xr-has-index'>chain</span></div><div class='xr-var-dims'>(chain)</div><div class='xr-var-dtype'>int32</div><div class='xr-var-preview xr-preview'>0 1 2 3</div><input id='attrs-c8e585a8-de0b-4eaf-a770-c55f4240278a' class='xr-var-attrs-in' type='checkbox' disabled><label for='attrs-c8e585a8-de0b-4eaf-a770-c55f4240278a' title='Show/Hide attributes'><svg class='icon xr-icon-file-text2'><use xlink:href='#icon-file-text2'></use></svg></label><input id='data-62ed9373-531e-4726-baa5-0718fe23c6bd' class='xr-var-data-in' type='checkbox'><label for='data-62ed9373-531e-4726-baa5-0718fe23c6bd' title='Show/Hide data repr'><svg class='icon xr-icon-database'><use xlink:href='#icon-database'></use></svg></label><div class='xr-var-attrs'><dl class='xr-attrs'></dl></div><div class='xr-var-data'><pre>array([0, 1, 2, 3])</pre></div></li><li class='xr-var-item'><div class='xr-var-name'><span class='xr-has-index'>draw</span></div><div class='xr-var-dims'>(draw)</div><div class='xr-var-dtype'>int32</div><div class='xr-var-preview xr-preview'>0 1 2 3 4 5 ... 995 996 997 998 999</div><input id='attrs-c2dea818-ed3a-408d-a2a8-ce475c603553' class='xr-var-attrs-in' type='checkbox' disabled><label for='attrs-c2dea818-ed3a-408d-a2a8-ce475c603553' title='Show/Hide attributes'><svg class='icon xr-icon-file-text2'><use xlink:href='#icon-file-text2'></use></svg></label><input id='data-fe7228ab-5eb0-4154-9f16-c8c71b560451' class='xr-var-data-in' type='checkbox'><label for='data-fe7228ab-5eb0-4154-9f16-c8c71b560451' title='Show/Hide data repr'><svg class='icon xr-icon-database'><use xlink:href='#icon-database'></use></svg></label><div class='xr-var-attrs'><dl class='xr-attrs'></dl></div><div class='xr-var-data'><pre>array([  0,   1,   2, ..., 997, 998, 999])</pre></div></li><li class='xr-var-item'><div class='xr-var-name'><span class='xr-has-index'>log_lik_dim_0</span></div><div class='xr-var-dims'>(log_lik_dim_0)</div><div class='xr-var-dtype'>int32</div><div class='xr-var-preview xr-preview'>0 1 2 3 4 5 6 ... 70 71 72 73 74 75</div><input id='attrs-8cc33292-146f-498f-bb78-7a7c74a47c34' class='xr-var-attrs-in' type='checkbox' disabled><label for='attrs-8cc33292-146f-498f-bb78-7a7c74a47c34' title='Show/Hide attributes'><svg class='icon xr-icon-file-text2'><use xlink:href='#icon-file-text2'></use></svg></label><input id='data-ae7e81ed-9888-4b23-9660-20d8f3df1fc4' class='xr-var-data-in' type='checkbox'><label for='data-ae7e81ed-9888-4b23-9660-20d8f3df1fc4' title='Show/Hide data repr'><svg class='icon xr-icon-database'><use xlink:href='#icon-database'></use></svg></label><div class='xr-var-attrs'><dl class='xr-attrs'></dl></div><div class='xr-var-data'><pre>array([ 0,  1,  2,  3,  4,  5,  6,  7,  8,  9, 10, 11, 12, 13, 14, 15, 16, 17,\n",
       "       18, 19, 20, 21, 22, 23, 24, 25, 26, 27, 28, 29, 30, 31, 32, 33, 34, 35,\n",
       "       36, 37, 38, 39, 40, 41, 42, 43, 44, 45, 46, 47, 48, 49, 50, 51, 52, 53,\n",
       "       54, 55, 56, 57, 58, 59, 60, 61, 62, 63, 64, 65, 66, 67, 68, 69, 70, 71,\n",
       "       72, 73, 74, 75])</pre></div></li></ul></div></li><li class='xr-section-item'><input id='section-a11e56a4-1899-49ba-819f-663e59445fd8' class='xr-section-summary-in' type='checkbox'  checked><label for='section-a11e56a4-1899-49ba-819f-663e59445fd8' class='xr-section-summary' >Data variables: <span>(1)</span></label><div class='xr-section-inline-details'></div><div class='xr-section-details'><ul class='xr-var-list'><li class='xr-var-item'><div class='xr-var-name'><span>log_lik</span></div><div class='xr-var-dims'>(chain, draw, log_lik_dim_0)</div><div class='xr-var-dtype'>float64</div><div class='xr-var-preview xr-preview'>-6.34 -4.175 ... -3.489 -3.619</div><input id='attrs-2e9f10b3-b633-4ed4-a620-22694c10de2d' class='xr-var-attrs-in' type='checkbox' disabled><label for='attrs-2e9f10b3-b633-4ed4-a620-22694c10de2d' title='Show/Hide attributes'><svg class='icon xr-icon-file-text2'><use xlink:href='#icon-file-text2'></use></svg></label><input id='data-b4136e1b-08e5-4e39-87f9-f7bf81328398' class='xr-var-data-in' type='checkbox'><label for='data-b4136e1b-08e5-4e39-87f9-f7bf81328398' title='Show/Hide data repr'><svg class='icon xr-icon-database'><use xlink:href='#icon-database'></use></svg></label><div class='xr-var-attrs'><dl class='xr-attrs'></dl></div><div class='xr-var-data'><pre>array([[[-6.33987, -4.17465, -6.07099, ..., -3.52948, -3.52948,\n",
       "         -3.58512],\n",
       "        [-6.9523 , -4.00682, -6.7571 , ..., -3.50829, -3.50829,\n",
       "         -3.53102],\n",
       "        [-6.49782, -4.04557, -6.23016, ..., -3.53413, -3.53413,\n",
       "         -3.5679 ],\n",
       "        ...,\n",
       "        [-7.23468, -4.12374, -6.92126, ..., -3.39827, -3.39827,\n",
       "         -3.46027],\n",
       "        [-6.83502, -4.03691, -6.66968, ..., -3.52542, -3.52542,\n",
       "         -3.55304],\n",
       "        [-6.52719, -4.00568, -6.3442 , ..., -3.57949, -3.57949,\n",
       "         -3.60059]],\n",
       "\n",
       "       [[-5.45511, -4.26415, -5.33852, ..., -3.73333, -3.73333,\n",
       "         -3.81702],\n",
       "        [-5.85633, -4.2452 , -5.7118 , ..., -3.61954, -3.61954,\n",
       "         -3.71305],\n",
       "        [-7.56561, -3.96784, -7.24302, ..., -3.40157, -3.40157,\n",
       "         -3.42713],\n",
       "...\n",
       "        [-6.30875, -4.10755, -6.05192, ..., -3.55161, -3.55161,\n",
       "         -3.5948 ],\n",
       "        [-6.38622, -4.04725, -6.18126, ..., -3.57123, -3.57123,\n",
       "         -3.60789],\n",
       "        [-7.54059, -4.25473, -7.31575, ..., -3.35006, -3.35006,\n",
       "         -3.4583 ]],\n",
       "\n",
       "       [[-6.54267, -4.23894, -6.33154, ..., -3.47947, -3.47947,\n",
       "         -3.57858],\n",
       "        [-6.56462, -4.22423, -6.33891, ..., -3.47812, -3.47812,\n",
       "         -3.5701 ],\n",
       "        [-6.99352, -4.04035, -6.75168, ..., -3.46735, -3.46735,\n",
       "         -3.50851],\n",
       "        ...,\n",
       "        [-6.55362, -3.92256, -6.35192, ..., -3.62254, -3.62254,\n",
       "         -3.61861],\n",
       "        [-7.73465, -3.83483, -7.45357, ..., -3.46818, -3.46818,\n",
       "         -3.44522],\n",
       "        [-6.38689, -4.3223 , -6.20885, ..., -3.48909, -3.48909,\n",
       "         -3.61893]]])</pre></div></li></ul></div></li><li class='xr-section-item'><input id='section-cc2095ae-005c-4f17-9727-8fbb5af56a6e' class='xr-section-summary-in' type='checkbox'  checked><label for='section-cc2095ae-005c-4f17-9727-8fbb5af56a6e' class='xr-section-summary' >Attributes: <span>(4)</span></label><div class='xr-section-inline-details'></div><div class='xr-section-details'><dl class='xr-attrs'><dt><span>created_at :</span></dt><dd>2022-06-21T21:09:25.255656</dd><dt><span>arviz_version :</span></dt><dd>0.11.2</dd><dt><span>inference_library :</span></dt><dd>cmdstanpy</dd><dt><span>inference_library_version :</span></dt><dd>1.0.1</dd></dl></div></li></ul></div></div><br></div>\n",
       "                      </ul>\n",
       "                  </div>\n",
       "            </li>\n",
       "            \n",
       "            <li class = \"xr-section-item\">\n",
       "                  <input id=\"idata_sample_stats9bcec368-cc14-4149-9335-5e77f5bf05ba\" class=\"xr-section-summary-in\" type=\"checkbox\">\n",
       "                  <label for=\"idata_sample_stats9bcec368-cc14-4149-9335-5e77f5bf05ba\" class = \"xr-section-summary\">sample_stats</label>\n",
       "                  <div class=\"xr-section-inline-details\"></div>\n",
       "                  <div class=\"xr-section-details\">\n",
       "                      <ul id=\"xr-dataset-coord-list\" class=\"xr-var-list\">\n",
       "                          <div style=\"padding-left:2rem;\"><div><svg style=\"position: absolute; width: 0; height: 0; overflow: hidden\">\n",
       "<defs>\n",
       "<symbol id=\"icon-database\" viewBox=\"0 0 32 32\">\n",
       "<path d=\"M16 0c-8.837 0-16 2.239-16 5v4c0 2.761 7.163 5 16 5s16-2.239 16-5v-4c0-2.761-7.163-5-16-5z\"></path>\n",
       "<path d=\"M16 17c-8.837 0-16-2.239-16-5v6c0 2.761 7.163 5 16 5s16-2.239 16-5v-6c0 2.761-7.163 5-16 5z\"></path>\n",
       "<path d=\"M16 26c-8.837 0-16-2.239-16-5v6c0 2.761 7.163 5 16 5s16-2.239 16-5v-6c0 2.761-7.163 5-16 5z\"></path>\n",
       "</symbol>\n",
       "<symbol id=\"icon-file-text2\" viewBox=\"0 0 32 32\">\n",
       "<path d=\"M28.681 7.159c-0.694-0.947-1.662-2.053-2.724-3.116s-2.169-2.030-3.116-2.724c-1.612-1.182-2.393-1.319-2.841-1.319h-15.5c-1.378 0-2.5 1.121-2.5 2.5v27c0 1.378 1.122 2.5 2.5 2.5h23c1.378 0 2.5-1.122 2.5-2.5v-19.5c0-0.448-0.137-1.23-1.319-2.841zM24.543 5.457c0.959 0.959 1.712 1.825 2.268 2.543h-4.811v-4.811c0.718 0.556 1.584 1.309 2.543 2.268zM28 29.5c0 0.271-0.229 0.5-0.5 0.5h-23c-0.271 0-0.5-0.229-0.5-0.5v-27c0-0.271 0.229-0.5 0.5-0.5 0 0 15.499-0 15.5 0v7c0 0.552 0.448 1 1 1h7v19.5z\"></path>\n",
       "<path d=\"M23 26h-14c-0.552 0-1-0.448-1-1s0.448-1 1-1h14c0.552 0 1 0.448 1 1s-0.448 1-1 1z\"></path>\n",
       "<path d=\"M23 22h-14c-0.552 0-1-0.448-1-1s0.448-1 1-1h14c0.552 0 1 0.448 1 1s-0.448 1-1 1z\"></path>\n",
       "<path d=\"M23 18h-14c-0.552 0-1-0.448-1-1s0.448-1 1-1h14c0.552 0 1 0.448 1 1s-0.448 1-1 1z\"></path>\n",
       "</symbol>\n",
       "</defs>\n",
       "</svg>\n",
       "<style>/* CSS stylesheet for displaying xarray objects in jupyterlab.\n",
       " *\n",
       " */\n",
       "\n",
       ":root {\n",
       "  --xr-font-color0: var(--jp-content-font-color0, rgba(0, 0, 0, 1));\n",
       "  --xr-font-color2: var(--jp-content-font-color2, rgba(0, 0, 0, 0.54));\n",
       "  --xr-font-color3: var(--jp-content-font-color3, rgba(0, 0, 0, 0.38));\n",
       "  --xr-border-color: var(--jp-border-color2, #e0e0e0);\n",
       "  --xr-disabled-color: var(--jp-layout-color3, #bdbdbd);\n",
       "  --xr-background-color: var(--jp-layout-color0, white);\n",
       "  --xr-background-color-row-even: var(--jp-layout-color1, white);\n",
       "  --xr-background-color-row-odd: var(--jp-layout-color2, #eeeeee);\n",
       "}\n",
       "\n",
       "html[theme=dark],\n",
       "body.vscode-dark {\n",
       "  --xr-font-color0: rgba(255, 255, 255, 1);\n",
       "  --xr-font-color2: rgba(255, 255, 255, 0.54);\n",
       "  --xr-font-color3: rgba(255, 255, 255, 0.38);\n",
       "  --xr-border-color: #1F1F1F;\n",
       "  --xr-disabled-color: #515151;\n",
       "  --xr-background-color: #111111;\n",
       "  --xr-background-color-row-even: #111111;\n",
       "  --xr-background-color-row-odd: #313131;\n",
       "}\n",
       "\n",
       ".xr-wrap {\n",
       "  display: block;\n",
       "  min-width: 300px;\n",
       "  max-width: 700px;\n",
       "}\n",
       "\n",
       ".xr-text-repr-fallback {\n",
       "  /* fallback to plain text repr when CSS is not injected (untrusted notebook) */\n",
       "  display: none;\n",
       "}\n",
       "\n",
       ".xr-header {\n",
       "  padding-top: 6px;\n",
       "  padding-bottom: 6px;\n",
       "  margin-bottom: 4px;\n",
       "  border-bottom: solid 1px var(--xr-border-color);\n",
       "}\n",
       "\n",
       ".xr-header > div,\n",
       ".xr-header > ul {\n",
       "  display: inline;\n",
       "  margin-top: 0;\n",
       "  margin-bottom: 0;\n",
       "}\n",
       "\n",
       ".xr-obj-type,\n",
       ".xr-array-name {\n",
       "  margin-left: 2px;\n",
       "  margin-right: 10px;\n",
       "}\n",
       "\n",
       ".xr-obj-type {\n",
       "  color: var(--xr-font-color2);\n",
       "}\n",
       "\n",
       ".xr-sections {\n",
       "  padding-left: 0 !important;\n",
       "  display: grid;\n",
       "  grid-template-columns: 150px auto auto 1fr 20px 20px;\n",
       "}\n",
       "\n",
       ".xr-section-item {\n",
       "  display: contents;\n",
       "}\n",
       "\n",
       ".xr-section-item input {\n",
       "  display: none;\n",
       "}\n",
       "\n",
       ".xr-section-item input + label {\n",
       "  color: var(--xr-disabled-color);\n",
       "}\n",
       "\n",
       ".xr-section-item input:enabled + label {\n",
       "  cursor: pointer;\n",
       "  color: var(--xr-font-color2);\n",
       "}\n",
       "\n",
       ".xr-section-item input:enabled + label:hover {\n",
       "  color: var(--xr-font-color0);\n",
       "}\n",
       "\n",
       ".xr-section-summary {\n",
       "  grid-column: 1;\n",
       "  color: var(--xr-font-color2);\n",
       "  font-weight: 500;\n",
       "}\n",
       "\n",
       ".xr-section-summary > span {\n",
       "  display: inline-block;\n",
       "  padding-left: 0.5em;\n",
       "}\n",
       "\n",
       ".xr-section-summary-in:disabled + label {\n",
       "  color: var(--xr-font-color2);\n",
       "}\n",
       "\n",
       ".xr-section-summary-in + label:before {\n",
       "  display: inline-block;\n",
       "  content: '►';\n",
       "  font-size: 11px;\n",
       "  width: 15px;\n",
       "  text-align: center;\n",
       "}\n",
       "\n",
       ".xr-section-summary-in:disabled + label:before {\n",
       "  color: var(--xr-disabled-color);\n",
       "}\n",
       "\n",
       ".xr-section-summary-in:checked + label:before {\n",
       "  content: '▼';\n",
       "}\n",
       "\n",
       ".xr-section-summary-in:checked + label > span {\n",
       "  display: none;\n",
       "}\n",
       "\n",
       ".xr-section-summary,\n",
       ".xr-section-inline-details {\n",
       "  padding-top: 4px;\n",
       "  padding-bottom: 4px;\n",
       "}\n",
       "\n",
       ".xr-section-inline-details {\n",
       "  grid-column: 2 / -1;\n",
       "}\n",
       "\n",
       ".xr-section-details {\n",
       "  display: none;\n",
       "  grid-column: 1 / -1;\n",
       "  margin-bottom: 5px;\n",
       "}\n",
       "\n",
       ".xr-section-summary-in:checked ~ .xr-section-details {\n",
       "  display: contents;\n",
       "}\n",
       "\n",
       ".xr-array-wrap {\n",
       "  grid-column: 1 / -1;\n",
       "  display: grid;\n",
       "  grid-template-columns: 20px auto;\n",
       "}\n",
       "\n",
       ".xr-array-wrap > label {\n",
       "  grid-column: 1;\n",
       "  vertical-align: top;\n",
       "}\n",
       "\n",
       ".xr-preview {\n",
       "  color: var(--xr-font-color3);\n",
       "}\n",
       "\n",
       ".xr-array-preview,\n",
       ".xr-array-data {\n",
       "  padding: 0 5px !important;\n",
       "  grid-column: 2;\n",
       "}\n",
       "\n",
       ".xr-array-data,\n",
       ".xr-array-in:checked ~ .xr-array-preview {\n",
       "  display: none;\n",
       "}\n",
       "\n",
       ".xr-array-in:checked ~ .xr-array-data,\n",
       ".xr-array-preview {\n",
       "  display: inline-block;\n",
       "}\n",
       "\n",
       ".xr-dim-list {\n",
       "  display: inline-block !important;\n",
       "  list-style: none;\n",
       "  padding: 0 !important;\n",
       "  margin: 0;\n",
       "}\n",
       "\n",
       ".xr-dim-list li {\n",
       "  display: inline-block;\n",
       "  padding: 0;\n",
       "  margin: 0;\n",
       "}\n",
       "\n",
       ".xr-dim-list:before {\n",
       "  content: '(';\n",
       "}\n",
       "\n",
       ".xr-dim-list:after {\n",
       "  content: ')';\n",
       "}\n",
       "\n",
       ".xr-dim-list li:not(:last-child):after {\n",
       "  content: ',';\n",
       "  padding-right: 5px;\n",
       "}\n",
       "\n",
       ".xr-has-index {\n",
       "  font-weight: bold;\n",
       "}\n",
       "\n",
       ".xr-var-list,\n",
       ".xr-var-item {\n",
       "  display: contents;\n",
       "}\n",
       "\n",
       ".xr-var-item > div,\n",
       ".xr-var-item label,\n",
       ".xr-var-item > .xr-var-name span {\n",
       "  background-color: var(--xr-background-color-row-even);\n",
       "  margin-bottom: 0;\n",
       "}\n",
       "\n",
       ".xr-var-item > .xr-var-name:hover span {\n",
       "  padding-right: 5px;\n",
       "}\n",
       "\n",
       ".xr-var-list > li:nth-child(odd) > div,\n",
       ".xr-var-list > li:nth-child(odd) > label,\n",
       ".xr-var-list > li:nth-child(odd) > .xr-var-name span {\n",
       "  background-color: var(--xr-background-color-row-odd);\n",
       "}\n",
       "\n",
       ".xr-var-name {\n",
       "  grid-column: 1;\n",
       "}\n",
       "\n",
       ".xr-var-dims {\n",
       "  grid-column: 2;\n",
       "}\n",
       "\n",
       ".xr-var-dtype {\n",
       "  grid-column: 3;\n",
       "  text-align: right;\n",
       "  color: var(--xr-font-color2);\n",
       "}\n",
       "\n",
       ".xr-var-preview {\n",
       "  grid-column: 4;\n",
       "}\n",
       "\n",
       ".xr-var-name,\n",
       ".xr-var-dims,\n",
       ".xr-var-dtype,\n",
       ".xr-preview,\n",
       ".xr-attrs dt {\n",
       "  white-space: nowrap;\n",
       "  overflow: hidden;\n",
       "  text-overflow: ellipsis;\n",
       "  padding-right: 10px;\n",
       "}\n",
       "\n",
       ".xr-var-name:hover,\n",
       ".xr-var-dims:hover,\n",
       ".xr-var-dtype:hover,\n",
       ".xr-attrs dt:hover {\n",
       "  overflow: visible;\n",
       "  width: auto;\n",
       "  z-index: 1;\n",
       "}\n",
       "\n",
       ".xr-var-attrs,\n",
       ".xr-var-data {\n",
       "  display: none;\n",
       "  background-color: var(--xr-background-color) !important;\n",
       "  padding-bottom: 5px !important;\n",
       "}\n",
       "\n",
       ".xr-var-attrs-in:checked ~ .xr-var-attrs,\n",
       ".xr-var-data-in:checked ~ .xr-var-data {\n",
       "  display: block;\n",
       "}\n",
       "\n",
       ".xr-var-data > table {\n",
       "  float: right;\n",
       "}\n",
       "\n",
       ".xr-var-name span,\n",
       ".xr-var-data,\n",
       ".xr-attrs {\n",
       "  padding-left: 25px !important;\n",
       "}\n",
       "\n",
       ".xr-attrs,\n",
       ".xr-var-attrs,\n",
       ".xr-var-data {\n",
       "  grid-column: 1 / -1;\n",
       "}\n",
       "\n",
       "dl.xr-attrs {\n",
       "  padding: 0;\n",
       "  margin: 0;\n",
       "  display: grid;\n",
       "  grid-template-columns: 125px auto;\n",
       "}\n",
       "\n",
       ".xr-attrs dt,\n",
       ".xr-attrs dd {\n",
       "  padding: 0;\n",
       "  margin: 0;\n",
       "  float: left;\n",
       "  padding-right: 10px;\n",
       "  width: auto;\n",
       "}\n",
       "\n",
       ".xr-attrs dt {\n",
       "  font-weight: normal;\n",
       "  grid-column: 1;\n",
       "}\n",
       "\n",
       ".xr-attrs dt:hover span {\n",
       "  display: inline-block;\n",
       "  background: var(--xr-background-color);\n",
       "  padding-right: 10px;\n",
       "}\n",
       "\n",
       ".xr-attrs dd {\n",
       "  grid-column: 2;\n",
       "  white-space: pre-wrap;\n",
       "  word-break: break-all;\n",
       "}\n",
       "\n",
       ".xr-icon-database,\n",
       ".xr-icon-file-text2 {\n",
       "  display: inline-block;\n",
       "  vertical-align: middle;\n",
       "  width: 1em;\n",
       "  height: 1.5em !important;\n",
       "  stroke-width: 0;\n",
       "  stroke: currentColor;\n",
       "  fill: currentColor;\n",
       "}\n",
       "</style><pre class='xr-text-repr-fallback'>&lt;xarray.Dataset&gt;\n",
       "Dimensions:      (chain: 4, draw: 1000)\n",
       "Coordinates:\n",
       "  * chain        (chain) int32 0 1 2 3\n",
       "  * draw         (draw) int32 0 1 2 3 4 5 6 7 ... 993 994 995 996 997 998 999\n",
       "Data variables:\n",
       "    lp           (chain, draw) float64 -232.3 -231.8 -232.0 ... -233.9 -232.5\n",
       "    accept_stat  (chain, draw) float64 0.9894 0.9942 0.9962 ... 0.9995 0.9997\n",
       "    stepsize     (chain, draw) float64 0.2871 0.2871 0.2871 ... 0.1053 0.1053\n",
       "    treedepth    (chain, draw) int64 3 3 4 4 4 3 4 4 4 4 ... 5 5 4 5 5 5 5 5 5 5\n",
       "    n_leapfrog   (chain, draw) int64 7 11 15 15 15 15 15 ... 31 31 31 31 31 31\n",
       "    diverging    (chain, draw) bool False False False ... False False False\n",
       "    energy       (chain, draw) float64 232.4 233.3 232.5 ... 238.3 235.7 234.8\n",
       "Attributes:\n",
       "    created_at:                 2022-06-21T21:09:25.248659\n",
       "    arviz_version:              0.11.2\n",
       "    inference_library:          cmdstanpy\n",
       "    inference_library_version:  1.0.1</pre><div class='xr-wrap' hidden><div class='xr-header'><div class='xr-obj-type'>xarray.Dataset</div></div><ul class='xr-sections'><li class='xr-section-item'><input id='section-c19fedc0-1da2-4759-9d79-e667ffac2bc2' class='xr-section-summary-in' type='checkbox' disabled ><label for='section-c19fedc0-1da2-4759-9d79-e667ffac2bc2' class='xr-section-summary'  title='Expand/collapse section'>Dimensions:</label><div class='xr-section-inline-details'><ul class='xr-dim-list'><li><span class='xr-has-index'>chain</span>: 4</li><li><span class='xr-has-index'>draw</span>: 1000</li></ul></div><div class='xr-section-details'></div></li><li class='xr-section-item'><input id='section-d0d0c1b3-ca54-4a9f-a567-32efa387209a' class='xr-section-summary-in' type='checkbox'  checked><label for='section-d0d0c1b3-ca54-4a9f-a567-32efa387209a' class='xr-section-summary' >Coordinates: <span>(2)</span></label><div class='xr-section-inline-details'></div><div class='xr-section-details'><ul class='xr-var-list'><li class='xr-var-item'><div class='xr-var-name'><span class='xr-has-index'>chain</span></div><div class='xr-var-dims'>(chain)</div><div class='xr-var-dtype'>int32</div><div class='xr-var-preview xr-preview'>0 1 2 3</div><input id='attrs-a0201852-d159-426a-800a-9f121713f6b1' class='xr-var-attrs-in' type='checkbox' disabled><label for='attrs-a0201852-d159-426a-800a-9f121713f6b1' title='Show/Hide attributes'><svg class='icon xr-icon-file-text2'><use xlink:href='#icon-file-text2'></use></svg></label><input id='data-a4e5d29d-b39e-4e1f-955c-ca54a46746ad' class='xr-var-data-in' type='checkbox'><label for='data-a4e5d29d-b39e-4e1f-955c-ca54a46746ad' title='Show/Hide data repr'><svg class='icon xr-icon-database'><use xlink:href='#icon-database'></use></svg></label><div class='xr-var-attrs'><dl class='xr-attrs'></dl></div><div class='xr-var-data'><pre>array([0, 1, 2, 3])</pre></div></li><li class='xr-var-item'><div class='xr-var-name'><span class='xr-has-index'>draw</span></div><div class='xr-var-dims'>(draw)</div><div class='xr-var-dtype'>int32</div><div class='xr-var-preview xr-preview'>0 1 2 3 4 5 ... 995 996 997 998 999</div><input id='attrs-b7c8988d-2b62-4ded-904a-ff521a121c03' class='xr-var-attrs-in' type='checkbox' disabled><label for='attrs-b7c8988d-2b62-4ded-904a-ff521a121c03' title='Show/Hide attributes'><svg class='icon xr-icon-file-text2'><use xlink:href='#icon-file-text2'></use></svg></label><input id='data-f6d947d3-e9cc-4f55-9d46-0e898f1f6045' class='xr-var-data-in' type='checkbox'><label for='data-f6d947d3-e9cc-4f55-9d46-0e898f1f6045' title='Show/Hide data repr'><svg class='icon xr-icon-database'><use xlink:href='#icon-database'></use></svg></label><div class='xr-var-attrs'><dl class='xr-attrs'></dl></div><div class='xr-var-data'><pre>array([  0,   1,   2, ..., 997, 998, 999])</pre></div></li></ul></div></li><li class='xr-section-item'><input id='section-011285ff-7bcd-43f5-95ce-5d0ceb686a75' class='xr-section-summary-in' type='checkbox'  checked><label for='section-011285ff-7bcd-43f5-95ce-5d0ceb686a75' class='xr-section-summary' >Data variables: <span>(7)</span></label><div class='xr-section-inline-details'></div><div class='xr-section-details'><ul class='xr-var-list'><li class='xr-var-item'><div class='xr-var-name'><span>lp</span></div><div class='xr-var-dims'>(chain, draw)</div><div class='xr-var-dtype'>float64</div><div class='xr-var-preview xr-preview'>-232.3 -231.8 ... -233.9 -232.5</div><input id='attrs-02ad815a-bdc5-4c38-bad6-98b224d11630' class='xr-var-attrs-in' type='checkbox' disabled><label for='attrs-02ad815a-bdc5-4c38-bad6-98b224d11630' title='Show/Hide attributes'><svg class='icon xr-icon-file-text2'><use xlink:href='#icon-file-text2'></use></svg></label><input id='data-b348b981-1de3-40b2-aaf6-5ecee6321f55' class='xr-var-data-in' type='checkbox'><label for='data-b348b981-1de3-40b2-aaf6-5ecee6321f55' title='Show/Hide data repr'><svg class='icon xr-icon-database'><use xlink:href='#icon-database'></use></svg></label><div class='xr-var-attrs'><dl class='xr-attrs'></dl></div><div class='xr-var-data'><pre>array([[-232.312, -231.778, -231.976, ..., -231.905, -231.911, -232.331],\n",
       "       [-236.36 , -233.427, -232.283, ..., -234.863, -234.119, -233.943],\n",
       "       [-238.124, -237.161, -234.372, ..., -232.186, -232.044, -232.971],\n",
       "       [-231.763, -231.708, -231.355, ..., -233.895, -233.94 , -232.475]])</pre></div></li><li class='xr-var-item'><div class='xr-var-name'><span>accept_stat</span></div><div class='xr-var-dims'>(chain, draw)</div><div class='xr-var-dtype'>float64</div><div class='xr-var-preview xr-preview'>0.9894 0.9942 ... 0.9995 0.9997</div><input id='attrs-713a037f-b106-4958-b43d-de3b40d7118c' class='xr-var-attrs-in' type='checkbox' disabled><label for='attrs-713a037f-b106-4958-b43d-de3b40d7118c' title='Show/Hide attributes'><svg class='icon xr-icon-file-text2'><use xlink:href='#icon-file-text2'></use></svg></label><input id='data-51e613be-3651-4e77-a54d-79255f8ae543' class='xr-var-data-in' type='checkbox'><label for='data-51e613be-3651-4e77-a54d-79255f8ae543' title='Show/Hide data repr'><svg class='icon xr-icon-database'><use xlink:href='#icon-database'></use></svg></label><div class='xr-var-attrs'><dl class='xr-attrs'></dl></div><div class='xr-var-data'><pre>array([[0.989421, 0.994205, 0.996161, ..., 0.99998 , 0.997123, 0.994786],\n",
       "       [0.998942, 0.999415, 0.999997, ..., 0.999358, 0.9995  , 1.      ],\n",
       "       [0.992465, 0.994692, 1.      , ..., 0.995705, 0.999807, 0.99626 ],\n",
       "       [0.999995, 0.999868, 0.999285, ..., 0.99401 , 0.999521, 0.999684]])</pre></div></li><li class='xr-var-item'><div class='xr-var-name'><span>stepsize</span></div><div class='xr-var-dims'>(chain, draw)</div><div class='xr-var-dtype'>float64</div><div class='xr-var-preview xr-preview'>0.2871 0.2871 ... 0.1053 0.1053</div><input id='attrs-f00e299d-df2b-40e6-8d42-68fe5c13e3b4' class='xr-var-attrs-in' type='checkbox' disabled><label for='attrs-f00e299d-df2b-40e6-8d42-68fe5c13e3b4' title='Show/Hide attributes'><svg class='icon xr-icon-file-text2'><use xlink:href='#icon-file-text2'></use></svg></label><input id='data-e7d9fef8-0170-4d83-a48f-775c640d9646' class='xr-var-data-in' type='checkbox'><label for='data-e7d9fef8-0170-4d83-a48f-775c640d9646' title='Show/Hide data repr'><svg class='icon xr-icon-database'><use xlink:href='#icon-database'></use></svg></label><div class='xr-var-attrs'><dl class='xr-attrs'></dl></div><div class='xr-var-data'><pre>array([[0.287123, 0.287123, 0.287123, ..., 0.287123, 0.287123, 0.287123],\n",
       "       [0.113719, 0.113719, 0.113719, ..., 0.113719, 0.113719, 0.113719],\n",
       "       [0.174208, 0.174208, 0.174208, ..., 0.174208, 0.174208, 0.174208],\n",
       "       [0.1053  , 0.1053  , 0.1053  , ..., 0.1053  , 0.1053  , 0.1053  ]])</pre></div></li><li class='xr-var-item'><div class='xr-var-name'><span>treedepth</span></div><div class='xr-var-dims'>(chain, draw)</div><div class='xr-var-dtype'>int64</div><div class='xr-var-preview xr-preview'>3 3 4 4 4 3 4 4 ... 4 5 5 5 5 5 5 5</div><input id='attrs-428adfd7-7a0c-44a4-b1ac-9c69771895e6' class='xr-var-attrs-in' type='checkbox' disabled><label for='attrs-428adfd7-7a0c-44a4-b1ac-9c69771895e6' title='Show/Hide attributes'><svg class='icon xr-icon-file-text2'><use xlink:href='#icon-file-text2'></use></svg></label><input id='data-066bb82f-1b34-4521-8bd3-898dd9f9675d' class='xr-var-data-in' type='checkbox'><label for='data-066bb82f-1b34-4521-8bd3-898dd9f9675d' title='Show/Hide data repr'><svg class='icon xr-icon-database'><use xlink:href='#icon-database'></use></svg></label><div class='xr-var-attrs'><dl class='xr-attrs'></dl></div><div class='xr-var-data'><pre>array([[3, 3, 4, ..., 4, 3, 3],\n",
       "       [5, 4, 5, ..., 3, 5, 2],\n",
       "       [4, 4, 4, ..., 4, 4, 4],\n",
       "       [4, 5, 4, ..., 5, 5, 5]], dtype=int64)</pre></div></li><li class='xr-var-item'><div class='xr-var-name'><span>n_leapfrog</span></div><div class='xr-var-dims'>(chain, draw)</div><div class='xr-var-dtype'>int64</div><div class='xr-var-preview xr-preview'>7 11 15 15 15 15 ... 31 31 31 31 31</div><input id='attrs-38d09ee1-4ecb-4e31-b6fa-e133b0e60604' class='xr-var-attrs-in' type='checkbox' disabled><label for='attrs-38d09ee1-4ecb-4e31-b6fa-e133b0e60604' title='Show/Hide attributes'><svg class='icon xr-icon-file-text2'><use xlink:href='#icon-file-text2'></use></svg></label><input id='data-cbc3a968-9df6-4dab-a1e4-98f201182650' class='xr-var-data-in' type='checkbox'><label for='data-cbc3a968-9df6-4dab-a1e4-98f201182650' title='Show/Hide data repr'><svg class='icon xr-icon-database'><use xlink:href='#icon-database'></use></svg></label><div class='xr-var-attrs'><dl class='xr-attrs'></dl></div><div class='xr-var-data'><pre>array([[ 7, 11, 15, ..., 15, 15,  7],\n",
       "       [31, 31, 31, ...,  7, 31,  3],\n",
       "       [15, 15, 15, ..., 15, 15, 15],\n",
       "       [15, 31, 23, ..., 31, 31, 31]], dtype=int64)</pre></div></li><li class='xr-var-item'><div class='xr-var-name'><span>diverging</span></div><div class='xr-var-dims'>(chain, draw)</div><div class='xr-var-dtype'>bool</div><div class='xr-var-preview xr-preview'>False False False ... False False</div><input id='attrs-9bfd111a-fe6e-4de8-9204-1bf0f102f056' class='xr-var-attrs-in' type='checkbox' disabled><label for='attrs-9bfd111a-fe6e-4de8-9204-1bf0f102f056' title='Show/Hide attributes'><svg class='icon xr-icon-file-text2'><use xlink:href='#icon-file-text2'></use></svg></label><input id='data-dbfcc0be-24f6-49f7-9758-baa40ed19649' class='xr-var-data-in' type='checkbox'><label for='data-dbfcc0be-24f6-49f7-9758-baa40ed19649' title='Show/Hide data repr'><svg class='icon xr-icon-database'><use xlink:href='#icon-database'></use></svg></label><div class='xr-var-attrs'><dl class='xr-attrs'></dl></div><div class='xr-var-data'><pre>array([[False, False, False, ..., False, False, False],\n",
       "       [False, False, False, ..., False, False, False],\n",
       "       [False, False, False, ..., False, False, False],\n",
       "       [False, False, False, ..., False, False, False]])</pre></div></li><li class='xr-var-item'><div class='xr-var-name'><span>energy</span></div><div class='xr-var-dims'>(chain, draw)</div><div class='xr-var-dtype'>float64</div><div class='xr-var-preview xr-preview'>232.4 233.3 232.5 ... 235.7 234.8</div><input id='attrs-a0f81fdd-eafb-4322-a4d9-5f02067b57dd' class='xr-var-attrs-in' type='checkbox' disabled><label for='attrs-a0f81fdd-eafb-4322-a4d9-5f02067b57dd' title='Show/Hide attributes'><svg class='icon xr-icon-file-text2'><use xlink:href='#icon-file-text2'></use></svg></label><input id='data-d7f3b1fb-d238-49dd-8420-e9dceee79757' class='xr-var-data-in' type='checkbox'><label for='data-d7f3b1fb-d238-49dd-8420-e9dceee79757' title='Show/Hide data repr'><svg class='icon xr-icon-database'><use xlink:href='#icon-database'></use></svg></label><div class='xr-var-attrs'><dl class='xr-attrs'></dl></div><div class='xr-var-data'><pre>array([[232.412, 233.34 , 232.523, ..., 232.778, 232.535, 232.655],\n",
       "       [237.921, 236.541, 233.621, ..., 235.143, 237.512, 234.138],\n",
       "       [240.065, 241.064, 237.995, ..., 232.465, 232.772, 233.621],\n",
       "       [234.032, 231.974, 232.404, ..., 238.294, 235.682, 234.809]])</pre></div></li></ul></div></li><li class='xr-section-item'><input id='section-d21c30f5-ae03-4925-8cc6-148e5336004d' class='xr-section-summary-in' type='checkbox'  checked><label for='section-d21c30f5-ae03-4925-8cc6-148e5336004d' class='xr-section-summary' >Attributes: <span>(4)</span></label><div class='xr-section-inline-details'></div><div class='xr-section-details'><dl class='xr-attrs'><dt><span>created_at :</span></dt><dd>2022-06-21T21:09:25.248659</dd><dt><span>arviz_version :</span></dt><dd>0.11.2</dd><dt><span>inference_library :</span></dt><dd>cmdstanpy</dd><dt><span>inference_library_version :</span></dt><dd>1.0.1</dd></dl></div></li></ul></div></div><br></div>\n",
       "                      </ul>\n",
       "                  </div>\n",
       "            </li>\n",
       "            \n",
       "              </ul>\n",
       "            </div>\n",
       "            <style> /* CSS stylesheet for displaying InferenceData objects in jupyterlab.\n",
       " *\n",
       " */\n",
       "\n",
       ":root {\n",
       "  --xr-font-color0: var(--jp-content-font-color0, rgba(0, 0, 0, 1));\n",
       "  --xr-font-color2: var(--jp-content-font-color2, rgba(0, 0, 0, 0.54));\n",
       "  --xr-font-color3: var(--jp-content-font-color3, rgba(0, 0, 0, 0.38));\n",
       "  --xr-border-color: var(--jp-border-color2, #e0e0e0);\n",
       "  --xr-disabled-color: var(--jp-layout-color3, #bdbdbd);\n",
       "  --xr-background-color: var(--jp-layout-color0, white);\n",
       "  --xr-background-color-row-even: var(--jp-layout-color1, white);\n",
       "  --xr-background-color-row-odd: var(--jp-layout-color2, #eeeeee);\n",
       "}\n",
       "\n",
       "html[theme=dark],\n",
       "body.vscode-dark {\n",
       "  --xr-font-color0: rgba(255, 255, 255, 1);\n",
       "  --xr-font-color2: rgba(255, 255, 255, 0.54);\n",
       "  --xr-font-color3: rgba(255, 255, 255, 0.38);\n",
       "  --xr-border-color: #1F1F1F;\n",
       "  --xr-disabled-color: #515151;\n",
       "  --xr-background-color: #111111;\n",
       "  --xr-background-color-row-even: #111111;\n",
       "  --xr-background-color-row-odd: #313131;\n",
       "}\n",
       "\n",
       ".xr-wrap {\n",
       "  display: block;\n",
       "  min-width: 300px;\n",
       "  max-width: 700px;\n",
       "}\n",
       "\n",
       ".xr-text-repr-fallback {\n",
       "  /* fallback to plain text repr when CSS is not injected (untrusted notebook) */\n",
       "  display: none;\n",
       "}\n",
       "\n",
       ".xr-header {\n",
       "  padding-top: 6px;\n",
       "  padding-bottom: 6px;\n",
       "  margin-bottom: 4px;\n",
       "  border-bottom: solid 1px var(--xr-border-color);\n",
       "}\n",
       "\n",
       ".xr-header > div,\n",
       ".xr-header > ul {\n",
       "  display: inline;\n",
       "  margin-top: 0;\n",
       "  margin-bottom: 0;\n",
       "}\n",
       "\n",
       ".xr-obj-type,\n",
       ".xr-array-name {\n",
       "  margin-left: 2px;\n",
       "  margin-right: 10px;\n",
       "}\n",
       "\n",
       ".xr-obj-type {\n",
       "  color: var(--xr-font-color2);\n",
       "}\n",
       "\n",
       ".xr-sections {\n",
       "  padding-left: 0 !important;\n",
       "  display: grid;\n",
       "  grid-template-columns: 150px auto auto 1fr 20px 20px;\n",
       "}\n",
       "\n",
       ".xr-sections.group-sections {\n",
       "  grid-template-columns: auto;\n",
       "}\n",
       "\n",
       ".xr-section-item {\n",
       "  display: contents;\n",
       "}\n",
       "\n",
       ".xr-section-item input {\n",
       "  display: none;\n",
       "}\n",
       "\n",
       ".xr-section-item input + label {\n",
       "  color: var(--xr-disabled-color);\n",
       "}\n",
       "\n",
       ".xr-section-item input:enabled + label {\n",
       "  cursor: pointer;\n",
       "  color: var(--xr-font-color2);\n",
       "}\n",
       "\n",
       ".xr-section-item input:enabled + label:hover {\n",
       "  color: var(--xr-font-color0);\n",
       "}\n",
       "\n",
       ".xr-section-summary {\n",
       "  grid-column: 1;\n",
       "  color: var(--xr-font-color2);\n",
       "  font-weight: 500;\n",
       "}\n",
       "\n",
       ".xr-section-summary > span {\n",
       "  display: inline-block;\n",
       "  padding-left: 0.5em;\n",
       "}\n",
       "\n",
       ".xr-section-summary-in:disabled + label {\n",
       "  color: var(--xr-font-color2);\n",
       "}\n",
       "\n",
       ".xr-section-summary-in + label:before {\n",
       "  display: inline-block;\n",
       "  content: '►';\n",
       "  font-size: 11px;\n",
       "  width: 15px;\n",
       "  text-align: center;\n",
       "}\n",
       "\n",
       ".xr-section-summary-in:disabled + label:before {\n",
       "  color: var(--xr-disabled-color);\n",
       "}\n",
       "\n",
       ".xr-section-summary-in:checked + label:before {\n",
       "  content: '▼';\n",
       "}\n",
       "\n",
       ".xr-section-summary-in:checked + label > span {\n",
       "  display: none;\n",
       "}\n",
       "\n",
       ".xr-section-summary,\n",
       ".xr-section-inline-details {\n",
       "  padding-top: 4px;\n",
       "  padding-bottom: 4px;\n",
       "}\n",
       "\n",
       ".xr-section-inline-details {\n",
       "  grid-column: 2 / -1;\n",
       "}\n",
       "\n",
       ".xr-section-details {\n",
       "  display: none;\n",
       "  grid-column: 1 / -1;\n",
       "  margin-bottom: 5px;\n",
       "}\n",
       "\n",
       ".xr-section-summary-in:checked ~ .xr-section-details {\n",
       "  display: contents;\n",
       "}\n",
       "\n",
       ".xr-array-wrap {\n",
       "  grid-column: 1 / -1;\n",
       "  display: grid;\n",
       "  grid-template-columns: 20px auto;\n",
       "}\n",
       "\n",
       ".xr-array-wrap > label {\n",
       "  grid-column: 1;\n",
       "  vertical-align: top;\n",
       "}\n",
       "\n",
       ".xr-preview {\n",
       "  color: var(--xr-font-color3);\n",
       "}\n",
       "\n",
       ".xr-array-preview,\n",
       ".xr-array-data {\n",
       "  padding: 0 5px !important;\n",
       "  grid-column: 2;\n",
       "}\n",
       "\n",
       ".xr-array-data,\n",
       ".xr-array-in:checked ~ .xr-array-preview {\n",
       "  display: none;\n",
       "}\n",
       "\n",
       ".xr-array-in:checked ~ .xr-array-data,\n",
       ".xr-array-preview {\n",
       "  display: inline-block;\n",
       "}\n",
       "\n",
       ".xr-dim-list {\n",
       "  display: inline-block !important;\n",
       "  list-style: none;\n",
       "  padding: 0 !important;\n",
       "  margin: 0;\n",
       "}\n",
       "\n",
       ".xr-dim-list li {\n",
       "  display: inline-block;\n",
       "  padding: 0;\n",
       "  margin: 0;\n",
       "}\n",
       "\n",
       ".xr-dim-list:before {\n",
       "  content: '(';\n",
       "}\n",
       "\n",
       ".xr-dim-list:after {\n",
       "  content: ')';\n",
       "}\n",
       "\n",
       ".xr-dim-list li:not(:last-child):after {\n",
       "  content: ',';\n",
       "  padding-right: 5px;\n",
       "}\n",
       "\n",
       ".xr-has-index {\n",
       "  font-weight: bold;\n",
       "}\n",
       "\n",
       ".xr-var-list,\n",
       ".xr-var-item {\n",
       "  display: contents;\n",
       "}\n",
       "\n",
       ".xr-var-item > div,\n",
       ".xr-var-item label,\n",
       ".xr-var-item > .xr-var-name span {\n",
       "  background-color: var(--xr-background-color-row-even);\n",
       "  margin-bottom: 0;\n",
       "}\n",
       "\n",
       ".xr-var-item > .xr-var-name:hover span {\n",
       "  padding-right: 5px;\n",
       "}\n",
       "\n",
       ".xr-var-list > li:nth-child(odd) > div,\n",
       ".xr-var-list > li:nth-child(odd) > label,\n",
       ".xr-var-list > li:nth-child(odd) > .xr-var-name span {\n",
       "  background-color: var(--xr-background-color-row-odd);\n",
       "}\n",
       "\n",
       ".xr-var-name {\n",
       "  grid-column: 1;\n",
       "}\n",
       "\n",
       ".xr-var-dims {\n",
       "  grid-column: 2;\n",
       "}\n",
       "\n",
       ".xr-var-dtype {\n",
       "  grid-column: 3;\n",
       "  text-align: right;\n",
       "  color: var(--xr-font-color2);\n",
       "}\n",
       "\n",
       ".xr-var-preview {\n",
       "  grid-column: 4;\n",
       "}\n",
       "\n",
       ".xr-var-name,\n",
       ".xr-var-dims,\n",
       ".xr-var-dtype,\n",
       ".xr-preview,\n",
       ".xr-attrs dt {\n",
       "  white-space: nowrap;\n",
       "  overflow: hidden;\n",
       "  text-overflow: ellipsis;\n",
       "  padding-right: 10px;\n",
       "}\n",
       "\n",
       ".xr-var-name:hover,\n",
       ".xr-var-dims:hover,\n",
       ".xr-var-dtype:hover,\n",
       ".xr-attrs dt:hover {\n",
       "  overflow: visible;\n",
       "  width: auto;\n",
       "  z-index: 1;\n",
       "}\n",
       "\n",
       ".xr-var-attrs,\n",
       ".xr-var-data {\n",
       "  display: none;\n",
       "  background-color: var(--xr-background-color) !important;\n",
       "  padding-bottom: 5px !important;\n",
       "}\n",
       "\n",
       ".xr-var-attrs-in:checked ~ .xr-var-attrs,\n",
       ".xr-var-data-in:checked ~ .xr-var-data {\n",
       "  display: block;\n",
       "}\n",
       "\n",
       ".xr-var-data > table {\n",
       "  float: right;\n",
       "}\n",
       "\n",
       ".xr-var-name span,\n",
       ".xr-var-data,\n",
       ".xr-attrs {\n",
       "  padding-left: 25px !important;\n",
       "}\n",
       "\n",
       ".xr-attrs,\n",
       ".xr-var-attrs,\n",
       ".xr-var-data {\n",
       "  grid-column: 1 / -1;\n",
       "}\n",
       "\n",
       "dl.xr-attrs {\n",
       "  padding: 0;\n",
       "  margin: 0;\n",
       "  display: grid;\n",
       "  grid-template-columns: 125px auto;\n",
       "}\n",
       "\n",
       ".xr-attrs dt, dd {\n",
       "  padding: 0;\n",
       "  margin: 0;\n",
       "  float: left;\n",
       "  padding-right: 10px;\n",
       "  width: auto;\n",
       "}\n",
       "\n",
       ".xr-attrs dt {\n",
       "  font-weight: normal;\n",
       "  grid-column: 1;\n",
       "}\n",
       "\n",
       ".xr-attrs dt:hover span {\n",
       "  display: inline-block;\n",
       "  background: var(--xr-background-color);\n",
       "  padding-right: 10px;\n",
       "}\n",
       "\n",
       ".xr-attrs dd {\n",
       "  grid-column: 2;\n",
       "  white-space: pre-wrap;\n",
       "  word-break: break-all;\n",
       "}\n",
       "\n",
       ".xr-icon-database,\n",
       ".xr-icon-file-text2 {\n",
       "  display: inline-block;\n",
       "  vertical-align: middle;\n",
       "  width: 1em;\n",
       "  height: 1.5em !important;\n",
       "  stroke-width: 0;\n",
       "  stroke: currentColor;\n",
       "  fill: currentColor;\n",
       "}\n",
       ".xr-wrap{width:700px!important;} </style>"
      ],
      "text/plain": [
       "Inference data with groups:\n",
       "\t> posterior\n",
       "\t> log_likelihood\n",
       "\t> sample_stats"
      ]
     },
     "execution_count": 54,
     "metadata": {},
     "output_type": "execute_result"
    }
   ],
   "source": [
    "fit_id_1"
   ]
  },
  {
   "cell_type": "markdown",
   "metadata": {},
   "source": [
    "# Model 2"
   ]
  },
  {
   "cell_type": "markdown",
   "metadata": {},
   "source": [
    "## Double Exponential (Laplace) Distribution\n",
    "$$\n",
    "DoubleExponential(y|\\mu ,\\sigma )=\\frac{1}{2\\sigma}exp\\left ( -\\frac{\\left | y-\\mu \\right |}{\\sigma} \\right )\n",
    "$$"
   ]
  },
  {
   "cell_type": "markdown",
   "metadata": {},
   "source": [
    "# Prior predictive check"
   ]
  },
  {
   "cell_type": "markdown",
   "metadata": {},
   "source": [
    "We used the same values for alpha, beta and sigma as the in previous prior. We only changed the distribution from normal distribution to double exponential distribution."
   ]
  },
  {
   "cell_type": "code",
   "execution_count": 55,
   "metadata": {},
   "outputs": [
    {
     "name": "stdout",
     "output_type": "stream",
     "text": [
      "data {\n",
      "   int N;\n",
      "   real sugars[N];\n",
      "}\n",
      "\n",
      "generated quantities {\n",
      "   real alpha = double_exponential_rng(105, 15);\n",
      "   real beta = lognormal_rng(0, 1);\n",
      "   real sigma = exponential_rng(0.067);\n",
      "   real calorie[N];\n",
      "   for (i in 1:N) {\n",
      "      calorie[i] = double_exponential_rng(sugars[i]*beta+alpha, sigma);\n",
      "   }\n",
      "\n",
      "}\n"
     ]
    }
   ],
   "source": [
    "with open('cereal_3_ppc.stan') as file:\n",
    "    print(file.read())"
   ]
  },
  {
   "cell_type": "code",
   "execution_count": 56,
   "metadata": {},
   "outputs": [
    {
     "name": "stderr",
     "output_type": "stream",
     "text": [
      "INFO:cmdstanpy:found newer exe file, not recompiling\n"
     ]
    }
   ],
   "source": [
    "model_ppc = cmdstanpy.CmdStanModel(stan_file='cereal_3_ppc.stan')"
   ]
  },
  {
   "cell_type": "code",
   "execution_count": 57,
   "metadata": {},
   "outputs": [
    {
     "name": "stderr",
     "output_type": "stream",
     "text": [
      "INFO:cmdstanpy:CmdStan start processing\n"
     ]
    },
    {
     "data": {
      "application/vnd.jupyter.widget-view+json": {
       "model_id": "4e4161a46a6448f287476d4c1d16aa06",
       "version_major": 2,
       "version_minor": 0
      },
      "text/plain": [
       "chain 1 |          | 00:00 Status"
      ]
     },
     "metadata": {},
     "output_type": "display_data"
    },
    {
     "name": "stdout",
     "output_type": "stream",
     "text": [
      "                                                                                "
     ]
    },
    {
     "name": "stderr",
     "output_type": "stream",
     "text": [
      "INFO:cmdstanpy:CmdStan done processing.\n"
     ]
    },
    {
     "name": "stdout",
     "output_type": "stream",
     "text": [
      "\n"
     ]
    }
   ],
   "source": [
    "sim = model_ppc.sample(data=data_sim,iter_sampling=R, iter_warmup=0, chains=1, refresh=R, fixed_param=True, seed=12062022, output_dir='samples')"
   ]
  },
  {
   "cell_type": "code",
   "execution_count": 58,
   "metadata": {},
   "outputs": [],
   "source": [
    "alpha_sim = sim.stan_variable('alpha')\n",
    "beta_sim = sim.stan_variable('beta')\n",
    "sigma_sim = sim.stan_variable('sigma')\n",
    "calories_sim=sim.stan_variable('calorie')"
   ]
  },
  {
   "cell_type": "code",
   "execution_count": 59,
   "metadata": {},
   "outputs": [
    {
     "data": {
      "image/png": "[encoded data removed]",
      "text/plain": [
       "<Figure size 720x360 with 4 Axes>"
      ]
     },
     "metadata": {
      "needs_background": "light"
     },
     "output_type": "display_data"
    }
   ],
   "source": [
    "fig = plt.figure(figsize=(10,5))\n",
    "gs = fig.add_gridspec(2,3)\n",
    "ax1 = fig.add_subplot(gs[1,:])\n",
    "ax1.hist(calories_sim[579], bins=40, color=DARK, edgecolor=DARK_HIGHLIGHT,density=True)\n",
    "\n",
    "ax1.set_yticks([])\n",
    "ax1.set_title('Simulated calories')\n",
    "\n",
    "ax2 = fig.add_subplot(gs[0, 0])\n",
    "ax3 = fig.add_subplot(gs[0, 1])\n",
    "ax4 = fig.add_subplot(gs[0, 2])\n",
    "\n",
    "ax2.hist(alpha_sim, bins=20, color=DARK, edgecolor=DARK_HIGHLIGHT,density=True)\n",
    "x=np.linspace(40,180)\n",
    "y=stats.laplace.pdf(x,loc=105,scale=15)\n",
    "ax2.plot(x,y,'black')\n",
    "ax4.set_title('$\\sigma$')\n",
    "ax2.set_title(r'$\\alpha$')\n",
    "ax2.set_yticks([])\n",
    "ax4.set_yticks([])\n",
    "ax4.hist(sigma_sim, bins=20, color=DARK, edgecolor=DARK_HIGHLIGHT,density=True)\n",
    "x=np.linspace(0,150)\n",
    "y=stats.expon.pdf(x,scale=14)\n",
    "ax4.plot(x,y,'black')\n",
    "\n",
    "\n",
    "ax3.hist(beta_sim, bins=20, color=DARK, edgecolor=DARK_HIGHLIGHT,density=True)\n",
    "x=np.linspace(0,15)\n",
    "y=stats.lognorm.pdf(x, s=1)\n",
    "ax3.plot(x,y,'black')\n",
    "ax3.set_title(r'$\\beta$')\n",
    "ax3.set_yticks([])\n",
    "\n",
    "fig.tight_layout()\n",
    "plt.show()"
   ]
  },
  {
   "cell_type": "markdown",
   "metadata": {},
   "source": [
    "As we can see simulated values of parameters $\\alpha$, $\\beta$ ans $\\sigma$ were distributed well, as we expected.\n",
    "<br>Values of simulated calories are mostly distributed well. In contrast to exmaples in 1.1 and 1.2, there are no outliers like minus values or very high values. "
   ]
  },
  {
   "cell_type": "code",
   "execution_count": 60,
   "metadata": {},
   "outputs": [
    {
     "data": {
      "image/png": "[encoded data removed]",
      "text/plain": [
       "<Figure size 504x288 with 1 Axes>"
      ]
     },
     "metadata": {
      "needs_background": "light"
     },
     "output_type": "display_data"
    }
   ],
   "source": [
    "fig, axes = plt.subplots(1,1,figsize = (7,4))\n",
    "\n",
    "for i in range(100):\n",
    "    axes.plot(data['sugars'], alpha_sim[i]+beta_sim[i]*data['c_sugars'], color=MID, alpha=0.5, linewidth = 0.5)\n",
    "axes.set_xlabel('sugars[g]')\n",
    "axes.set_ylabel('calories[kcal]')\n",
    "\n",
    "axes.hlines([0],xmin=data['sugars'].min(), xmax=data['sugars'].max(), linestyle='--', color='black')\n",
    "axes.set_title(\"Simulated data\")\n",
    "plt.show()"
   ]
  },
  {
   "cell_type": "markdown",
   "metadata": {},
   "source": [
    "Our simulated data is mostly from 50 to 150. There is no line that leads to unrealistic values like in 1.2."
   ]
  },
  {
   "cell_type": "code",
   "execution_count": 61,
   "metadata": {},
   "outputs": [],
   "source": [
    "calorie_sim = sim.stan_variable('calorie')"
   ]
  },
  {
   "cell_type": "code",
   "execution_count": 62,
   "metadata": {},
   "outputs": [
    {
     "data": {
      "image/png": "[encoded data removed]",
      "text/plain": [
       "<Figure size 504x288 with 1 Axes>"
      ]
     },
     "metadata": {
      "needs_background": "light"
     },
     "output_type": "display_data"
    }
   ],
   "source": [
    "fig, axes = plt.subplots(1,1,figsize = (7,4))\n",
    "axes=ribbon_plot(data_sim['sugars']+data['sugars'].mean(),calorie_sim,axes)\n",
    "axes.scatter(data['sugars'], data['calories'], color = 'black', alpha = 0.2, s=10)\n",
    "axes.set_xlabel('sugars[g]')\n",
    "axes.set_ylabel('calories[kcal]')\n",
    "axes.set_title(\"Simulated measurements with observed data (black dots)\")\n",
    "plt.show()"
   ]
  },
  {
   "cell_type": "markdown",
   "metadata": {},
   "source": [
    "As we can see observed data is well fitted inside data simulated from our model."
   ]
  },
  {
   "cell_type": "markdown",
   "metadata": {},
   "source": [
    "# Posterior"
   ]
  },
  {
   "cell_type": "code",
   "execution_count": 63,
   "metadata": {},
   "outputs": [
    {
     "name": "stdout",
     "output_type": "stream",
     "text": [
      "data {\n",
      "   int N;\n",
      "   vector[N] sugars;\n",
      "   vector[N] calories;\n",
      "}\n",
      "\n",
      "parameters {\n",
      "   real alpha;\n",
      "   real beta;\n",
      "   real<lower=0> sigma;\n",
      "}\n",
      "\n",
      "transformed parameters {\n",
      "   vector[N] mu = sugars*beta+alpha;\n",
      "}\n",
      "\n",
      "model {\n",
      "   alpha ~ double_exponential(105, 15);\n",
      "   beta ~ lognormal(0, 1);\n",
      "   sigma ~ exponential(0.067);\n",
      "   calories ~ double_exponential(mu, sigma);\n",
      "}\n",
      "\n",
      "generated quantities {\n",
      "   vector[N] log_lik;\n",
      "   real calorie[N];\n",
      "   for (i in 1:N) {\n",
      "      log_lik[i] = double_exponential_lpdf(calories[i] | mu[i], sigma);\n",
      "      calorie[i] = double_exponential_rng(mu[i], sigma);\n",
      "   }\n",
      "}\n"
     ]
    }
   ],
   "source": [
    "with open('cereal_3_fit.stan') as file:\n",
    "    print(file.read())"
   ]
  },
  {
   "cell_type": "markdown",
   "metadata": {},
   "source": [
    "Data required for this model:\n",
    " - N -> size of calories vector\n",
    " - sugars -> sugars vector\n",
    " - calories -> calories vector"
   ]
  },
  {
   "cell_type": "code",
   "execution_count": 64,
   "metadata": {},
   "outputs": [
    {
     "name": "stderr",
     "output_type": "stream",
     "text": [
      "INFO:cmdstanpy:found newer exe file, not recompiling\n"
     ]
    }
   ],
   "source": [
    "model_3_fit = cmdstanpy.CmdStanModel(stan_file='cereal_3_fit.stan')"
   ]
  },
  {
   "cell_type": "code",
   "execution_count": 65,
   "metadata": {},
   "outputs": [
    {
     "name": "stderr",
     "output_type": "stream",
     "text": [
      "INFO:cmdstanpy:CmdStan start processing\n"
     ]
    },
    {
     "data": {
      "application/vnd.jupyter.widget-view+json": {
       "model_id": "b95573c0d41b4b6eb85aea59bcb21ba5",
       "version_major": 2,
       "version_minor": 0
      },
      "text/plain": [
       "chain 1 |          | 00:00 Status"
      ]
     },
     "metadata": {},
     "output_type": "display_data"
    },
    {
     "data": {
      "application/vnd.jupyter.widget-view+json": {
       "model_id": "2fd01130f123480fa819e72c9342b83f",
       "version_major": 2,
       "version_minor": 0
      },
      "text/plain": [
       "chain 2 |          | 00:00 Status"
      ]
     },
     "metadata": {},
     "output_type": "display_data"
    },
    {
     "data": {
      "application/vnd.jupyter.widget-view+json": {
       "model_id": "f18e21304f9c4a77a70cca09891211fc",
       "version_major": 2,
       "version_minor": 0
      },
      "text/plain": [
       "chain 3 |          | 00:00 Status"
      ]
     },
     "metadata": {},
     "output_type": "display_data"
    },
    {
     "data": {
      "application/vnd.jupyter.widget-view+json": {
       "model_id": "016a629272124f51ae9dfb53fcee6f5c",
       "version_major": 2,
       "version_minor": 0
      },
      "text/plain": [
       "chain 4 |          | 00:00 Status"
      ]
     },
     "metadata": {},
     "output_type": "display_data"
    },
    {
     "name": "stdout",
     "output_type": "stream",
     "text": [
      "                                                                                                                                                                                                                                                                                                                                "
     ]
    },
    {
     "name": "stderr",
     "output_type": "stream",
     "text": [
      "INFO:cmdstanpy:CmdStan done processing.\n"
     ]
    },
    {
     "name": "stdout",
     "output_type": "stream",
     "text": [
      "\n"
     ]
    }
   ],
   "source": [
    "data_fit = dict(N=len(data),\n",
    "                sugars=data['c_sugars'].values,\n",
    "                calories=data['calories'].values)\n",
    "\n",
    "fit_3=model_3_fit.sample(data=data_fit, seed=12062022, output_dir='samples')"
   ]
  },
  {
   "cell_type": "code",
   "execution_count": 66,
   "metadata": {},
   "outputs": [
    {
     "name": "stdout",
     "output_type": "stream",
     "text": [
      "Processing csv files: C:\\GitHub\\DataAnalyticsProject\\Project\\samples\\cereal_3_fit-20220621230936_1.csv, C:\\GitHub\\DataAnalyticsProject\\Project\\samples\\cereal_3_fit-20220621230936_2.csv, C:\\GitHub\\DataAnalyticsProject\\Project\\samples\\cereal_3_fit-20220621230936_3.csv, C:\\GitHub\\DataAnalyticsProject\\Project\\samples\\cereal_3_fit-20220621230936_4.csv\n",
      "\n",
      "Checking sampler transitions treedepth.\n",
      "Treedepth satisfactory for all transitions.\n",
      "\n",
      "Checking sampler transitions for divergences.\n",
      "No divergent transitions found.\n",
      "\n",
      "Checking E-BFMI - sampler transitions HMC potential energy.\n",
      "E-BFMI satisfactory.\n",
      "\n",
      "Effective sample size satisfactory.\n",
      "\n",
      "Split R-hat values satisfactory all parameters.\n",
      "\n",
      "Processing complete, no problems detected.\n",
      "\n"
     ]
    }
   ],
   "source": [
    "print(fit_3.diagnose())"
   ]
  },
  {
   "cell_type": "markdown",
   "metadata": {},
   "source": [
    "No errors/issues occured during sampling."
   ]
  },
  {
   "cell_type": "code",
   "execution_count": 67,
   "metadata": {},
   "outputs": [
    {
     "data": {
      "text/html": [
       "<div>\n",
       "<style scoped>\n",
       "    .dataframe tbody tr th:only-of-type {\n",
       "        vertical-align: middle;\n",
       "    }\n",
       "\n",
       "    .dataframe tbody tr th {\n",
       "        vertical-align: top;\n",
       "    }\n",
       "\n",
       "    .dataframe thead th {\n",
       "        text-align: right;\n",
       "    }\n",
       "</style>\n",
       "<table border=\"1\" class=\"dataframe\">\n",
       "  <thead>\n",
       "    <tr style=\"text-align: right;\">\n",
       "      <th></th>\n",
       "      <th>mean</th>\n",
       "      <th>sd</th>\n",
       "      <th>hdi_3%</th>\n",
       "      <th>hdi_97%</th>\n",
       "    </tr>\n",
       "  </thead>\n",
       "  <tbody>\n",
       "    <tr>\n",
       "      <th>alpha</th>\n",
       "      <td>104.68</td>\n",
       "      <td>0.97</td>\n",
       "      <td>102.93</td>\n",
       "      <td>106.54</td>\n",
       "    </tr>\n",
       "    <tr>\n",
       "      <th>beta</th>\n",
       "      <td>0.90</td>\n",
       "      <td>0.19</td>\n",
       "      <td>0.58</td>\n",
       "      <td>1.28</td>\n",
       "    </tr>\n",
       "    <tr>\n",
       "      <th>sigma</th>\n",
       "      <td>8.77</td>\n",
       "      <td>1.00</td>\n",
       "      <td>6.93</td>\n",
       "      <td>10.63</td>\n",
       "    </tr>\n",
       "  </tbody>\n",
       "</table>\n",
       "</div>"
      ],
      "text/plain": [
       "         mean    sd  hdi_3%  hdi_97%\n",
       "alpha  104.68  0.97  102.93   106.54\n",
       "beta     0.90  0.19    0.58     1.28\n",
       "sigma    8.77  1.00    6.93    10.63"
      ]
     },
     "execution_count": 67,
     "metadata": {},
     "output_type": "execute_result"
    }
   ],
   "source": [
    "az.summary(fit_3, var_names=['alpha', 'beta', 'sigma'], round_to=2, kind='stats')"
   ]
  },
  {
   "cell_type": "markdown",
   "metadata": {},
   "source": [
    "Comaring to 1.2 model mean values of beta and sigma decrease (beta from 1.16 to 0.9 and sigma from 13.12 to 8.77). Mean alpha value is similar."
   ]
  },
  {
   "cell_type": "code",
   "execution_count": 68,
   "metadata": {},
   "outputs": [],
   "source": [
    "alpha_fit = fit_3.stan_variable('alpha')\n",
    "beta_fit = fit_3.stan_variable('beta')\n",
    "mu_fit = fit_3.stan_variable('mu')\n",
    "sigma_fit = fit_3.stan_variable('sigma')\n",
    "calorie_pred = fit_3.stan_variable('calorie')"
   ]
  },
  {
   "cell_type": "code",
   "execution_count": 69,
   "metadata": {},
   "outputs": [
    {
     "data": {
      "image/png": "[encoded data removed]",
      "text/plain": [
       "<Figure size 1728x432 with 4 Axes>"
      ]
     },
     "metadata": {
      "needs_background": "light"
     },
     "output_type": "display_data"
    }
   ],
   "source": [
    "f, (ax1, ax2, ax3, ax4) = plt.subplots(1, 4, figsize = (24,6))\n",
    "\n",
    "ax1.hist(alpha_fit, alpha=0.5, ec='black')\n",
    "ax1.set_title(r\"$\\alpha$ fit\")\n",
    "ax2.hist(beta_fit, alpha=0.5, ec='black')\n",
    "ax2.set_title(r\"$\\beta$ fit\")\n",
    "ax3.hist(mu_fit[0], alpha=0.5, ec='black')\n",
    "ax3.set_title(r\"$\\mu$ fit\")\n",
    "ax4.hist(sigma_fit, alpha=0.5, ec='black')\n",
    "ax4.set_title(r\"$\\sigma$ fit\")\n",
    "plt.show()"
   ]
  },
  {
   "cell_type": "markdown",
   "metadata": {},
   "source": [
    "$\\alpha$ values are normally distributed with values from 100 to 108 with mean somewhere around 105. <br>\n",
    "$\\beta$ values are normally distributed with values from 0 to 1.6 with mean somewhere around 0.9. <br>\n",
    "$\\mu$ values are from 97.5 to 113. <br>\n",
    "$\\sigma$ values are exponentialy distributed with values from 6 to 13 with mean somewhere around 8.5. <br>"
   ]
  },
  {
   "cell_type": "code",
   "execution_count": 70,
   "metadata": {},
   "outputs": [
    {
     "data": {
      "image/png": "[encoded data removed]",
      "text/plain": [
       "<Figure size 504x576 with 2 Axes>"
      ]
     },
     "metadata": {
      "needs_background": "light"
     },
     "output_type": "display_data"
    }
   ],
   "source": [
    "fig, axes = plt.subplots(2,1,figsize = (7,8), sharey=True, sharex=True)\n",
    "ax0=axes[0]\n",
    "\n",
    "for i in range(100):\n",
    "    ax0.plot(data['sugars'],\n",
    "            alpha_fit[i]+beta_fit[i]*data['c_sugars'],\n",
    "            color=MID,\n",
    "            alpha=0.5, linewidth=0.5)\n",
    "\n",
    "ax0.scatter(data['sugars'], data['calories'], color='black', alpha=0.5, s=10)\n",
    "\n",
    "ax1=axes[1]\n",
    "ax1=ribbon_plot(data['sugars'].values, mu_fit, ax1, supress_warning=True)\n",
    "ax1.scatter(data['sugars'], data['calories'], color='black', alpha=0.5, s=10)\n",
    "ax1.set_xlabel('sugars[g]')\n",
    "ax1.set_ylabel('calories[kcal]')\n",
    "ax0.set_ylabel('calories[kcal]')\n",
    "ax0.set_title(\"All simulated samples\")\n",
    "fig.tight_layout()\n",
    "plt.show()"
   ]
  },
  {
   "cell_type": "code",
   "execution_count": 71,
   "metadata": {},
   "outputs": [
    {
     "data": {
      "image/png": "[encoded data removed]",
      "text/plain": [
       "<Figure size 504x288 with 1 Axes>"
      ]
     },
     "metadata": {
      "needs_background": "light"
     },
     "output_type": "display_data"
    }
   ],
   "source": [
    "fig, axes = plt.subplots(1,1,figsize = (7,4))\n",
    "\n",
    "axes=ribbon_plot(data['sugars'].values, calorie_pred, axes, supress_warning=True)\n",
    "axes.scatter(data['sugars'], data['calories'], color='black', alpha=0.5, s=10)\n",
    "fig.tight_layout()\n",
    "axes.set_xlabel('sugars[g]')\n",
    "axes.set_ylabel('calories[kcal]')\n",
    "axes.set_title(\"Simulated measurements with observed data (black dots)\")\n",
    "plt.show()"
   ]
  },
  {
   "cell_type": "markdown",
   "metadata": {},
   "source": [
    "As we can see observed data is generally well fitted inside data simulated from our model. There are some points that are outside of this area."
   ]
  },
  {
   "cell_type": "code",
   "execution_count": 72,
   "metadata": {},
   "outputs": [
    {
     "data": {
      "image/png": "[encoded data removed]",
      "text/plain": [
       "<Figure size 720x360 with 2 Axes>"
      ]
     },
     "metadata": {
      "needs_background": "light"
     },
     "output_type": "display_data"
    }
   ],
   "source": [
    "fig, axes = plt.subplots(2,1,figsize=(10,5), sharex=True)\n",
    "ax1=axes[0]\n",
    "ax1.scatter(mu_fit[:,0], sigma_fit, 20, color=DARK)\n",
    "ax1.set_title(\"Samples from joint posterior\")\n",
    "ax1.set_ylabel(r'$\\sigma$')\n",
    "ax2=axes[1]\n",
    "az.plot_kde(mu_fit[:,0], sigma_fit, ax=ax2, contourf_kwargs={'cmap':'YlOrRd'})\n",
    "\n",
    "ax2.set_xlabel(r'$\\mu$')\n",
    "ax2.set_ylabel(r'$\\sigma$')\n",
    "fig.tight_layout()\n",
    "plt.show()"
   ]
  },
  {
   "cell_type": "code",
   "execution_count": 73,
   "metadata": {},
   "outputs": [
    {
     "data": {
      "image/png": "[encoded data removed]",
      "text/plain": [
       "<Figure size 504x288 with 2 Axes>"
      ]
     },
     "metadata": {
      "needs_background": "light"
     },
     "output_type": "display_data"
    }
   ],
   "source": [
    "fig, axes = plt.subplots(1,2,figsize=(7,4),sharex=True,sharey=True)\n",
    "ax=axes[0]\n",
    "ax.hist(data['calories'], bins=10, color=DARK,edgecolor=DARK_HIGHLIGHT,density=True)\n",
    "ax.set_title('Observed calories')\n",
    "ax.set_yticks(())\n",
    "ax2=axes[1]\n",
    "ax2.hist(calorie_pred[3000], bins=10, color=DARK,edgecolor=DARK_HIGHLIGHT,density=True)\n",
    "ax2.hist(data['calories'], bins=10, histtype='step', color='black', density=True)\n",
    "\n",
    "ax2.set_title('Predicted calories')\n",
    "ax2.set_yticks(())\n",
    "fig.tight_layout()"
   ]
  },
  {
   "cell_type": "markdown",
   "metadata": {},
   "source": [
    "As we can see now model is able to better catch values stacked in the middle.\n",
    "Also values are a little bit less squeezed in compare to 1.2 model.<br>\n",
    "The one thing that can be improved are boundary values (like 60, 140)."
   ]
  },
  {
   "cell_type": "code",
   "execution_count": 74,
   "metadata": {},
   "outputs": [],
   "source": [
    "fit_id_2 = az.from_cmdstanpy(posterior=fit_3,log_likelihood='log_lik')"
   ]
  },
  {
   "cell_type": "code",
   "execution_count": 75,
   "metadata": {},
   "outputs": [
    {
     "name": "stderr",
     "output_type": "stream",
     "text": [
      "c:\\Anaconda3\\envs\\data_analytics\\lib\\site-packages\\arviz\\stats\\stats.py:145: UserWarning: The default method used to estimate the weights for each model,has changed from BB-pseudo-BMA to stacking\n",
      "  warnings.warn(\n",
      "c:\\Anaconda3\\envs\\data_analytics\\lib\\site-packages\\arviz\\stats\\stats.py:212: FutureWarning: The frame.append method is deprecated and will be removed from pandas in a future version. Use pandas.concat instead.\n",
      "  ics = ics.append([ic_func(dataset, pointwise=True, scale=scale)])\n",
      "c:\\Anaconda3\\envs\\data_analytics\\lib\\site-packages\\arviz\\stats\\stats.py:212: FutureWarning: The frame.append method is deprecated and will be removed from pandas in a future version. Use pandas.concat instead.\n",
      "  ics = ics.append([ic_func(dataset, pointwise=True, scale=scale)])\n"
     ]
    },
    {
     "data": {
      "text/html": [
       "<div>\n",
       "<style scoped>\n",
       "    .dataframe tbody tr th:only-of-type {\n",
       "        vertical-align: middle;\n",
       "    }\n",
       "\n",
       "    .dataframe tbody tr th {\n",
       "        vertical-align: top;\n",
       "    }\n",
       "\n",
       "    .dataframe thead th {\n",
       "        text-align: right;\n",
       "    }\n",
       "</style>\n",
       "<table border=\"1\" class=\"dataframe\">\n",
       "  <thead>\n",
       "    <tr style=\"text-align: right;\">\n",
       "      <th></th>\n",
       "      <th>rank</th>\n",
       "      <th>loo</th>\n",
       "      <th>p_loo</th>\n",
       "      <th>d_loo</th>\n",
       "      <th>weight</th>\n",
       "      <th>se</th>\n",
       "      <th>dse</th>\n",
       "      <th>warning</th>\n",
       "      <th>loo_scale</th>\n",
       "    </tr>\n",
       "  </thead>\n",
       "  <tbody>\n",
       "    <tr>\n",
       "      <th>Double exponential distribution model</th>\n",
       "      <td>0</td>\n",
       "      <td>-293.665885</td>\n",
       "      <td>2.534442</td>\n",
       "      <td>0.000000</td>\n",
       "      <td>1.0</td>\n",
       "      <td>9.929358</td>\n",
       "      <td>0.000000</td>\n",
       "      <td>False</td>\n",
       "      <td>log</td>\n",
       "    </tr>\n",
       "    <tr>\n",
       "      <th>Normal distribution model</th>\n",
       "      <td>1</td>\n",
       "      <td>-305.648238</td>\n",
       "      <td>4.536610</td>\n",
       "      <td>11.982353</td>\n",
       "      <td>0.0</td>\n",
       "      <td>10.883787</td>\n",
       "      <td>3.732203</td>\n",
       "      <td>False</td>\n",
       "      <td>log</td>\n",
       "    </tr>\n",
       "  </tbody>\n",
       "</table>\n",
       "</div>"
      ],
      "text/plain": [
       "                                       rank         loo     p_loo      d_loo  \\\n",
       "Double exponential distribution model     0 -293.665885  2.534442   0.000000   \n",
       "Normal distribution model                 1 -305.648238  4.536610  11.982353   \n",
       "\n",
       "                                       weight         se       dse  warning  \\\n",
       "Double exponential distribution model     1.0   9.929358  0.000000    False   \n",
       "Normal distribution model                 0.0  10.883787  3.732203    False   \n",
       "\n",
       "                                      loo_scale  \n",
       "Double exponential distribution model       log  \n",
       "Normal distribution model                   log  "
      ]
     },
     "execution_count": 75,
     "metadata": {},
     "output_type": "execute_result"
    }
   ],
   "source": [
    "model_compare = az.compare({'Normal distribution model':fit_id_1,'Double exponential distribution model':fit_id_2})\n",
    "model_compare"
   ]
  },
  {
   "cell_type": "markdown",
   "metadata": {},
   "source": [
    "rank -> The rank-order of the models. 0 is the best - Double exponential distribution model model performes better than normal model <br>\n",
    "loo -> Higher loo indicates higher out-of-sample predictive fit (\"better model\") - Double exponential distribution model performes better than normal model<br>\n",
    "p_loo -> Estimated effective number of parameters<br>\n",
    "d_loo -> The difference in loo between two models<br>\n",
    "weight -> Relative weight for each model. This can be loosely interpreted as the probability of each model (among the compared model) given the data<br>\n",
    "se -> Standard error of the information criteria estimate<br>\n",
    "dse -> Standard error of the difference in information criteria between each model and the top-ranked model<br>\n",
    "warning -> A value of 1 indicates that the computation of information criteria may not be reliable. No warnings.<br>\n",
    "scale -> scale used for information criteria"
   ]
  },
  {
   "cell_type": "code",
   "execution_count": 76,
   "metadata": {},
   "outputs": [
    {
     "data": {
      "image/png": "[encoded data removed]",
      "text/plain": [
       "<Figure size 864x216 with 1 Axes>"
      ]
     },
     "metadata": {
      "needs_background": "light"
     },
     "output_type": "display_data"
    }
   ],
   "source": [
    "az.plot_compare(model_compare, figsize = (12, 3))\n",
    "plt.show()"
   ]
  },
  {
   "cell_type": "markdown",
   "metadata": {},
   "source": [
    "When using LOO information criteria model using Laplace distribution got better result than first model. But the results were pretty close."
   ]
  },
  {
   "cell_type": "code",
   "execution_count": 77,
   "metadata": {},
   "outputs": [
    {
     "name": "stderr",
     "output_type": "stream",
     "text": [
      "c:\\Anaconda3\\envs\\data_analytics\\lib\\site-packages\\arviz\\stats\\stats.py:145: UserWarning: The default method used to estimate the weights for each model,has changed from BB-pseudo-BMA to stacking\n",
      "  warnings.warn(\n",
      "c:\\Anaconda3\\envs\\data_analytics\\lib\\site-packages\\arviz\\stats\\stats.py:1405: UserWarning: For one or more samples the posterior variance of the log predictive densities exceeds 0.4. This could be indication of WAIC starting to fail. \n",
      "See http://arxiv.org/abs/1507.04544 for details\n",
      "  warnings.warn(\n",
      "c:\\Anaconda3\\envs\\data_analytics\\lib\\site-packages\\arviz\\stats\\stats.py:212: FutureWarning: The frame.append method is deprecated and will be removed from pandas in a future version. Use pandas.concat instead.\n",
      "  ics = ics.append([ic_func(dataset, pointwise=True, scale=scale)])\n",
      "c:\\Anaconda3\\envs\\data_analytics\\lib\\site-packages\\arviz\\stats\\stats.py:212: FutureWarning: The frame.append method is deprecated and will be removed from pandas in a future version. Use pandas.concat instead.\n",
      "  ics = ics.append([ic_func(dataset, pointwise=True, scale=scale)])\n"
     ]
    },
    {
     "data": {
      "text/html": [
       "<div>\n",
       "<style scoped>\n",
       "    .dataframe tbody tr th:only-of-type {\n",
       "        vertical-align: middle;\n",
       "    }\n",
       "\n",
       "    .dataframe tbody tr th {\n",
       "        vertical-align: top;\n",
       "    }\n",
       "\n",
       "    .dataframe thead th {\n",
       "        text-align: right;\n",
       "    }\n",
       "</style>\n",
       "<table border=\"1\" class=\"dataframe\">\n",
       "  <thead>\n",
       "    <tr style=\"text-align: right;\">\n",
       "      <th></th>\n",
       "      <th>rank</th>\n",
       "      <th>waic</th>\n",
       "      <th>p_waic</th>\n",
       "      <th>d_waic</th>\n",
       "      <th>weight</th>\n",
       "      <th>se</th>\n",
       "      <th>dse</th>\n",
       "      <th>warning</th>\n",
       "      <th>waic_scale</th>\n",
       "    </tr>\n",
       "  </thead>\n",
       "  <tbody>\n",
       "    <tr>\n",
       "      <th>Double exponential distribution model</th>\n",
       "      <td>0</td>\n",
       "      <td>-293.666491</td>\n",
       "      <td>2.535047</td>\n",
       "      <td>0.000000</td>\n",
       "      <td>1.0</td>\n",
       "      <td>9.929827</td>\n",
       "      <td>0.000000</td>\n",
       "      <td>False</td>\n",
       "      <td>log</td>\n",
       "    </tr>\n",
       "    <tr>\n",
       "      <th>Normal distribution model</th>\n",
       "      <td>1</td>\n",
       "      <td>-305.663557</td>\n",
       "      <td>4.551928</td>\n",
       "      <td>11.997066</td>\n",
       "      <td>0.0</td>\n",
       "      <td>10.893591</td>\n",
       "      <td>3.739875</td>\n",
       "      <td>True</td>\n",
       "      <td>log</td>\n",
       "    </tr>\n",
       "  </tbody>\n",
       "</table>\n",
       "</div>"
      ],
      "text/plain": [
       "                                       rank        waic    p_waic     d_waic  \\\n",
       "Double exponential distribution model     0 -293.666491  2.535047   0.000000   \n",
       "Normal distribution model                 1 -305.663557  4.551928  11.997066   \n",
       "\n",
       "                                       weight         se       dse  warning  \\\n",
       "Double exponential distribution model     1.0   9.929827  0.000000    False   \n",
       "Normal distribution model                 0.0  10.893591  3.739875     True   \n",
       "\n",
       "                                      waic_scale  \n",
       "Double exponential distribution model        log  \n",
       "Normal distribution model                    log  "
      ]
     },
     "execution_count": 77,
     "metadata": {},
     "output_type": "execute_result"
    }
   ],
   "source": [
    "model_compare_2 = az.compare({'Normal distribution model':fit_id_1,'Double exponential distribution model':fit_id_2}, ic='waic')\n",
    "model_compare_2"
   ]
  },
  {
   "cell_type": "markdown",
   "metadata": {},
   "source": [
    "rank -> The rank-order of the models. 0 is the best - Double exponential distribution model model performes better than normal model <br>\n",
    "waic -> Higher waic indicates higher out-of-sample predictive fit (\"better model\") - Double exponential distribution model performes better than normal model<br>\n",
    "p_waic -> Estimated effective number of parameters<br>\n",
    "d_waic -> The difference in waic between two models<br>\n",
    "weight -> Relative weight for each model. This can be loosely interpreted as the probability of each model (among the compared model) given the data<br>\n",
    "se -> Standard error of the information criteria estimate<br>\n",
    "dse -> Standard error of the difference in information criteria between each model and the top-ranked model<br>\n",
    "warning -> A value of 1 indicates that the computation of information criteria may not be reliable. Warning in \"Normal distribution model\" (For one or more samples the posterior variance of the log predictive densities exceeds 0.4. This could be indication of WAIC starting to fail.).<br>\n",
    "scale -> scale used for information criteria"
   ]
  },
  {
   "cell_type": "code",
   "execution_count": 78,
   "metadata": {},
   "outputs": [
    {
     "data": {
      "image/png": "[encoded data removed]",
      "text/plain": [
       "<Figure size 864x216 with 1 Axes>"
      ]
     },
     "metadata": {
      "needs_background": "light"
     },
     "output_type": "display_data"
    }
   ],
   "source": [
    "az.plot_compare(model_compare_2, figsize = (12, 3))\n",
    "plt.show()"
   ]
  },
  {
   "cell_type": "markdown",
   "metadata": {},
   "source": [
    "When using WAIC information criteria again model using Laplace distribution got better result than first model.  But the results were pretty close."
   ]
  },
  {
   "cell_type": "markdown",
   "metadata": {},
   "source": [
    "Reults of comparing models using WAIC and LOO information criteria were almost the same."
   ]
  },
  {
   "cell_type": "markdown",
   "metadata": {},
   "source": [
    "In our opinion second model (using double exponential distribution) performed a little bit better than the fisrt one beacuse it was able to better catch values stacked close to the mean value."
   ]
  }
 ],
 "metadata": {
  "kernelspec": {
   "display_name": "Python 3.9.12 ('data_analytics')",
   "language": "python",
   "name": "python3"
  },
  "language_info": {
   "codemirror_mode": {
    "name": "ipython",
    "version": 3
   },
   "file_extension": ".py",
   "mimetype": "text/x-python",
   "name": "python",
   "nbconvert_exporter": "python",
   "pygments_lexer": "ipython3",
   "version": "3.9.12"
  },
  "orig_nbformat": 4,
  "vscode": {
   "interpreter": {
    "hash": "6dfe3ca495907ede9539d0bb85225aae82085ab5efcea4f5b11ab4998047abef"
   }
  }
 },
 "nbformat": 4,
 "nbformat_minor": 2
}
