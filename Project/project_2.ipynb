{
 "cells": [
  {
   "cell_type": "markdown",
   "metadata": {},
   "source": [
    "# Data Analytics - final project\n",
    "### Norbert Sak and Adam Sygut"
   ]
  },
  {
   "cell_type": "code",
   "execution_count": 238,
   "metadata": {},
   "outputs": [],
   "source": [
    "import cmdstanpy\n",
    "import pandas as pd\n",
    "import arviz as az \n",
    "import numpy as np\n",
    "import matplotlib.pyplot as plt\n",
    "import scipy.stats as stats"
   ]
  },
  {
   "cell_type": "code",
   "execution_count": 239,
   "metadata": {},
   "outputs": [],
   "source": [
    "from DA_tools.DA_tools import ribbon_plot\n",
    "from DA_tools.DA_colors import *"
   ]
  },
  {
   "cell_type": "markdown",
   "metadata": {},
   "source": [
    "# Problem statement "
   ]
  },
  {
   "cell_type": "markdown",
   "metadata": {},
   "source": [
    "In the project we modeled the relationship between the amount of sugar and calories in cereals."
   ]
  },
  {
   "cell_type": "markdown",
   "metadata": {},
   "source": [
    "The main point to create this model is to investigate the relationship between sugars and calories in cereals. Potenial use case is for example estimate the amount of sugars knowing the number of calories."
   ]
  },
  {
   "cell_type": "markdown",
   "metadata": {},
   "source": [
    "Dataset was collected from https://www.kaggle.com/datasets/crawford/80-cereals?select=cereal.csv.\n",
    "<br>It contains nutrition values (like protein, fat, sugars and much more) of 77 different types of cereals."
   ]
  },
  {
   "cell_type": "markdown",
   "metadata": {},
   "source": [
    "# Data preprocessing"
   ]
  },
  {
   "cell_type": "code",
   "execution_count": 240,
   "metadata": {},
   "outputs": [],
   "source": [
    "df = pd.read_csv('cereal.csv', index_col=0)"
   ]
  },
  {
   "cell_type": "code",
   "execution_count": 241,
   "metadata": {},
   "outputs": [
    {
     "data": {
      "text/html": [
       "<div>\n",
       "<style scoped>\n",
       "    .dataframe tbody tr th:only-of-type {\n",
       "        vertical-align: middle;\n",
       "    }\n",
       "\n",
       "    .dataframe tbody tr th {\n",
       "        vertical-align: top;\n",
       "    }\n",
       "\n",
       "    .dataframe thead th {\n",
       "        text-align: right;\n",
       "    }\n",
       "</style>\n",
       "<table border=\"1\" class=\"dataframe\">\n",
       "  <thead>\n",
       "    <tr style=\"text-align: right;\">\n",
       "      <th></th>\n",
       "      <th>mfr</th>\n",
       "      <th>type</th>\n",
       "      <th>calories</th>\n",
       "      <th>protein</th>\n",
       "      <th>fat</th>\n",
       "      <th>sodium</th>\n",
       "      <th>fiber</th>\n",
       "      <th>carbo</th>\n",
       "      <th>sugars</th>\n",
       "      <th>potass</th>\n",
       "      <th>vitamins</th>\n",
       "      <th>shelf</th>\n",
       "      <th>weight</th>\n",
       "      <th>cups</th>\n",
       "      <th>rating;;</th>\n",
       "    </tr>\n",
       "  </thead>\n",
       "  <tbody>\n",
       "    <tr>\n",
       "      <th>100% Bran</th>\n",
       "      <td>N</td>\n",
       "      <td>C</td>\n",
       "      <td>70</td>\n",
       "      <td>4</td>\n",
       "      <td>1</td>\n",
       "      <td>130</td>\n",
       "      <td>10.0</td>\n",
       "      <td>5.0</td>\n",
       "      <td>6</td>\n",
       "      <td>280</td>\n",
       "      <td>25</td>\n",
       "      <td>3</td>\n",
       "      <td>1.0</td>\n",
       "      <td>0.33</td>\n",
       "      <td>68.402973;;</td>\n",
       "    </tr>\n",
       "    <tr>\n",
       "      <th>100% Natural Bran</th>\n",
       "      <td>Q</td>\n",
       "      <td>C</td>\n",
       "      <td>120</td>\n",
       "      <td>3</td>\n",
       "      <td>5</td>\n",
       "      <td>15</td>\n",
       "      <td>2.0</td>\n",
       "      <td>8.0</td>\n",
       "      <td>8</td>\n",
       "      <td>135</td>\n",
       "      <td>0</td>\n",
       "      <td>3</td>\n",
       "      <td>1.0</td>\n",
       "      <td>1.00</td>\n",
       "      <td>33.983679;;</td>\n",
       "    </tr>\n",
       "    <tr>\n",
       "      <th>All-Bran</th>\n",
       "      <td>K</td>\n",
       "      <td>C</td>\n",
       "      <td>70</td>\n",
       "      <td>4</td>\n",
       "      <td>1</td>\n",
       "      <td>260</td>\n",
       "      <td>9.0</td>\n",
       "      <td>7.0</td>\n",
       "      <td>5</td>\n",
       "      <td>320</td>\n",
       "      <td>25</td>\n",
       "      <td>3</td>\n",
       "      <td>1.0</td>\n",
       "      <td>0.33</td>\n",
       "      <td>59.425505;;</td>\n",
       "    </tr>\n",
       "    <tr>\n",
       "      <th>All-Bran with Extra Fiber</th>\n",
       "      <td>K</td>\n",
       "      <td>C</td>\n",
       "      <td>50</td>\n",
       "      <td>4</td>\n",
       "      <td>0</td>\n",
       "      <td>140</td>\n",
       "      <td>14.0</td>\n",
       "      <td>8.0</td>\n",
       "      <td>0</td>\n",
       "      <td>330</td>\n",
       "      <td>25</td>\n",
       "      <td>3</td>\n",
       "      <td>1.0</td>\n",
       "      <td>0.50</td>\n",
       "      <td>93.704912;;</td>\n",
       "    </tr>\n",
       "    <tr>\n",
       "      <th>Almond Delight</th>\n",
       "      <td>R</td>\n",
       "      <td>C</td>\n",
       "      <td>110</td>\n",
       "      <td>2</td>\n",
       "      <td>2</td>\n",
       "      <td>200</td>\n",
       "      <td>1.0</td>\n",
       "      <td>14.0</td>\n",
       "      <td>8</td>\n",
       "      <td>-1</td>\n",
       "      <td>25</td>\n",
       "      <td>3</td>\n",
       "      <td>1.0</td>\n",
       "      <td>0.75</td>\n",
       "      <td>34.384843;;</td>\n",
       "    </tr>\n",
       "  </tbody>\n",
       "</table>\n",
       "</div>"
      ],
      "text/plain": [
       "                          mfr type  calories  protein  fat  sodium  fiber  \\\n",
       "100% Bran                   N    C        70        4    1     130   10.0   \n",
       "100% Natural Bran           Q    C       120        3    5      15    2.0   \n",
       "All-Bran                    K    C        70        4    1     260    9.0   \n",
       "All-Bran with Extra Fiber   K    C        50        4    0     140   14.0   \n",
       "Almond Delight              R    C       110        2    2     200    1.0   \n",
       "\n",
       "                           carbo  sugars  potass  vitamins  shelf  weight  \\\n",
       "100% Bran                    5.0       6     280        25      3     1.0   \n",
       "100% Natural Bran            8.0       8     135         0      3     1.0   \n",
       "All-Bran                     7.0       5     320        25      3     1.0   \n",
       "All-Bran with Extra Fiber    8.0       0     330        25      3     1.0   \n",
       "Almond Delight              14.0       8      -1        25      3     1.0   \n",
       "\n",
       "                           cups     rating;;  \n",
       "100% Bran                  0.33  68.402973;;  \n",
       "100% Natural Bran          1.00  33.983679;;  \n",
       "All-Bran                   0.33  59.425505;;  \n",
       "All-Bran with Extra Fiber  0.50  93.704912;;  \n",
       "Almond Delight             0.75  34.384843;;  "
      ]
     },
     "execution_count": 241,
     "metadata": {},
     "output_type": "execute_result"
    }
   ],
   "source": [
    "df.head()"
   ]
  },
  {
   "cell_type": "markdown",
   "metadata": {},
   "source": [
    "Those nutrition values are defined as per serving where serving size is gien in 'weight' table in ounces. So we decided to scale it to have values for 1 ounce in every row."
   ]
  },
  {
   "cell_type": "code",
   "execution_count": 242,
   "metadata": {},
   "outputs": [],
   "source": [
    "df['sugars'] = df['sugars']/df['weight']\n",
    "df['calories'] = df['calories']/df['weight']"
   ]
  },
  {
   "cell_type": "code",
   "execution_count": 243,
   "metadata": {},
   "outputs": [
    {
     "data": {
      "text/html": [
       "<div>\n",
       "<style scoped>\n",
       "    .dataframe tbody tr th:only-of-type {\n",
       "        vertical-align: middle;\n",
       "    }\n",
       "\n",
       "    .dataframe tbody tr th {\n",
       "        vertical-align: top;\n",
       "    }\n",
       "\n",
       "    .dataframe thead th {\n",
       "        text-align: right;\n",
       "    }\n",
       "</style>\n",
       "<table border=\"1\" class=\"dataframe\">\n",
       "  <thead>\n",
       "    <tr style=\"text-align: right;\">\n",
       "      <th></th>\n",
       "      <th>mfr</th>\n",
       "      <th>type</th>\n",
       "      <th>calories</th>\n",
       "      <th>protein</th>\n",
       "      <th>fat</th>\n",
       "      <th>sodium</th>\n",
       "      <th>fiber</th>\n",
       "      <th>carbo</th>\n",
       "      <th>sugars</th>\n",
       "      <th>potass</th>\n",
       "      <th>vitamins</th>\n",
       "      <th>shelf</th>\n",
       "      <th>weight</th>\n",
       "      <th>cups</th>\n",
       "      <th>rating;;</th>\n",
       "    </tr>\n",
       "  </thead>\n",
       "  <tbody>\n",
       "    <tr>\n",
       "      <th>100% Bran</th>\n",
       "      <td>N</td>\n",
       "      <td>C</td>\n",
       "      <td>70.0</td>\n",
       "      <td>4</td>\n",
       "      <td>1</td>\n",
       "      <td>130</td>\n",
       "      <td>10.0</td>\n",
       "      <td>5.0</td>\n",
       "      <td>6.0</td>\n",
       "      <td>280</td>\n",
       "      <td>25</td>\n",
       "      <td>3</td>\n",
       "      <td>1.0</td>\n",
       "      <td>0.33</td>\n",
       "      <td>68.402973;;</td>\n",
       "    </tr>\n",
       "    <tr>\n",
       "      <th>100% Natural Bran</th>\n",
       "      <td>Q</td>\n",
       "      <td>C</td>\n",
       "      <td>120.0</td>\n",
       "      <td>3</td>\n",
       "      <td>5</td>\n",
       "      <td>15</td>\n",
       "      <td>2.0</td>\n",
       "      <td>8.0</td>\n",
       "      <td>8.0</td>\n",
       "      <td>135</td>\n",
       "      <td>0</td>\n",
       "      <td>3</td>\n",
       "      <td>1.0</td>\n",
       "      <td>1.00</td>\n",
       "      <td>33.983679;;</td>\n",
       "    </tr>\n",
       "    <tr>\n",
       "      <th>All-Bran</th>\n",
       "      <td>K</td>\n",
       "      <td>C</td>\n",
       "      <td>70.0</td>\n",
       "      <td>4</td>\n",
       "      <td>1</td>\n",
       "      <td>260</td>\n",
       "      <td>9.0</td>\n",
       "      <td>7.0</td>\n",
       "      <td>5.0</td>\n",
       "      <td>320</td>\n",
       "      <td>25</td>\n",
       "      <td>3</td>\n",
       "      <td>1.0</td>\n",
       "      <td>0.33</td>\n",
       "      <td>59.425505;;</td>\n",
       "    </tr>\n",
       "    <tr>\n",
       "      <th>All-Bran with Extra Fiber</th>\n",
       "      <td>K</td>\n",
       "      <td>C</td>\n",
       "      <td>50.0</td>\n",
       "      <td>4</td>\n",
       "      <td>0</td>\n",
       "      <td>140</td>\n",
       "      <td>14.0</td>\n",
       "      <td>8.0</td>\n",
       "      <td>0.0</td>\n",
       "      <td>330</td>\n",
       "      <td>25</td>\n",
       "      <td>3</td>\n",
       "      <td>1.0</td>\n",
       "      <td>0.50</td>\n",
       "      <td>93.704912;;</td>\n",
       "    </tr>\n",
       "    <tr>\n",
       "      <th>Almond Delight</th>\n",
       "      <td>R</td>\n",
       "      <td>C</td>\n",
       "      <td>110.0</td>\n",
       "      <td>2</td>\n",
       "      <td>2</td>\n",
       "      <td>200</td>\n",
       "      <td>1.0</td>\n",
       "      <td>14.0</td>\n",
       "      <td>8.0</td>\n",
       "      <td>-1</td>\n",
       "      <td>25</td>\n",
       "      <td>3</td>\n",
       "      <td>1.0</td>\n",
       "      <td>0.75</td>\n",
       "      <td>34.384843;;</td>\n",
       "    </tr>\n",
       "  </tbody>\n",
       "</table>\n",
       "</div>"
      ],
      "text/plain": [
       "                          mfr type  calories  protein  fat  sodium  fiber  \\\n",
       "100% Bran                   N    C      70.0        4    1     130   10.0   \n",
       "100% Natural Bran           Q    C     120.0        3    5      15    2.0   \n",
       "All-Bran                    K    C      70.0        4    1     260    9.0   \n",
       "All-Bran with Extra Fiber   K    C      50.0        4    0     140   14.0   \n",
       "Almond Delight              R    C     110.0        2    2     200    1.0   \n",
       "\n",
       "                           carbo  sugars  potass  vitamins  shelf  weight  \\\n",
       "100% Bran                    5.0     6.0     280        25      3     1.0   \n",
       "100% Natural Bran            8.0     8.0     135         0      3     1.0   \n",
       "All-Bran                     7.0     5.0     320        25      3     1.0   \n",
       "All-Bran with Extra Fiber    8.0     0.0     330        25      3     1.0   \n",
       "Almond Delight              14.0     8.0      -1        25      3     1.0   \n",
       "\n",
       "                           cups     rating;;  \n",
       "100% Bran                  0.33  68.402973;;  \n",
       "100% Natural Bran          1.00  33.983679;;  \n",
       "All-Bran                   0.33  59.425505;;  \n",
       "All-Bran with Extra Fiber  0.50  93.704912;;  \n",
       "Almond Delight             0.75  34.384843;;  "
      ]
     },
     "execution_count": 243,
     "metadata": {},
     "output_type": "execute_result"
    }
   ],
   "source": [
    "df.head()"
   ]
  },
  {
   "cell_type": "markdown",
   "metadata": {},
   "source": [
    "Histogram of calories"
   ]
  },
  {
   "cell_type": "code",
   "execution_count": 244,
   "metadata": {},
   "outputs": [
    {
     "data": {
      "image/png": "[encoded data removed]",
      "text/plain": [
       "<Figure size 432x288 with 1 Axes>"
      ]
     },
     "metadata": {
      "needs_background": "light"
     },
     "output_type": "display_data"
    }
   ],
   "source": [
    "df['calories'].hist(alpha=0.5, ec='black')\n",
    "plt.title('Calories histogram')\n",
    "plt.xlabel('Calories')\n",
    "plt.show()"
   ]
  },
  {
   "cell_type": "markdown",
   "metadata": {},
   "source": [
    "Histogram of sugars"
   ]
  },
  {
   "cell_type": "code",
   "execution_count": 245,
   "metadata": {},
   "outputs": [
    {
     "data": {
      "image/png": "[encoded data removed]",
      "text/plain": [
       "<Figure size 432x288 with 1 Axes>"
      ]
     },
     "metadata": {
      "needs_background": "light"
     },
     "output_type": "display_data"
    }
   ],
   "source": [
    "df['sugars'].hist(alpha=0.5, ec='black')\n",
    "plt.title('Sugars histogram')\n",
    "plt.xlabel('Sugars')\n",
    "plt.show()"
   ]
  },
  {
   "cell_type": "markdown",
   "metadata": {},
   "source": [
    "Creation of dataframe with values that we need (calories and sugars)."
   ]
  },
  {
   "cell_type": "code",
   "execution_count": 246,
   "metadata": {},
   "outputs": [],
   "source": [
    "data = df[['calories' ,'sugars']]"
   ]
  },
  {
   "cell_type": "code",
   "execution_count": 247,
   "metadata": {},
   "outputs": [
    {
     "data": {
      "text/html": [
       "<div>\n",
       "<style scoped>\n",
       "    .dataframe tbody tr th:only-of-type {\n",
       "        vertical-align: middle;\n",
       "    }\n",
       "\n",
       "    .dataframe tbody tr th {\n",
       "        vertical-align: top;\n",
       "    }\n",
       "\n",
       "    .dataframe thead th {\n",
       "        text-align: right;\n",
       "    }\n",
       "</style>\n",
       "<table border=\"1\" class=\"dataframe\">\n",
       "  <thead>\n",
       "    <tr style=\"text-align: right;\">\n",
       "      <th></th>\n",
       "      <th>calories</th>\n",
       "      <th>sugars</th>\n",
       "    </tr>\n",
       "  </thead>\n",
       "  <tbody>\n",
       "    <tr>\n",
       "      <th>100% Bran</th>\n",
       "      <td>70.0</td>\n",
       "      <td>6.0</td>\n",
       "    </tr>\n",
       "    <tr>\n",
       "      <th>100% Natural Bran</th>\n",
       "      <td>120.0</td>\n",
       "      <td>8.0</td>\n",
       "    </tr>\n",
       "    <tr>\n",
       "      <th>All-Bran</th>\n",
       "      <td>70.0</td>\n",
       "      <td>5.0</td>\n",
       "    </tr>\n",
       "    <tr>\n",
       "      <th>All-Bran with Extra Fiber</th>\n",
       "      <td>50.0</td>\n",
       "      <td>0.0</td>\n",
       "    </tr>\n",
       "    <tr>\n",
       "      <th>Almond Delight</th>\n",
       "      <td>110.0</td>\n",
       "      <td>8.0</td>\n",
       "    </tr>\n",
       "    <tr>\n",
       "      <th>...</th>\n",
       "      <td>...</td>\n",
       "      <td>...</td>\n",
       "    </tr>\n",
       "    <tr>\n",
       "      <th>Triples</th>\n",
       "      <td>110.0</td>\n",
       "      <td>3.0</td>\n",
       "    </tr>\n",
       "    <tr>\n",
       "      <th>Trix</th>\n",
       "      <td>110.0</td>\n",
       "      <td>12.0</td>\n",
       "    </tr>\n",
       "    <tr>\n",
       "      <th>Wheat Chex</th>\n",
       "      <td>100.0</td>\n",
       "      <td>3.0</td>\n",
       "    </tr>\n",
       "    <tr>\n",
       "      <th>Wheaties</th>\n",
       "      <td>100.0</td>\n",
       "      <td>3.0</td>\n",
       "    </tr>\n",
       "    <tr>\n",
       "      <th>Wheaties Honey Gold</th>\n",
       "      <td>110.0</td>\n",
       "      <td>8.0</td>\n",
       "    </tr>\n",
       "  </tbody>\n",
       "</table>\n",
       "<p>77 rows × 2 columns</p>\n",
       "</div>"
      ],
      "text/plain": [
       "                           calories  sugars\n",
       "100% Bran                      70.0     6.0\n",
       "100% Natural Bran             120.0     8.0\n",
       "All-Bran                       70.0     5.0\n",
       "All-Bran with Extra Fiber      50.0     0.0\n",
       "Almond Delight                110.0     8.0\n",
       "...                             ...     ...\n",
       "Triples                       110.0     3.0\n",
       "Trix                          110.0    12.0\n",
       "Wheat Chex                    100.0     3.0\n",
       "Wheaties                      100.0     3.0\n",
       "Wheaties Honey Gold           110.0     8.0\n",
       "\n",
       "[77 rows x 2 columns]"
      ]
     },
     "execution_count": 247,
     "metadata": {},
     "output_type": "execute_result"
    }
   ],
   "source": [
    "data"
   ]
  },
  {
   "cell_type": "markdown",
   "metadata": {},
   "source": [
    "Next we've checked if all values are reasonable."
   ]
  },
  {
   "cell_type": "code",
   "execution_count": 248,
   "metadata": {},
   "outputs": [
    {
     "data": {
      "text/plain": [
       "110.000000    29\n",
       "100.000000    19\n",
       "90.000000      7\n",
       "120.000000     6\n",
       "90.225564      3\n",
       "70.000000      2\n",
       "150.000000     2\n",
       "50.000000      1\n",
       "97.744361      1\n",
       "96.000000      1\n",
       "107.692308     1\n",
       "106.666667     1\n",
       "105.263158     1\n",
       "104.000000     1\n",
       "96.385542      1\n",
       "93.333333      1\n",
       "Name: calories, dtype: int64"
      ]
     },
     "execution_count": 248,
     "metadata": {},
     "output_type": "execute_result"
    }
   ],
   "source": [
    "data['calories'].value_counts()"
   ]
  },
  {
   "cell_type": "code",
   "execution_count": 249,
   "metadata": {},
   "outputs": [
    {
     "data": {
      "text/plain": [
       " 3.000000     13\n",
       " 0.000000      7\n",
       " 6.000000      7\n",
       " 8.000000      6\n",
       " 5.000000      5\n",
       " 11.000000     5\n",
       " 12.000000     5\n",
       " 7.000000      3\n",
       " 10.000000     3\n",
       " 13.000000     3\n",
       " 2.000000      3\n",
       " 9.000000      3\n",
       " 9.022556      2\n",
       " 15.000000     2\n",
       " 1.000000      1\n",
       " 6.015038      1\n",
       " 14.000000     1\n",
       " 4.000000      1\n",
       " 6.923077      1\n",
       " 8.666667      1\n",
       " 5.263158      1\n",
       " 10.526316     1\n",
       "-1.000000      1\n",
       " 9.333333      1\n",
       "Name: sugars, dtype: int64"
      ]
     },
     "execution_count": 249,
     "metadata": {},
     "output_type": "execute_result"
    }
   ],
   "source": [
    "data['sugars'].value_counts()"
   ]
  },
  {
   "cell_type": "markdown",
   "metadata": {},
   "source": [
    "We've found that in sugars we have value of -1 which is an absurd. So we've decided to remove it."
   ]
  },
  {
   "cell_type": "code",
   "execution_count": 250,
   "metadata": {},
   "outputs": [],
   "source": [
    "data = data.drop(data[data['sugars'] == -1].index)"
   ]
  },
  {
   "cell_type": "markdown",
   "metadata": {},
   "source": [
    "Dataframe statistics."
   ]
  },
  {
   "cell_type": "code",
   "execution_count": 251,
   "metadata": {},
   "outputs": [
    {
     "data": {
      "text/html": [
       "<div>\n",
       "<style scoped>\n",
       "    .dataframe tbody tr th:only-of-type {\n",
       "        vertical-align: middle;\n",
       "    }\n",
       "\n",
       "    .dataframe tbody tr th {\n",
       "        vertical-align: top;\n",
       "    }\n",
       "\n",
       "    .dataframe thead th {\n",
       "        text-align: right;\n",
       "    }\n",
       "</style>\n",
       "<table border=\"1\" class=\"dataframe\">\n",
       "  <thead>\n",
       "    <tr style=\"text-align: right;\">\n",
       "      <th></th>\n",
       "      <th>calories</th>\n",
       "      <th>sugars</th>\n",
       "    </tr>\n",
       "  </thead>\n",
       "  <tbody>\n",
       "    <tr>\n",
       "      <th>count</th>\n",
       "      <td>76.000000</td>\n",
       "      <td>76.000000</td>\n",
       "    </tr>\n",
       "    <tr>\n",
       "      <th>mean</th>\n",
       "      <td>104.049501</td>\n",
       "      <td>6.654904</td>\n",
       "    </tr>\n",
       "    <tr>\n",
       "      <th>std</th>\n",
       "      <td>13.936164</td>\n",
       "      <td>4.093540</td>\n",
       "    </tr>\n",
       "    <tr>\n",
       "      <th>min</th>\n",
       "      <td>50.000000</td>\n",
       "      <td>0.000000</td>\n",
       "    </tr>\n",
       "    <tr>\n",
       "      <th>25%</th>\n",
       "      <td>100.000000</td>\n",
       "      <td>3.000000</td>\n",
       "    </tr>\n",
       "    <tr>\n",
       "      <th>50%</th>\n",
       "      <td>107.179487</td>\n",
       "      <td>6.007519</td>\n",
       "    </tr>\n",
       "    <tr>\n",
       "      <th>75%</th>\n",
       "      <td>110.000000</td>\n",
       "      <td>10.000000</td>\n",
       "    </tr>\n",
       "    <tr>\n",
       "      <th>max</th>\n",
       "      <td>150.000000</td>\n",
       "      <td>15.000000</td>\n",
       "    </tr>\n",
       "  </tbody>\n",
       "</table>\n",
       "</div>"
      ],
      "text/plain": [
       "         calories     sugars\n",
       "count   76.000000  76.000000\n",
       "mean   104.049501   6.654904\n",
       "std     13.936164   4.093540\n",
       "min     50.000000   0.000000\n",
       "25%    100.000000   3.000000\n",
       "50%    107.179487   6.007519\n",
       "75%    110.000000  10.000000\n",
       "max    150.000000  15.000000"
      ]
     },
     "execution_count": 251,
     "metadata": {},
     "output_type": "execute_result"
    }
   ],
   "source": [
    "data.describe()"
   ]
  },
  {
   "cell_type": "markdown",
   "metadata": {},
   "source": [
    "# Models in project\n",
    "\n",
    "### 1. Model using normal distribution\n",
    "\n",
    "#### 1.1 Model based only on calories\n",
    "In our project we decided to start with simple model based only on calories.\n",
    "\n",
    "#### 1.2 Model with sugars as predictor \n",
    "Next, we decided to add sugars as predictor. Calories will be now defined in the model as:\n",
    "<br><br>\n",
    "$calories_{i}\\sim Normal(\\mu _{i}, \\sigma )$\n",
    "<br><br>\n",
    "$\\mu _{i}=\\alpha + \\beta *sugars_{i}$\n",
    "<br><br>\n",
    "Where $\\alpha$ and $\\beta$ have normal distribution and $\\sigma$ has exponential distribution.\n",
    "\n",
    "### 2. Model using double exponential distribution\n",
    "In the second model we decided to use double exponential distribution instead of normal distribution beacuse as we can see on calories histogram values of calories in our dataset are stacked in the middle of the histogram and we thought that it will fit our data better than normal distribution.\n",
    "<br><br>\n",
    "$calories_{i}\\sim DoubleExponential(\\mu _{i}, \\sigma )$\n",
    "<br><br>\n",
    "$\\mu _{i}=\\alpha + \\beta *sugars_{i}$\n",
    "<br><br>\n",
    "Where $\\alpha$ and $\\beta$ have normal distribution and $\\sigma$ has exponential distribution."
   ]
  },
  {
   "cell_type": "markdown",
   "metadata": {},
   "source": [
    "<h1>1. Model using normal distribution</h1>"
   ]
  },
  {
   "cell_type": "markdown",
   "metadata": {},
   "source": [
    "## 1.1\n",
    "In the first model we've considered only calories and used normal distribution."
   ]
  },
  {
   "cell_type": "markdown",
   "metadata": {},
   "source": [
    "## Normal distribution\n",
    "\n",
    "$$\n",
    "Normal(y|\\mu ,\\sigma )=\\frac{1}{\\sqrt{2\\pi}\\sigma}exp\\left ( -\\frac{1}{2} \\left ( \\frac{y-\\mu}{\\sigma} \\right )^{2} \\right )\n",
    "$$"
   ]
  },
  {
   "cell_type": "markdown",
   "metadata": {},
   "source": [
    "## Prior predictive check"
   ]
  },
  {
   "cell_type": "markdown",
   "metadata": {},
   "source": [
    "We set the value of mu to be normally distributed with mean of 104 and standard deviation of 14 because in our dataframe mean value of calories was 104.049501 and std was 13.936164.\n",
    "\n",
    "The value of sigma was set to be exponentially distributed with inverse scale beta of 0.071 (because $\\frac{1}{14}\\approx 0.071$)."
   ]
  },
  {
   "cell_type": "code",
   "execution_count": 252,
   "metadata": {},
   "outputs": [
    {
     "name": "stdout",
     "output_type": "stream",
     "text": [
      "generated quantities {\n",
      "   real mu = normal_rng(104, 14);\n",
      "   real sigma = exponential_rng(0.071);\n",
      "   real calories = normal_rng(mu, sigma);\n",
      "}\n"
     ]
    }
   ],
   "source": [
    "with open('cereal_1_ppc.stan') as file:\n",
    "    print(file.read())"
   ]
  },
  {
   "cell_type": "code",
   "execution_count": 253,
   "metadata": {},
   "outputs": [
    {
     "name": "stderr",
     "output_type": "stream",
     "text": [
      "INFO:cmdstanpy:found newer exe file, not recompiling\n"
     ]
    }
   ],
   "source": [
    "model_ppc=cmdstanpy.CmdStanModel(stan_file='cereal_1_ppc.stan')"
   ]
  },
  {
   "cell_type": "code",
   "execution_count": 254,
   "metadata": {},
   "outputs": [
    {
     "name": "stderr",
     "output_type": "stream",
     "text": [
      "INFO:cmdstanpy:CmdStan start processing\n"
     ]
    },
    {
     "data": {
      "application/vnd.jupyter.widget-view+json": {
       "model_id": "d696f3846d9e4e20946b976775a63dfa",
       "version_major": 2,
       "version_minor": 0
      },
      "text/plain": [
       "chain 1 |          | 00:00 Status"
      ]
     },
     "metadata": {},
     "output_type": "display_data"
    },
    {
     "name": "stdout",
     "output_type": "stream",
     "text": [
      "                                                                                "
     ]
    },
    {
     "name": "stderr",
     "output_type": "stream",
     "text": [
      "INFO:cmdstanpy:CmdStan done processing.\n"
     ]
    },
    {
     "name": "stdout",
     "output_type": "stream",
     "text": [
      "\n"
     ]
    }
   ],
   "source": [
    "R = 1000\n",
    "sim = model_ppc.sample(iter_sampling=R, iter_warmup=0, chains=1, fixed_param=True, seed=12062022, refresh=R, output_dir='samples')"
   ]
  },
  {
   "cell_type": "code",
   "execution_count": 255,
   "metadata": {},
   "outputs": [],
   "source": [
    "mu_sim=sim.stan_variable('mu')\n",
    "sigma_sim=sim.stan_variable('sigma')\n",
    "calories_sim=sim.stan_variable('calories')"
   ]
  },
  {
   "cell_type": "code",
   "execution_count": 256,
   "metadata": {},
   "outputs": [
    {
     "data": {
      "image/png": "[encoded data removed]",
      "text/plain": [
       "<Figure size 720x360 with 3 Axes>"
      ]
     },
     "metadata": {
      "needs_background": "light"
     },
     "output_type": "display_data"
    }
   ],
   "source": [
    "fig = plt.figure(figsize=(10,5))\n",
    "gs = fig.add_gridspec(2,2)\n",
    "ax1 = fig.add_subplot(gs[1,:])\n",
    "ax1.vlines([0], ymin=0, ymax=1e-2, linestyle='--',color='black', zorder=1)\n",
    "ax1.hist(calories_sim, bins=40, color=DARK, edgecolor=DARK_HIGHLIGHT,density=True)\n",
    "\n",
    "ax1.set_yticks([])\n",
    "ax1.set_title('Simulated calories')\n",
    "\n",
    "ax2 = fig.add_subplot(gs[0, 0])\n",
    "ax3 = fig.add_subplot(gs[0, 1])\n",
    "\n",
    "ax2.hist(mu_sim, bins=20, color=DARK, edgecolor=DARK_HIGHLIGHT,density=True)\n",
    "x=np.linspace(40,180)\n",
    "y=stats.norm.pdf(x,loc=104,scale=14)\n",
    "ax2.plot(x,y,'black')\n",
    "ax3.set_title('$\\sigma$')\n",
    "ax2.set_title('$\\mu$')\n",
    "ax2.set_yticks([])\n",
    "ax3.set_yticks([])\n",
    "ax3.hist(sigma_sim, bins=20, color=DARK, edgecolor=DARK_HIGHLIGHT,density=True)\n",
    "x=np.linspace(0,150)\n",
    "y=stats.expon.pdf(x,scale=14)\n",
    "ax3.plot(x,y,'black')\n",
    "\n",
    "fig.tight_layout()\n",
    "plt.show()"
   ]
  },
  {
   "cell_type": "markdown",
   "metadata": {},
   "source": [
    "As we can see simulated values of parameters $\\mu$ and $\\sigma$ were distributed well.\n",
    "<br>Values of simulated calories are mostly distributed well (the mean is distributed were we expected) but we have some outliers which, when we add some data, will probably dissapear."
   ]
  },
  {
   "cell_type": "markdown",
   "metadata": {},
   "source": [
    "## Posterior analysis"
   ]
  },
  {
   "cell_type": "code",
   "execution_count": 257,
   "metadata": {},
   "outputs": [
    {
     "name": "stdout",
     "output_type": "stream",
     "text": [
      "data {\n",
      "   int N;\n",
      "   real calories[N];\n",
      "}\n",
      "\n",
      "parameters {\n",
      "   real mu;\n",
      "   real<lower=0> sigma;\n",
      "}\n",
      "\n",
      "model {\n",
      "   mu ~ normal(104, 14);\n",
      "   sigma ~ exponential(0.071);\n",
      "   calories ~ normal(mu, sigma);\n",
      "}\n",
      "\n",
      "generated quantities {\n",
      "   real log_lik = normal_lpdf(calories | mu, sigma);\n",
      "   real calorie = normal_rng(mu, sigma);\n",
      "}\n"
     ]
    }
   ],
   "source": [
    "with open('cereal_1_fit.stan') as file:\n",
    "    print(file.read())"
   ]
  },
  {
   "cell_type": "markdown",
   "metadata": {},
   "source": [
    "Data required for this model:\n",
    " - N -> calories vector size\n",
    " - calories -> calories vector "
   ]
  },
  {
   "cell_type": "code",
   "execution_count": 258,
   "metadata": {},
   "outputs": [
    {
     "name": "stderr",
     "output_type": "stream",
     "text": [
      "INFO:cmdstanpy:found newer exe file, not recompiling\n"
     ]
    }
   ],
   "source": [
    "model_1_fit=cmdstanpy.CmdStanModel(stan_file='cereal_1_fit.stan')"
   ]
  },
  {
   "cell_type": "code",
   "execution_count": 259,
   "metadata": {},
   "outputs": [
    {
     "name": "stderr",
     "output_type": "stream",
     "text": [
      "INFO:cmdstanpy:CmdStan start processing\n"
     ]
    },
    {
     "data": {
      "application/vnd.jupyter.widget-view+json": {
       "model_id": "3f125550abea4801bc336596f82910e1",
       "version_major": 2,
       "version_minor": 0
      },
      "text/plain": [
       "chain 1 |          | 00:00 Status"
      ]
     },
     "metadata": {},
     "output_type": "display_data"
    },
    {
     "data": {
      "application/vnd.jupyter.widget-view+json": {
       "model_id": "bfba74b05b2b4562a7913d9ba1076030",
       "version_major": 2,
       "version_minor": 0
      },
      "text/plain": [
       "chain 2 |          | 00:00 Status"
      ]
     },
     "metadata": {},
     "output_type": "display_data"
    },
    {
     "data": {
      "application/vnd.jupyter.widget-view+json": {
       "model_id": "471974e91da6420aa5db2b54d1e4ee5f",
       "version_major": 2,
       "version_minor": 0
      },
      "text/plain": [
       "chain 3 |          | 00:00 Status"
      ]
     },
     "metadata": {},
     "output_type": "display_data"
    },
    {
     "data": {
      "application/vnd.jupyter.widget-view+json": {
       "model_id": "c90e81124d624ff091a856d60ca797cf",
       "version_major": 2,
       "version_minor": 0
      },
      "text/plain": [
       "chain 4 |          | 00:00 Status"
      ]
     },
     "metadata": {},
     "output_type": "display_data"
    },
    {
     "name": "stdout",
     "output_type": "stream",
     "text": [
      "                                                                                                                                                                                                                                                                                                                                "
     ]
    },
    {
     "name": "stderr",
     "output_type": "stream",
     "text": [
      "INFO:cmdstanpy:CmdStan done processing.\n"
     ]
    },
    {
     "name": "stdout",
     "output_type": "stream",
     "text": [
      "\n"
     ]
    }
   ],
   "source": [
    "fit_1=model_1_fit.sample(data=dict(N=len(data['calories']), calories=data['calories'].values), seed=12062022, output_dir='samples')"
   ]
  },
  {
   "cell_type": "code",
   "execution_count": 260,
   "metadata": {},
   "outputs": [
    {
     "name": "stdout",
     "output_type": "stream",
     "text": [
      "Processing csv files: C:\\GitHub\\DataAnalyticsProject\\Project\\samples\\cereal_1_fit-20220619234357_1.csv, C:\\GitHub\\DataAnalyticsProject\\Project\\samples\\cereal_1_fit-20220619234357_2.csv, C:\\GitHub\\DataAnalyticsProject\\Project\\samples\\cereal_1_fit-20220619234357_3.csv, C:\\GitHub\\DataAnalyticsProject\\Project\\samples\\cereal_1_fit-20220619234357_4.csv\n",
      "\n",
      "Checking sampler transitions treedepth.\n",
      "Treedepth satisfactory for all transitions.\n",
      "\n",
      "Checking sampler transitions for divergences.\n",
      "No divergent transitions found.\n",
      "\n",
      "Checking E-BFMI - sampler transitions HMC potential energy.\n",
      "E-BFMI satisfactory.\n",
      "\n",
      "Effective sample size satisfactory.\n",
      "\n",
      "Split R-hat values satisfactory all parameters.\n",
      "\n",
      "Processing complete, no problems detected.\n",
      "\n"
     ]
    }
   ],
   "source": [
    "print(fit_1.diagnose())"
   ]
  },
  {
   "cell_type": "markdown",
   "metadata": {},
   "source": [
    "No errors/issues occured during sampling."
   ]
  },
  {
   "cell_type": "code",
   "execution_count": 261,
   "metadata": {},
   "outputs": [
    {
     "data": {
      "text/html": [
       "<div>\n",
       "<style scoped>\n",
       "    .dataframe tbody tr th:only-of-type {\n",
       "        vertical-align: middle;\n",
       "    }\n",
       "\n",
       "    .dataframe tbody tr th {\n",
       "        vertical-align: top;\n",
       "    }\n",
       "\n",
       "    .dataframe thead th {\n",
       "        text-align: right;\n",
       "    }\n",
       "</style>\n",
       "<table border=\"1\" class=\"dataframe\">\n",
       "  <thead>\n",
       "    <tr style=\"text-align: right;\">\n",
       "      <th></th>\n",
       "      <th>mean</th>\n",
       "      <th>sd</th>\n",
       "      <th>hdi_3%</th>\n",
       "      <th>hdi_97%</th>\n",
       "    </tr>\n",
       "  </thead>\n",
       "  <tbody>\n",
       "    <tr>\n",
       "      <th>mu</th>\n",
       "      <td>104.00</td>\n",
       "      <td>1.63</td>\n",
       "      <td>101.01</td>\n",
       "      <td>107.05</td>\n",
       "    </tr>\n",
       "    <tr>\n",
       "      <th>sigma</th>\n",
       "      <td>14.07</td>\n",
       "      <td>1.15</td>\n",
       "      <td>11.94</td>\n",
       "      <td>16.20</td>\n",
       "    </tr>\n",
       "  </tbody>\n",
       "</table>\n",
       "</div>"
      ],
      "text/plain": [
       "         mean    sd  hdi_3%  hdi_97%\n",
       "mu     104.00  1.63  101.01   107.05\n",
       "sigma   14.07  1.15   11.94    16.20"
      ]
     },
     "execution_count": 261,
     "metadata": {},
     "output_type": "execute_result"
    }
   ],
   "source": [
    "az.summary(fit_1, var_names=['mu', 'sigma'], round_to=2, kind='stats')"
   ]
  },
  {
   "cell_type": "code",
   "execution_count": 262,
   "metadata": {},
   "outputs": [],
   "source": [
    "mu_fit = fit_1.stan_variable('mu')\n",
    "sigma_fit = fit_1.stan_variable('sigma')\n",
    "calorie_pred = fit_1.stan_variable('calorie')"
   ]
  },
  {
   "cell_type": "code",
   "execution_count": 263,
   "metadata": {},
   "outputs": [
    {
     "data": {
      "image/png": "[encoded data removed]",
      "text/plain": [
       "<Figure size 720x360 with 2 Axes>"
      ]
     },
     "metadata": {
      "needs_background": "light"
     },
     "output_type": "display_data"
    }
   ],
   "source": [
    "fig, axes = plt.subplots(2,1,figsize=(10,5), sharex=True)\n",
    "ax1=axes[0]\n",
    "ax1.scatter(mu_fit, sigma_fit, 20, color=DARK)\n",
    "ax1.set_title(\"Samples from joint posterior\")\n",
    "ax1.set_ylabel(r'$\\sigma$')\n",
    "ax2=axes[1]\n",
    "az.plot_kde(mu_fit, sigma_fit, ax=ax2, contourf_kwargs={'cmap':'YlOrRd'})\n",
    "\n",
    "ax2.set_xlabel(r'$\\mu$')\n",
    "ax2.set_ylabel(r'$\\sigma$')\n",
    "fig.tight_layout()\n",
    "plt.show()"
   ]
  },
  {
   "cell_type": "markdown",
   "metadata": {},
   "source": [
    "As we can see our sigma and mu samples from joint posterior are concenrated."
   ]
  },
  {
   "cell_type": "code",
   "execution_count": 264,
   "metadata": {},
   "outputs": [
    {
     "data": {
      "image/png": "[encoded data removed]",
      "text/plain": [
       "<Figure size 504x288 with 2 Axes>"
      ]
     },
     "metadata": {
      "needs_background": "light"
     },
     "output_type": "display_data"
    }
   ],
   "source": [
    "fig, axes = plt.subplots(1,2,figsize=(7,4),sharex=True,sharey=True)\n",
    "ax=axes[0]\n",
    "ax.hist(data['calories'], bins=10, color=DARK,edgecolor=DARK_HIGHLIGHT,density=True)\n",
    "ax.set_title('Observed calories')\n",
    "ax.set_yticks(())\n",
    "ax2=axes[1]\n",
    "ax2.hist(calorie_pred, bins=10, color=DARK,edgecolor=DARK_HIGHLIGHT,density=True)\n",
    "ax2.hist(data['calories'], bins=10, histtype='step', color='black', density=True)\n",
    "\n",
    "ax2.set_title('Predicted calories')\n",
    "ax2.set_yticks(())\n",
    "fig.tight_layout()\n",
    "\n",
    "plt.show()"
   ]
  },
  {
   "cell_type": "markdown",
   "metadata": {},
   "source": [
    "As we can see samples for posterior predictive did not match exactly the observed values. Observed values are more clustered close to the mean value.\n",
    "<br>Data is not exactly similar with posterior predicitve sample but it's quite close."
   ]
  },
  {
   "cell_type": "markdown",
   "metadata": {},
   "source": [
    "<h1>1.2</h1>"
   ]
  },
  {
   "cell_type": "markdown",
   "metadata": {},
   "source": [
    "We've decided to add predictor - value of sugars.\n",
    "<br>Those values were centered to represent sugars not as grams but the difference from the mean. It was added to dataframe as 'c_sugars'.\n",
    "<br><br>\n",
    "$calories_{i}\\sim Normal(\\mu _{i}, \\sigma )$\n",
    "<br><br>\n",
    "$\\mu _{i}=\\alpha + \\beta *c\\_sugars_{i}$\n",
    "<br><br>\n",
    "Where $\\alpha$ and $\\beta$ have normal distribution and $\\sigma$ has exponential distribution."
   ]
  },
  {
   "cell_type": "code",
   "execution_count": 265,
   "metadata": {},
   "outputs": [
    {
     "data": {
      "image/png": "[encoded data removed]",
      "text/plain": [
       "<Figure size 432x288 with 1 Axes>"
      ]
     },
     "metadata": {
      "needs_background": "light"
     },
     "output_type": "display_data"
    }
   ],
   "source": [
    "data['c_sugars'] = data['sugars']-data['sugars'].mean()\n",
    "data['c_sugars'].hist()\n",
    "plt.ylabel('c_sugars')\n",
    "plt.title('c_sugars histogram')\n",
    "plt.show()"
   ]
  },
  {
   "cell_type": "markdown",
   "metadata": {},
   "source": [
    "## Prior predictive check"
   ]
  },
  {
   "cell_type": "markdown",
   "metadata": {},
   "source": [
    "We used the same values for alpha and sigma as for mu and sigma in previous prior. The value of beta was set to be normally distriuted with mean of 0 and std of 10."
   ]
  },
  {
   "cell_type": "code",
   "execution_count": 266,
   "metadata": {},
   "outputs": [
    {
     "name": "stdout",
     "output_type": "stream",
     "text": [
      "data {\n",
      "   int N;\n",
      "   real sugars[N];\n",
      "}\n",
      "\n",
      "generated quantities {\n",
      "   real alpha = normal_rng(104, 14);\n",
      "   real beta = normal_rng(0, 10);\n",
      "   real sigma = exponential_rng(0.071);\n",
      "   real calorie[N];\n",
      "   for (i in 1:N) {\n",
      "      calorie[i] = normal_rng(sugars[i]*beta+alpha, sigma);\n",
      "   }\n",
      "\n",
      "}\n"
     ]
    }
   ],
   "source": [
    "with open('cereal_2a_ppc.stan') as file:\n",
    "    print(file.read())"
   ]
  },
  {
   "cell_type": "code",
   "execution_count": 267,
   "metadata": {},
   "outputs": [
    {
     "name": "stderr",
     "output_type": "stream",
     "text": [
      "INFO:cmdstanpy:found newer exe file, not recompiling\n"
     ]
    }
   ],
   "source": [
    "model_ppc = cmdstanpy.CmdStanModel(stan_file='cereal_2a_ppc.stan')"
   ]
  },
  {
   "cell_type": "code",
   "execution_count": 268,
   "metadata": {},
   "outputs": [
    {
     "name": "stderr",
     "output_type": "stream",
     "text": [
      "INFO:cmdstanpy:CmdStan start processing\n"
     ]
    },
    {
     "data": {
      "application/vnd.jupyter.widget-view+json": {
       "model_id": "3c0b24159d9341509b1d7fdd2d688205",
       "version_major": 2,
       "version_minor": 0
      },
      "text/plain": [
       "chain 1 |          | 00:00 Status"
      ]
     },
     "metadata": {},
     "output_type": "display_data"
    },
    {
     "name": "stdout",
     "output_type": "stream",
     "text": [
      "                                                                                "
     ]
    },
    {
     "name": "stderr",
     "output_type": "stream",
     "text": [
      "INFO:cmdstanpy:CmdStan done processing.\n"
     ]
    },
    {
     "name": "stdout",
     "output_type": "stream",
     "text": [
      "\n"
     ]
    }
   ],
   "source": [
    "R = 1000\n",
    "data_sim = {'N': len(data), 'sugars':np.linspace(data['c_sugars'].min(),data['c_sugars'].max(), num=len(data))}\n",
    "\n",
    "sim = model_ppc.sample(data=data_sim,iter_sampling=R, iter_warmup=0, chains=1, refresh=R, fixed_param=True, seed=12062022, output_dir='samples')"
   ]
  },
  {
   "cell_type": "code",
   "execution_count": 269,
   "metadata": {},
   "outputs": [],
   "source": [
    "alpha_sim = sim.stan_variable('alpha')\n",
    "beta_sim = sim.stan_variable('beta')"
   ]
  },
  {
   "cell_type": "code",
   "execution_count": 270,
   "metadata": {},
   "outputs": [
    {
     "data": {
      "image/png": "[encoded data removed]",
      "text/plain": [
       "<Figure size 504x288 with 1 Axes>"
      ]
     },
     "metadata": {
      "needs_background": "light"
     },
     "output_type": "display_data"
    }
   ],
   "source": [
    "fig, axes = plt.subplots(1,1,figsize = (7,4))\n",
    "\n",
    "for i in range(100):\n",
    "    axes.plot(data['sugars'], alpha_sim[i]+beta_sim[i]*data['c_sugars'], color=MID, alpha=0.5, linewidth = 0.5)\n",
    "axes.set_xlabel('sugars[g]')\n",
    "axes.set_ylabel('calories[kcal]')\n",
    "axes.set_title(r\"$\\beta$ prior leads to unrealistic values\")\n",
    "axes.hlines([0],xmin=data['sugars'].min(), xmax=data['sugars'].max(), linestyle='--', color='black')\n",
    "plt.show()"
   ]
  },
  {
   "cell_type": "code",
   "execution_count": 271,
   "metadata": {},
   "outputs": [
    {
     "name": "stdout",
     "output_type": "stream",
     "text": [
      "data {\n",
      "   int N;\n",
      "   real sugars[N];\n",
      "}\n",
      "\n",
      "generated quantities {\n",
      "   real alpha = normal_rng(104, 14);\n",
      "   real beta = lognormal_rng(0, 1);\n",
      "   real sigma = exponential_rng(0.071);\n",
      "   real calorie[N];\n",
      "   for (i in 1:N) {\n",
      "      calorie[i] = normal_rng(sugars[i]*beta+alpha, sigma);\n",
      "   }\n",
      "\n",
      "}\n"
     ]
    }
   ],
   "source": [
    "with open('cereal_2b_ppc.stan') as file:\n",
    "    print(file.read())"
   ]
  },
  {
   "cell_type": "code",
   "execution_count": 272,
   "metadata": {},
   "outputs": [
    {
     "name": "stderr",
     "output_type": "stream",
     "text": [
      "INFO:cmdstanpy:found newer exe file, not recompiling\n"
     ]
    }
   ],
   "source": [
    "model_ppc = cmdstanpy.CmdStanModel(stan_file='cereal_2b_ppc.stan')"
   ]
  },
  {
   "cell_type": "code",
   "execution_count": 273,
   "metadata": {},
   "outputs": [
    {
     "name": "stderr",
     "output_type": "stream",
     "text": [
      "INFO:cmdstanpy:CmdStan start processing\n"
     ]
    },
    {
     "data": {
      "application/vnd.jupyter.widget-view+json": {
       "model_id": "5614132e47994f28b9215c3fa5191788",
       "version_major": 2,
       "version_minor": 0
      },
      "text/plain": [
       "chain 1 |          | 00:00 Status"
      ]
     },
     "metadata": {},
     "output_type": "display_data"
    },
    {
     "name": "stdout",
     "output_type": "stream",
     "text": [
      "                                                                                "
     ]
    },
    {
     "name": "stderr",
     "output_type": "stream",
     "text": [
      "INFO:cmdstanpy:CmdStan done processing.\n"
     ]
    },
    {
     "name": "stdout",
     "output_type": "stream",
     "text": [
      "\n"
     ]
    }
   ],
   "source": [
    "sim = model_ppc.sample(data=data_sim,iter_sampling=R, iter_warmup=0, chains=1, refresh=R, fixed_param=True, seed=12062022, output_dir='samples')"
   ]
  },
  {
   "cell_type": "code",
   "execution_count": 274,
   "metadata": {},
   "outputs": [],
   "source": [
    "alpha_sim = sim.stan_variable('alpha')\n",
    "beta_sim = sim.stan_variable('beta')"
   ]
  },
  {
   "cell_type": "code",
   "execution_count": 275,
   "metadata": {},
   "outputs": [
    {
     "data": {
      "image/png": "[encoded data removed]",
      "text/plain": [
       "<Figure size 504x288 with 1 Axes>"
      ]
     },
     "metadata": {
      "needs_background": "light"
     },
     "output_type": "display_data"
    }
   ],
   "source": [
    "fig, axes = plt.subplots(1,1,figsize = (7,4))\n",
    "\n",
    "for i in range(100):\n",
    "    axes.plot(data['sugars'], alpha_sim[i]+beta_sim[i]*data['c_sugars'], color=MID, alpha=0.5, linewidth = 0.5)\n",
    "\n",
    "axes.set_xlabel('sugars[g]')\n",
    "axes.set_ylabel('calories[kcal]')\n",
    "plt.show()"
   ]
  },
  {
   "cell_type": "code",
   "execution_count": 276,
   "metadata": {},
   "outputs": [],
   "source": [
    "calorie_sim = sim.stan_variable('calorie')"
   ]
  },
  {
   "cell_type": "code",
   "execution_count": 277,
   "metadata": {},
   "outputs": [
    {
     "data": {
      "image/png": "[encoded data removed]",
      "text/plain": [
       "<Figure size 504x288 with 1 Axes>"
      ]
     },
     "metadata": {
      "needs_background": "light"
     },
     "output_type": "display_data"
    }
   ],
   "source": [
    "fig, axes = plt.subplots(1,1,figsize = (7,4))\n",
    "axes=ribbon_plot(data_sim['sugars']+data['sugars'].mean(),calorie_sim,axes)\n",
    "axes.scatter(data['sugars'], data['calories'], color = 'black', alpha = 0.2, s=10)\n",
    "axes.set_xlabel('sugars[g]')\n",
    "axes.set_ylabel('calories[kcal]')\n",
    "plt.show()"
   ]
  },
  {
   "cell_type": "code",
   "execution_count": 278,
   "metadata": {},
   "outputs": [
    {
     "data": {
      "image/png": "[encoded data removed]",
      "text/plain": [
       "<Figure size 720x360 with 4 Axes>"
      ]
     },
     "metadata": {
      "needs_background": "light"
     },
     "output_type": "display_data"
    }
   ],
   "source": [
    "fig = plt.figure(figsize=(10,5))\n",
    "gs = fig.add_gridspec(2,3)\n",
    "ax1 = fig.add_subplot(gs[1,:])\n",
    "ax1.hist(calories_sim, bins=40, color=DARK, edgecolor=DARK_HIGHLIGHT,density=True)\n",
    "\n",
    "ax1.set_yticks([])\n",
    "ax1.set_title('Simulated calories')\n",
    "\n",
    "ax2 = fig.add_subplot(gs[0, 0])\n",
    "ax3 = fig.add_subplot(gs[0, 1])\n",
    "ax4 = fig.add_subplot(gs[0, 2])\n",
    "\n",
    "ax2.hist(alpha_sim, bins=20, color=DARK, edgecolor=DARK_HIGHLIGHT,density=True)\n",
    "x=np.linspace(40,180)\n",
    "y=stats.norm.pdf(x,loc=104,scale=14)\n",
    "ax2.plot(x,y,'black')\n",
    "ax4.set_title('$\\sigma$')\n",
    "ax2.set_title(r'$\\alpha$')\n",
    "ax2.set_yticks([])\n",
    "ax4.set_yticks([])\n",
    "ax4.hist(sigma_sim, bins=20, color=DARK, edgecolor=DARK_HIGHLIGHT,density=True)\n",
    "x=np.linspace(0,150)\n",
    "y=stats.expon.pdf(x,scale=14)\n",
    "ax4.plot(x,y,'black')\n",
    "\n",
    "\n",
    "ax3.hist(beta_sim, bins=20, color=DARK, edgecolor=DARK_HIGHLIGHT,density=True)\n",
    "x=np.linspace(0,15)\n",
    "y=stats.lognorm.pdf(x, s=1)\n",
    "ax3.plot(x,y,'black')\n",
    "ax3.set_title(r'$\\beta$')\n",
    "ax3.set_yticks([])\n",
    "\n",
    "fig.tight_layout()\n",
    "plt.show()"
   ]
  },
  {
   "cell_type": "markdown",
   "metadata": {},
   "source": [
    "# Posterior"
   ]
  },
  {
   "cell_type": "code",
   "execution_count": 279,
   "metadata": {},
   "outputs": [
    {
     "name": "stdout",
     "output_type": "stream",
     "text": [
      "data {\n",
      "   int N;\n",
      "   vector[N] sugars;\n",
      "   real calories[N];\n",
      "}\n",
      "\n",
      "parameters {\n",
      "   real alpha;\n",
      "   real beta;\n",
      "   real<lower=0> sigma;\n",
      "}\n",
      "\n",
      "transformed parameters {\n",
      "   vector[N] mu = sugars*beta+alpha;\n",
      "}\n",
      "\n",
      "model {\n",
      "   alpha ~ normal(104, 14);\n",
      "   beta ~ lognormal(0, 1);\n",
      "   sigma ~ exponential(0.071);\n",
      "   calories ~ normal(mu, sigma);\n",
      "}\n",
      "\n",
      "generated quantities {\n",
      "   vector[N] log_lik;\n",
      "   real calorie[N];\n",
      "   for (i in 1:N) {\n",
      "      log_lik[i] = normal_lpdf(calories[i] | mu[i], sigma);\n",
      "      calorie[i] = normal_rng(mu[i], sigma);\n",
      "   }\n",
      "}\n"
     ]
    }
   ],
   "source": [
    "with open('cereal_2_fit.stan') as file:\n",
    "    print(file.read())"
   ]
  },
  {
   "cell_type": "markdown",
   "metadata": {},
   "source": [
    "Data required for this model:\n",
    " - N -> calories vector size\n",
    " - sugars -> sugars vector\n",
    " - calories -> calories vector"
   ]
  },
  {
   "cell_type": "code",
   "execution_count": 280,
   "metadata": {},
   "outputs": [
    {
     "name": "stderr",
     "output_type": "stream",
     "text": [
      "INFO:cmdstanpy:found newer exe file, not recompiling\n"
     ]
    }
   ],
   "source": [
    "model_2_fit = cmdstanpy.CmdStanModel(stan_file='cereal_2_fit.stan')"
   ]
  },
  {
   "cell_type": "code",
   "execution_count": 281,
   "metadata": {},
   "outputs": [
    {
     "name": "stderr",
     "output_type": "stream",
     "text": [
      "INFO:cmdstanpy:CmdStan start processing\n"
     ]
    },
    {
     "data": {
      "application/vnd.jupyter.widget-view+json": {
       "model_id": "0f2dace8de6247eabd1885d61a0def8e",
       "version_major": 2,
       "version_minor": 0
      },
      "text/plain": [
       "chain 1 |          | 00:00 Status"
      ]
     },
     "metadata": {},
     "output_type": "display_data"
    },
    {
     "data": {
      "application/vnd.jupyter.widget-view+json": {
       "model_id": "89b85fc63414433cb4d20e0eebb1d37f",
       "version_major": 2,
       "version_minor": 0
      },
      "text/plain": [
       "chain 2 |          | 00:00 Status"
      ]
     },
     "metadata": {},
     "output_type": "display_data"
    },
    {
     "data": {
      "application/vnd.jupyter.widget-view+json": {
       "model_id": "47d8762a5c344191bcbbc55438081b63",
       "version_major": 2,
       "version_minor": 0
      },
      "text/plain": [
       "chain 3 |          | 00:00 Status"
      ]
     },
     "metadata": {},
     "output_type": "display_data"
    },
    {
     "data": {
      "application/vnd.jupyter.widget-view+json": {
       "model_id": "da3879799a4a42668f0161cf92c92f40",
       "version_major": 2,
       "version_minor": 0
      },
      "text/plain": [
       "chain 4 |          | 00:00 Status"
      ]
     },
     "metadata": {},
     "output_type": "display_data"
    },
    {
     "name": "stdout",
     "output_type": "stream",
     "text": [
      "                                                                                                                                                                                                                                                                                                                                "
     ]
    },
    {
     "name": "stderr",
     "output_type": "stream",
     "text": [
      "INFO:cmdstanpy:CmdStan done processing.\n"
     ]
    },
    {
     "name": "stdout",
     "output_type": "stream",
     "text": [
      "\n"
     ]
    }
   ],
   "source": [
    "data_fit = dict(N=len(data),\n",
    "                sugars=data['c_sugars'].values,\n",
    "                calories=data['calories'].values)\n",
    "\n",
    "fit_2=model_2_fit.sample(data=data_fit, seed=12062022, output_dir='samples', adapt_delta=0.99)"
   ]
  },
  {
   "cell_type": "markdown",
   "metadata": {},
   "source": [
    "When first running diagnose() we discovered the following issue.\n",
    "\n",
    "\"\"\"Checking sampler transitions for divergences.\n",
    "10 of 4000 (0.25%) transitions ended with a divergence.\n",
    "These divergent transitions indicate that HMC is not fully able to explore the posterior distribution.\n",
    "Try increasing adapt delta closer to 1.\n",
    "If this doesn't remove all divergences, try to reparameterize the model.\"\"\"\n",
    "\n",
    "We decide to changed \"adapt_delta\" parameter from 0.8 to 0.99. After this change issue was resolved."
   ]
  },
  {
   "cell_type": "code",
   "execution_count": 282,
   "metadata": {},
   "outputs": [
    {
     "name": "stdout",
     "output_type": "stream",
     "text": [
      "Processing csv files: C:\\GitHub\\DataAnalyticsProject\\Project\\samples\\cereal_2_fit-20220619234429_1.csv, C:\\GitHub\\DataAnalyticsProject\\Project\\samples\\cereal_2_fit-20220619234429_2.csv, C:\\GitHub\\DataAnalyticsProject\\Project\\samples\\cereal_2_fit-20220619234429_3.csv, C:\\GitHub\\DataAnalyticsProject\\Project\\samples\\cereal_2_fit-20220619234429_4.csv\n",
      "\n",
      "Checking sampler transitions treedepth.\n",
      "Treedepth satisfactory for all transitions.\n",
      "\n",
      "Checking sampler transitions for divergences.\n",
      "No divergent transitions found.\n",
      "\n",
      "Checking E-BFMI - sampler transitions HMC potential energy.\n",
      "E-BFMI satisfactory.\n",
      "\n",
      "Effective sample size satisfactory.\n",
      "\n",
      "Split R-hat values satisfactory all parameters.\n",
      "\n",
      "Processing complete, no problems detected.\n",
      "\n"
     ]
    }
   ],
   "source": [
    "print(fit_2.diagnose())"
   ]
  },
  {
   "cell_type": "code",
   "execution_count": 283,
   "metadata": {},
   "outputs": [],
   "source": [
    "alpha_fit = fit_2.stan_variable('alpha')\n",
    "beta_fit = fit_2.stan_variable('beta')\n",
    "mu_fit = fit_2.stan_variable('mu')\n",
    "sigma_fit = fit_2.stan_variable('sigma')\n",
    "calorie_pred = fit_2.stan_variable('calorie')"
   ]
  },
  {
   "cell_type": "code",
   "execution_count": 284,
   "metadata": {},
   "outputs": [
    {
     "data": {
      "text/html": [
       "<div>\n",
       "<style scoped>\n",
       "    .dataframe tbody tr th:only-of-type {\n",
       "        vertical-align: middle;\n",
       "    }\n",
       "\n",
       "    .dataframe tbody tr th {\n",
       "        vertical-align: top;\n",
       "    }\n",
       "\n",
       "    .dataframe thead th {\n",
       "        text-align: right;\n",
       "    }\n",
       "</style>\n",
       "<table border=\"1\" class=\"dataframe\">\n",
       "  <thead>\n",
       "    <tr style=\"text-align: right;\">\n",
       "      <th></th>\n",
       "      <th>mean</th>\n",
       "      <th>sd</th>\n",
       "      <th>hdi_3%</th>\n",
       "      <th>hdi_97%</th>\n",
       "    </tr>\n",
       "  </thead>\n",
       "  <tbody>\n",
       "    <tr>\n",
       "      <th>alpha</th>\n",
       "      <td>104.05</td>\n",
       "      <td>1.53</td>\n",
       "      <td>101.33</td>\n",
       "      <td>107.04</td>\n",
       "    </tr>\n",
       "    <tr>\n",
       "      <th>beta</th>\n",
       "      <td>1.15</td>\n",
       "      <td>0.38</td>\n",
       "      <td>0.45</td>\n",
       "      <td>1.85</td>\n",
       "    </tr>\n",
       "    <tr>\n",
       "      <th>sigma</th>\n",
       "      <td>13.10</td>\n",
       "      <td>1.08</td>\n",
       "      <td>11.15</td>\n",
       "      <td>15.16</td>\n",
       "    </tr>\n",
       "  </tbody>\n",
       "</table>\n",
       "</div>"
      ],
      "text/plain": [
       "         mean    sd  hdi_3%  hdi_97%\n",
       "alpha  104.05  1.53  101.33   107.04\n",
       "beta     1.15  0.38    0.45     1.85\n",
       "sigma   13.10  1.08   11.15    15.16"
      ]
     },
     "execution_count": 284,
     "metadata": {},
     "output_type": "execute_result"
    }
   ],
   "source": [
    "az.summary(fit_2, var_names=['alpha', 'beta', 'sigma'], round_to=2, kind='stats')"
   ]
  },
  {
   "cell_type": "code",
   "execution_count": 285,
   "metadata": {},
   "outputs": [
    {
     "data": {
      "image/png": "[encoded data removed]",
      "text/plain": [
       "<Figure size 1728x432 with 4 Axes>"
      ]
     },
     "metadata": {
      "needs_background": "light"
     },
     "output_type": "display_data"
    }
   ],
   "source": [
    "f, (ax1, ax2, ax3, ax4) = plt.subplots(1, 4, figsize = (24,6))\n",
    "\n",
    "ax1.hist(alpha_fit, alpha=0.5, ec='black')\n",
    "ax1.set_title(r\"$\\alpha$ fit\")\n",
    "ax2.hist(beta_fit, alpha=0.5, ec='black')\n",
    "ax2.set_title(r\"$\\beta$ fit\")\n",
    "ax3.hist(mu_fit[0], alpha=0.5, ec='black')\n",
    "ax3.set_title(r\"$\\mu$ fit\")\n",
    "ax4.hist(sigma_fit, alpha=0.5, ec='black')\n",
    "ax4.set_title(r\"$\\sigma$ fit\")\n",
    "plt.show()"
   ]
  },
  {
   "cell_type": "code",
   "execution_count": 286,
   "metadata": {},
   "outputs": [
    {
     "data": {
      "image/png": "[encoded data removed]",
      "text/plain": [
       "<Figure size 504x576 with 2 Axes>"
      ]
     },
     "metadata": {
      "needs_background": "light"
     },
     "output_type": "display_data"
    }
   ],
   "source": [
    "fig, axes = plt.subplots(2,1,figsize = (7,8), sharey=True, sharex=True)\n",
    "ax0=axes[0]\n",
    "\n",
    "for i in range(100):\n",
    "    ax0.plot(data['sugars'],\n",
    "            alpha_fit[i]+beta_fit[i]*data['c_sugars'],\n",
    "            color=MID,\n",
    "            alpha=0.5, linewidth=0.5)\n",
    "\n",
    "ax0.scatter(data['sugars'], data['calories'], color='black', alpha=0.5, s=10)\n",
    "\n",
    "ax1=axes[1]\n",
    "ax1=ribbon_plot(data['sugars'].values, mu_fit, ax1, supress_warning=True)\n",
    "ax1.scatter(data['sugars'], data['calories'], color='black', alpha=0.5, s=10)\n",
    "ax1.set_xlabel('sugars[g]')\n",
    "ax1.set_ylabel('calories[kcal]')\n",
    "ax0.set_ylabel('calories[kcal]')\n",
    "fig.tight_layout()\n",
    "plt.show()"
   ]
  },
  {
   "cell_type": "code",
   "execution_count": 287,
   "metadata": {},
   "outputs": [
    {
     "data": {
      "image/png": "[encoded data removed]",
      "text/plain": [
       "<Figure size 504x288 with 1 Axes>"
      ]
     },
     "metadata": {
      "needs_background": "light"
     },
     "output_type": "display_data"
    }
   ],
   "source": [
    "fig, axes = plt.subplots(1,1,figsize = (7,4))\n",
    "\n",
    "axes=ribbon_plot(data['sugars'].values, calorie_pred, axes, supress_warning=True)\n",
    "axes.scatter(data['sugars'], data['calories'], color='black', alpha=0.5, s=10)\n",
    "fig.tight_layout()\n",
    "axes.set_xlabel('sugars[g]')\n",
    "axes.set_ylabel('calories[kcal]')\n",
    "plt.show()"
   ]
  },
  {
   "cell_type": "code",
   "execution_count": 288,
   "metadata": {},
   "outputs": [
    {
     "data": {
      "image/png": "[encoded data removed]",
      "text/plain": [
       "<Figure size 720x360 with 2 Axes>"
      ]
     },
     "metadata": {
      "needs_background": "light"
     },
     "output_type": "display_data"
    }
   ],
   "source": [
    "fig, axes = plt.subplots(2,1,figsize=(10,5), sharex=True)\n",
    "ax1=axes[0]\n",
    "ax1.scatter(mu_fit[:,0], sigma_fit, 20, color=DARK)\n",
    "ax1.set_title(\"Samples from joint posterior\")\n",
    "ax1.set_ylabel(r'$\\sigma$')\n",
    "ax2=axes[1]\n",
    "az.plot_kde(mu_fit[:,0], sigma_fit, ax=ax2, contourf_kwargs={'cmap':'YlOrRd'})\n",
    "\n",
    "ax2.set_xlabel(r'$\\mu$')\n",
    "ax2.set_ylabel(r'$\\sigma$')\n",
    "fig.tight_layout()\n",
    "plt.show()"
   ]
  },
  {
   "cell_type": "code",
   "execution_count": 289,
   "metadata": {},
   "outputs": [
    {
     "data": {
      "image/png": "[encoded data removed]",
      "text/plain": [
       "<Figure size 504x288 with 2 Axes>"
      ]
     },
     "metadata": {
      "needs_background": "light"
     },
     "output_type": "display_data"
    }
   ],
   "source": [
    "fig, axes = plt.subplots(1,2,figsize=(7,4),sharex=True,sharey=True)\n",
    "ax=axes[0]\n",
    "ax.hist(data['calories'], bins=10, color=DARK,edgecolor=DARK_HIGHLIGHT,density=True)\n",
    "ax.set_title('Observed barrels')\n",
    "ax.set_yticks(())\n",
    "ax2=axes[1]\n",
    "ax2.hist(calorie_pred[66], bins=10, color=DARK,edgecolor=DARK_HIGHLIGHT,density=True)\n",
    "ax2.hist(data['calories'], bins=10, histtype='step', color='black', density=True)\n",
    "\n",
    "ax2.set_title('Predicted barrels')\n",
    "ax2.set_yticks(())\n",
    "fig.tight_layout()\n",
    "\n",
    "plt.show()"
   ]
  },
  {
   "cell_type": "markdown",
   "metadata": {},
   "source": [
    "As we can see our model has problem with catching values stacked in the middle so we decided to use double exponential distribution because we thought it will solve this issue."
   ]
  },
  {
   "cell_type": "code",
   "execution_count": 290,
   "metadata": {},
   "outputs": [],
   "source": [
    "fit_id_2 = az.from_cmdstanpy(posterior=fit_2,log_likelihood='log_lik')"
   ]
  },
  {
   "cell_type": "code",
   "execution_count": 291,
   "metadata": {},
   "outputs": [
    {
     "data": {
      "text/html": [
       "\n",
       "            <div>\n",
       "              <div class='xr-header'>\n",
       "                <div class=\"xr-obj-type\">arviz.InferenceData</div>\n",
       "              </div>\n",
       "              <ul class=\"xr-sections group-sections\">\n",
       "              \n",
       "            <li class = \"xr-section-item\">\n",
       "                  <input id=\"idata_posterior59513240-14ad-47ce-aa0a-a281638415f7\" class=\"xr-section-summary-in\" type=\"checkbox\">\n",
       "                  <label for=\"idata_posterior59513240-14ad-47ce-aa0a-a281638415f7\" class = \"xr-section-summary\">posterior</label>\n",
       "                  <div class=\"xr-section-inline-details\"></div>\n",
       "                  <div class=\"xr-section-details\">\n",
       "                      <ul id=\"xr-dataset-coord-list\" class=\"xr-var-list\">\n",
       "                          <div style=\"padding-left:2rem;\"><div><svg style=\"position: absolute; width: 0; height: 0; overflow: hidden\">\n",
       "<defs>\n",
       "<symbol id=\"icon-database\" viewBox=\"0 0 32 32\">\n",
       "<path d=\"M16 0c-8.837 0-16 2.239-16 5v4c0 2.761 7.163 5 16 5s16-2.239 16-5v-4c0-2.761-7.163-5-16-5z\"></path>\n",
       "<path d=\"M16 17c-8.837 0-16-2.239-16-5v6c0 2.761 7.163 5 16 5s16-2.239 16-5v-6c0 2.761-7.163 5-16 5z\"></path>\n",
       "<path d=\"M16 26c-8.837 0-16-2.239-16-5v6c0 2.761 7.163 5 16 5s16-2.239 16-5v-6c0 2.761-7.163 5-16 5z\"></path>\n",
       "</symbol>\n",
       "<symbol id=\"icon-file-text2\" viewBox=\"0 0 32 32\">\n",
       "<path d=\"M28.681 7.159c-0.694-0.947-1.662-2.053-2.724-3.116s-2.169-2.030-3.116-2.724c-1.612-1.182-2.393-1.319-2.841-1.319h-15.5c-1.378 0-2.5 1.121-2.5 2.5v27c0 1.378 1.122 2.5 2.5 2.5h23c1.378 0 2.5-1.122 2.5-2.5v-19.5c0-0.448-0.137-1.23-1.319-2.841zM24.543 5.457c0.959 0.959 1.712 1.825 2.268 2.543h-4.811v-4.811c0.718 0.556 1.584 1.309 2.543 2.268zM28 29.5c0 0.271-0.229 0.5-0.5 0.5h-23c-0.271 0-0.5-0.229-0.5-0.5v-27c0-0.271 0.229-0.5 0.5-0.5 0 0 15.499-0 15.5 0v7c0 0.552 0.448 1 1 1h7v19.5z\"></path>\n",
       "<path d=\"M23 26h-14c-0.552 0-1-0.448-1-1s0.448-1 1-1h14c0.552 0 1 0.448 1 1s-0.448 1-1 1z\"></path>\n",
       "<path d=\"M23 22h-14c-0.552 0-1-0.448-1-1s0.448-1 1-1h14c0.552 0 1 0.448 1 1s-0.448 1-1 1z\"></path>\n",
       "<path d=\"M23 18h-14c-0.552 0-1-0.448-1-1s0.448-1 1-1h14c0.552 0 1 0.448 1 1s-0.448 1-1 1z\"></path>\n",
       "</symbol>\n",
       "</defs>\n",
       "</svg>\n",
       "<style>/* CSS stylesheet for displaying xarray objects in jupyterlab.\n",
       " *\n",
       " */\n",
       "\n",
       ":root {\n",
       "  --xr-font-color0: var(--jp-content-font-color0, rgba(0, 0, 0, 1));\n",
       "  --xr-font-color2: var(--jp-content-font-color2, rgba(0, 0, 0, 0.54));\n",
       "  --xr-font-color3: var(--jp-content-font-color3, rgba(0, 0, 0, 0.38));\n",
       "  --xr-border-color: var(--jp-border-color2, #e0e0e0);\n",
       "  --xr-disabled-color: var(--jp-layout-color3, #bdbdbd);\n",
       "  --xr-background-color: var(--jp-layout-color0, white);\n",
       "  --xr-background-color-row-even: var(--jp-layout-color1, white);\n",
       "  --xr-background-color-row-odd: var(--jp-layout-color2, #eeeeee);\n",
       "}\n",
       "\n",
       "html[theme=dark],\n",
       "body.vscode-dark {\n",
       "  --xr-font-color0: rgba(255, 255, 255, 1);\n",
       "  --xr-font-color2: rgba(255, 255, 255, 0.54);\n",
       "  --xr-font-color3: rgba(255, 255, 255, 0.38);\n",
       "  --xr-border-color: #1F1F1F;\n",
       "  --xr-disabled-color: #515151;\n",
       "  --xr-background-color: #111111;\n",
       "  --xr-background-color-row-even: #111111;\n",
       "  --xr-background-color-row-odd: #313131;\n",
       "}\n",
       "\n",
       ".xr-wrap {\n",
       "  display: block;\n",
       "  min-width: 300px;\n",
       "  max-width: 700px;\n",
       "}\n",
       "\n",
       ".xr-text-repr-fallback {\n",
       "  /* fallback to plain text repr when CSS is not injected (untrusted notebook) */\n",
       "  display: none;\n",
       "}\n",
       "\n",
       ".xr-header {\n",
       "  padding-top: 6px;\n",
       "  padding-bottom: 6px;\n",
       "  margin-bottom: 4px;\n",
       "  border-bottom: solid 1px var(--xr-border-color);\n",
       "}\n",
       "\n",
       ".xr-header > div,\n",
       ".xr-header > ul {\n",
       "  display: inline;\n",
       "  margin-top: 0;\n",
       "  margin-bottom: 0;\n",
       "}\n",
       "\n",
       ".xr-obj-type,\n",
       ".xr-array-name {\n",
       "  margin-left: 2px;\n",
       "  margin-right: 10px;\n",
       "}\n",
       "\n",
       ".xr-obj-type {\n",
       "  color: var(--xr-font-color2);\n",
       "}\n",
       "\n",
       ".xr-sections {\n",
       "  padding-left: 0 !important;\n",
       "  display: grid;\n",
       "  grid-template-columns: 150px auto auto 1fr 20px 20px;\n",
       "}\n",
       "\n",
       ".xr-section-item {\n",
       "  display: contents;\n",
       "}\n",
       "\n",
       ".xr-section-item input {\n",
       "  display: none;\n",
       "}\n",
       "\n",
       ".xr-section-item input + label {\n",
       "  color: var(--xr-disabled-color);\n",
       "}\n",
       "\n",
       ".xr-section-item input:enabled + label {\n",
       "  cursor: pointer;\n",
       "  color: var(--xr-font-color2);\n",
       "}\n",
       "\n",
       ".xr-section-item input:enabled + label:hover {\n",
       "  color: var(--xr-font-color0);\n",
       "}\n",
       "\n",
       ".xr-section-summary {\n",
       "  grid-column: 1;\n",
       "  color: var(--xr-font-color2);\n",
       "  font-weight: 500;\n",
       "}\n",
       "\n",
       ".xr-section-summary > span {\n",
       "  display: inline-block;\n",
       "  padding-left: 0.5em;\n",
       "}\n",
       "\n",
       ".xr-section-summary-in:disabled + label {\n",
       "  color: var(--xr-font-color2);\n",
       "}\n",
       "\n",
       ".xr-section-summary-in + label:before {\n",
       "  display: inline-block;\n",
       "  content: '►';\n",
       "  font-size: 11px;\n",
       "  width: 15px;\n",
       "  text-align: center;\n",
       "}\n",
       "\n",
       ".xr-section-summary-in:disabled + label:before {\n",
       "  color: var(--xr-disabled-color);\n",
       "}\n",
       "\n",
       ".xr-section-summary-in:checked + label:before {\n",
       "  content: '▼';\n",
       "}\n",
       "\n",
       ".xr-section-summary-in:checked + label > span {\n",
       "  display: none;\n",
       "}\n",
       "\n",
       ".xr-section-summary,\n",
       ".xr-section-inline-details {\n",
       "  padding-top: 4px;\n",
       "  padding-bottom: 4px;\n",
       "}\n",
       "\n",
       ".xr-section-inline-details {\n",
       "  grid-column: 2 / -1;\n",
       "}\n",
       "\n",
       ".xr-section-details {\n",
       "  display: none;\n",
       "  grid-column: 1 / -1;\n",
       "  margin-bottom: 5px;\n",
       "}\n",
       "\n",
       ".xr-section-summary-in:checked ~ .xr-section-details {\n",
       "  display: contents;\n",
       "}\n",
       "\n",
       ".xr-array-wrap {\n",
       "  grid-column: 1 / -1;\n",
       "  display: grid;\n",
       "  grid-template-columns: 20px auto;\n",
       "}\n",
       "\n",
       ".xr-array-wrap > label {\n",
       "  grid-column: 1;\n",
       "  vertical-align: top;\n",
       "}\n",
       "\n",
       ".xr-preview {\n",
       "  color: var(--xr-font-color3);\n",
       "}\n",
       "\n",
       ".xr-array-preview,\n",
       ".xr-array-data {\n",
       "  padding: 0 5px !important;\n",
       "  grid-column: 2;\n",
       "}\n",
       "\n",
       ".xr-array-data,\n",
       ".xr-array-in:checked ~ .xr-array-preview {\n",
       "  display: none;\n",
       "}\n",
       "\n",
       ".xr-array-in:checked ~ .xr-array-data,\n",
       ".xr-array-preview {\n",
       "  display: inline-block;\n",
       "}\n",
       "\n",
       ".xr-dim-list {\n",
       "  display: inline-block !important;\n",
       "  list-style: none;\n",
       "  padding: 0 !important;\n",
       "  margin: 0;\n",
       "}\n",
       "\n",
       ".xr-dim-list li {\n",
       "  display: inline-block;\n",
       "  padding: 0;\n",
       "  margin: 0;\n",
       "}\n",
       "\n",
       ".xr-dim-list:before {\n",
       "  content: '(';\n",
       "}\n",
       "\n",
       ".xr-dim-list:after {\n",
       "  content: ')';\n",
       "}\n",
       "\n",
       ".xr-dim-list li:not(:last-child):after {\n",
       "  content: ',';\n",
       "  padding-right: 5px;\n",
       "}\n",
       "\n",
       ".xr-has-index {\n",
       "  font-weight: bold;\n",
       "}\n",
       "\n",
       ".xr-var-list,\n",
       ".xr-var-item {\n",
       "  display: contents;\n",
       "}\n",
       "\n",
       ".xr-var-item > div,\n",
       ".xr-var-item label,\n",
       ".xr-var-item > .xr-var-name span {\n",
       "  background-color: var(--xr-background-color-row-even);\n",
       "  margin-bottom: 0;\n",
       "}\n",
       "\n",
       ".xr-var-item > .xr-var-name:hover span {\n",
       "  padding-right: 5px;\n",
       "}\n",
       "\n",
       ".xr-var-list > li:nth-child(odd) > div,\n",
       ".xr-var-list > li:nth-child(odd) > label,\n",
       ".xr-var-list > li:nth-child(odd) > .xr-var-name span {\n",
       "  background-color: var(--xr-background-color-row-odd);\n",
       "}\n",
       "\n",
       ".xr-var-name {\n",
       "  grid-column: 1;\n",
       "}\n",
       "\n",
       ".xr-var-dims {\n",
       "  grid-column: 2;\n",
       "}\n",
       "\n",
       ".xr-var-dtype {\n",
       "  grid-column: 3;\n",
       "  text-align: right;\n",
       "  color: var(--xr-font-color2);\n",
       "}\n",
       "\n",
       ".xr-var-preview {\n",
       "  grid-column: 4;\n",
       "}\n",
       "\n",
       ".xr-var-name,\n",
       ".xr-var-dims,\n",
       ".xr-var-dtype,\n",
       ".xr-preview,\n",
       ".xr-attrs dt {\n",
       "  white-space: nowrap;\n",
       "  overflow: hidden;\n",
       "  text-overflow: ellipsis;\n",
       "  padding-right: 10px;\n",
       "}\n",
       "\n",
       ".xr-var-name:hover,\n",
       ".xr-var-dims:hover,\n",
       ".xr-var-dtype:hover,\n",
       ".xr-attrs dt:hover {\n",
       "  overflow: visible;\n",
       "  width: auto;\n",
       "  z-index: 1;\n",
       "}\n",
       "\n",
       ".xr-var-attrs,\n",
       ".xr-var-data {\n",
       "  display: none;\n",
       "  background-color: var(--xr-background-color) !important;\n",
       "  padding-bottom: 5px !important;\n",
       "}\n",
       "\n",
       ".xr-var-attrs-in:checked ~ .xr-var-attrs,\n",
       ".xr-var-data-in:checked ~ .xr-var-data {\n",
       "  display: block;\n",
       "}\n",
       "\n",
       ".xr-var-data > table {\n",
       "  float: right;\n",
       "}\n",
       "\n",
       ".xr-var-name span,\n",
       ".xr-var-data,\n",
       ".xr-attrs {\n",
       "  padding-left: 25px !important;\n",
       "}\n",
       "\n",
       ".xr-attrs,\n",
       ".xr-var-attrs,\n",
       ".xr-var-data {\n",
       "  grid-column: 1 / -1;\n",
       "}\n",
       "\n",
       "dl.xr-attrs {\n",
       "  padding: 0;\n",
       "  margin: 0;\n",
       "  display: grid;\n",
       "  grid-template-columns: 125px auto;\n",
       "}\n",
       "\n",
       ".xr-attrs dt,\n",
       ".xr-attrs dd {\n",
       "  padding: 0;\n",
       "  margin: 0;\n",
       "  float: left;\n",
       "  padding-right: 10px;\n",
       "  width: auto;\n",
       "}\n",
       "\n",
       ".xr-attrs dt {\n",
       "  font-weight: normal;\n",
       "  grid-column: 1;\n",
       "}\n",
       "\n",
       ".xr-attrs dt:hover span {\n",
       "  display: inline-block;\n",
       "  background: var(--xr-background-color);\n",
       "  padding-right: 10px;\n",
       "}\n",
       "\n",
       ".xr-attrs dd {\n",
       "  grid-column: 2;\n",
       "  white-space: pre-wrap;\n",
       "  word-break: break-all;\n",
       "}\n",
       "\n",
       ".xr-icon-database,\n",
       ".xr-icon-file-text2 {\n",
       "  display: inline-block;\n",
       "  vertical-align: middle;\n",
       "  width: 1em;\n",
       "  height: 1.5em !important;\n",
       "  stroke-width: 0;\n",
       "  stroke: currentColor;\n",
       "  fill: currentColor;\n",
       "}\n",
       "</style><pre class='xr-text-repr-fallback'>&lt;xarray.Dataset&gt;\n",
       "Dimensions:        (chain: 4, draw: 1000, mu_dim_0: 76, calorie_dim_0: 76)\n",
       "Coordinates:\n",
       "  * chain          (chain) int32 0 1 2 3\n",
       "  * draw           (draw) int32 0 1 2 3 4 5 6 7 ... 993 994 995 996 997 998 999\n",
       "  * mu_dim_0       (mu_dim_0) int32 0 1 2 3 4 5 6 7 ... 68 69 70 71 72 73 74 75\n",
       "  * calorie_dim_0  (calorie_dim_0) int32 0 1 2 3 4 5 6 ... 69 70 71 72 73 74 75\n",
       "Data variables:\n",
       "    alpha          (chain, draw) float64 101.5 101.9 102.2 ... 103.5 104.4 105.3\n",
       "    beta           (chain, draw) float64 1.338 1.44 1.625 ... 0.9922 1.334 1.308\n",
       "    sigma          (chain, draw) float64 11.18 11.41 11.96 ... 12.85 13.06 11.66\n",
       "    mu             (chain, draw, mu_dim_0) float64 100.7 103.3 ... 100.5 107.1\n",
       "    calorie        (chain, draw, calorie_dim_0) float64 95.4 113.2 ... 132.0\n",
       "Attributes:\n",
       "    created_at:                 2022-06-19T21:44:54.472589\n",
       "    arviz_version:              0.11.2\n",
       "    inference_library:          cmdstanpy\n",
       "    inference_library_version:  1.0.1</pre><div class='xr-wrap' hidden><div class='xr-header'><div class='xr-obj-type'>xarray.Dataset</div></div><ul class='xr-sections'><li class='xr-section-item'><input id='section-d279e304-881a-48a4-8e46-f20f5bea4b9a' class='xr-section-summary-in' type='checkbox' disabled ><label for='section-d279e304-881a-48a4-8e46-f20f5bea4b9a' class='xr-section-summary'  title='Expand/collapse section'>Dimensions:</label><div class='xr-section-inline-details'><ul class='xr-dim-list'><li><span class='xr-has-index'>chain</span>: 4</li><li><span class='xr-has-index'>draw</span>: 1000</li><li><span class='xr-has-index'>mu_dim_0</span>: 76</li><li><span class='xr-has-index'>calorie_dim_0</span>: 76</li></ul></div><div class='xr-section-details'></div></li><li class='xr-section-item'><input id='section-5bbd848b-0734-4a11-9865-02b108507ae9' class='xr-section-summary-in' type='checkbox'  checked><label for='section-5bbd848b-0734-4a11-9865-02b108507ae9' class='xr-section-summary' >Coordinates: <span>(4)</span></label><div class='xr-section-inline-details'></div><div class='xr-section-details'><ul class='xr-var-list'><li class='xr-var-item'><div class='xr-var-name'><span class='xr-has-index'>chain</span></div><div class='xr-var-dims'>(chain)</div><div class='xr-var-dtype'>int32</div><div class='xr-var-preview xr-preview'>0 1 2 3</div><input id='attrs-87d01cae-9cb4-4b51-bb6a-dc239059fb8b' class='xr-var-attrs-in' type='checkbox' disabled><label for='attrs-87d01cae-9cb4-4b51-bb6a-dc239059fb8b' title='Show/Hide attributes'><svg class='icon xr-icon-file-text2'><use xlink:href='#icon-file-text2'></use></svg></label><input id='data-752c82c5-6d48-4e08-becf-1dec3f134026' class='xr-var-data-in' type='checkbox'><label for='data-752c82c5-6d48-4e08-becf-1dec3f134026' title='Show/Hide data repr'><svg class='icon xr-icon-database'><use xlink:href='#icon-database'></use></svg></label><div class='xr-var-attrs'><dl class='xr-attrs'></dl></div><div class='xr-var-data'><pre>array([0, 1, 2, 3])</pre></div></li><li class='xr-var-item'><div class='xr-var-name'><span class='xr-has-index'>draw</span></div><div class='xr-var-dims'>(draw)</div><div class='xr-var-dtype'>int32</div><div class='xr-var-preview xr-preview'>0 1 2 3 4 5 ... 995 996 997 998 999</div><input id='attrs-53f3eecd-d856-4cb7-950a-dd06d4166ec1' class='xr-var-attrs-in' type='checkbox' disabled><label for='attrs-53f3eecd-d856-4cb7-950a-dd06d4166ec1' title='Show/Hide attributes'><svg class='icon xr-icon-file-text2'><use xlink:href='#icon-file-text2'></use></svg></label><input id='data-8adf49ac-0b03-4060-9edb-bb2331cc8e2d' class='xr-var-data-in' type='checkbox'><label for='data-8adf49ac-0b03-4060-9edb-bb2331cc8e2d' title='Show/Hide data repr'><svg class='icon xr-icon-database'><use xlink:href='#icon-database'></use></svg></label><div class='xr-var-attrs'><dl class='xr-attrs'></dl></div><div class='xr-var-data'><pre>array([  0,   1,   2, ..., 997, 998, 999])</pre></div></li><li class='xr-var-item'><div class='xr-var-name'><span class='xr-has-index'>mu_dim_0</span></div><div class='xr-var-dims'>(mu_dim_0)</div><div class='xr-var-dtype'>int32</div><div class='xr-var-preview xr-preview'>0 1 2 3 4 5 6 ... 70 71 72 73 74 75</div><input id='attrs-9bdcae92-aa61-4820-bb7c-ba1ee3d0c56b' class='xr-var-attrs-in' type='checkbox' disabled><label for='attrs-9bdcae92-aa61-4820-bb7c-ba1ee3d0c56b' title='Show/Hide attributes'><svg class='icon xr-icon-file-text2'><use xlink:href='#icon-file-text2'></use></svg></label><input id='data-764a4f93-ba36-44fa-9c93-678628ec230b' class='xr-var-data-in' type='checkbox'><label for='data-764a4f93-ba36-44fa-9c93-678628ec230b' title='Show/Hide data repr'><svg class='icon xr-icon-database'><use xlink:href='#icon-database'></use></svg></label><div class='xr-var-attrs'><dl class='xr-attrs'></dl></div><div class='xr-var-data'><pre>array([ 0,  1,  2,  3,  4,  5,  6,  7,  8,  9, 10, 11, 12, 13, 14, 15, 16, 17,\n",
       "       18, 19, 20, 21, 22, 23, 24, 25, 26, 27, 28, 29, 30, 31, 32, 33, 34, 35,\n",
       "       36, 37, 38, 39, 40, 41, 42, 43, 44, 45, 46, 47, 48, 49, 50, 51, 52, 53,\n",
       "       54, 55, 56, 57, 58, 59, 60, 61, 62, 63, 64, 65, 66, 67, 68, 69, 70, 71,\n",
       "       72, 73, 74, 75])</pre></div></li><li class='xr-var-item'><div class='xr-var-name'><span class='xr-has-index'>calorie_dim_0</span></div><div class='xr-var-dims'>(calorie_dim_0)</div><div class='xr-var-dtype'>int32</div><div class='xr-var-preview xr-preview'>0 1 2 3 4 5 6 ... 70 71 72 73 74 75</div><input id='attrs-f3160be0-eb91-49db-a89b-a811e80da519' class='xr-var-attrs-in' type='checkbox' disabled><label for='attrs-f3160be0-eb91-49db-a89b-a811e80da519' title='Show/Hide attributes'><svg class='icon xr-icon-file-text2'><use xlink:href='#icon-file-text2'></use></svg></label><input id='data-04490e27-6b9d-4515-9e45-56479a3b0b8f' class='xr-var-data-in' type='checkbox'><label for='data-04490e27-6b9d-4515-9e45-56479a3b0b8f' title='Show/Hide data repr'><svg class='icon xr-icon-database'><use xlink:href='#icon-database'></use></svg></label><div class='xr-var-attrs'><dl class='xr-attrs'></dl></div><div class='xr-var-data'><pre>array([ 0,  1,  2,  3,  4,  5,  6,  7,  8,  9, 10, 11, 12, 13, 14, 15, 16, 17,\n",
       "       18, 19, 20, 21, 22, 23, 24, 25, 26, 27, 28, 29, 30, 31, 32, 33, 34, 35,\n",
       "       36, 37, 38, 39, 40, 41, 42, 43, 44, 45, 46, 47, 48, 49, 50, 51, 52, 53,\n",
       "       54, 55, 56, 57, 58, 59, 60, 61, 62, 63, 64, 65, 66, 67, 68, 69, 70, 71,\n",
       "       72, 73, 74, 75])</pre></div></li></ul></div></li><li class='xr-section-item'><input id='section-180404d1-3903-4112-9775-d90344da88da' class='xr-section-summary-in' type='checkbox'  checked><label for='section-180404d1-3903-4112-9775-d90344da88da' class='xr-section-summary' >Data variables: <span>(5)</span></label><div class='xr-section-inline-details'></div><div class='xr-section-details'><ul class='xr-var-list'><li class='xr-var-item'><div class='xr-var-name'><span>alpha</span></div><div class='xr-var-dims'>(chain, draw)</div><div class='xr-var-dtype'>float64</div><div class='xr-var-preview xr-preview'>101.5 101.9 102.2 ... 104.4 105.3</div><input id='attrs-e41060f3-549e-4a4c-affb-0a9466160ecb' class='xr-var-attrs-in' type='checkbox' disabled><label for='attrs-e41060f3-549e-4a4c-affb-0a9466160ecb' title='Show/Hide attributes'><svg class='icon xr-icon-file-text2'><use xlink:href='#icon-file-text2'></use></svg></label><input id='data-76658df7-a03e-4dd6-b132-3bf1610321aa' class='xr-var-data-in' type='checkbox'><label for='data-76658df7-a03e-4dd6-b132-3bf1610321aa' title='Show/Hide data repr'><svg class='icon xr-icon-database'><use xlink:href='#icon-database'></use></svg></label><div class='xr-var-attrs'><dl class='xr-attrs'></dl></div><div class='xr-var-data'><pre>array([[101.535, 101.929, 102.232, ..., 103.955, 102.405, 105.446],\n",
       "       [105.065, 105.337, 105.139, ..., 102.896, 102.741, 104.467],\n",
       "       [104.757, 104.245, 105.553, ..., 103.527, 102.715, 102.999],\n",
       "       [102.941, 103.335, 103.812, ..., 103.499, 104.391, 105.296]])</pre></div></li><li class='xr-var-item'><div class='xr-var-name'><span>beta</span></div><div class='xr-var-dims'>(chain, draw)</div><div class='xr-var-dtype'>float64</div><div class='xr-var-preview xr-preview'>1.338 1.44 1.625 ... 1.334 1.308</div><input id='attrs-3d25b48c-f086-42a9-96f8-e889015682a3' class='xr-var-attrs-in' type='checkbox' disabled><label for='attrs-3d25b48c-f086-42a9-96f8-e889015682a3' title='Show/Hide attributes'><svg class='icon xr-icon-file-text2'><use xlink:href='#icon-file-text2'></use></svg></label><input id='data-3edfcb98-ec76-4288-a31e-6376322c92a1' class='xr-var-data-in' type='checkbox'><label for='data-3edfcb98-ec76-4288-a31e-6376322c92a1' title='Show/Hide data repr'><svg class='icon xr-icon-database'><use xlink:href='#icon-database'></use></svg></label><div class='xr-var-attrs'><dl class='xr-attrs'></dl></div><div class='xr-var-data'><pre>array([[1.33768 , 1.44047 , 1.62503 , ..., 0.880673, 0.941637, 1.08347 ],\n",
       "       [1.18706 , 1.25585 , 0.92178 , ..., 1.13721 , 1.35317 , 1.26586 ],\n",
       "       [1.31523 , 1.61491 , 1.4965  , ..., 1.39225 , 1.5311  , 1.53344 ],\n",
       "       [1.04999 , 0.624432, 0.763691, ..., 0.992187, 1.3343  , 1.30763 ]])</pre></div></li><li class='xr-var-item'><div class='xr-var-name'><span>sigma</span></div><div class='xr-var-dims'>(chain, draw)</div><div class='xr-var-dtype'>float64</div><div class='xr-var-preview xr-preview'>11.18 11.41 11.96 ... 13.06 11.66</div><input id='attrs-b41a9125-f5c9-4247-84b8-34f08c61242d' class='xr-var-attrs-in' type='checkbox' disabled><label for='attrs-b41a9125-f5c9-4247-84b8-34f08c61242d' title='Show/Hide attributes'><svg class='icon xr-icon-file-text2'><use xlink:href='#icon-file-text2'></use></svg></label><input id='data-8879b3ff-79d6-41dc-acde-49b5e0c9eacd' class='xr-var-data-in' type='checkbox'><label for='data-8879b3ff-79d6-41dc-acde-49b5e0c9eacd' title='Show/Hide data repr'><svg class='icon xr-icon-database'><use xlink:href='#icon-database'></use></svg></label><div class='xr-var-attrs'><dl class='xr-attrs'></dl></div><div class='xr-var-data'><pre>array([[11.1833, 11.4105, 11.9606, ..., 13.4825, 14.709 , 12.2307],\n",
       "       [11.3171, 13.9424, 12.834 , ..., 13.7388, 13.4229, 14.0061],\n",
       "       [12.9939, 13.0604, 13.4542, ..., 12.2962, 12.4948, 13.0114],\n",
       "       [13.7266, 13.2447, 13.5546, ..., 12.8461, 13.0591, 11.6556]])</pre></div></li><li class='xr-var-item'><div class='xr-var-name'><span>mu</span></div><div class='xr-var-dims'>(chain, draw, mu_dim_0)</div><div class='xr-var-dtype'>float64</div><div class='xr-var-preview xr-preview'>100.7 103.3 99.32 ... 100.5 107.1</div><input id='attrs-2186d901-7658-4bd5-9de7-85c3ae7c130a' class='xr-var-attrs-in' type='checkbox' disabled><label for='attrs-2186d901-7658-4bd5-9de7-85c3ae7c130a' title='Show/Hide attributes'><svg class='icon xr-icon-file-text2'><use xlink:href='#icon-file-text2'></use></svg></label><input id='data-4199d6d2-592b-44d2-9280-d56974432bae' class='xr-var-data-in' type='checkbox'><label for='data-4199d6d2-592b-44d2-9280-d56974432bae' title='Show/Hide data repr'><svg class='icon xr-icon-database'><use xlink:href='#icon-database'></use></svg></label><div class='xr-var-attrs'><dl class='xr-attrs'></dl></div><div class='xr-var-data'><pre>array([[[100.659 , 103.334 ,  99.3211, ...,  96.6457,  96.6457,\n",
       "         103.334 ],\n",
       "        [100.985 , 103.866 ,  99.5449, ...,  96.664 ,  96.664 ,\n",
       "         103.866 ],\n",
       "        [101.167 , 104.418 ,  99.5424, ...,  96.2924,  96.2924,\n",
       "         104.418 ],\n",
       "        ...,\n",
       "        [103.378 , 105.14  , 102.498 , ..., 100.736 , 100.736 ,\n",
       "         105.14  ],\n",
       "        [101.789 , 103.672 , 100.847 , ...,  98.9639,  98.9639,\n",
       "         103.672 ],\n",
       "        [104.736 , 106.903 , 103.653 , ..., 101.486 , 101.486 ,\n",
       "         106.903 ]],\n",
       "\n",
       "       [[104.287 , 106.662 , 103.1   , ..., 100.726 , 100.726 ,\n",
       "         106.662 ],\n",
       "        [104.515 , 107.026 , 103.259 , ..., 100.747 , 100.747 ,\n",
       "         107.026 ],\n",
       "        [104.536 , 106.379 , 103.614 , ..., 101.77  , 101.77  ,\n",
       "         106.379 ],\n",
       "...\n",
       "        [102.615 , 105.4   , 101.223 , ...,  98.4384,  98.4384,\n",
       "         105.4   ],\n",
       "        [101.713 , 104.775 , 100.181 , ...,  97.1192,  97.1192,\n",
       "         104.775 ],\n",
       "        [101.995 , 105.061 , 100.461 , ...,  97.3942,  97.3942,\n",
       "         105.061 ]],\n",
       "\n",
       "       [[102.253 , 104.353 , 101.203 , ...,  99.103 ,  99.103 ,\n",
       "         104.353 ],\n",
       "        [102.926 , 104.175 , 102.301 , ..., 101.052 , 101.052 ,\n",
       "         104.175 ],\n",
       "        [103.311 , 104.839 , 102.548 , ..., 101.02  , 101.02  ,\n",
       "         104.839 ],\n",
       "        ...,\n",
       "        [102.85  , 104.834 , 101.858 , ...,  99.8731,  99.8731,\n",
       "         104.834 ],\n",
       "        [103.517 , 106.185 , 102.183 , ...,  99.514 ,  99.514 ,\n",
       "         106.185 ],\n",
       "        [104.44  , 107.055 , 103.132 , ..., 100.517 , 100.517 ,\n",
       "         107.055 ]]])</pre></div></li><li class='xr-var-item'><div class='xr-var-name'><span>calorie</span></div><div class='xr-var-dims'>(chain, draw, calorie_dim_0)</div><div class='xr-var-dtype'>float64</div><div class='xr-var-preview xr-preview'>95.4 113.2 102.9 ... 108.9 132.0</div><input id='attrs-b5a16cea-a37d-4eac-b73a-833683e01d51' class='xr-var-attrs-in' type='checkbox' disabled><label for='attrs-b5a16cea-a37d-4eac-b73a-833683e01d51' title='Show/Hide attributes'><svg class='icon xr-icon-file-text2'><use xlink:href='#icon-file-text2'></use></svg></label><input id='data-2fa113dd-ddb9-4b4b-97cd-8d69166a0196' class='xr-var-data-in' type='checkbox'><label for='data-2fa113dd-ddb9-4b4b-97cd-8d69166a0196' title='Show/Hide data repr'><svg class='icon xr-icon-database'><use xlink:href='#icon-database'></use></svg></label><div class='xr-var-attrs'><dl class='xr-attrs'></dl></div><div class='xr-var-data'><pre>array([[[ 95.4049, 113.184 , 102.94  , ...,  93.0254,  97.6723,\n",
       "          96.9212],\n",
       "        [112.837 , 106.432 ,  86.0712, ...,  83.4018, 122.857 ,\n",
       "         101.51  ],\n",
       "        [ 91.5275, 106.257 , 101.806 , ...,  77.6142,  78.2929,\n",
       "          95.8887],\n",
       "        ...,\n",
       "        [125.292 , 104.83  , 107.478 , ..., 103.275 ,  94.5334,\n",
       "          88.0692],\n",
       "        [109.855 ,  99.5225,  99.244 , ...,  95.7391,  99.4512,\n",
       "          94.2925],\n",
       "        [ 92.997 , 103.275 , 107.295 , ..., 117.464 ,  97.9347,\n",
       "          95.0043]],\n",
       "\n",
       "       [[114.571 , 103.717 , 103.938 , ...,  86.7599, 101.215 ,\n",
       "          91.6402],\n",
       "        [103.832 , 112.068 ,  83.5963, ..., 109.291 ,  99.3213,\n",
       "         100.471 ],\n",
       "        [121.765 ,  96.6661, 120.417 , ...,  98.7732,  75.7685,\n",
       "         111.655 ],\n",
       "...\n",
       "        [112.341 , 120.301 , 109.937 , ..., 104.285 ,  95.154 ,\n",
       "          97.0633],\n",
       "        [ 97.3646, 114.129 ,  92.8128, ..., 118.482 ,  81.7545,\n",
       "          97.0104],\n",
       "        [127.042 , 103.048 ,  94.3206, ...,  97.2577,  84.186 ,\n",
       "         113.931 ]],\n",
       "\n",
       "       [[126.554 , 103.942 ,  96.3872, ..., 102.09  ,  86.1505,\n",
       "         124.026 ],\n",
       "        [113.981 , 100.625 ,  99.8243, ..., 112.166 , 121.813 ,\n",
       "         124.808 ],\n",
       "        [121.05  , 107.509 , 113.772 , ...,  90.4025,  89.3239,\n",
       "          96.2494],\n",
       "        ...,\n",
       "        [122.669 ,  90.3502,  99.2323, ..., 103.144 , 103.273 ,\n",
       "         102.744 ],\n",
       "        [ 97.7678, 101.363 , 109.151 , ..., 106.546 , 107.757 ,\n",
       "          71.5995],\n",
       "        [ 96.7494, 109.777 , 106.514 , ..., 103.371 , 108.941 ,\n",
       "         131.967 ]]])</pre></div></li></ul></div></li><li class='xr-section-item'><input id='section-805671ef-6586-4edf-8a8f-e1340df1a8a9' class='xr-section-summary-in' type='checkbox'  checked><label for='section-805671ef-6586-4edf-8a8f-e1340df1a8a9' class='xr-section-summary' >Attributes: <span>(4)</span></label><div class='xr-section-inline-details'></div><div class='xr-section-details'><dl class='xr-attrs'><dt><span>created_at :</span></dt><dd>2022-06-19T21:44:54.472589</dd><dt><span>arviz_version :</span></dt><dd>0.11.2</dd><dt><span>inference_library :</span></dt><dd>cmdstanpy</dd><dt><span>inference_library_version :</span></dt><dd>1.0.1</dd></dl></div></li></ul></div></div><br></div>\n",
       "                      </ul>\n",
       "                  </div>\n",
       "            </li>\n",
       "            \n",
       "            <li class = \"xr-section-item\">\n",
       "                  <input id=\"idata_log_likelihoodff5430dc-3fd5-4964-ad23-4a18bf5ab047\" class=\"xr-section-summary-in\" type=\"checkbox\">\n",
       "                  <label for=\"idata_log_likelihoodff5430dc-3fd5-4964-ad23-4a18bf5ab047\" class = \"xr-section-summary\">log_likelihood</label>\n",
       "                  <div class=\"xr-section-inline-details\"></div>\n",
       "                  <div class=\"xr-section-details\">\n",
       "                      <ul id=\"xr-dataset-coord-list\" class=\"xr-var-list\">\n",
       "                          <div style=\"padding-left:2rem;\"><div><svg style=\"position: absolute; width: 0; height: 0; overflow: hidden\">\n",
       "<defs>\n",
       "<symbol id=\"icon-database\" viewBox=\"0 0 32 32\">\n",
       "<path d=\"M16 0c-8.837 0-16 2.239-16 5v4c0 2.761 7.163 5 16 5s16-2.239 16-5v-4c0-2.761-7.163-5-16-5z\"></path>\n",
       "<path d=\"M16 17c-8.837 0-16-2.239-16-5v6c0 2.761 7.163 5 16 5s16-2.239 16-5v-6c0 2.761-7.163 5-16 5z\"></path>\n",
       "<path d=\"M16 26c-8.837 0-16-2.239-16-5v6c0 2.761 7.163 5 16 5s16-2.239 16-5v-6c0 2.761-7.163 5-16 5z\"></path>\n",
       "</symbol>\n",
       "<symbol id=\"icon-file-text2\" viewBox=\"0 0 32 32\">\n",
       "<path d=\"M28.681 7.159c-0.694-0.947-1.662-2.053-2.724-3.116s-2.169-2.030-3.116-2.724c-1.612-1.182-2.393-1.319-2.841-1.319h-15.5c-1.378 0-2.5 1.121-2.5 2.5v27c0 1.378 1.122 2.5 2.5 2.5h23c1.378 0 2.5-1.122 2.5-2.5v-19.5c0-0.448-0.137-1.23-1.319-2.841zM24.543 5.457c0.959 0.959 1.712 1.825 2.268 2.543h-4.811v-4.811c0.718 0.556 1.584 1.309 2.543 2.268zM28 29.5c0 0.271-0.229 0.5-0.5 0.5h-23c-0.271 0-0.5-0.229-0.5-0.5v-27c0-0.271 0.229-0.5 0.5-0.5 0 0 15.499-0 15.5 0v7c0 0.552 0.448 1 1 1h7v19.5z\"></path>\n",
       "<path d=\"M23 26h-14c-0.552 0-1-0.448-1-1s0.448-1 1-1h14c0.552 0 1 0.448 1 1s-0.448 1-1 1z\"></path>\n",
       "<path d=\"M23 22h-14c-0.552 0-1-0.448-1-1s0.448-1 1-1h14c0.552 0 1 0.448 1 1s-0.448 1-1 1z\"></path>\n",
       "<path d=\"M23 18h-14c-0.552 0-1-0.448-1-1s0.448-1 1-1h14c0.552 0 1 0.448 1 1s-0.448 1-1 1z\"></path>\n",
       "</symbol>\n",
       "</defs>\n",
       "</svg>\n",
       "<style>/* CSS stylesheet for displaying xarray objects in jupyterlab.\n",
       " *\n",
       " */\n",
       "\n",
       ":root {\n",
       "  --xr-font-color0: var(--jp-content-font-color0, rgba(0, 0, 0, 1));\n",
       "  --xr-font-color2: var(--jp-content-font-color2, rgba(0, 0, 0, 0.54));\n",
       "  --xr-font-color3: var(--jp-content-font-color3, rgba(0, 0, 0, 0.38));\n",
       "  --xr-border-color: var(--jp-border-color2, #e0e0e0);\n",
       "  --xr-disabled-color: var(--jp-layout-color3, #bdbdbd);\n",
       "  --xr-background-color: var(--jp-layout-color0, white);\n",
       "  --xr-background-color-row-even: var(--jp-layout-color1, white);\n",
       "  --xr-background-color-row-odd: var(--jp-layout-color2, #eeeeee);\n",
       "}\n",
       "\n",
       "html[theme=dark],\n",
       "body.vscode-dark {\n",
       "  --xr-font-color0: rgba(255, 255, 255, 1);\n",
       "  --xr-font-color2: rgba(255, 255, 255, 0.54);\n",
       "  --xr-font-color3: rgba(255, 255, 255, 0.38);\n",
       "  --xr-border-color: #1F1F1F;\n",
       "  --xr-disabled-color: #515151;\n",
       "  --xr-background-color: #111111;\n",
       "  --xr-background-color-row-even: #111111;\n",
       "  --xr-background-color-row-odd: #313131;\n",
       "}\n",
       "\n",
       ".xr-wrap {\n",
       "  display: block;\n",
       "  min-width: 300px;\n",
       "  max-width: 700px;\n",
       "}\n",
       "\n",
       ".xr-text-repr-fallback {\n",
       "  /* fallback to plain text repr when CSS is not injected (untrusted notebook) */\n",
       "  display: none;\n",
       "}\n",
       "\n",
       ".xr-header {\n",
       "  padding-top: 6px;\n",
       "  padding-bottom: 6px;\n",
       "  margin-bottom: 4px;\n",
       "  border-bottom: solid 1px var(--xr-border-color);\n",
       "}\n",
       "\n",
       ".xr-header > div,\n",
       ".xr-header > ul {\n",
       "  display: inline;\n",
       "  margin-top: 0;\n",
       "  margin-bottom: 0;\n",
       "}\n",
       "\n",
       ".xr-obj-type,\n",
       ".xr-array-name {\n",
       "  margin-left: 2px;\n",
       "  margin-right: 10px;\n",
       "}\n",
       "\n",
       ".xr-obj-type {\n",
       "  color: var(--xr-font-color2);\n",
       "}\n",
       "\n",
       ".xr-sections {\n",
       "  padding-left: 0 !important;\n",
       "  display: grid;\n",
       "  grid-template-columns: 150px auto auto 1fr 20px 20px;\n",
       "}\n",
       "\n",
       ".xr-section-item {\n",
       "  display: contents;\n",
       "}\n",
       "\n",
       ".xr-section-item input {\n",
       "  display: none;\n",
       "}\n",
       "\n",
       ".xr-section-item input + label {\n",
       "  color: var(--xr-disabled-color);\n",
       "}\n",
       "\n",
       ".xr-section-item input:enabled + label {\n",
       "  cursor: pointer;\n",
       "  color: var(--xr-font-color2);\n",
       "}\n",
       "\n",
       ".xr-section-item input:enabled + label:hover {\n",
       "  color: var(--xr-font-color0);\n",
       "}\n",
       "\n",
       ".xr-section-summary {\n",
       "  grid-column: 1;\n",
       "  color: var(--xr-font-color2);\n",
       "  font-weight: 500;\n",
       "}\n",
       "\n",
       ".xr-section-summary > span {\n",
       "  display: inline-block;\n",
       "  padding-left: 0.5em;\n",
       "}\n",
       "\n",
       ".xr-section-summary-in:disabled + label {\n",
       "  color: var(--xr-font-color2);\n",
       "}\n",
       "\n",
       ".xr-section-summary-in + label:before {\n",
       "  display: inline-block;\n",
       "  content: '►';\n",
       "  font-size: 11px;\n",
       "  width: 15px;\n",
       "  text-align: center;\n",
       "}\n",
       "\n",
       ".xr-section-summary-in:disabled + label:before {\n",
       "  color: var(--xr-disabled-color);\n",
       "}\n",
       "\n",
       ".xr-section-summary-in:checked + label:before {\n",
       "  content: '▼';\n",
       "}\n",
       "\n",
       ".xr-section-summary-in:checked + label > span {\n",
       "  display: none;\n",
       "}\n",
       "\n",
       ".xr-section-summary,\n",
       ".xr-section-inline-details {\n",
       "  padding-top: 4px;\n",
       "  padding-bottom: 4px;\n",
       "}\n",
       "\n",
       ".xr-section-inline-details {\n",
       "  grid-column: 2 / -1;\n",
       "}\n",
       "\n",
       ".xr-section-details {\n",
       "  display: none;\n",
       "  grid-column: 1 / -1;\n",
       "  margin-bottom: 5px;\n",
       "}\n",
       "\n",
       ".xr-section-summary-in:checked ~ .xr-section-details {\n",
       "  display: contents;\n",
       "}\n",
       "\n",
       ".xr-array-wrap {\n",
       "  grid-column: 1 / -1;\n",
       "  display: grid;\n",
       "  grid-template-columns: 20px auto;\n",
       "}\n",
       "\n",
       ".xr-array-wrap > label {\n",
       "  grid-column: 1;\n",
       "  vertical-align: top;\n",
       "}\n",
       "\n",
       ".xr-preview {\n",
       "  color: var(--xr-font-color3);\n",
       "}\n",
       "\n",
       ".xr-array-preview,\n",
       ".xr-array-data {\n",
       "  padding: 0 5px !important;\n",
       "  grid-column: 2;\n",
       "}\n",
       "\n",
       ".xr-array-data,\n",
       ".xr-array-in:checked ~ .xr-array-preview {\n",
       "  display: none;\n",
       "}\n",
       "\n",
       ".xr-array-in:checked ~ .xr-array-data,\n",
       ".xr-array-preview {\n",
       "  display: inline-block;\n",
       "}\n",
       "\n",
       ".xr-dim-list {\n",
       "  display: inline-block !important;\n",
       "  list-style: none;\n",
       "  padding: 0 !important;\n",
       "  margin: 0;\n",
       "}\n",
       "\n",
       ".xr-dim-list li {\n",
       "  display: inline-block;\n",
       "  padding: 0;\n",
       "  margin: 0;\n",
       "}\n",
       "\n",
       ".xr-dim-list:before {\n",
       "  content: '(';\n",
       "}\n",
       "\n",
       ".xr-dim-list:after {\n",
       "  content: ')';\n",
       "}\n",
       "\n",
       ".xr-dim-list li:not(:last-child):after {\n",
       "  content: ',';\n",
       "  padding-right: 5px;\n",
       "}\n",
       "\n",
       ".xr-has-index {\n",
       "  font-weight: bold;\n",
       "}\n",
       "\n",
       ".xr-var-list,\n",
       ".xr-var-item {\n",
       "  display: contents;\n",
       "}\n",
       "\n",
       ".xr-var-item > div,\n",
       ".xr-var-item label,\n",
       ".xr-var-item > .xr-var-name span {\n",
       "  background-color: var(--xr-background-color-row-even);\n",
       "  margin-bottom: 0;\n",
       "}\n",
       "\n",
       ".xr-var-item > .xr-var-name:hover span {\n",
       "  padding-right: 5px;\n",
       "}\n",
       "\n",
       ".xr-var-list > li:nth-child(odd) > div,\n",
       ".xr-var-list > li:nth-child(odd) > label,\n",
       ".xr-var-list > li:nth-child(odd) > .xr-var-name span {\n",
       "  background-color: var(--xr-background-color-row-odd);\n",
       "}\n",
       "\n",
       ".xr-var-name {\n",
       "  grid-column: 1;\n",
       "}\n",
       "\n",
       ".xr-var-dims {\n",
       "  grid-column: 2;\n",
       "}\n",
       "\n",
       ".xr-var-dtype {\n",
       "  grid-column: 3;\n",
       "  text-align: right;\n",
       "  color: var(--xr-font-color2);\n",
       "}\n",
       "\n",
       ".xr-var-preview {\n",
       "  grid-column: 4;\n",
       "}\n",
       "\n",
       ".xr-var-name,\n",
       ".xr-var-dims,\n",
       ".xr-var-dtype,\n",
       ".xr-preview,\n",
       ".xr-attrs dt {\n",
       "  white-space: nowrap;\n",
       "  overflow: hidden;\n",
       "  text-overflow: ellipsis;\n",
       "  padding-right: 10px;\n",
       "}\n",
       "\n",
       ".xr-var-name:hover,\n",
       ".xr-var-dims:hover,\n",
       ".xr-var-dtype:hover,\n",
       ".xr-attrs dt:hover {\n",
       "  overflow: visible;\n",
       "  width: auto;\n",
       "  z-index: 1;\n",
       "}\n",
       "\n",
       ".xr-var-attrs,\n",
       ".xr-var-data {\n",
       "  display: none;\n",
       "  background-color: var(--xr-background-color) !important;\n",
       "  padding-bottom: 5px !important;\n",
       "}\n",
       "\n",
       ".xr-var-attrs-in:checked ~ .xr-var-attrs,\n",
       ".xr-var-data-in:checked ~ .xr-var-data {\n",
       "  display: block;\n",
       "}\n",
       "\n",
       ".xr-var-data > table {\n",
       "  float: right;\n",
       "}\n",
       "\n",
       ".xr-var-name span,\n",
       ".xr-var-data,\n",
       ".xr-attrs {\n",
       "  padding-left: 25px !important;\n",
       "}\n",
       "\n",
       ".xr-attrs,\n",
       ".xr-var-attrs,\n",
       ".xr-var-data {\n",
       "  grid-column: 1 / -1;\n",
       "}\n",
       "\n",
       "dl.xr-attrs {\n",
       "  padding: 0;\n",
       "  margin: 0;\n",
       "  display: grid;\n",
       "  grid-template-columns: 125px auto;\n",
       "}\n",
       "\n",
       ".xr-attrs dt,\n",
       ".xr-attrs dd {\n",
       "  padding: 0;\n",
       "  margin: 0;\n",
       "  float: left;\n",
       "  padding-right: 10px;\n",
       "  width: auto;\n",
       "}\n",
       "\n",
       ".xr-attrs dt {\n",
       "  font-weight: normal;\n",
       "  grid-column: 1;\n",
       "}\n",
       "\n",
       ".xr-attrs dt:hover span {\n",
       "  display: inline-block;\n",
       "  background: var(--xr-background-color);\n",
       "  padding-right: 10px;\n",
       "}\n",
       "\n",
       ".xr-attrs dd {\n",
       "  grid-column: 2;\n",
       "  white-space: pre-wrap;\n",
       "  word-break: break-all;\n",
       "}\n",
       "\n",
       ".xr-icon-database,\n",
       ".xr-icon-file-text2 {\n",
       "  display: inline-block;\n",
       "  vertical-align: middle;\n",
       "  width: 1em;\n",
       "  height: 1.5em !important;\n",
       "  stroke-width: 0;\n",
       "  stroke: currentColor;\n",
       "  fill: currentColor;\n",
       "}\n",
       "</style><pre class='xr-text-repr-fallback'>&lt;xarray.Dataset&gt;\n",
       "Dimensions:        (chain: 4, draw: 1000, log_lik_dim_0: 76)\n",
       "Coordinates:\n",
       "  * chain          (chain) int32 0 1 2 3\n",
       "  * draw           (draw) int32 0 1 2 3 4 5 6 7 ... 993 994 995 996 997 998 999\n",
       "  * log_lik_dim_0  (log_lik_dim_0) int32 0 1 2 3 4 5 6 ... 69 70 71 72 73 74 75\n",
       "Data variables:\n",
       "    log_lik        (chain, draw, log_lik_dim_0) float64 -7.091 -4.444 ... -3.407\n",
       "Attributes:\n",
       "    created_at:                 2022-06-19T21:44:54.490587\n",
       "    arviz_version:              0.11.2\n",
       "    inference_library:          cmdstanpy\n",
       "    inference_library_version:  1.0.1</pre><div class='xr-wrap' hidden><div class='xr-header'><div class='xr-obj-type'>xarray.Dataset</div></div><ul class='xr-sections'><li class='xr-section-item'><input id='section-ef7f29d5-54cf-4d37-b3b2-5f82103e7adf' class='xr-section-summary-in' type='checkbox' disabled ><label for='section-ef7f29d5-54cf-4d37-b3b2-5f82103e7adf' class='xr-section-summary'  title='Expand/collapse section'>Dimensions:</label><div class='xr-section-inline-details'><ul class='xr-dim-list'><li><span class='xr-has-index'>chain</span>: 4</li><li><span class='xr-has-index'>draw</span>: 1000</li><li><span class='xr-has-index'>log_lik_dim_0</span>: 76</li></ul></div><div class='xr-section-details'></div></li><li class='xr-section-item'><input id='section-c88886fc-95e2-4623-8155-24bbf3abc19b' class='xr-section-summary-in' type='checkbox'  checked><label for='section-c88886fc-95e2-4623-8155-24bbf3abc19b' class='xr-section-summary' >Coordinates: <span>(3)</span></label><div class='xr-section-inline-details'></div><div class='xr-section-details'><ul class='xr-var-list'><li class='xr-var-item'><div class='xr-var-name'><span class='xr-has-index'>chain</span></div><div class='xr-var-dims'>(chain)</div><div class='xr-var-dtype'>int32</div><div class='xr-var-preview xr-preview'>0 1 2 3</div><input id='attrs-836b92a4-21ed-4fd2-a0e5-088ca00f80f4' class='xr-var-attrs-in' type='checkbox' disabled><label for='attrs-836b92a4-21ed-4fd2-a0e5-088ca00f80f4' title='Show/Hide attributes'><svg class='icon xr-icon-file-text2'><use xlink:href='#icon-file-text2'></use></svg></label><input id='data-5abf6436-8f35-414f-a823-15ee8df11afb' class='xr-var-data-in' type='checkbox'><label for='data-5abf6436-8f35-414f-a823-15ee8df11afb' title='Show/Hide data repr'><svg class='icon xr-icon-database'><use xlink:href='#icon-database'></use></svg></label><div class='xr-var-attrs'><dl class='xr-attrs'></dl></div><div class='xr-var-data'><pre>array([0, 1, 2, 3])</pre></div></li><li class='xr-var-item'><div class='xr-var-name'><span class='xr-has-index'>draw</span></div><div class='xr-var-dims'>(draw)</div><div class='xr-var-dtype'>int32</div><div class='xr-var-preview xr-preview'>0 1 2 3 4 5 ... 995 996 997 998 999</div><input id='attrs-4b9252b7-f0b1-4f0d-9a57-b15097fadb2f' class='xr-var-attrs-in' type='checkbox' disabled><label for='attrs-4b9252b7-f0b1-4f0d-9a57-b15097fadb2f' title='Show/Hide attributes'><svg class='icon xr-icon-file-text2'><use xlink:href='#icon-file-text2'></use></svg></label><input id='data-1a706a2c-83ef-46fa-8d73-6d40f4904a57' class='xr-var-data-in' type='checkbox'><label for='data-1a706a2c-83ef-46fa-8d73-6d40f4904a57' title='Show/Hide data repr'><svg class='icon xr-icon-database'><use xlink:href='#icon-database'></use></svg></label><div class='xr-var-attrs'><dl class='xr-attrs'></dl></div><div class='xr-var-data'><pre>array([  0,   1,   2, ..., 997, 998, 999])</pre></div></li><li class='xr-var-item'><div class='xr-var-name'><span class='xr-has-index'>log_lik_dim_0</span></div><div class='xr-var-dims'>(log_lik_dim_0)</div><div class='xr-var-dtype'>int32</div><div class='xr-var-preview xr-preview'>0 1 2 3 4 5 6 ... 70 71 72 73 74 75</div><input id='attrs-eabfc807-5aa3-4578-94ad-c4ef3a74077b' class='xr-var-attrs-in' type='checkbox' disabled><label for='attrs-eabfc807-5aa3-4578-94ad-c4ef3a74077b' title='Show/Hide attributes'><svg class='icon xr-icon-file-text2'><use xlink:href='#icon-file-text2'></use></svg></label><input id='data-c02492cf-4a93-400d-aea9-33b3e615792c' class='xr-var-data-in' type='checkbox'><label for='data-c02492cf-4a93-400d-aea9-33b3e615792c' title='Show/Hide data repr'><svg class='icon xr-icon-database'><use xlink:href='#icon-database'></use></svg></label><div class='xr-var-attrs'><dl class='xr-attrs'></dl></div><div class='xr-var-data'><pre>array([ 0,  1,  2,  3,  4,  5,  6,  7,  8,  9, 10, 11, 12, 13, 14, 15, 16, 17,\n",
       "       18, 19, 20, 21, 22, 23, 24, 25, 26, 27, 28, 29, 30, 31, 32, 33, 34, 35,\n",
       "       36, 37, 38, 39, 40, 41, 42, 43, 44, 45, 46, 47, 48, 49, 50, 51, 52, 53,\n",
       "       54, 55, 56, 57, 58, 59, 60, 61, 62, 63, 64, 65, 66, 67, 68, 69, 70, 71,\n",
       "       72, 73, 74, 75])</pre></div></li></ul></div></li><li class='xr-section-item'><input id='section-2587b160-11b3-4077-8e6b-3165c1c39c43' class='xr-section-summary-in' type='checkbox'  checked><label for='section-2587b160-11b3-4077-8e6b-3165c1c39c43' class='xr-section-summary' >Data variables: <span>(1)</span></label><div class='xr-section-inline-details'></div><div class='xr-section-details'><ul class='xr-var-list'><li class='xr-var-item'><div class='xr-var-name'><span>log_lik</span></div><div class='xr-var-dims'>(chain, draw, log_lik_dim_0)</div><div class='xr-var-dtype'>float64</div><div class='xr-var-preview xr-preview'>-7.091 -4.444 ... -3.376 -3.407</div><input id='attrs-7d7da233-ceff-4175-92ff-2f95fc6022bf' class='xr-var-attrs-in' type='checkbox' disabled><label for='attrs-7d7da233-ceff-4175-92ff-2f95fc6022bf' title='Show/Hide attributes'><svg class='icon xr-icon-file-text2'><use xlink:href='#icon-file-text2'></use></svg></label><input id='data-29a69977-b391-42fd-92b8-8c8b8613f585' class='xr-var-data-in' type='checkbox'><label for='data-29a69977-b391-42fd-92b8-8c8b8613f585' title='Show/Hide data repr'><svg class='icon xr-icon-database'><use xlink:href='#icon-database'></use></svg></label><div class='xr-var-attrs'><dl class='xr-attrs'></dl></div><div class='xr-var-data'><pre>array([[[-7.09119, -4.44378, -6.77043, ..., -3.37834, -3.37834,\n",
       "         -3.511  ],\n",
       "        [-7.04046, -4.35307, -6.70563, ..., -3.39621, -3.39621,\n",
       "         -3.49795],\n",
       "        [-6.79576, -4.24922, -6.45095, ..., -3.4486 , -3.4486 ,\n",
       "         -3.50948],\n",
       "        ...,\n",
       "        [-6.58485, -4.12774, -6.42527, ..., -3.52182, -3.52182,\n",
       "         -3.5853 ],\n",
       "        [-5.94274, -4.22352, -5.80644, ..., -3.60988, -3.60988,\n",
       "         -3.69994],\n",
       "        [-7.45593, -3.9962 , -7.20826, ..., -3.43027, -3.43027,\n",
       "         -3.45494]],\n",
       "\n",
       "       [[-7.93483, -4.03981, -7.62254, ..., -3.34731, -3.34731,\n",
       "         -3.38876],\n",
       "        [-6.61797, -3.9868 , -6.39905, ..., -3.55531, -3.55531,\n",
       "         -3.57662],\n",
       "        [-7.09168, -4.03421, -6.90098, ..., -3.48055, -3.48055,\n",
       "         -3.51083],\n",
       "...\n",
       "        [-6.94599, -4.13318, -6.65207, ..., -3.43629, -3.43629,\n",
       "         -3.49821],\n",
       "        [-6.66512, -4.18666, -6.36162, ..., -3.47083, -3.47083,\n",
       "         -3.53169],\n",
       "        [-6.50802, -4.14385, -6.22517, ..., -3.50482, -3.50482,\n",
       "         -3.55679]],\n",
       "\n",
       "       [[-6.29874, -4.18797, -6.12194, ..., -3.54041, -3.54041,\n",
       "         -3.6229 ],\n",
       "        [-6.59255, -4.21636, -6.47646, ..., -3.50569, -3.50569,\n",
       "         -3.59926],\n",
       "        [-6.54552, -4.15121, -6.40864, ..., -3.5285 , -3.5285 ,\n",
       "         -3.59815],\n",
       "        ...,\n",
       "        [-6.74152, -4.16887, -6.547  , ..., -3.47203, -3.47203,\n",
       "         -3.55284],\n",
       "        [-6.78203, -4.04795, -6.52501, ..., -3.48911, -3.48911,\n",
       "         -3.53108],\n",
       "        [-7.74015, -3.99145, -7.41495, ..., -3.37571, -3.37571,\n",
       "         -3.40664]]])</pre></div></li></ul></div></li><li class='xr-section-item'><input id='section-4d986514-b418-45ef-a3d3-8b1a934f48b4' class='xr-section-summary-in' type='checkbox'  checked><label for='section-4d986514-b418-45ef-a3d3-8b1a934f48b4' class='xr-section-summary' >Attributes: <span>(4)</span></label><div class='xr-section-inline-details'></div><div class='xr-section-details'><dl class='xr-attrs'><dt><span>created_at :</span></dt><dd>2022-06-19T21:44:54.490587</dd><dt><span>arviz_version :</span></dt><dd>0.11.2</dd><dt><span>inference_library :</span></dt><dd>cmdstanpy</dd><dt><span>inference_library_version :</span></dt><dd>1.0.1</dd></dl></div></li></ul></div></div><br></div>\n",
       "                      </ul>\n",
       "                  </div>\n",
       "            </li>\n",
       "            \n",
       "            <li class = \"xr-section-item\">\n",
       "                  <input id=\"idata_sample_stats5cdcc618-660b-421a-af91-6ec9484f5be7\" class=\"xr-section-summary-in\" type=\"checkbox\">\n",
       "                  <label for=\"idata_sample_stats5cdcc618-660b-421a-af91-6ec9484f5be7\" class = \"xr-section-summary\">sample_stats</label>\n",
       "                  <div class=\"xr-section-inline-details\"></div>\n",
       "                  <div class=\"xr-section-details\">\n",
       "                      <ul id=\"xr-dataset-coord-list\" class=\"xr-var-list\">\n",
       "                          <div style=\"padding-left:2rem;\"><div><svg style=\"position: absolute; width: 0; height: 0; overflow: hidden\">\n",
       "<defs>\n",
       "<symbol id=\"icon-database\" viewBox=\"0 0 32 32\">\n",
       "<path d=\"M16 0c-8.837 0-16 2.239-16 5v4c0 2.761 7.163 5 16 5s16-2.239 16-5v-4c0-2.761-7.163-5-16-5z\"></path>\n",
       "<path d=\"M16 17c-8.837 0-16-2.239-16-5v6c0 2.761 7.163 5 16 5s16-2.239 16-5v-6c0 2.761-7.163 5-16 5z\"></path>\n",
       "<path d=\"M16 26c-8.837 0-16-2.239-16-5v6c0 2.761 7.163 5 16 5s16-2.239 16-5v-6c0 2.761-7.163 5-16 5z\"></path>\n",
       "</symbol>\n",
       "<symbol id=\"icon-file-text2\" viewBox=\"0 0 32 32\">\n",
       "<path d=\"M28.681 7.159c-0.694-0.947-1.662-2.053-2.724-3.116s-2.169-2.030-3.116-2.724c-1.612-1.182-2.393-1.319-2.841-1.319h-15.5c-1.378 0-2.5 1.121-2.5 2.5v27c0 1.378 1.122 2.5 2.5 2.5h23c1.378 0 2.5-1.122 2.5-2.5v-19.5c0-0.448-0.137-1.23-1.319-2.841zM24.543 5.457c0.959 0.959 1.712 1.825 2.268 2.543h-4.811v-4.811c0.718 0.556 1.584 1.309 2.543 2.268zM28 29.5c0 0.271-0.229 0.5-0.5 0.5h-23c-0.271 0-0.5-0.229-0.5-0.5v-27c0-0.271 0.229-0.5 0.5-0.5 0 0 15.499-0 15.5 0v7c0 0.552 0.448 1 1 1h7v19.5z\"></path>\n",
       "<path d=\"M23 26h-14c-0.552 0-1-0.448-1-1s0.448-1 1-1h14c0.552 0 1 0.448 1 1s-0.448 1-1 1z\"></path>\n",
       "<path d=\"M23 22h-14c-0.552 0-1-0.448-1-1s0.448-1 1-1h14c0.552 0 1 0.448 1 1s-0.448 1-1 1z\"></path>\n",
       "<path d=\"M23 18h-14c-0.552 0-1-0.448-1-1s0.448-1 1-1h14c0.552 0 1 0.448 1 1s-0.448 1-1 1z\"></path>\n",
       "</symbol>\n",
       "</defs>\n",
       "</svg>\n",
       "<style>/* CSS stylesheet for displaying xarray objects in jupyterlab.\n",
       " *\n",
       " */\n",
       "\n",
       ":root {\n",
       "  --xr-font-color0: var(--jp-content-font-color0, rgba(0, 0, 0, 1));\n",
       "  --xr-font-color2: var(--jp-content-font-color2, rgba(0, 0, 0, 0.54));\n",
       "  --xr-font-color3: var(--jp-content-font-color3, rgba(0, 0, 0, 0.38));\n",
       "  --xr-border-color: var(--jp-border-color2, #e0e0e0);\n",
       "  --xr-disabled-color: var(--jp-layout-color3, #bdbdbd);\n",
       "  --xr-background-color: var(--jp-layout-color0, white);\n",
       "  --xr-background-color-row-even: var(--jp-layout-color1, white);\n",
       "  --xr-background-color-row-odd: var(--jp-layout-color2, #eeeeee);\n",
       "}\n",
       "\n",
       "html[theme=dark],\n",
       "body.vscode-dark {\n",
       "  --xr-font-color0: rgba(255, 255, 255, 1);\n",
       "  --xr-font-color2: rgba(255, 255, 255, 0.54);\n",
       "  --xr-font-color3: rgba(255, 255, 255, 0.38);\n",
       "  --xr-border-color: #1F1F1F;\n",
       "  --xr-disabled-color: #515151;\n",
       "  --xr-background-color: #111111;\n",
       "  --xr-background-color-row-even: #111111;\n",
       "  --xr-background-color-row-odd: #313131;\n",
       "}\n",
       "\n",
       ".xr-wrap {\n",
       "  display: block;\n",
       "  min-width: 300px;\n",
       "  max-width: 700px;\n",
       "}\n",
       "\n",
       ".xr-text-repr-fallback {\n",
       "  /* fallback to plain text repr when CSS is not injected (untrusted notebook) */\n",
       "  display: none;\n",
       "}\n",
       "\n",
       ".xr-header {\n",
       "  padding-top: 6px;\n",
       "  padding-bottom: 6px;\n",
       "  margin-bottom: 4px;\n",
       "  border-bottom: solid 1px var(--xr-border-color);\n",
       "}\n",
       "\n",
       ".xr-header > div,\n",
       ".xr-header > ul {\n",
       "  display: inline;\n",
       "  margin-top: 0;\n",
       "  margin-bottom: 0;\n",
       "}\n",
       "\n",
       ".xr-obj-type,\n",
       ".xr-array-name {\n",
       "  margin-left: 2px;\n",
       "  margin-right: 10px;\n",
       "}\n",
       "\n",
       ".xr-obj-type {\n",
       "  color: var(--xr-font-color2);\n",
       "}\n",
       "\n",
       ".xr-sections {\n",
       "  padding-left: 0 !important;\n",
       "  display: grid;\n",
       "  grid-template-columns: 150px auto auto 1fr 20px 20px;\n",
       "}\n",
       "\n",
       ".xr-section-item {\n",
       "  display: contents;\n",
       "}\n",
       "\n",
       ".xr-section-item input {\n",
       "  display: none;\n",
       "}\n",
       "\n",
       ".xr-section-item input + label {\n",
       "  color: var(--xr-disabled-color);\n",
       "}\n",
       "\n",
       ".xr-section-item input:enabled + label {\n",
       "  cursor: pointer;\n",
       "  color: var(--xr-font-color2);\n",
       "}\n",
       "\n",
       ".xr-section-item input:enabled + label:hover {\n",
       "  color: var(--xr-font-color0);\n",
       "}\n",
       "\n",
       ".xr-section-summary {\n",
       "  grid-column: 1;\n",
       "  color: var(--xr-font-color2);\n",
       "  font-weight: 500;\n",
       "}\n",
       "\n",
       ".xr-section-summary > span {\n",
       "  display: inline-block;\n",
       "  padding-left: 0.5em;\n",
       "}\n",
       "\n",
       ".xr-section-summary-in:disabled + label {\n",
       "  color: var(--xr-font-color2);\n",
       "}\n",
       "\n",
       ".xr-section-summary-in + label:before {\n",
       "  display: inline-block;\n",
       "  content: '►';\n",
       "  font-size: 11px;\n",
       "  width: 15px;\n",
       "  text-align: center;\n",
       "}\n",
       "\n",
       ".xr-section-summary-in:disabled + label:before {\n",
       "  color: var(--xr-disabled-color);\n",
       "}\n",
       "\n",
       ".xr-section-summary-in:checked + label:before {\n",
       "  content: '▼';\n",
       "}\n",
       "\n",
       ".xr-section-summary-in:checked + label > span {\n",
       "  display: none;\n",
       "}\n",
       "\n",
       ".xr-section-summary,\n",
       ".xr-section-inline-details {\n",
       "  padding-top: 4px;\n",
       "  padding-bottom: 4px;\n",
       "}\n",
       "\n",
       ".xr-section-inline-details {\n",
       "  grid-column: 2 / -1;\n",
       "}\n",
       "\n",
       ".xr-section-details {\n",
       "  display: none;\n",
       "  grid-column: 1 / -1;\n",
       "  margin-bottom: 5px;\n",
       "}\n",
       "\n",
       ".xr-section-summary-in:checked ~ .xr-section-details {\n",
       "  display: contents;\n",
       "}\n",
       "\n",
       ".xr-array-wrap {\n",
       "  grid-column: 1 / -1;\n",
       "  display: grid;\n",
       "  grid-template-columns: 20px auto;\n",
       "}\n",
       "\n",
       ".xr-array-wrap > label {\n",
       "  grid-column: 1;\n",
       "  vertical-align: top;\n",
       "}\n",
       "\n",
       ".xr-preview {\n",
       "  color: var(--xr-font-color3);\n",
       "}\n",
       "\n",
       ".xr-array-preview,\n",
       ".xr-array-data {\n",
       "  padding: 0 5px !important;\n",
       "  grid-column: 2;\n",
       "}\n",
       "\n",
       ".xr-array-data,\n",
       ".xr-array-in:checked ~ .xr-array-preview {\n",
       "  display: none;\n",
       "}\n",
       "\n",
       ".xr-array-in:checked ~ .xr-array-data,\n",
       ".xr-array-preview {\n",
       "  display: inline-block;\n",
       "}\n",
       "\n",
       ".xr-dim-list {\n",
       "  display: inline-block !important;\n",
       "  list-style: none;\n",
       "  padding: 0 !important;\n",
       "  margin: 0;\n",
       "}\n",
       "\n",
       ".xr-dim-list li {\n",
       "  display: inline-block;\n",
       "  padding: 0;\n",
       "  margin: 0;\n",
       "}\n",
       "\n",
       ".xr-dim-list:before {\n",
       "  content: '(';\n",
       "}\n",
       "\n",
       ".xr-dim-list:after {\n",
       "  content: ')';\n",
       "}\n",
       "\n",
       ".xr-dim-list li:not(:last-child):after {\n",
       "  content: ',';\n",
       "  padding-right: 5px;\n",
       "}\n",
       "\n",
       ".xr-has-index {\n",
       "  font-weight: bold;\n",
       "}\n",
       "\n",
       ".xr-var-list,\n",
       ".xr-var-item {\n",
       "  display: contents;\n",
       "}\n",
       "\n",
       ".xr-var-item > div,\n",
       ".xr-var-item label,\n",
       ".xr-var-item > .xr-var-name span {\n",
       "  background-color: var(--xr-background-color-row-even);\n",
       "  margin-bottom: 0;\n",
       "}\n",
       "\n",
       ".xr-var-item > .xr-var-name:hover span {\n",
       "  padding-right: 5px;\n",
       "}\n",
       "\n",
       ".xr-var-list > li:nth-child(odd) > div,\n",
       ".xr-var-list > li:nth-child(odd) > label,\n",
       ".xr-var-list > li:nth-child(odd) > .xr-var-name span {\n",
       "  background-color: var(--xr-background-color-row-odd);\n",
       "}\n",
       "\n",
       ".xr-var-name {\n",
       "  grid-column: 1;\n",
       "}\n",
       "\n",
       ".xr-var-dims {\n",
       "  grid-column: 2;\n",
       "}\n",
       "\n",
       ".xr-var-dtype {\n",
       "  grid-column: 3;\n",
       "  text-align: right;\n",
       "  color: var(--xr-font-color2);\n",
       "}\n",
       "\n",
       ".xr-var-preview {\n",
       "  grid-column: 4;\n",
       "}\n",
       "\n",
       ".xr-var-name,\n",
       ".xr-var-dims,\n",
       ".xr-var-dtype,\n",
       ".xr-preview,\n",
       ".xr-attrs dt {\n",
       "  white-space: nowrap;\n",
       "  overflow: hidden;\n",
       "  text-overflow: ellipsis;\n",
       "  padding-right: 10px;\n",
       "}\n",
       "\n",
       ".xr-var-name:hover,\n",
       ".xr-var-dims:hover,\n",
       ".xr-var-dtype:hover,\n",
       ".xr-attrs dt:hover {\n",
       "  overflow: visible;\n",
       "  width: auto;\n",
       "  z-index: 1;\n",
       "}\n",
       "\n",
       ".xr-var-attrs,\n",
       ".xr-var-data {\n",
       "  display: none;\n",
       "  background-color: var(--xr-background-color) !important;\n",
       "  padding-bottom: 5px !important;\n",
       "}\n",
       "\n",
       ".xr-var-attrs-in:checked ~ .xr-var-attrs,\n",
       ".xr-var-data-in:checked ~ .xr-var-data {\n",
       "  display: block;\n",
       "}\n",
       "\n",
       ".xr-var-data > table {\n",
       "  float: right;\n",
       "}\n",
       "\n",
       ".xr-var-name span,\n",
       ".xr-var-data,\n",
       ".xr-attrs {\n",
       "  padding-left: 25px !important;\n",
       "}\n",
       "\n",
       ".xr-attrs,\n",
       ".xr-var-attrs,\n",
       ".xr-var-data {\n",
       "  grid-column: 1 / -1;\n",
       "}\n",
       "\n",
       "dl.xr-attrs {\n",
       "  padding: 0;\n",
       "  margin: 0;\n",
       "  display: grid;\n",
       "  grid-template-columns: 125px auto;\n",
       "}\n",
       "\n",
       ".xr-attrs dt,\n",
       ".xr-attrs dd {\n",
       "  padding: 0;\n",
       "  margin: 0;\n",
       "  float: left;\n",
       "  padding-right: 10px;\n",
       "  width: auto;\n",
       "}\n",
       "\n",
       ".xr-attrs dt {\n",
       "  font-weight: normal;\n",
       "  grid-column: 1;\n",
       "}\n",
       "\n",
       ".xr-attrs dt:hover span {\n",
       "  display: inline-block;\n",
       "  background: var(--xr-background-color);\n",
       "  padding-right: 10px;\n",
       "}\n",
       "\n",
       ".xr-attrs dd {\n",
       "  grid-column: 2;\n",
       "  white-space: pre-wrap;\n",
       "  word-break: break-all;\n",
       "}\n",
       "\n",
       ".xr-icon-database,\n",
       ".xr-icon-file-text2 {\n",
       "  display: inline-block;\n",
       "  vertical-align: middle;\n",
       "  width: 1em;\n",
       "  height: 1.5em !important;\n",
       "  stroke-width: 0;\n",
       "  stroke: currentColor;\n",
       "  fill: currentColor;\n",
       "}\n",
       "</style><pre class='xr-text-repr-fallback'>&lt;xarray.Dataset&gt;\n",
       "Dimensions:      (chain: 4, draw: 1000)\n",
       "Coordinates:\n",
       "  * chain        (chain) int32 0 1 2 3\n",
       "  * draw         (draw) int32 0 1 2 3 4 5 6 7 ... 993 994 995 996 997 998 999\n",
       "Data variables:\n",
       "    lp           (chain, draw) float64 -234.9 -234.0 -233.4 ... -231.5 -232.5\n",
       "    accept_stat  (chain, draw) float64 0.9547 0.9961 0.9992 ... 0.9983 0.9905\n",
       "    stepsize     (chain, draw) float64 0.2581 0.2581 0.2581 ... 0.2382 0.2382\n",
       "    treedepth    (chain, draw) int64 4 3 3 3 3 4 4 3 2 4 ... 4 3 4 4 3 3 2 3 4 3\n",
       "    n_leapfrog   (chain, draw) int64 15 7 7 7 7 15 15 7 ... 15 15 15 7 7 15 15 7\n",
       "    diverging    (chain, draw) bool False False False ... False False False\n",
       "    energy       (chain, draw) float64 239.3 236.1 234.7 ... 231.8 231.9 232.7\n",
       "Attributes:\n",
       "    created_at:                 2022-06-19T21:44:54.481586\n",
       "    arviz_version:              0.11.2\n",
       "    inference_library:          cmdstanpy\n",
       "    inference_library_version:  1.0.1</pre><div class='xr-wrap' hidden><div class='xr-header'><div class='xr-obj-type'>xarray.Dataset</div></div><ul class='xr-sections'><li class='xr-section-item'><input id='section-6960bce2-2033-486e-80a4-d5a95cc3f195' class='xr-section-summary-in' type='checkbox' disabled ><label for='section-6960bce2-2033-486e-80a4-d5a95cc3f195' class='xr-section-summary'  title='Expand/collapse section'>Dimensions:</label><div class='xr-section-inline-details'><ul class='xr-dim-list'><li><span class='xr-has-index'>chain</span>: 4</li><li><span class='xr-has-index'>draw</span>: 1000</li></ul></div><div class='xr-section-details'></div></li><li class='xr-section-item'><input id='section-77369bb5-9af7-4380-9308-0eb3ee719d4c' class='xr-section-summary-in' type='checkbox'  checked><label for='section-77369bb5-9af7-4380-9308-0eb3ee719d4c' class='xr-section-summary' >Coordinates: <span>(2)</span></label><div class='xr-section-inline-details'></div><div class='xr-section-details'><ul class='xr-var-list'><li class='xr-var-item'><div class='xr-var-name'><span class='xr-has-index'>chain</span></div><div class='xr-var-dims'>(chain)</div><div class='xr-var-dtype'>int32</div><div class='xr-var-preview xr-preview'>0 1 2 3</div><input id='attrs-f8f580eb-a9ae-4c19-b9fd-43501f3aca58' class='xr-var-attrs-in' type='checkbox' disabled><label for='attrs-f8f580eb-a9ae-4c19-b9fd-43501f3aca58' title='Show/Hide attributes'><svg class='icon xr-icon-file-text2'><use xlink:href='#icon-file-text2'></use></svg></label><input id='data-7729f387-e85a-46fa-92e8-663c6f7a384f' class='xr-var-data-in' type='checkbox'><label for='data-7729f387-e85a-46fa-92e8-663c6f7a384f' title='Show/Hide data repr'><svg class='icon xr-icon-database'><use xlink:href='#icon-database'></use></svg></label><div class='xr-var-attrs'><dl class='xr-attrs'></dl></div><div class='xr-var-data'><pre>array([0, 1, 2, 3])</pre></div></li><li class='xr-var-item'><div class='xr-var-name'><span class='xr-has-index'>draw</span></div><div class='xr-var-dims'>(draw)</div><div class='xr-var-dtype'>int32</div><div class='xr-var-preview xr-preview'>0 1 2 3 4 5 ... 995 996 997 998 999</div><input id='attrs-b99eb2a3-e740-4767-a395-028011b4be75' class='xr-var-attrs-in' type='checkbox' disabled><label for='attrs-b99eb2a3-e740-4767-a395-028011b4be75' title='Show/Hide attributes'><svg class='icon xr-icon-file-text2'><use xlink:href='#icon-file-text2'></use></svg></label><input id='data-a21ae4f4-06ac-4a57-b81a-e085d7fa913c' class='xr-var-data-in' type='checkbox'><label for='data-a21ae4f4-06ac-4a57-b81a-e085d7fa913c' title='Show/Hide data repr'><svg class='icon xr-icon-database'><use xlink:href='#icon-database'></use></svg></label><div class='xr-var-attrs'><dl class='xr-attrs'></dl></div><div class='xr-var-data'><pre>array([  0,   1,   2, ..., 997, 998, 999])</pre></div></li></ul></div></li><li class='xr-section-item'><input id='section-68bba7df-dd1b-4af1-aba4-ecc9aa5ee231' class='xr-section-summary-in' type='checkbox'  checked><label for='section-68bba7df-dd1b-4af1-aba4-ecc9aa5ee231' class='xr-section-summary' >Data variables: <span>(7)</span></label><div class='xr-section-inline-details'></div><div class='xr-section-details'><ul class='xr-var-list'><li class='xr-var-item'><div class='xr-var-name'><span>lp</span></div><div class='xr-var-dims'>(chain, draw)</div><div class='xr-var-dtype'>float64</div><div class='xr-var-preview xr-preview'>-234.9 -234.0 ... -231.5 -232.5</div><input id='attrs-ed53f539-a304-493b-a582-5ab541d78147' class='xr-var-attrs-in' type='checkbox' disabled><label for='attrs-ed53f539-a304-493b-a582-5ab541d78147' title='Show/Hide attributes'><svg class='icon xr-icon-file-text2'><use xlink:href='#icon-file-text2'></use></svg></label><input id='data-423072ef-0eae-4f2e-9aef-13b36c1e4a0a' class='xr-var-data-in' type='checkbox'><label for='data-423072ef-0eae-4f2e-9aef-13b36c1e4a0a' title='Show/Hide data repr'><svg class='icon xr-icon-database'><use xlink:href='#icon-database'></use></svg></label><div class='xr-var-attrs'><dl class='xr-attrs'></dl></div><div class='xr-var-data'><pre>array([[-234.903, -234.043, -233.424, ..., -231.735, -233.184, -232.012],\n",
       "       [-232.904, -232.174, -231.799, ..., -231.916, -231.958, -231.943],\n",
       "       [-231.514, -232.083, -232.356, ..., -231.701, -232.303, -232.073],\n",
       "       [-231.917, -232.509, -232.043, ..., -231.481, -231.462, -232.547]])</pre></div></li><li class='xr-var-item'><div class='xr-var-name'><span>accept_stat</span></div><div class='xr-var-dims'>(chain, draw)</div><div class='xr-var-dtype'>float64</div><div class='xr-var-preview xr-preview'>0.9547 0.9961 ... 0.9983 0.9905</div><input id='attrs-1ef985d6-452e-4d7f-baec-c0e3ec96214c' class='xr-var-attrs-in' type='checkbox' disabled><label for='attrs-1ef985d6-452e-4d7f-baec-c0e3ec96214c' title='Show/Hide attributes'><svg class='icon xr-icon-file-text2'><use xlink:href='#icon-file-text2'></use></svg></label><input id='data-69dda488-5b97-4003-b64a-77b8832c5278' class='xr-var-data-in' type='checkbox'><label for='data-69dda488-5b97-4003-b64a-77b8832c5278' title='Show/Hide data repr'><svg class='icon xr-icon-database'><use xlink:href='#icon-database'></use></svg></label><div class='xr-var-attrs'><dl class='xr-attrs'></dl></div><div class='xr-var-data'><pre>array([[0.954696, 0.996144, 0.999205, ..., 1.      , 0.988737, 0.996229],\n",
       "       [0.998707, 0.996638, 0.984417, ..., 0.997511, 0.995588, 0.995273],\n",
       "       [0.999537, 0.99083 , 0.991563, ..., 0.998458, 0.968262, 0.999729],\n",
       "       [0.998888, 0.992298, 0.999403, ..., 0.999101, 0.998258, 0.99047 ]])</pre></div></li><li class='xr-var-item'><div class='xr-var-name'><span>stepsize</span></div><div class='xr-var-dims'>(chain, draw)</div><div class='xr-var-dtype'>float64</div><div class='xr-var-preview xr-preview'>0.2581 0.2581 ... 0.2382 0.2382</div><input id='attrs-95bcfe7b-9ba8-4b8f-8426-325dcbed9201' class='xr-var-attrs-in' type='checkbox' disabled><label for='attrs-95bcfe7b-9ba8-4b8f-8426-325dcbed9201' title='Show/Hide attributes'><svg class='icon xr-icon-file-text2'><use xlink:href='#icon-file-text2'></use></svg></label><input id='data-ab06891c-e13c-4270-ac8c-faae7726d909' class='xr-var-data-in' type='checkbox'><label for='data-ab06891c-e13c-4270-ac8c-faae7726d909' title='Show/Hide data repr'><svg class='icon xr-icon-database'><use xlink:href='#icon-database'></use></svg></label><div class='xr-var-attrs'><dl class='xr-attrs'></dl></div><div class='xr-var-data'><pre>array([[0.258098, 0.258098, 0.258098, ..., 0.258098, 0.258098, 0.258098],\n",
       "       [0.262846, 0.262846, 0.262846, ..., 0.262846, 0.262846, 0.262846],\n",
       "       [0.30829 , 0.30829 , 0.30829 , ..., 0.30829 , 0.30829 , 0.30829 ],\n",
       "       [0.238151, 0.238151, 0.238151, ..., 0.238151, 0.238151, 0.238151]])</pre></div></li><li class='xr-var-item'><div class='xr-var-name'><span>treedepth</span></div><div class='xr-var-dims'>(chain, draw)</div><div class='xr-var-dtype'>int64</div><div class='xr-var-preview xr-preview'>4 3 3 3 3 4 4 3 ... 4 4 3 3 2 3 4 3</div><input id='attrs-b20f7080-9a7a-4ca4-9d4b-bde11c770fff' class='xr-var-attrs-in' type='checkbox' disabled><label for='attrs-b20f7080-9a7a-4ca4-9d4b-bde11c770fff' title='Show/Hide attributes'><svg class='icon xr-icon-file-text2'><use xlink:href='#icon-file-text2'></use></svg></label><input id='data-6a798249-0513-41e3-a76f-cde8e53d9eea' class='xr-var-data-in' type='checkbox'><label for='data-6a798249-0513-41e3-a76f-cde8e53d9eea' title='Show/Hide data repr'><svg class='icon xr-icon-database'><use xlink:href='#icon-database'></use></svg></label><div class='xr-var-attrs'><dl class='xr-attrs'></dl></div><div class='xr-var-data'><pre>array([[4, 3, 3, ..., 4, 3, 4],\n",
       "       [4, 3, 3, ..., 4, 4, 4],\n",
       "       [4, 3, 3, ..., 3, 3, 3],\n",
       "       [4, 4, 3, ..., 3, 4, 3]], dtype=int64)</pre></div></li><li class='xr-var-item'><div class='xr-var-name'><span>n_leapfrog</span></div><div class='xr-var-dims'>(chain, draw)</div><div class='xr-var-dtype'>int64</div><div class='xr-var-preview xr-preview'>15 7 7 7 7 15 15 ... 15 7 7 15 15 7</div><input id='attrs-0ad09676-e42f-43fd-becf-9675fcb5af4c' class='xr-var-attrs-in' type='checkbox' disabled><label for='attrs-0ad09676-e42f-43fd-becf-9675fcb5af4c' title='Show/Hide attributes'><svg class='icon xr-icon-file-text2'><use xlink:href='#icon-file-text2'></use></svg></label><input id='data-8b7c3773-d44d-496a-998f-2f7bd769035d' class='xr-var-data-in' type='checkbox'><label for='data-8b7c3773-d44d-496a-998f-2f7bd769035d' title='Show/Hide data repr'><svg class='icon xr-icon-database'><use xlink:href='#icon-database'></use></svg></label><div class='xr-var-attrs'><dl class='xr-attrs'></dl></div><div class='xr-var-data'><pre>array([[15,  7,  7, ..., 15, 15, 15],\n",
       "       [15, 15, 15, ..., 15, 15, 15],\n",
       "       [15,  7,  7, ...,  7, 15,  7],\n",
       "       [15, 15,  7, ..., 15, 15,  7]], dtype=int64)</pre></div></li><li class='xr-var-item'><div class='xr-var-name'><span>diverging</span></div><div class='xr-var-dims'>(chain, draw)</div><div class='xr-var-dtype'>bool</div><div class='xr-var-preview xr-preview'>False False False ... False False</div><input id='attrs-1d91d6c3-ade5-4145-b8ff-6601bdfd7a36' class='xr-var-attrs-in' type='checkbox' disabled><label for='attrs-1d91d6c3-ade5-4145-b8ff-6601bdfd7a36' title='Show/Hide attributes'><svg class='icon xr-icon-file-text2'><use xlink:href='#icon-file-text2'></use></svg></label><input id='data-ead19a83-4ab4-4a69-96fb-8d9bfe6e5895' class='xr-var-data-in' type='checkbox'><label for='data-ead19a83-4ab4-4a69-96fb-8d9bfe6e5895' title='Show/Hide data repr'><svg class='icon xr-icon-database'><use xlink:href='#icon-database'></use></svg></label><div class='xr-var-attrs'><dl class='xr-attrs'></dl></div><div class='xr-var-data'><pre>array([[False, False, False, ..., False, False, False],\n",
       "       [False, False, False, ..., False, False, False],\n",
       "       [False, False, False, ..., False, False, False],\n",
       "       [False, False, False, ..., False, False, False]])</pre></div></li><li class='xr-var-item'><div class='xr-var-name'><span>energy</span></div><div class='xr-var-dims'>(chain, draw)</div><div class='xr-var-dtype'>float64</div><div class='xr-var-preview xr-preview'>239.3 236.1 234.7 ... 231.9 232.7</div><input id='attrs-cf8172c8-accf-4b73-8c94-46f62bc94021' class='xr-var-attrs-in' type='checkbox' disabled><label for='attrs-cf8172c8-accf-4b73-8c94-46f62bc94021' title='Show/Hide attributes'><svg class='icon xr-icon-file-text2'><use xlink:href='#icon-file-text2'></use></svg></label><input id='data-6833d585-3d3e-428b-b176-b9ae5d1e785e' class='xr-var-data-in' type='checkbox'><label for='data-6833d585-3d3e-428b-b176-b9ae5d1e785e' title='Show/Hide data repr'><svg class='icon xr-icon-database'><use xlink:href='#icon-database'></use></svg></label><div class='xr-var-attrs'><dl class='xr-attrs'></dl></div><div class='xr-var-data'><pre>array([[239.325, 236.146, 234.697, ..., 232.742, 233.766, 234.641],\n",
       "       [235.934, 234.098, 235.313, ..., 232.984, 232.965, 232.977],\n",
       "       [232.167, 232.261, 232.995, ..., 233.828, 234.243, 232.539],\n",
       "       [232.524, 233.414, 232.758, ..., 231.77 , 231.942, 232.696]])</pre></div></li></ul></div></li><li class='xr-section-item'><input id='section-a38524de-4b50-4211-a602-f5545cdb0b58' class='xr-section-summary-in' type='checkbox'  checked><label for='section-a38524de-4b50-4211-a602-f5545cdb0b58' class='xr-section-summary' >Attributes: <span>(4)</span></label><div class='xr-section-inline-details'></div><div class='xr-section-details'><dl class='xr-attrs'><dt><span>created_at :</span></dt><dd>2022-06-19T21:44:54.481586</dd><dt><span>arviz_version :</span></dt><dd>0.11.2</dd><dt><span>inference_library :</span></dt><dd>cmdstanpy</dd><dt><span>inference_library_version :</span></dt><dd>1.0.1</dd></dl></div></li></ul></div></div><br></div>\n",
       "                      </ul>\n",
       "                  </div>\n",
       "            </li>\n",
       "            \n",
       "              </ul>\n",
       "            </div>\n",
       "            <style> /* CSS stylesheet for displaying InferenceData objects in jupyterlab.\n",
       " *\n",
       " */\n",
       "\n",
       ":root {\n",
       "  --xr-font-color0: var(--jp-content-font-color0, rgba(0, 0, 0, 1));\n",
       "  --xr-font-color2: var(--jp-content-font-color2, rgba(0, 0, 0, 0.54));\n",
       "  --xr-font-color3: var(--jp-content-font-color3, rgba(0, 0, 0, 0.38));\n",
       "  --xr-border-color: var(--jp-border-color2, #e0e0e0);\n",
       "  --xr-disabled-color: var(--jp-layout-color3, #bdbdbd);\n",
       "  --xr-background-color: var(--jp-layout-color0, white);\n",
       "  --xr-background-color-row-even: var(--jp-layout-color1, white);\n",
       "  --xr-background-color-row-odd: var(--jp-layout-color2, #eeeeee);\n",
       "}\n",
       "\n",
       "html[theme=dark],\n",
       "body.vscode-dark {\n",
       "  --xr-font-color0: rgba(255, 255, 255, 1);\n",
       "  --xr-font-color2: rgba(255, 255, 255, 0.54);\n",
       "  --xr-font-color3: rgba(255, 255, 255, 0.38);\n",
       "  --xr-border-color: #1F1F1F;\n",
       "  --xr-disabled-color: #515151;\n",
       "  --xr-background-color: #111111;\n",
       "  --xr-background-color-row-even: #111111;\n",
       "  --xr-background-color-row-odd: #313131;\n",
       "}\n",
       "\n",
       ".xr-wrap {\n",
       "  display: block;\n",
       "  min-width: 300px;\n",
       "  max-width: 700px;\n",
       "}\n",
       "\n",
       ".xr-text-repr-fallback {\n",
       "  /* fallback to plain text repr when CSS is not injected (untrusted notebook) */\n",
       "  display: none;\n",
       "}\n",
       "\n",
       ".xr-header {\n",
       "  padding-top: 6px;\n",
       "  padding-bottom: 6px;\n",
       "  margin-bottom: 4px;\n",
       "  border-bottom: solid 1px var(--xr-border-color);\n",
       "}\n",
       "\n",
       ".xr-header > div,\n",
       ".xr-header > ul {\n",
       "  display: inline;\n",
       "  margin-top: 0;\n",
       "  margin-bottom: 0;\n",
       "}\n",
       "\n",
       ".xr-obj-type,\n",
       ".xr-array-name {\n",
       "  margin-left: 2px;\n",
       "  margin-right: 10px;\n",
       "}\n",
       "\n",
       ".xr-obj-type {\n",
       "  color: var(--xr-font-color2);\n",
       "}\n",
       "\n",
       ".xr-sections {\n",
       "  padding-left: 0 !important;\n",
       "  display: grid;\n",
       "  grid-template-columns: 150px auto auto 1fr 20px 20px;\n",
       "}\n",
       "\n",
       ".xr-sections.group-sections {\n",
       "  grid-template-columns: auto;\n",
       "}\n",
       "\n",
       ".xr-section-item {\n",
       "  display: contents;\n",
       "}\n",
       "\n",
       ".xr-section-item input {\n",
       "  display: none;\n",
       "}\n",
       "\n",
       ".xr-section-item input + label {\n",
       "  color: var(--xr-disabled-color);\n",
       "}\n",
       "\n",
       ".xr-section-item input:enabled + label {\n",
       "  cursor: pointer;\n",
       "  color: var(--xr-font-color2);\n",
       "}\n",
       "\n",
       ".xr-section-item input:enabled + label:hover {\n",
       "  color: var(--xr-font-color0);\n",
       "}\n",
       "\n",
       ".xr-section-summary {\n",
       "  grid-column: 1;\n",
       "  color: var(--xr-font-color2);\n",
       "  font-weight: 500;\n",
       "}\n",
       "\n",
       ".xr-section-summary > span {\n",
       "  display: inline-block;\n",
       "  padding-left: 0.5em;\n",
       "}\n",
       "\n",
       ".xr-section-summary-in:disabled + label {\n",
       "  color: var(--xr-font-color2);\n",
       "}\n",
       "\n",
       ".xr-section-summary-in + label:before {\n",
       "  display: inline-block;\n",
       "  content: '►';\n",
       "  font-size: 11px;\n",
       "  width: 15px;\n",
       "  text-align: center;\n",
       "}\n",
       "\n",
       ".xr-section-summary-in:disabled + label:before {\n",
       "  color: var(--xr-disabled-color);\n",
       "}\n",
       "\n",
       ".xr-section-summary-in:checked + label:before {\n",
       "  content: '▼';\n",
       "}\n",
       "\n",
       ".xr-section-summary-in:checked + label > span {\n",
       "  display: none;\n",
       "}\n",
       "\n",
       ".xr-section-summary,\n",
       ".xr-section-inline-details {\n",
       "  padding-top: 4px;\n",
       "  padding-bottom: 4px;\n",
       "}\n",
       "\n",
       ".xr-section-inline-details {\n",
       "  grid-column: 2 / -1;\n",
       "}\n",
       "\n",
       ".xr-section-details {\n",
       "  display: none;\n",
       "  grid-column: 1 / -1;\n",
       "  margin-bottom: 5px;\n",
       "}\n",
       "\n",
       ".xr-section-summary-in:checked ~ .xr-section-details {\n",
       "  display: contents;\n",
       "}\n",
       "\n",
       ".xr-array-wrap {\n",
       "  grid-column: 1 / -1;\n",
       "  display: grid;\n",
       "  grid-template-columns: 20px auto;\n",
       "}\n",
       "\n",
       ".xr-array-wrap > label {\n",
       "  grid-column: 1;\n",
       "  vertical-align: top;\n",
       "}\n",
       "\n",
       ".xr-preview {\n",
       "  color: var(--xr-font-color3);\n",
       "}\n",
       "\n",
       ".xr-array-preview,\n",
       ".xr-array-data {\n",
       "  padding: 0 5px !important;\n",
       "  grid-column: 2;\n",
       "}\n",
       "\n",
       ".xr-array-data,\n",
       ".xr-array-in:checked ~ .xr-array-preview {\n",
       "  display: none;\n",
       "}\n",
       "\n",
       ".xr-array-in:checked ~ .xr-array-data,\n",
       ".xr-array-preview {\n",
       "  display: inline-block;\n",
       "}\n",
       "\n",
       ".xr-dim-list {\n",
       "  display: inline-block !important;\n",
       "  list-style: none;\n",
       "  padding: 0 !important;\n",
       "  margin: 0;\n",
       "}\n",
       "\n",
       ".xr-dim-list li {\n",
       "  display: inline-block;\n",
       "  padding: 0;\n",
       "  margin: 0;\n",
       "}\n",
       "\n",
       ".xr-dim-list:before {\n",
       "  content: '(';\n",
       "}\n",
       "\n",
       ".xr-dim-list:after {\n",
       "  content: ')';\n",
       "}\n",
       "\n",
       ".xr-dim-list li:not(:last-child):after {\n",
       "  content: ',';\n",
       "  padding-right: 5px;\n",
       "}\n",
       "\n",
       ".xr-has-index {\n",
       "  font-weight: bold;\n",
       "}\n",
       "\n",
       ".xr-var-list,\n",
       ".xr-var-item {\n",
       "  display: contents;\n",
       "}\n",
       "\n",
       ".xr-var-item > div,\n",
       ".xr-var-item label,\n",
       ".xr-var-item > .xr-var-name span {\n",
       "  background-color: var(--xr-background-color-row-even);\n",
       "  margin-bottom: 0;\n",
       "}\n",
       "\n",
       ".xr-var-item > .xr-var-name:hover span {\n",
       "  padding-right: 5px;\n",
       "}\n",
       "\n",
       ".xr-var-list > li:nth-child(odd) > div,\n",
       ".xr-var-list > li:nth-child(odd) > label,\n",
       ".xr-var-list > li:nth-child(odd) > .xr-var-name span {\n",
       "  background-color: var(--xr-background-color-row-odd);\n",
       "}\n",
       "\n",
       ".xr-var-name {\n",
       "  grid-column: 1;\n",
       "}\n",
       "\n",
       ".xr-var-dims {\n",
       "  grid-column: 2;\n",
       "}\n",
       "\n",
       ".xr-var-dtype {\n",
       "  grid-column: 3;\n",
       "  text-align: right;\n",
       "  color: var(--xr-font-color2);\n",
       "}\n",
       "\n",
       ".xr-var-preview {\n",
       "  grid-column: 4;\n",
       "}\n",
       "\n",
       ".xr-var-name,\n",
       ".xr-var-dims,\n",
       ".xr-var-dtype,\n",
       ".xr-preview,\n",
       ".xr-attrs dt {\n",
       "  white-space: nowrap;\n",
       "  overflow: hidden;\n",
       "  text-overflow: ellipsis;\n",
       "  padding-right: 10px;\n",
       "}\n",
       "\n",
       ".xr-var-name:hover,\n",
       ".xr-var-dims:hover,\n",
       ".xr-var-dtype:hover,\n",
       ".xr-attrs dt:hover {\n",
       "  overflow: visible;\n",
       "  width: auto;\n",
       "  z-index: 1;\n",
       "}\n",
       "\n",
       ".xr-var-attrs,\n",
       ".xr-var-data {\n",
       "  display: none;\n",
       "  background-color: var(--xr-background-color) !important;\n",
       "  padding-bottom: 5px !important;\n",
       "}\n",
       "\n",
       ".xr-var-attrs-in:checked ~ .xr-var-attrs,\n",
       ".xr-var-data-in:checked ~ .xr-var-data {\n",
       "  display: block;\n",
       "}\n",
       "\n",
       ".xr-var-data > table {\n",
       "  float: right;\n",
       "}\n",
       "\n",
       ".xr-var-name span,\n",
       ".xr-var-data,\n",
       ".xr-attrs {\n",
       "  padding-left: 25px !important;\n",
       "}\n",
       "\n",
       ".xr-attrs,\n",
       ".xr-var-attrs,\n",
       ".xr-var-data {\n",
       "  grid-column: 1 / -1;\n",
       "}\n",
       "\n",
       "dl.xr-attrs {\n",
       "  padding: 0;\n",
       "  margin: 0;\n",
       "  display: grid;\n",
       "  grid-template-columns: 125px auto;\n",
       "}\n",
       "\n",
       ".xr-attrs dt, dd {\n",
       "  padding: 0;\n",
       "  margin: 0;\n",
       "  float: left;\n",
       "  padding-right: 10px;\n",
       "  width: auto;\n",
       "}\n",
       "\n",
       ".xr-attrs dt {\n",
       "  font-weight: normal;\n",
       "  grid-column: 1;\n",
       "}\n",
       "\n",
       ".xr-attrs dt:hover span {\n",
       "  display: inline-block;\n",
       "  background: var(--xr-background-color);\n",
       "  padding-right: 10px;\n",
       "}\n",
       "\n",
       ".xr-attrs dd {\n",
       "  grid-column: 2;\n",
       "  white-space: pre-wrap;\n",
       "  word-break: break-all;\n",
       "}\n",
       "\n",
       ".xr-icon-database,\n",
       ".xr-icon-file-text2 {\n",
       "  display: inline-block;\n",
       "  vertical-align: middle;\n",
       "  width: 1em;\n",
       "  height: 1.5em !important;\n",
       "  stroke-width: 0;\n",
       "  stroke: currentColor;\n",
       "  fill: currentColor;\n",
       "}\n",
       ".xr-wrap{width:700px!important;} </style>"
      ],
      "text/plain": [
       "Inference data with groups:\n",
       "\t> posterior\n",
       "\t> log_likelihood\n",
       "\t> sample_stats"
      ]
     },
     "execution_count": 291,
     "metadata": {},
     "output_type": "execute_result"
    }
   ],
   "source": [
    "fit_id_2"
   ]
  },
  {
   "cell_type": "markdown",
   "metadata": {},
   "source": [
    "# Model 2"
   ]
  },
  {
   "cell_type": "markdown",
   "metadata": {},
   "source": [
    "## Double Exponential (Laplace) Distribution\n",
    "$$\n",
    "DoubleExponential(y|\\mu ,\\sigma )=\\frac{1}{2\\sigma}exp\\left ( -\\frac{\\left | y-\\mu \\right |}{\\sigma} \\right )\n",
    "$$"
   ]
  },
  {
   "cell_type": "markdown",
   "metadata": {},
   "source": [
    "# Prior predictive check"
   ]
  },
  {
   "cell_type": "markdown",
   "metadata": {},
   "source": [
    "We used the same values for alpha, beta and sigma as the in previous prior. We only changed the distribution from normal distribution to double exponential distribution."
   ]
  },
  {
   "cell_type": "code",
   "execution_count": 292,
   "metadata": {},
   "outputs": [
    {
     "name": "stdout",
     "output_type": "stream",
     "text": [
      "data {\n",
      "   int N;\n",
      "   real sugars[N];\n",
      "}\n",
      "\n",
      "generated quantities {\n",
      "   real alpha = double_exponential_rng(104, 14);\n",
      "   real beta = lognormal_rng(0, 1);\n",
      "   real sigma = exponential_rng(0.071);\n",
      "   real calorie[N];\n",
      "   for (i in 1:N) {\n",
      "      calorie[i] = double_exponential_rng(sugars[i]*beta+alpha, sigma);\n",
      "   }\n",
      "\n",
      "}\n"
     ]
    }
   ],
   "source": [
    "with open('cereal_3_ppc.stan') as file:\n",
    "    print(file.read())"
   ]
  },
  {
   "cell_type": "code",
   "execution_count": 293,
   "metadata": {},
   "outputs": [
    {
     "name": "stderr",
     "output_type": "stream",
     "text": [
      "INFO:cmdstanpy:found newer exe file, not recompiling\n"
     ]
    }
   ],
   "source": [
    "model_ppc = cmdstanpy.CmdStanModel(stan_file='cereal_3_ppc.stan')"
   ]
  },
  {
   "cell_type": "code",
   "execution_count": 294,
   "metadata": {},
   "outputs": [
    {
     "name": "stderr",
     "output_type": "stream",
     "text": [
      "INFO:cmdstanpy:CmdStan start processing\n"
     ]
    },
    {
     "data": {
      "application/vnd.jupyter.widget-view+json": {
       "model_id": "935f64c0354d4aa19a8b3129169f553f",
       "version_major": 2,
       "version_minor": 0
      },
      "text/plain": [
       "chain 1 |          | 00:00 Status"
      ]
     },
     "metadata": {},
     "output_type": "display_data"
    },
    {
     "name": "stdout",
     "output_type": "stream",
     "text": [
      "                                                                                "
     ]
    },
    {
     "name": "stderr",
     "output_type": "stream",
     "text": [
      "INFO:cmdstanpy:CmdStan done processing.\n"
     ]
    },
    {
     "name": "stdout",
     "output_type": "stream",
     "text": [
      "\n"
     ]
    }
   ],
   "source": [
    "sim = model_ppc.sample(data=data_sim,iter_sampling=R, iter_warmup=0, chains=1, refresh=R, fixed_param=True, seed=12062022, output_dir='samples')"
   ]
  },
  {
   "cell_type": "code",
   "execution_count": 295,
   "metadata": {},
   "outputs": [],
   "source": [
    "alpha_sim = sim.stan_variable('alpha')\n",
    "beta_sim = sim.stan_variable('beta')\n",
    "sigma_sim = sim.stan_variable('sigma')\n",
    "calories_sim=sim.stan_variable('calorie')"
   ]
  },
  {
   "cell_type": "code",
   "execution_count": 296,
   "metadata": {},
   "outputs": [
    {
     "data": {
      "image/png": "[encoded data removed]",
      "text/plain": [
       "<Figure size 720x360 with 4 Axes>"
      ]
     },
     "metadata": {
      "needs_background": "light"
     },
     "output_type": "display_data"
    }
   ],
   "source": [
    "fig = plt.figure(figsize=(10,5))\n",
    "gs = fig.add_gridspec(2,3)\n",
    "ax1 = fig.add_subplot(gs[1,:])\n",
    "ax1.hist(calories_sim[579], bins=40, color=DARK, edgecolor=DARK_HIGHLIGHT,density=True)\n",
    "\n",
    "ax1.set_yticks([])\n",
    "ax1.set_title('Simulated calories')\n",
    "\n",
    "ax2 = fig.add_subplot(gs[0, 0])\n",
    "ax3 = fig.add_subplot(gs[0, 1])\n",
    "ax4 = fig.add_subplot(gs[0, 2])\n",
    "\n",
    "ax2.hist(alpha_sim, bins=20, color=DARK, edgecolor=DARK_HIGHLIGHT,density=True)\n",
    "x=np.linspace(40,180)\n",
    "y=stats.laplace.pdf(x,loc=104,scale=14)\n",
    "ax2.plot(x,y,'black')\n",
    "ax4.set_title('$\\sigma$')\n",
    "ax2.set_title(r'$\\alpha$')\n",
    "ax2.set_yticks([])\n",
    "ax4.set_yticks([])\n",
    "ax4.hist(sigma_sim, bins=20, color=DARK, edgecolor=DARK_HIGHLIGHT,density=True)\n",
    "x=np.linspace(0,150)\n",
    "y=stats.expon.pdf(x,scale=14)\n",
    "ax4.plot(x,y,'black')\n",
    "\n",
    "\n",
    "ax3.hist(beta_sim, bins=20, color=DARK, edgecolor=DARK_HIGHLIGHT,density=True)\n",
    "x=np.linspace(0,15)\n",
    "y=stats.lognorm.pdf(x, s=1)\n",
    "ax3.plot(x,y,'black')\n",
    "ax3.set_title(r'$\\beta$')\n",
    "ax3.set_yticks([])\n",
    "\n",
    "fig.tight_layout()\n",
    "plt.show()"
   ]
  },
  {
   "cell_type": "code",
   "execution_count": 297,
   "metadata": {},
   "outputs": [
    {
     "data": {
      "image/png": "[encoded data removed]",
      "text/plain": [
       "<Figure size 504x288 with 1 Axes>"
      ]
     },
     "metadata": {
      "needs_background": "light"
     },
     "output_type": "display_data"
    }
   ],
   "source": [
    "fig, axes = plt.subplots(1,1,figsize = (7,4))\n",
    "\n",
    "for i in range(100):\n",
    "    axes.plot(data['sugars'], alpha_sim[i]+beta_sim[i]*data['c_sugars'], color=MID, alpha=0.5, linewidth = 0.5)\n",
    "axes.set_xlabel('sugars[g]')\n",
    "axes.set_ylabel('calories[kcal]')\n",
    "\n",
    "axes.hlines([0],xmin=data['sugars'].min(), xmax=data['sugars'].max(), linestyle='--', color='black')\n",
    "plt.show()"
   ]
  },
  {
   "cell_type": "code",
   "execution_count": 298,
   "metadata": {},
   "outputs": [],
   "source": [
    "calorie_sim = sim.stan_variable('calorie')"
   ]
  },
  {
   "cell_type": "code",
   "execution_count": 299,
   "metadata": {},
   "outputs": [
    {
     "data": {
      "image/png": "[encoded data removed]",
      "text/plain": [
       "<Figure size 504x288 with 1 Axes>"
      ]
     },
     "metadata": {
      "needs_background": "light"
     },
     "output_type": "display_data"
    }
   ],
   "source": [
    "fig, axes = plt.subplots(1,1,figsize = (7,4))\n",
    "axes=ribbon_plot(data_sim['sugars']+data['sugars'].mean(),calorie_sim,axes)\n",
    "axes.scatter(data['sugars'], data['calories'], color = 'black', alpha = 0.2, s=10)\n",
    "axes.set_xlabel('sugars[g]')\n",
    "axes.set_ylabel('calories[kcal]')\n",
    "plt.show()"
   ]
  },
  {
   "cell_type": "markdown",
   "metadata": {},
   "source": [
    "# Posterior"
   ]
  },
  {
   "cell_type": "code",
   "execution_count": 300,
   "metadata": {},
   "outputs": [
    {
     "name": "stdout",
     "output_type": "stream",
     "text": [
      "data {\n",
      "   int N;\n",
      "   vector[N] sugars;\n",
      "   vector[N] calories;\n",
      "}\n",
      "\n",
      "parameters {\n",
      "   real alpha;\n",
      "   real beta;\n",
      "   real<lower=0> sigma;\n",
      "}\n",
      "\n",
      "transformed parameters {\n",
      "   vector[N] mu = sugars*beta+alpha;\n",
      "}\n",
      "\n",
      "model {\n",
      "   alpha ~ double_exponential(104, 14);\n",
      "   beta ~ lognormal(0, 1);\n",
      "   sigma ~ exponential(0.071);\n",
      "   calories ~ double_exponential(mu, sigma);\n",
      "}\n",
      "\n",
      "generated quantities {\n",
      "   vector[N] log_lik;\n",
      "   real calorie[N];\n",
      "   for (i in 1:N) {\n",
      "      log_lik[i] = double_exponential_lpdf(calories[i] | mu[i], sigma);\n",
      "      calorie[i] = double_exponential_rng(mu[i], sigma);\n",
      "   }\n",
      "}\n"
     ]
    }
   ],
   "source": [
    "with open('cereal_3_fit.stan') as file:\n",
    "    print(file.read())"
   ]
  },
  {
   "cell_type": "markdown",
   "metadata": {},
   "source": [
    "Data required for this model:\n",
    " - N -> rozmiar wektora kalorii\n",
    " - sugars -> wektor cukrów\n",
    " - calories -> wektor kalorii "
   ]
  },
  {
   "cell_type": "code",
   "execution_count": 301,
   "metadata": {},
   "outputs": [
    {
     "name": "stderr",
     "output_type": "stream",
     "text": [
      "INFO:cmdstanpy:found newer exe file, not recompiling\n"
     ]
    }
   ],
   "source": [
    "model_3_fit = cmdstanpy.CmdStanModel(stan_file='cereal_3_fit.stan')"
   ]
  },
  {
   "cell_type": "code",
   "execution_count": 302,
   "metadata": {},
   "outputs": [
    {
     "name": "stderr",
     "output_type": "stream",
     "text": [
      "INFO:cmdstanpy:CmdStan start processing\n"
     ]
    },
    {
     "data": {
      "application/vnd.jupyter.widget-view+json": {
       "model_id": "f4a470609c0f4dd29a618ea33357fe1a",
       "version_major": 2,
       "version_minor": 0
      },
      "text/plain": [
       "chain 1 |          | 00:00 Status"
      ]
     },
     "metadata": {},
     "output_type": "display_data"
    },
    {
     "data": {
      "application/vnd.jupyter.widget-view+json": {
       "model_id": "bb78603baaa84327aac8bfc82f1bcb06",
       "version_major": 2,
       "version_minor": 0
      },
      "text/plain": [
       "chain 2 |          | 00:00 Status"
      ]
     },
     "metadata": {},
     "output_type": "display_data"
    },
    {
     "data": {
      "application/vnd.jupyter.widget-view+json": {
       "model_id": "98e192c195124ec39548bccb67aefeac",
       "version_major": 2,
       "version_minor": 0
      },
      "text/plain": [
       "chain 3 |          | 00:00 Status"
      ]
     },
     "metadata": {},
     "output_type": "display_data"
    },
    {
     "data": {
      "application/vnd.jupyter.widget-view+json": {
       "model_id": "ed3facc1b0c944a4bbd0bf436441228f",
       "version_major": 2,
       "version_minor": 0
      },
      "text/plain": [
       "chain 4 |          | 00:00 Status"
      ]
     },
     "metadata": {},
     "output_type": "display_data"
    },
    {
     "name": "stdout",
     "output_type": "stream",
     "text": [
      "                                                                                                                                                                                                                                                                                                                                "
     ]
    },
    {
     "name": "stderr",
     "output_type": "stream",
     "text": [
      "INFO:cmdstanpy:CmdStan done processing.\n"
     ]
    },
    {
     "name": "stdout",
     "output_type": "stream",
     "text": [
      "\n"
     ]
    }
   ],
   "source": [
    "data_fit = dict(N=len(data),\n",
    "                sugars=data['c_sugars'].values,\n",
    "                calories=data['calories'].values)\n",
    "\n",
    "fit_3=model_3_fit.sample(data=data_fit, seed=12062022, output_dir='samples')"
   ]
  },
  {
   "cell_type": "code",
   "execution_count": 303,
   "metadata": {},
   "outputs": [
    {
     "name": "stdout",
     "output_type": "stream",
     "text": [
      "Processing csv files: C:\\GitHub\\DataAnalyticsProject\\Project\\samples\\cereal_3_fit-20220619234511_1.csv, C:\\GitHub\\DataAnalyticsProject\\Project\\samples\\cereal_3_fit-20220619234511_2.csv, C:\\GitHub\\DataAnalyticsProject\\Project\\samples\\cereal_3_fit-20220619234511_3.csv, C:\\GitHub\\DataAnalyticsProject\\Project\\samples\\cereal_3_fit-20220619234511_4.csv\n",
      "\n",
      "Checking sampler transitions treedepth.\n",
      "Treedepth satisfactory for all transitions.\n",
      "\n",
      "Checking sampler transitions for divergences.\n",
      "No divergent transitions found.\n",
      "\n",
      "Checking E-BFMI - sampler transitions HMC potential energy.\n",
      "E-BFMI satisfactory.\n",
      "\n",
      "Effective sample size satisfactory.\n",
      "\n",
      "Split R-hat values satisfactory all parameters.\n",
      "\n",
      "Processing complete, no problems detected.\n",
      "\n"
     ]
    }
   ],
   "source": [
    "print(fit_3.diagnose())"
   ]
  },
  {
   "cell_type": "markdown",
   "metadata": {},
   "source": [
    "No errors/issues occured during sampling."
   ]
  },
  {
   "cell_type": "code",
   "execution_count": 304,
   "metadata": {},
   "outputs": [
    {
     "data": {
      "text/html": [
       "<div>\n",
       "<style scoped>\n",
       "    .dataframe tbody tr th:only-of-type {\n",
       "        vertical-align: middle;\n",
       "    }\n",
       "\n",
       "    .dataframe tbody tr th {\n",
       "        vertical-align: top;\n",
       "    }\n",
       "\n",
       "    .dataframe thead th {\n",
       "        text-align: right;\n",
       "    }\n",
       "</style>\n",
       "<table border=\"1\" class=\"dataframe\">\n",
       "  <thead>\n",
       "    <tr style=\"text-align: right;\">\n",
       "      <th></th>\n",
       "      <th>mean</th>\n",
       "      <th>sd</th>\n",
       "      <th>hdi_3%</th>\n",
       "      <th>hdi_97%</th>\n",
       "    </tr>\n",
       "  </thead>\n",
       "  <tbody>\n",
       "    <tr>\n",
       "      <th>alpha</th>\n",
       "      <td>104.63</td>\n",
       "      <td>0.98</td>\n",
       "      <td>102.90</td>\n",
       "      <td>106.63</td>\n",
       "    </tr>\n",
       "    <tr>\n",
       "      <th>beta</th>\n",
       "      <td>0.91</td>\n",
       "      <td>0.19</td>\n",
       "      <td>0.54</td>\n",
       "      <td>1.26</td>\n",
       "    </tr>\n",
       "    <tr>\n",
       "      <th>sigma</th>\n",
       "      <td>8.72</td>\n",
       "      <td>1.02</td>\n",
       "      <td>6.74</td>\n",
       "      <td>10.53</td>\n",
       "    </tr>\n",
       "  </tbody>\n",
       "</table>\n",
       "</div>"
      ],
      "text/plain": [
       "         mean    sd  hdi_3%  hdi_97%\n",
       "alpha  104.63  0.98  102.90   106.63\n",
       "beta     0.91  0.19    0.54     1.26\n",
       "sigma    8.72  1.02    6.74    10.53"
      ]
     },
     "execution_count": 304,
     "metadata": {},
     "output_type": "execute_result"
    }
   ],
   "source": [
    "az.summary(fit_3, var_names=['alpha', 'beta', 'sigma'], round_to=2, kind='stats')"
   ]
  },
  {
   "cell_type": "code",
   "execution_count": 305,
   "metadata": {},
   "outputs": [],
   "source": [
    "alpha_fit = fit_3.stan_variable('alpha')\n",
    "beta_fit = fit_3.stan_variable('beta')\n",
    "mu_fit = fit_3.stan_variable('mu')\n",
    "sigma_fit = fit_3.stan_variable('sigma')\n",
    "calorie_pred = fit_3.stan_variable('calorie')"
   ]
  },
  {
   "cell_type": "code",
   "execution_count": 306,
   "metadata": {},
   "outputs": [
    {
     "data": {
      "image/png": "[encoded data removed]",
      "text/plain": [
       "<Figure size 1728x432 with 4 Axes>"
      ]
     },
     "metadata": {
      "needs_background": "light"
     },
     "output_type": "display_data"
    }
   ],
   "source": [
    "f, (ax1, ax2, ax3, ax4) = plt.subplots(1, 4, figsize = (24,6))\n",
    "\n",
    "ax1.hist(alpha_fit, alpha=0.5, ec='black')\n",
    "ax1.set_title(r\"$\\alpha$ fit\")\n",
    "ax2.hist(beta_fit, alpha=0.5, ec='black')\n",
    "ax2.set_title(r\"$\\beta$ fit\")\n",
    "ax3.hist(mu_fit[0], alpha=0.5, ec='black')\n",
    "ax3.set_title(r\"$\\mu$ fit\")\n",
    "ax4.hist(sigma_fit, alpha=0.5, ec='black')\n",
    "ax4.set_title(r\"$\\sigma$ fit\")\n",
    "plt.show()"
   ]
  },
  {
   "cell_type": "code",
   "execution_count": 307,
   "metadata": {},
   "outputs": [
    {
     "data": {
      "image/png": "[encoded data removed]",
      "text/plain": [
       "<Figure size 504x576 with 2 Axes>"
      ]
     },
     "metadata": {
      "needs_background": "light"
     },
     "output_type": "display_data"
    }
   ],
   "source": [
    "fig, axes = plt.subplots(2,1,figsize = (7,8), sharey=True, sharex=True)\n",
    "ax0=axes[0]\n",
    "\n",
    "for i in range(100):\n",
    "    ax0.plot(data['sugars'],\n",
    "            alpha_fit[i]+beta_fit[i]*data['c_sugars'],\n",
    "            color=MID,\n",
    "            alpha=0.5, linewidth=0.5)\n",
    "\n",
    "ax0.scatter(data['sugars'], data['calories'], color='black', alpha=0.5, s=10)\n",
    "\n",
    "ax1=axes[1]\n",
    "ax1=ribbon_plot(data['sugars'].values, mu_fit, ax1, supress_warning=True)\n",
    "ax1.scatter(data['sugars'], data['calories'], color='black', alpha=0.5, s=10)\n",
    "ax1.set_xlabel('sugars[g]')\n",
    "ax1.set_ylabel('calories[kcal]')\n",
    "ax0.set_ylabel('calories[kcal]')\n",
    "fig.tight_layout()\n",
    "plt.show()"
   ]
  },
  {
   "cell_type": "code",
   "execution_count": 308,
   "metadata": {},
   "outputs": [
    {
     "data": {
      "image/png": "[encoded data removed]",
      "text/plain": [
       "<Figure size 504x288 with 1 Axes>"
      ]
     },
     "metadata": {
      "needs_background": "light"
     },
     "output_type": "display_data"
    }
   ],
   "source": [
    "fig, axes = plt.subplots(1,1,figsize = (7,4))\n",
    "\n",
    "axes=ribbon_plot(data['sugars'].values, calorie_pred, axes, supress_warning=True)\n",
    "axes.scatter(data['sugars'], data['calories'], color='black', alpha=0.5, s=10)\n",
    "fig.tight_layout()\n",
    "axes.set_xlabel('sugars[g]')\n",
    "axes.set_ylabel('calories[kcal]')\n",
    "plt.show()"
   ]
  },
  {
   "cell_type": "code",
   "execution_count": 309,
   "metadata": {},
   "outputs": [
    {
     "data": {
      "image/png": "[encoded data removed]",
      "text/plain": [
       "<Figure size 720x360 with 2 Axes>"
      ]
     },
     "metadata": {
      "needs_background": "light"
     },
     "output_type": "display_data"
    }
   ],
   "source": [
    "fig, axes = plt.subplots(2,1,figsize=(10,5), sharex=True)\n",
    "ax1=axes[0]\n",
    "ax1.scatter(mu_fit[:,0], sigma_fit, 20, color=DARK)\n",
    "ax1.set_title(\"Samples from joint posterior\")\n",
    "ax1.set_ylabel(r'$\\sigma$')\n",
    "ax2=axes[1]\n",
    "az.plot_kde(mu_fit[:,0], sigma_fit, ax=ax2, contourf_kwargs={'cmap':'YlOrRd'})\n",
    "\n",
    "ax2.set_xlabel(r'$\\mu$')\n",
    "ax2.set_ylabel(r'$\\sigma$')\n",
    "fig.tight_layout()\n",
    "plt.show()"
   ]
  },
  {
   "cell_type": "code",
   "execution_count": 310,
   "metadata": {},
   "outputs": [
    {
     "data": {
      "image/png": "[encoded data removed]",
      "text/plain": [
       "<Figure size 504x288 with 2 Axes>"
      ]
     },
     "metadata": {
      "needs_background": "light"
     },
     "output_type": "display_data"
    }
   ],
   "source": [
    "fig, axes = plt.subplots(1,2,figsize=(7,4),sharex=True,sharey=True)\n",
    "ax=axes[0]\n",
    "ax.hist(data['calories'], bins=10, color=DARK,edgecolor=DARK_HIGHLIGHT,density=True)\n",
    "ax.set_title('Observed calories')\n",
    "ax.set_yticks(())\n",
    "ax2=axes[1]\n",
    "ax2.hist(calorie_pred[99], bins=10, color=DARK,edgecolor=DARK_HIGHLIGHT,density=True)\n",
    "ax2.hist(data['calories'], bins=10, histtype='step', color='black', density=True)\n",
    "\n",
    "ax2.set_title('Predicted calories')\n",
    "ax2.set_yticks(())\n",
    "fig.tight_layout()"
   ]
  },
  {
   "cell_type": "markdown",
   "metadata": {},
   "source": [
    "As we can see now model is able to better catch values stacked in the middle."
   ]
  },
  {
   "cell_type": "code",
   "execution_count": 311,
   "metadata": {},
   "outputs": [],
   "source": [
    "fit_id_3 = az.from_cmdstanpy(posterior=fit_3,log_likelihood='log_lik')"
   ]
  },
  {
   "cell_type": "code",
   "execution_count": 312,
   "metadata": {},
   "outputs": [
    {
     "name": "stderr",
     "output_type": "stream",
     "text": [
      "c:\\Anaconda3\\envs\\data_analytics\\lib\\site-packages\\arviz\\stats\\stats.py:145: UserWarning: The default method used to estimate the weights for each model,has changed from BB-pseudo-BMA to stacking\n",
      "  warnings.warn(\n",
      "c:\\Anaconda3\\envs\\data_analytics\\lib\\site-packages\\arviz\\stats\\stats.py:655: UserWarning: Estimated shape parameter of Pareto distribution is greater than 0.7 for one or more samples. You should consider using a more robust model, this is because importance sampling is less likely to work well if the marginal posterior and LOO posterior are very different. This is more likely to happen with a non-robust model and highly influential observations.\n",
      "  warnings.warn(\n",
      "c:\\Anaconda3\\envs\\data_analytics\\lib\\site-packages\\arviz\\stats\\stats.py:212: FutureWarning: The frame.append method is deprecated and will be removed from pandas in a future version. Use pandas.concat instead.\n",
      "  ics = ics.append([ic_func(dataset, pointwise=True, scale=scale)])\n",
      "c:\\Anaconda3\\envs\\data_analytics\\lib\\site-packages\\arviz\\stats\\stats.py:212: FutureWarning: The frame.append method is deprecated and will be removed from pandas in a future version. Use pandas.concat instead.\n",
      "  ics = ics.append([ic_func(dataset, pointwise=True, scale=scale)])\n"
     ]
    },
    {
     "data": {
      "text/html": [
       "<div>\n",
       "<style scoped>\n",
       "    .dataframe tbody tr th:only-of-type {\n",
       "        vertical-align: middle;\n",
       "    }\n",
       "\n",
       "    .dataframe tbody tr th {\n",
       "        vertical-align: top;\n",
       "    }\n",
       "\n",
       "    .dataframe thead th {\n",
       "        text-align: right;\n",
       "    }\n",
       "</style>\n",
       "<table border=\"1\" class=\"dataframe\">\n",
       "  <thead>\n",
       "    <tr style=\"text-align: right;\">\n",
       "      <th></th>\n",
       "      <th>rank</th>\n",
       "      <th>loo</th>\n",
       "      <th>p_loo</th>\n",
       "      <th>d_loo</th>\n",
       "      <th>weight</th>\n",
       "      <th>se</th>\n",
       "      <th>dse</th>\n",
       "      <th>warning</th>\n",
       "      <th>loo_scale</th>\n",
       "    </tr>\n",
       "  </thead>\n",
       "  <tbody>\n",
       "    <tr>\n",
       "      <th>Model 3</th>\n",
       "      <td>0</td>\n",
       "      <td>-293.733139</td>\n",
       "      <td>2.620662</td>\n",
       "      <td>0.000000</td>\n",
       "      <td>1.0</td>\n",
       "      <td>9.984329</td>\n",
       "      <td>0.000000</td>\n",
       "      <td>False</td>\n",
       "      <td>log</td>\n",
       "    </tr>\n",
       "    <tr>\n",
       "      <th>Model 2</th>\n",
       "      <td>1</td>\n",
       "      <td>-305.831924</td>\n",
       "      <td>4.686192</td>\n",
       "      <td>12.098785</td>\n",
       "      <td>0.0</td>\n",
       "      <td>10.998422</td>\n",
       "      <td>3.795985</td>\n",
       "      <td>True</td>\n",
       "      <td>log</td>\n",
       "    </tr>\n",
       "  </tbody>\n",
       "</table>\n",
       "</div>"
      ],
      "text/plain": [
       "         rank         loo     p_loo      d_loo  weight         se       dse  \\\n",
       "Model 3     0 -293.733139  2.620662   0.000000     1.0   9.984329  0.000000   \n",
       "Model 2     1 -305.831924  4.686192  12.098785     0.0  10.998422  3.795985   \n",
       "\n",
       "         warning loo_scale  \n",
       "Model 3    False       log  \n",
       "Model 2     True       log  "
      ]
     },
     "execution_count": 312,
     "metadata": {},
     "output_type": "execute_result"
    }
   ],
   "source": [
    "model_compare = az.compare({'Model 2':fit_id_2,'Model 3':fit_id_3})\n",
    "model_compare"
   ]
  },
  {
   "cell_type": "code",
   "execution_count": 313,
   "metadata": {},
   "outputs": [
    {
     "data": {
      "image/png": "[encoded data removed]",
      "text/plain": [
       "<Figure size 432x144 with 1 Axes>"
      ]
     },
     "metadata": {
      "needs_background": "light"
     },
     "output_type": "display_data"
    }
   ],
   "source": [
    "az.plot_compare(model_compare)\n",
    "plt.show()"
   ]
  },
  {
   "cell_type": "markdown",
   "metadata": {},
   "source": [
    "When using LOO information criteria model using Laplace distribution got better result than first model. But thw results were pretty close."
   ]
  },
  {
   "cell_type": "code",
   "execution_count": 314,
   "metadata": {},
   "outputs": [
    {
     "name": "stderr",
     "output_type": "stream",
     "text": [
      "c:\\Anaconda3\\envs\\data_analytics\\lib\\site-packages\\arviz\\stats\\stats.py:145: UserWarning: The default method used to estimate the weights for each model,has changed from BB-pseudo-BMA to stacking\n",
      "  warnings.warn(\n",
      "c:\\Anaconda3\\envs\\data_analytics\\lib\\site-packages\\arviz\\stats\\stats.py:1405: UserWarning: For one or more samples the posterior variance of the log predictive densities exceeds 0.4. This could be indication of WAIC starting to fail. \n",
      "See http://arxiv.org/abs/1507.04544 for details\n",
      "  warnings.warn(\n",
      "c:\\Anaconda3\\envs\\data_analytics\\lib\\site-packages\\arviz\\stats\\stats.py:212: FutureWarning: The frame.append method is deprecated and will be removed from pandas in a future version. Use pandas.concat instead.\n",
      "  ics = ics.append([ic_func(dataset, pointwise=True, scale=scale)])\n",
      "c:\\Anaconda3\\envs\\data_analytics\\lib\\site-packages\\arviz\\stats\\stats.py:212: FutureWarning: The frame.append method is deprecated and will be removed from pandas in a future version. Use pandas.concat instead.\n",
      "  ics = ics.append([ic_func(dataset, pointwise=True, scale=scale)])\n"
     ]
    },
    {
     "data": {
      "text/html": [
       "<div>\n",
       "<style scoped>\n",
       "    .dataframe tbody tr th:only-of-type {\n",
       "        vertical-align: middle;\n",
       "    }\n",
       "\n",
       "    .dataframe tbody tr th {\n",
       "        vertical-align: top;\n",
       "    }\n",
       "\n",
       "    .dataframe thead th {\n",
       "        text-align: right;\n",
       "    }\n",
       "</style>\n",
       "<table border=\"1\" class=\"dataframe\">\n",
       "  <thead>\n",
       "    <tr style=\"text-align: right;\">\n",
       "      <th></th>\n",
       "      <th>rank</th>\n",
       "      <th>waic</th>\n",
       "      <th>p_waic</th>\n",
       "      <th>d_waic</th>\n",
       "      <th>weight</th>\n",
       "      <th>se</th>\n",
       "      <th>dse</th>\n",
       "      <th>warning</th>\n",
       "      <th>waic_scale</th>\n",
       "    </tr>\n",
       "  </thead>\n",
       "  <tbody>\n",
       "    <tr>\n",
       "      <th>Model 3</th>\n",
       "      <td>0</td>\n",
       "      <td>-293.728342</td>\n",
       "      <td>2.615865</td>\n",
       "      <td>0.000000</td>\n",
       "      <td>1.0</td>\n",
       "      <td>9.983087</td>\n",
       "      <td>0.000000</td>\n",
       "      <td>False</td>\n",
       "      <td>log</td>\n",
       "    </tr>\n",
       "    <tr>\n",
       "      <th>Model 2</th>\n",
       "      <td>1</td>\n",
       "      <td>-305.720789</td>\n",
       "      <td>4.575058</td>\n",
       "      <td>11.992447</td>\n",
       "      <td>0.0</td>\n",
       "      <td>10.938185</td>\n",
       "      <td>3.751998</td>\n",
       "      <td>True</td>\n",
       "      <td>log</td>\n",
       "    </tr>\n",
       "  </tbody>\n",
       "</table>\n",
       "</div>"
      ],
      "text/plain": [
       "         rank        waic    p_waic     d_waic  weight         se       dse  \\\n",
       "Model 3     0 -293.728342  2.615865   0.000000     1.0   9.983087  0.000000   \n",
       "Model 2     1 -305.720789  4.575058  11.992447     0.0  10.938185  3.751998   \n",
       "\n",
       "         warning waic_scale  \n",
       "Model 3    False        log  \n",
       "Model 2     True        log  "
      ]
     },
     "execution_count": 314,
     "metadata": {},
     "output_type": "execute_result"
    }
   ],
   "source": [
    "model_compare_2 = az.compare({'Model 2':fit_id_2,'Model 3':fit_id_3}, ic='waic')\n",
    "model_compare_2"
   ]
  },
  {
   "cell_type": "code",
   "execution_count": 315,
   "metadata": {},
   "outputs": [
    {
     "data": {
      "image/png": "[encoded data removed]",
      "text/plain": [
       "<Figure size 432x144 with 1 Axes>"
      ]
     },
     "metadata": {
      "needs_background": "light"
     },
     "output_type": "display_data"
    }
   ],
   "source": [
    "az.plot_compare(model_compare_2)\n",
    "plt.show()"
   ]
  },
  {
   "cell_type": "markdown",
   "metadata": {},
   "source": [
    "When using WAIC information criteria again model using Laplace distribution got better result than first model.  But thw results were pretty close."
   ]
  },
  {
   "cell_type": "markdown",
   "metadata": {},
   "source": [
    "Reults of comparing models using WAIC and LOO information criteria were almost the same."
   ]
  },
  {
   "cell_type": "markdown",
   "metadata": {},
   "source": [
    "In our opinion second model (using double exponential distribution) performed a little bit better than the fisrt one beacuse it was able to better catch values stacked close to the mean value."
   ]
  }
 ],
 "metadata": {
  "kernelspec": {
   "display_name": "Python 3.9.12 ('data_analytics')",
   "language": "python",
   "name": "python3"
  },
  "language_info": {
   "codemirror_mode": {
    "name": "ipython",
    "version": 3
   },
   "file_extension": ".py",
   "mimetype": "text/x-python",
   "name": "python",
   "nbconvert_exporter": "python",
   "pygments_lexer": "ipython3",
   "version": "3.9.12"
  },
  "orig_nbformat": 4,
  "vscode": {
   "interpreter": {
    "hash": "6dfe3ca495907ede9539d0bb85225aae82085ab5efcea4f5b11ab4998047abef"
   }
  }
 },
 "nbformat": 4,
 "nbformat_minor": 2
}
